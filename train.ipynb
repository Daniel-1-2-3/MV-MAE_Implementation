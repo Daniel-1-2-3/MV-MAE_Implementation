{
 "cells": [
  {
   "cell_type": "code",
   "execution_count": 17,
   "id": "cde2433d",
   "metadata": {},
   "outputs": [
    {
     "name": "stdout",
     "output_type": "stream",
     "text": [
      "The autoreload extension is already loaded. To reload it, use:\n",
      "  %reload_ext autoreload\n",
      "Loading dataset...\n",
      "Running on cpu\n"
     ]
    },
    {
     "name": "stderr",
     "output_type": "stream",
     "text": [
      "Epoch 1 - Training:   0%|          | 0/1940 [00:00<?, ?it/s]"
     ]
    },
    {
     "name": "stdout",
     "output_type": "stream",
     "text": [
      "AFTER ENCODER PREP:  0.9825921654701233\n",
      "AFTER ENCODER:  0.9784596562385559\n",
      "AFTER DECODER PREP 0.19805020093917847\n",
      "AFTER DECODER 0.20033088326454163\n"
     ]
    },
    {
     "name": "stderr",
     "output_type": "stream",
     "text": [
      "Epoch 1 - Training:   0%|          | 1/1940 [00:33<17:51:47, 33.17s/it]"
     ]
    },
    {
     "name": "stdout",
     "output_type": "stream",
     "text": [
      "AFTER ENCODER PREP:  0.9823918342590332\n",
      "AFTER ENCODER:  0.9785469770431519\n",
      "AFTER DECODER PREP 0.20098774135112762\n",
      "AFTER DECODER 0.20519717037677765\n"
     ]
    },
    {
     "name": "stderr",
     "output_type": "stream",
     "text": [
      "Epoch 1 - Training:   0%|          | 2/1940 [00:33<7:28:16, 13.88s/it] "
     ]
    },
    {
     "name": "stdout",
     "output_type": "stream",
     "text": [
      "AFTER ENCODER PREP:  0.982414960861206\n",
      "AFTER ENCODER:  0.9788158535957336\n",
      "AFTER DECODER PREP 0.20750321447849274\n",
      "AFTER DECODER 0.21847881376743317\n"
     ]
    },
    {
     "name": "stderr",
     "output_type": "stream",
     "text": [
      "Epoch 1 - Training:   0%|          | 3/1940 [00:33<4:08:48,  7.71s/it]"
     ]
    },
    {
     "name": "stdout",
     "output_type": "stream",
     "text": [
      "AFTER ENCODER PREP:  0.982132077217102\n",
      "AFTER ENCODER:  0.9788996577262878\n",
      "AFTER DECODER PREP 0.21758784353733063\n",
      "AFTER DECODER 0.2410052865743637\n"
     ]
    },
    {
     "name": "stderr",
     "output_type": "stream",
     "text": [
      "Epoch 1 - Training:   0%|          | 4/1940 [00:34<2:35:28,  4.82s/it]"
     ]
    },
    {
     "name": "stdout",
     "output_type": "stream",
     "text": [
      "AFTER ENCODER PREP:  0.9803084135055542\n",
      "AFTER ENCODER:  0.9747041463851929\n",
      "AFTER DECODER PREP 0.1971753090620041\n",
      "AFTER DECODER 0.22569522261619568\n"
     ]
    },
    {
     "name": "stderr",
     "output_type": "stream",
     "text": [
      "Epoch 1 - Training:   0%|          | 5/1940 [00:34<1:43:33,  3.21s/it]"
     ]
    },
    {
     "name": "stdout",
     "output_type": "stream",
     "text": [
      "AFTER ENCODER PREP:  0.9803540706634521\n",
      "AFTER ENCODER:  0.9751509428024292\n",
      "AFTER DECODER PREP 0.20477600395679474\n",
      "AFTER DECODER 0.24421052634716034\n"
     ]
    },
    {
     "name": "stderr",
     "output_type": "stream",
     "text": [
      "Epoch 1 - Training:   0%|          | 6/1940 [00:35<1:13:21,  2.28s/it]"
     ]
    },
    {
     "name": "stdout",
     "output_type": "stream",
     "text": [
      "AFTER ENCODER PREP:  0.9808871150016785\n",
      "AFTER ENCODER:  0.9796875715255737\n",
      "AFTER DECODER PREP 0.23639324307441711\n",
      "AFTER DECODER 0.30268070101737976\n"
     ]
    },
    {
     "name": "stderr",
     "output_type": "stream",
     "text": [
      "Epoch 1 - Training:   0%|          | 7/1940 [00:35<53:05,  1.65s/it]  "
     ]
    },
    {
     "name": "stdout",
     "output_type": "stream",
     "text": [
      "AFTER ENCODER PREP:  0.9804726839065552\n",
      "AFTER ENCODER:  0.9804878234863281\n",
      "AFTER DECODER PREP 0.23735196888446808\n",
      "AFTER DECODER 0.3161923587322235\n"
     ]
    },
    {
     "name": "stderr",
     "output_type": "stream",
     "text": [
      "Epoch 1 - Training:   0%|          | 8/1940 [00:35<39:44,  1.23s/it]"
     ]
    },
    {
     "name": "stdout",
     "output_type": "stream",
     "text": [
      "AFTER ENCODER PREP:  0.9801892638206482\n",
      "AFTER ENCODER:  0.9811370372772217\n",
      "AFTER DECODER PREP 0.2345508635044098\n",
      "AFTER DECODER 0.32392391562461853\n"
     ]
    },
    {
     "name": "stderr",
     "output_type": "stream",
     "text": [
      "Epoch 1 - Training:   0%|          | 9/1940 [00:36<30:40,  1.05it/s]"
     ]
    },
    {
     "name": "stdout",
     "output_type": "stream",
     "text": [
      "AFTER ENCODER PREP:  0.9769811034202576\n",
      "AFTER ENCODER:  0.973919153213501\n",
      "AFTER DECODER PREP 0.2269926816225052\n",
      "AFTER DECODER 0.3057199716567993\n"
     ]
    },
    {
     "name": "stderr",
     "output_type": "stream",
     "text": [
      "Epoch 1 - Training:   1%|          | 10/1940 [00:36<24:41,  1.30it/s]"
     ]
    },
    {
     "name": "stdout",
     "output_type": "stream",
     "text": [
      "AFTER ENCODER PREP:  0.980198860168457\n",
      "AFTER ENCODER:  0.9820070266723633\n",
      "AFTER DECODER PREP 0.2320842295885086\n",
      "AFTER DECODER 0.33937355875968933\n"
     ]
    },
    {
     "name": "stderr",
     "output_type": "stream",
     "text": [
      "Epoch 1 - Training:   1%|          | 11/1940 [00:36<20:52,  1.54it/s]"
     ]
    },
    {
     "name": "stdout",
     "output_type": "stream",
     "text": [
      "AFTER ENCODER PREP:  0.9790523648262024\n",
      "AFTER ENCODER:  0.9764018058776855\n",
      "AFTER DECODER PREP 0.22621649503707886\n",
      "AFTER DECODER 0.32198411226272583\n"
     ]
    },
    {
     "name": "stderr",
     "output_type": "stream",
     "text": [
      "Epoch 1 - Training:   1%|          | 12/1940 [00:37<17:42,  1.82it/s]"
     ]
    },
    {
     "name": "stdout",
     "output_type": "stream",
     "text": [
      "AFTER ENCODER PREP:  0.9768061637878418\n",
      "AFTER ENCODER:  0.9746988415718079\n",
      "AFTER DECODER PREP 0.22528715431690216\n",
      "AFTER DECODER 0.32945549488067627\n"
     ]
    },
    {
     "name": "stderr",
     "output_type": "stream",
     "text": [
      "Epoch 1 - Training:   1%|          | 13/1940 [00:37<15:27,  2.08it/s]"
     ]
    },
    {
     "name": "stdout",
     "output_type": "stream",
     "text": [
      "AFTER ENCODER PREP:  0.9746057987213135\n",
      "AFTER ENCODER:  0.9818723201751709\n",
      "AFTER DECODER PREP 0.2165919989347458\n",
      "AFTER DECODER 0.3380424678325653\n"
     ]
    },
    {
     "name": "stderr",
     "output_type": "stream",
     "text": [
      "Epoch 1 - Training:   1%|          | 14/1940 [00:37<14:10,  2.26it/s]"
     ]
    },
    {
     "name": "stdout",
     "output_type": "stream",
     "text": [
      "AFTER ENCODER PREP:  0.9777075052261353\n",
      "AFTER ENCODER:  0.9824138879776001\n",
      "AFTER DECODER PREP 0.21504469215869904\n",
      "AFTER DECODER 0.3407507836818695\n"
     ]
    },
    {
     "name": "stderr",
     "output_type": "stream",
     "text": [
      "Epoch 1 - Training:   1%|          | 15/1940 [00:38<13:22,  2.40it/s]"
     ]
    },
    {
     "name": "stdout",
     "output_type": "stream",
     "text": [
      "AFTER ENCODER PREP:  0.9731654524803162\n",
      "AFTER ENCODER:  0.9695231318473816\n",
      "AFTER DECODER PREP 0.22319777309894562\n",
      "AFTER DECODER 0.35842758417129517\n"
     ]
    },
    {
     "name": "stderr",
     "output_type": "stream",
     "text": [
      "Epoch 1 - Training:   1%|          | 16/1940 [00:38<12:38,  2.54it/s]"
     ]
    },
    {
     "name": "stdout",
     "output_type": "stream",
     "text": [
      "AFTER ENCODER PREP:  0.9743338823318481\n",
      "AFTER ENCODER:  0.9693617820739746\n",
      "AFTER DECODER PREP 0.22394418716430664\n",
      "AFTER DECODER 0.3735930919647217\n"
     ]
    },
    {
     "name": "stderr",
     "output_type": "stream",
     "text": [
      "Epoch 1 - Training:   1%|          | 17/1940 [00:38<11:51,  2.70it/s]"
     ]
    },
    {
     "name": "stdout",
     "output_type": "stream",
     "text": [
      "AFTER ENCODER PREP:  0.9767030477523804\n",
      "AFTER ENCODER:  0.9829320311546326\n",
      "AFTER DECODER PREP 0.2100902944803238\n",
      "AFTER DECODER 0.3653493821620941\n"
     ]
    },
    {
     "name": "stderr",
     "output_type": "stream",
     "text": [
      "Epoch 1 - Training:   1%|          | 18/1940 [00:39<11:24,  2.81it/s]"
     ]
    },
    {
     "name": "stdout",
     "output_type": "stream",
     "text": [
      "AFTER ENCODER PREP:  0.9749336242675781\n",
      "AFTER ENCODER:  0.9684554934501648\n",
      "AFTER DECODER PREP 0.2316136211156845\n",
      "AFTER DECODER 0.424496591091156\n"
     ]
    },
    {
     "name": "stderr",
     "output_type": "stream",
     "text": [
      "Epoch 1 - Training:   1%|          | 19/1940 [00:39<11:45,  2.72it/s]"
     ]
    },
    {
     "name": "stdout",
     "output_type": "stream",
     "text": [
      "AFTER ENCODER PREP:  0.9737377762794495\n",
      "AFTER ENCODER:  0.9668856263160706\n",
      "AFTER DECODER PREP 0.23691657185554504\n",
      "AFTER DECODER 0.4570671617984772\n"
     ]
    },
    {
     "name": "stderr",
     "output_type": "stream",
     "text": [
      "Epoch 1 - Training:   1%|          | 20/1940 [00:39<11:36,  2.76it/s]"
     ]
    },
    {
     "name": "stdout",
     "output_type": "stream",
     "text": [
      "AFTER ENCODER PREP:  0.9748814702033997\n",
      "AFTER ENCODER:  0.9672358632087708\n",
      "AFTER DECODER PREP 0.24402545392513275\n",
      "AFTER DECODER 0.49351149797439575\n"
     ]
    },
    {
     "name": "stderr",
     "output_type": "stream",
     "text": [
      "Epoch 1 - Training:   1%|          | 21/1940 [00:40<11:07,  2.87it/s]"
     ]
    },
    {
     "name": "stdout",
     "output_type": "stream",
     "text": [
      "AFTER ENCODER PREP:  0.975928008556366\n",
      "AFTER ENCODER:  0.98300701379776\n",
      "AFTER DECODER PREP 0.21234367787837982\n",
      "AFTER DECODER 0.46905821561813354\n"
     ]
    },
    {
     "name": "stderr",
     "output_type": "stream",
     "text": [
      "Epoch 1 - Training:   1%|          | 22/1940 [00:40<10:53,  2.93it/s]"
     ]
    },
    {
     "name": "stdout",
     "output_type": "stream",
     "text": [
      "AFTER ENCODER PREP:  0.9729468822479248\n",
      "AFTER ENCODER:  0.9629030823707581\n",
      "AFTER DECODER PREP 0.2544611394405365\n",
      "AFTER DECODER 0.5529473423957825\n"
     ]
    },
    {
     "name": "stderr",
     "output_type": "stream",
     "text": [
      "Epoch 1 - Training:   1%|          | 23/1940 [00:40<11:13,  2.85it/s]"
     ]
    },
    {
     "name": "stdout",
     "output_type": "stream",
     "text": [
      "AFTER ENCODER PREP:  0.9629385471343994\n",
      "AFTER ENCODER:  0.9479187726974487\n",
      "AFTER DECODER PREP 0.2579318881034851\n",
      "AFTER DECODER 0.5762683153152466\n"
     ]
    },
    {
     "name": "stderr",
     "output_type": "stream",
     "text": [
      "Epoch 1 - Training:   1%|          | 24/1940 [00:41<10:58,  2.91it/s]"
     ]
    },
    {
     "name": "stdout",
     "output_type": "stream",
     "text": [
      "AFTER ENCODER PREP:  0.9631490111351013\n",
      "AFTER ENCODER:  0.9425444006919861\n",
      "AFTER DECODER PREP 0.25839295983314514\n",
      "AFTER DECODER 0.5958907008171082\n"
     ]
    },
    {
     "name": "stderr",
     "output_type": "stream",
     "text": [
      "Epoch 1 - Training:   1%|▏         | 25/1940 [00:41<10:47,  2.96it/s]"
     ]
    },
    {
     "name": "stdout",
     "output_type": "stream",
     "text": [
      "AFTER ENCODER PREP:  0.9723493456840515\n",
      "AFTER ENCODER:  0.9810429215431213\n",
      "AFTER DECODER PREP 0.2092815786600113\n",
      "AFTER DECODER 0.5332804322242737\n"
     ]
    },
    {
     "name": "stderr",
     "output_type": "stream",
     "text": [
      "Epoch 1 - Training:   1%|▏         | 26/1940 [00:41<10:45,  2.96it/s]"
     ]
    },
    {
     "name": "stdout",
     "output_type": "stream",
     "text": [
      "AFTER ENCODER PREP:  0.9700311422348022\n",
      "AFTER ENCODER:  0.9790725708007812\n",
      "AFTER DECODER PREP 0.20601670444011688\n",
      "AFTER DECODER 0.5315922498703003\n"
     ]
    },
    {
     "name": "stderr",
     "output_type": "stream",
     "text": [
      "Epoch 1 - Training:   1%|▏         | 27/1940 [00:42<10:42,  2.98it/s]"
     ]
    },
    {
     "name": "stdout",
     "output_type": "stream",
     "text": [
      "AFTER ENCODER PREP:  0.9673358798027039\n",
      "AFTER ENCODER:  0.944091796875\n",
      "AFTER DECODER PREP 0.254094660282135\n",
      "AFTER DECODER 0.6236559152603149\n"
     ]
    },
    {
     "name": "stderr",
     "output_type": "stream",
     "text": [
      "Epoch 1 - Training:   1%|▏         | 28/1940 [00:42<10:45,  2.96it/s]"
     ]
    },
    {
     "name": "stdout",
     "output_type": "stream",
     "text": [
      "AFTER ENCODER PREP:  0.9626537561416626\n",
      "AFTER ENCODER:  0.9276480078697205\n",
      "AFTER DECODER PREP 0.24323654174804688\n",
      "AFTER DECODER 0.615601122379303\n"
     ]
    },
    {
     "name": "stderr",
     "output_type": "stream",
     "text": [
      "Epoch 1 - Training:   1%|▏         | 29/1940 [00:42<10:27,  3.04it/s]"
     ]
    },
    {
     "name": "stdout",
     "output_type": "stream",
     "text": [
      "AFTER ENCODER PREP:  0.9796468615531921\n",
      "AFTER ENCODER:  0.9845390319824219\n",
      "AFTER DECODER PREP 0.19078503549098969\n",
      "AFTER DECODER 0.48714593052864075\n"
     ]
    },
    {
     "name": "stderr",
     "output_type": "stream",
     "text": [
      "Epoch 1 - Training:   2%|▏         | 30/1940 [00:43<10:36,  3.00it/s]"
     ]
    },
    {
     "name": "stdout",
     "output_type": "stream",
     "text": [
      "AFTER ENCODER PREP:  0.9767189025878906\n",
      "AFTER ENCODER:  0.981148898601532\n",
      "AFTER DECODER PREP 0.18948794901371002\n",
      "AFTER DECODER 0.4805552363395691\n"
     ]
    },
    {
     "name": "stderr",
     "output_type": "stream",
     "text": [
      "Epoch 1 - Training:   2%|▏         | 31/1940 [00:43<11:27,  2.78it/s]"
     ]
    },
    {
     "name": "stdout",
     "output_type": "stream",
     "text": [
      "AFTER ENCODER PREP:  0.9617234468460083\n",
      "AFTER ENCODER:  0.9060518145561218\n",
      "AFTER DECODER PREP 0.2316446751356125\n",
      "AFTER DECODER 0.6111793518066406\n"
     ]
    },
    {
     "name": "stderr",
     "output_type": "stream",
     "text": [
      "Epoch 1 - Training:   2%|▏         | 32/1940 [00:44<11:09,  2.85it/s]"
     ]
    },
    {
     "name": "stdout",
     "output_type": "stream",
     "text": [
      "AFTER ENCODER PREP:  0.9756019115447998\n",
      "AFTER ENCODER:  0.9790197610855103\n",
      "AFTER DECODER PREP 0.18835681676864624\n",
      "AFTER DECODER 0.47564059495925903\n"
     ]
    },
    {
     "name": "stderr",
     "output_type": "stream",
     "text": [
      "Epoch 1 - Training:   2%|▏         | 33/1940 [00:44<11:35,  2.74it/s]"
     ]
    },
    {
     "name": "stdout",
     "output_type": "stream",
     "text": [
      "AFTER ENCODER PREP:  0.969933807849884\n",
      "AFTER ENCODER:  0.9037466645240784\n",
      "AFTER DECODER PREP 0.22773543000221252\n",
      "AFTER DECODER 0.6138337850570679\n"
     ]
    },
    {
     "name": "stderr",
     "output_type": "stream",
     "text": [
      "Epoch 1 - Training:   2%|▏         | 34/1940 [00:44<11:21,  2.80it/s]"
     ]
    },
    {
     "name": "stdout",
     "output_type": "stream",
     "text": [
      "AFTER ENCODER PREP:  0.9639960527420044\n",
      "AFTER ENCODER:  0.8661182522773743\n",
      "AFTER DECODER PREP 0.2231406420469284\n",
      "AFTER DECODER 0.6070829033851624\n"
     ]
    },
    {
     "name": "stderr",
     "output_type": "stream",
     "text": [
      "Epoch 1 - Training:   2%|▏         | 35/1940 [00:45<10:54,  2.91it/s]"
     ]
    },
    {
     "name": "stdout",
     "output_type": "stream",
     "text": [
      "AFTER ENCODER PREP:  0.9696956872940063\n",
      "AFTER ENCODER:  0.9697672724723816\n",
      "AFTER DECODER PREP 0.18791545927524567\n",
      "AFTER DECODER 0.47514253854751587\n"
     ]
    },
    {
     "name": "stderr",
     "output_type": "stream",
     "text": [
      "Epoch 1 - Training:   2%|▏         | 36/1940 [00:45<10:48,  2.94it/s]"
     ]
    },
    {
     "name": "stdout",
     "output_type": "stream",
     "text": [
      "AFTER ENCODER PREP:  0.9754312634468079\n",
      "AFTER ENCODER:  0.9734379053115845\n",
      "AFTER DECODER PREP 0.1858815848827362\n",
      "AFTER DECODER 0.46965038776397705\n"
     ]
    },
    {
     "name": "stderr",
     "output_type": "stream",
     "text": [
      "Epoch 1 - Training:   2%|▏         | 37/1940 [00:45<10:47,  2.94it/s]"
     ]
    },
    {
     "name": "stdout",
     "output_type": "stream",
     "text": [
      "AFTER ENCODER PREP:  0.9702568054199219\n",
      "AFTER ENCODER:  0.96470707654953\n",
      "AFTER DECODER PREP 0.18554918467998505\n",
      "AFTER DECODER 0.47163817286491394\n"
     ]
    },
    {
     "name": "stderr",
     "output_type": "stream",
     "text": [
      "Epoch 1 - Training:   2%|▏         | 38/1940 [00:46<10:34,  3.00it/s]"
     ]
    },
    {
     "name": "stdout",
     "output_type": "stream",
     "text": [
      "AFTER ENCODER PREP:  0.9722948670387268\n",
      "AFTER ENCODER:  0.9617105722427368\n",
      "AFTER DECODER PREP 0.18557807803153992\n",
      "AFTER DECODER 0.4745555520057678\n"
     ]
    },
    {
     "name": "stderr",
     "output_type": "stream",
     "text": [
      "Epoch 1 - Training:   2%|▏         | 39/1940 [00:46<10:23,  3.05it/s]"
     ]
    },
    {
     "name": "stdout",
     "output_type": "stream",
     "text": [
      "AFTER ENCODER PREP:  0.9601542353630066\n",
      "AFTER ENCODER:  0.7489247918128967\n",
      "AFTER DECODER PREP 0.20657604932785034\n",
      "AFTER DECODER 0.5959503650665283\n"
     ]
    },
    {
     "name": "stderr",
     "output_type": "stream",
     "text": [
      "Epoch 1 - Training:   2%|▏         | 40/1940 [00:46<10:13,  3.10it/s]"
     ]
    },
    {
     "name": "stdout",
     "output_type": "stream",
     "text": [
      "AFTER ENCODER PREP:  0.9739667773246765\n",
      "AFTER ENCODER:  0.8169823884963989\n",
      "AFTER DECODER PREP 0.2051474004983902\n",
      "AFTER DECODER 0.5998974442481995\n"
     ]
    },
    {
     "name": "stderr",
     "output_type": "stream",
     "text": [
      "Epoch 1 - Training:   2%|▏         | 41/1940 [00:47<10:19,  3.07it/s]"
     ]
    },
    {
     "name": "stdout",
     "output_type": "stream",
     "text": [
      "AFTER ENCODER PREP:  0.9518800973892212\n",
      "AFTER ENCODER:  0.7661165595054626\n",
      "AFTER DECODER PREP 0.16799654066562653\n",
      "AFTER DECODER 0.5153190493583679\n"
     ]
    },
    {
     "name": "stderr",
     "output_type": "stream",
     "text": [
      "Epoch 1 - Training:   2%|▏         | 42/1940 [00:47<10:21,  3.05it/s]"
     ]
    },
    {
     "name": "stdout",
     "output_type": "stream",
     "text": [
      "AFTER ENCODER PREP:  0.9726057052612305\n",
      "AFTER ENCODER:  0.8821736574172974\n",
      "AFTER DECODER PREP 0.1644594520330429\n",
      "AFTER DECODER 0.4708103537559509\n"
     ]
    },
    {
     "name": "stderr",
     "output_type": "stream",
     "text": [
      "Epoch 1 - Training:   2%|▏         | 43/1940 [00:47<10:26,  3.03it/s]"
     ]
    },
    {
     "name": "stdout",
     "output_type": "stream",
     "text": [
      "AFTER ENCODER PREP:  0.9648303985595703\n",
      "AFTER ENCODER:  0.8788599967956543\n",
      "AFTER DECODER PREP 0.17124097049236298\n",
      "AFTER DECODER 0.47007331252098083\n"
     ]
    },
    {
     "name": "stderr",
     "output_type": "stream",
     "text": [
      "Epoch 1 - Training:   2%|▏         | 44/1940 [00:48<10:26,  3.03it/s]"
     ]
    },
    {
     "name": "stdout",
     "output_type": "stream",
     "text": [
      "AFTER ENCODER PREP:  0.9592262506484985\n",
      "AFTER ENCODER:  0.8958467245101929\n",
      "AFTER DECODER PREP 0.14714743196964264\n",
      "AFTER DECODER 0.3384028375148773\n"
     ]
    },
    {
     "name": "stderr",
     "output_type": "stream",
     "text": [
      "Epoch 1 - Training:   2%|▏         | 45/1940 [00:48<10:17,  3.07it/s]"
     ]
    },
    {
     "name": "stdout",
     "output_type": "stream",
     "text": [
      "AFTER ENCODER PREP:  0.9674782156944275\n",
      "AFTER ENCODER:  0.7876043319702148\n",
      "AFTER DECODER PREP 0.15821214020252228\n",
      "AFTER DECODER 0.4408376216888428\n"
     ]
    },
    {
     "name": "stderr",
     "output_type": "stream",
     "text": [
      "Epoch 1 - Training:   2%|▏         | 46/1940 [00:48<10:11,  3.10it/s]"
     ]
    },
    {
     "name": "stdout",
     "output_type": "stream",
     "text": [
      "AFTER ENCODER PREP:  0.9648905396461487\n",
      "AFTER ENCODER:  0.6789597868919373\n",
      "AFTER DECODER PREP 0.15350942313671112\n",
      "AFTER DECODER 0.44251543283462524\n"
     ]
    },
    {
     "name": "stderr",
     "output_type": "stream",
     "text": [
      "Epoch 1 - Training:   2%|▏         | 47/1940 [00:49<10:57,  2.88it/s]"
     ]
    },
    {
     "name": "stdout",
     "output_type": "stream",
     "text": [
      "AFTER ENCODER PREP:  0.9617382884025574\n",
      "AFTER ENCODER:  0.7547913193702698\n",
      "AFTER DECODER PREP 0.14295296370983124\n",
      "AFTER DECODER 0.34962549805641174\n"
     ]
    },
    {
     "name": "stderr",
     "output_type": "stream",
     "text": [
      "Epoch 1 - Training:   2%|▏         | 48/1940 [00:49<10:47,  2.92it/s]"
     ]
    },
    {
     "name": "stdout",
     "output_type": "stream",
     "text": [
      "AFTER ENCODER PREP:  0.9618969559669495\n",
      "AFTER ENCODER:  0.7193333506584167\n",
      "AFTER DECODER PREP 0.19423268735408783\n",
      "AFTER DECODER 0.5439661145210266\n"
     ]
    },
    {
     "name": "stderr",
     "output_type": "stream",
     "text": [
      "Epoch 1 - Training:   3%|▎         | 49/1940 [00:49<10:38,  2.96it/s]"
     ]
    },
    {
     "name": "stdout",
     "output_type": "stream",
     "text": [
      "AFTER ENCODER PREP:  0.9591729044914246\n",
      "AFTER ENCODER:  0.38192883133888245\n",
      "AFTER DECODER PREP 0.15868738293647766\n",
      "AFTER DECODER 0.416363388299942\n"
     ]
    },
    {
     "name": "stderr",
     "output_type": "stream",
     "text": [
      "Epoch 1 - Training:   3%|▎         | 50/1940 [00:50<10:36,  2.97it/s]"
     ]
    },
    {
     "name": "stdout",
     "output_type": "stream",
     "text": [
      "AFTER ENCODER PREP:  0.945486307144165\n",
      "AFTER ENCODER:  0.28607478737831116\n",
      "AFTER DECODER PREP 0.12894360721111298\n",
      "AFTER DECODER 0.31782108545303345\n"
     ]
    },
    {
     "name": "stderr",
     "output_type": "stream",
     "text": [
      "Epoch 1 - Training:   3%|▎         | 51/1940 [00:50<10:31,  2.99it/s]"
     ]
    },
    {
     "name": "stdout",
     "output_type": "stream",
     "text": [
      "AFTER ENCODER PREP:  0.9668763279914856\n",
      "AFTER ENCODER:  0.5199148654937744\n",
      "AFTER DECODER PREP 0.20108772814273834\n",
      "AFTER DECODER 0.5186679363250732\n"
     ]
    },
    {
     "name": "stderr",
     "output_type": "stream",
     "text": [
      "Epoch 1 - Training:   3%|▎         | 52/1940 [00:50<10:26,  3.01it/s]"
     ]
    },
    {
     "name": "stdout",
     "output_type": "stream",
     "text": [
      "AFTER ENCODER PREP:  0.9532762765884399\n",
      "AFTER ENCODER:  0.3409012258052826\n",
      "AFTER DECODER PREP 0.1641693115234375\n",
      "AFTER DECODER 0.43500447273254395\n"
     ]
    },
    {
     "name": "stderr",
     "output_type": "stream",
     "text": [
      "Epoch 1 - Training:   3%|▎         | 53/1940 [00:51<10:25,  3.02it/s]"
     ]
    },
    {
     "name": "stdout",
     "output_type": "stream",
     "text": [
      "AFTER ENCODER PREP:  0.9541131258010864\n",
      "AFTER ENCODER:  0.2988724708557129\n",
      "AFTER DECODER PREP 0.1332688331604004\n",
      "AFTER DECODER 0.36155587434768677\n"
     ]
    },
    {
     "name": "stderr",
     "output_type": "stream",
     "text": [
      "Epoch 1 - Training:   3%|▎         | 54/1940 [00:51<10:19,  3.05it/s]"
     ]
    },
    {
     "name": "stdout",
     "output_type": "stream",
     "text": [
      "AFTER ENCODER PREP:  0.9591621160507202\n",
      "AFTER ENCODER:  0.371640682220459\n",
      "AFTER DECODER PREP 0.15606997907161713\n",
      "AFTER DECODER 0.4247548580169678\n"
     ]
    },
    {
     "name": "stderr",
     "output_type": "stream",
     "text": [
      "Epoch 1 - Training:   3%|▎         | 55/1940 [00:51<10:18,  3.05it/s]"
     ]
    },
    {
     "name": "stdout",
     "output_type": "stream",
     "text": [
      "AFTER ENCODER PREP:  0.975056529045105\n",
      "AFTER ENCODER:  0.6417659521102905\n",
      "AFTER DECODER PREP 0.19495686888694763\n",
      "AFTER DECODER 0.5418100953102112\n"
     ]
    },
    {
     "name": "stderr",
     "output_type": "stream",
     "text": [
      "Epoch 1 - Training:   3%|▎         | 56/1940 [00:52<10:31,  2.98it/s]"
     ]
    },
    {
     "name": "stdout",
     "output_type": "stream",
     "text": [
      "AFTER ENCODER PREP:  0.9536691904067993\n",
      "AFTER ENCODER:  0.2713410258293152\n",
      "AFTER DECODER PREP 0.10669612884521484\n",
      "AFTER DECODER 0.23423440754413605\n"
     ]
    },
    {
     "name": "stderr",
     "output_type": "stream",
     "text": [
      "Epoch 1 - Training:   3%|▎         | 57/1940 [00:52<10:31,  2.98it/s]"
     ]
    },
    {
     "name": "stdout",
     "output_type": "stream",
     "text": [
      "AFTER ENCODER PREP:  0.9519386291503906\n",
      "AFTER ENCODER:  0.37357059121131897\n",
      "AFTER DECODER PREP 0.10817886888980865\n",
      "AFTER DECODER 0.20467106997966766\n"
     ]
    },
    {
     "name": "stderr",
     "output_type": "stream",
     "text": [
      "Epoch 1 - Training:   3%|▎         | 58/1940 [00:52<10:34,  2.97it/s]"
     ]
    },
    {
     "name": "stdout",
     "output_type": "stream",
     "text": [
      "AFTER ENCODER PREP:  0.9570266604423523\n",
      "AFTER ENCODER:  0.6914278864860535\n",
      "AFTER DECODER PREP 0.12804752588272095\n",
      "AFTER DECODER 0.26791903376579285\n"
     ]
    },
    {
     "name": "stderr",
     "output_type": "stream",
     "text": [
      "Epoch 1 - Training:   3%|▎         | 59/1940 [00:53<10:36,  2.95it/s]"
     ]
    },
    {
     "name": "stdout",
     "output_type": "stream",
     "text": [
      "AFTER ENCODER PREP:  0.9718713760375977\n",
      "AFTER ENCODER:  0.4474412798881531\n",
      "AFTER DECODER PREP 0.14264611899852753\n",
      "AFTER DECODER 0.40630850195884705\n"
     ]
    },
    {
     "name": "stderr",
     "output_type": "stream",
     "text": [
      "Epoch 1 - Training:   3%|▎         | 60/1940 [00:53<11:18,  2.77it/s]"
     ]
    },
    {
     "name": "stdout",
     "output_type": "stream",
     "text": [
      "AFTER ENCODER PREP:  0.9632158279418945\n",
      "AFTER ENCODER:  0.4930250644683838\n",
      "AFTER DECODER PREP 0.138050839304924\n",
      "AFTER DECODER 0.3587920069694519\n"
     ]
    },
    {
     "name": "stderr",
     "output_type": "stream",
     "text": [
      "Epoch 1 - Training:   3%|▎         | 61/1940 [00:53<10:57,  2.86it/s]"
     ]
    },
    {
     "name": "stdout",
     "output_type": "stream",
     "text": [
      "AFTER ENCODER PREP:  0.9593557119369507\n",
      "AFTER ENCODER:  0.47511109709739685\n",
      "AFTER DECODER PREP 0.1560288369655609\n",
      "AFTER DECODER 0.47259196639060974\n"
     ]
    },
    {
     "name": "stderr",
     "output_type": "stream",
     "text": [
      "Epoch 1 - Training:   3%|▎         | 62/1940 [00:54<10:36,  2.95it/s]"
     ]
    },
    {
     "name": "stdout",
     "output_type": "stream",
     "text": [
      "AFTER ENCODER PREP:  0.958687961101532\n",
      "AFTER ENCODER:  0.5389845967292786\n",
      "AFTER DECODER PREP 0.1713557243347168\n",
      "AFTER DECODER 0.5356950163841248\n"
     ]
    },
    {
     "name": "stderr",
     "output_type": "stream",
     "text": [
      "Epoch 1 - Training:   3%|▎         | 63/1940 [00:54<10:26,  3.00it/s]"
     ]
    },
    {
     "name": "stdout",
     "output_type": "stream",
     "text": [
      "AFTER ENCODER PREP:  0.9596598744392395\n",
      "AFTER ENCODER:  0.542166531085968\n",
      "AFTER DECODER PREP 0.17027856409549713\n",
      "AFTER DECODER 0.5293346643447876\n"
     ]
    },
    {
     "name": "stderr",
     "output_type": "stream",
     "text": [
      "Epoch 1 - Training:   3%|▎         | 64/1940 [00:54<10:21,  3.02it/s]"
     ]
    },
    {
     "name": "stdout",
     "output_type": "stream",
     "text": [
      "AFTER ENCODER PREP:  0.9677839875221252\n",
      "AFTER ENCODER:  0.9333173632621765\n",
      "AFTER DECODER PREP 0.2784436047077179\n",
      "AFTER DECODER 0.7746493220329285\n"
     ]
    },
    {
     "name": "stderr",
     "output_type": "stream",
     "text": [
      "Epoch 1 - Training:   3%|▎         | 65/1940 [00:55<10:14,  3.05it/s]"
     ]
    },
    {
     "name": "stdout",
     "output_type": "stream",
     "text": [
      "AFTER ENCODER PREP:  0.9653456807136536\n",
      "AFTER ENCODER:  0.8103682994842529\n",
      "AFTER DECODER PREP 0.25272607803344727\n",
      "AFTER DECODER 0.7336737513542175\n"
     ]
    },
    {
     "name": "stderr",
     "output_type": "stream",
     "text": [
      "Epoch 1 - Training:   3%|▎         | 66/1940 [00:55<10:06,  3.09it/s]"
     ]
    },
    {
     "name": "stdout",
     "output_type": "stream",
     "text": [
      "AFTER ENCODER PREP:  0.9492046236991882\n",
      "AFTER ENCODER:  0.6768367886543274\n",
      "AFTER DECODER PREP 0.19989314675331116\n",
      "AFTER DECODER 0.6074750423431396\n"
     ]
    },
    {
     "name": "stderr",
     "output_type": "stream",
     "text": [
      "Epoch 1 - Training:   3%|▎         | 67/1940 [00:55<10:11,  3.07it/s]"
     ]
    },
    {
     "name": "stdout",
     "output_type": "stream",
     "text": [
      "AFTER ENCODER PREP:  0.9585505127906799\n",
      "AFTER ENCODER:  0.5255705118179321\n",
      "AFTER DECODER PREP 0.16894200444221497\n",
      "AFTER DECODER 0.46042147278785706\n"
     ]
    },
    {
     "name": "stderr",
     "output_type": "stream",
     "text": [
      "Epoch 1 - Training:   4%|▎         | 68/1940 [00:56<10:14,  3.05it/s]"
     ]
    },
    {
     "name": "stdout",
     "output_type": "stream",
     "text": [
      "AFTER ENCODER PREP:  0.9540066719055176\n",
      "AFTER ENCODER:  0.5463269352912903\n",
      "AFTER DECODER PREP 0.12316888570785522\n",
      "AFTER DECODER 0.20182423293590546\n"
     ]
    },
    {
     "name": "stderr",
     "output_type": "stream",
     "text": [
      "Epoch 1 - Training:   4%|▎         | 69/1940 [00:56<10:13,  3.05it/s]"
     ]
    },
    {
     "name": "stdout",
     "output_type": "stream",
     "text": [
      "AFTER ENCODER PREP:  0.9547792077064514\n",
      "AFTER ENCODER:  0.5969587564468384\n",
      "AFTER DECODER PREP 0.2044878751039505\n",
      "AFTER DECODER 0.579929769039154\n"
     ]
    },
    {
     "name": "stderr",
     "output_type": "stream",
     "text": [
      "Epoch 1 - Training:   4%|▎         | 70/1940 [00:56<10:11,  3.06it/s]"
     ]
    },
    {
     "name": "stdout",
     "output_type": "stream",
     "text": [
      "AFTER ENCODER PREP:  0.9550477266311646\n",
      "AFTER ENCODER:  0.39141330122947693\n",
      "AFTER DECODER PREP 0.14538303017616272\n",
      "AFTER DECODER 0.3744889199733734\n"
     ]
    },
    {
     "name": "stderr",
     "output_type": "stream",
     "text": [
      "Epoch 1 - Training:   4%|▎         | 71/1940 [00:57<10:09,  3.07it/s]"
     ]
    },
    {
     "name": "stdout",
     "output_type": "stream",
     "text": [
      "AFTER ENCODER PREP:  0.9689784646034241\n",
      "AFTER ENCODER:  0.6932925581932068\n",
      "AFTER DECODER PREP 0.240981787443161\n",
      "AFTER DECODER 0.6550478339195251\n"
     ]
    },
    {
     "name": "stderr",
     "output_type": "stream",
     "text": [
      "Epoch 1 - Training:   4%|▎         | 72/1940 [00:57<10:21,  3.01it/s]"
     ]
    },
    {
     "name": "stdout",
     "output_type": "stream",
     "text": [
      "AFTER ENCODER PREP:  0.9442692399024963\n",
      "AFTER ENCODER:  0.42131921648979187\n",
      "AFTER DECODER PREP 0.13027800619602203\n",
      "AFTER DECODER 0.28928664326667786\n"
     ]
    },
    {
     "name": "stderr",
     "output_type": "stream",
     "text": [
      "Epoch 1 - Training:   4%|▍         | 73/1940 [00:57<10:51,  2.87it/s]"
     ]
    },
    {
     "name": "stdout",
     "output_type": "stream",
     "text": [
      "AFTER ENCODER PREP:  0.9658273458480835\n",
      "AFTER ENCODER:  0.6254866123199463\n",
      "AFTER DECODER PREP 0.2208869755268097\n",
      "AFTER DECODER 0.6100221276283264\n"
     ]
    },
    {
     "name": "stderr",
     "output_type": "stream",
     "text": [
      "Epoch 1 - Training:   4%|▍         | 74/1940 [00:58<10:45,  2.89it/s]"
     ]
    },
    {
     "name": "stdout",
     "output_type": "stream",
     "text": [
      "AFTER ENCODER PREP:  0.9601114392280579\n",
      "AFTER ENCODER:  0.5422573089599609\n",
      "AFTER DECODER PREP 0.18818579614162445\n",
      "AFTER DECODER 0.5183688998222351\n"
     ]
    },
    {
     "name": "stderr",
     "output_type": "stream",
     "text": [
      "Epoch 1 - Training:   4%|▍         | 75/1940 [00:58<10:36,  2.93it/s]"
     ]
    },
    {
     "name": "stdout",
     "output_type": "stream",
     "text": [
      "AFTER ENCODER PREP:  0.9541431665420532\n",
      "AFTER ENCODER:  0.601747989654541\n",
      "AFTER DECODER PREP 0.20795685052871704\n",
      "AFTER DECODER 0.5997681617736816\n"
     ]
    },
    {
     "name": "stderr",
     "output_type": "stream",
     "text": [
      "Epoch 1 - Training:   4%|▍         | 76/1940 [00:58<10:30,  2.96it/s]"
     ]
    },
    {
     "name": "stdout",
     "output_type": "stream",
     "text": [
      "AFTER ENCODER PREP:  0.9653462767601013\n",
      "AFTER ENCODER:  0.6848955154418945\n",
      "AFTER DECODER PREP 0.22213375568389893\n",
      "AFTER DECODER 0.6277889609336853\n"
     ]
    },
    {
     "name": "stderr",
     "output_type": "stream",
     "text": [
      "Epoch 1 - Training:   4%|▍         | 77/1940 [00:59<10:39,  2.92it/s]"
     ]
    },
    {
     "name": "stdout",
     "output_type": "stream",
     "text": [
      "AFTER ENCODER PREP:  0.9593431353569031\n",
      "AFTER ENCODER:  0.47324588894844055\n",
      "AFTER DECODER PREP 0.18393418192863464\n",
      "AFTER DECODER 0.5120958089828491\n"
     ]
    },
    {
     "name": "stderr",
     "output_type": "stream",
     "text": [
      "Epoch 1 - Training:   4%|▍         | 78/1940 [00:59<11:12,  2.77it/s]"
     ]
    },
    {
     "name": "stdout",
     "output_type": "stream",
     "text": [
      "AFTER ENCODER PREP:  0.9506394267082214\n",
      "AFTER ENCODER:  0.4130914807319641\n",
      "AFTER DECODER PREP 0.16725175082683563\n",
      "AFTER DECODER 0.4718645215034485\n"
     ]
    },
    {
     "name": "stderr",
     "output_type": "stream",
     "text": [
      "Epoch 1 - Training:   4%|▍         | 79/1940 [01:00<12:26,  2.49it/s]"
     ]
    },
    {
     "name": "stdout",
     "output_type": "stream",
     "text": [
      "AFTER ENCODER PREP:  0.9583444595336914\n",
      "AFTER ENCODER:  0.5073238611221313\n",
      "AFTER DECODER PREP 0.1845761239528656\n",
      "AFTER DECODER 0.536088228225708\n"
     ]
    },
    {
     "name": "stderr",
     "output_type": "stream",
     "text": [
      "Epoch 1 - Training:   4%|▍         | 80/1940 [01:00<12:44,  2.43it/s]"
     ]
    },
    {
     "name": "stdout",
     "output_type": "stream",
     "text": [
      "AFTER ENCODER PREP:  0.9419600963592529\n",
      "AFTER ENCODER:  0.31508898735046387\n",
      "AFTER DECODER PREP 0.12776847183704376\n",
      "AFTER DECODER 0.2929220199584961\n"
     ]
    },
    {
     "name": "stderr",
     "output_type": "stream",
     "text": [
      "Epoch 1 - Training:   4%|▍         | 81/1940 [01:00<13:26,  2.31it/s]"
     ]
    },
    {
     "name": "stdout",
     "output_type": "stream",
     "text": [
      "AFTER ENCODER PREP:  0.9536056518554688\n",
      "AFTER ENCODER:  0.56550133228302\n",
      "AFTER DECODER PREP 0.19447915256023407\n",
      "AFTER DECODER 0.5850421190261841\n"
     ]
    },
    {
     "name": "stderr",
     "output_type": "stream",
     "text": [
      "Epoch 1 - Training:   4%|▍         | 82/1940 [01:01<15:36,  1.98it/s]"
     ]
    },
    {
     "name": "stdout",
     "output_type": "stream",
     "text": [
      "AFTER ENCODER PREP:  0.957981288433075\n",
      "AFTER ENCODER:  0.6185243725776672\n",
      "AFTER DECODER PREP 0.19393163919448853\n",
      "AFTER DECODER 0.5901248455047607\n"
     ]
    },
    {
     "name": "stderr",
     "output_type": "stream",
     "text": [
      "Epoch 1 - Training:   4%|▍         | 83/1940 [01:02<14:35,  2.12it/s]"
     ]
    },
    {
     "name": "stdout",
     "output_type": "stream",
     "text": [
      "AFTER ENCODER PREP:  0.9670002460479736\n",
      "AFTER ENCODER:  0.6919408440589905\n",
      "AFTER DECODER PREP 0.20476095378398895\n",
      "AFTER DECODER 0.6558166742324829\n"
     ]
    },
    {
     "name": "stderr",
     "output_type": "stream",
     "text": [
      "Epoch 1 - Training:   4%|▍         | 84/1940 [01:02<13:51,  2.23it/s]"
     ]
    },
    {
     "name": "stdout",
     "output_type": "stream",
     "text": [
      "AFTER ENCODER PREP:  0.961057186126709\n",
      "AFTER ENCODER:  0.8873761892318726\n",
      "AFTER DECODER PREP 0.26451703906059265\n",
      "AFTER DECODER 0.774692952632904\n"
     ]
    },
    {
     "name": "stderr",
     "output_type": "stream",
     "text": [
      "Epoch 1 - Training:   4%|▍         | 85/1940 [01:02<14:13,  2.17it/s]"
     ]
    },
    {
     "name": "stdout",
     "output_type": "stream",
     "text": [
      "AFTER ENCODER PREP:  0.9535548686981201\n",
      "AFTER ENCODER:  0.7943007946014404\n",
      "AFTER DECODER PREP 0.24252191185951233\n",
      "AFTER DECODER 0.7450764775276184\n"
     ]
    },
    {
     "name": "stderr",
     "output_type": "stream",
     "text": [
      "Epoch 1 - Training:   4%|▍         | 86/1940 [01:03<14:01,  2.20it/s]"
     ]
    },
    {
     "name": "stdout",
     "output_type": "stream",
     "text": [
      "AFTER ENCODER PREP:  0.9522439241409302\n",
      "AFTER ENCODER:  0.8173004388809204\n",
      "AFTER DECODER PREP 0.24300311505794525\n",
      "AFTER DECODER 0.7446792125701904\n"
     ]
    },
    {
     "name": "stderr",
     "output_type": "stream",
     "text": [
      "Epoch 1 - Training:   4%|▍         | 87/1940 [01:03<13:51,  2.23it/s]"
     ]
    },
    {
     "name": "stdout",
     "output_type": "stream",
     "text": [
      "AFTER ENCODER PREP:  0.9676522016525269\n",
      "AFTER ENCODER:  0.8590832352638245\n",
      "AFTER DECODER PREP 0.23819305002689362\n",
      "AFTER DECODER 0.7363045811653137\n"
     ]
    },
    {
     "name": "stderr",
     "output_type": "stream",
     "text": [
      "Epoch 1 - Training:   5%|▍         | 88/1940 [01:04<14:35,  2.12it/s]"
     ]
    },
    {
     "name": "stdout",
     "output_type": "stream",
     "text": [
      "AFTER ENCODER PREP:  0.9572360515594482\n",
      "AFTER ENCODER:  0.6416488289833069\n",
      "AFTER DECODER PREP 0.19855955243110657\n",
      "AFTER DECODER 0.6521995067596436\n"
     ]
    },
    {
     "name": "stderr",
     "output_type": "stream",
     "text": [
      "Epoch 1 - Training:   5%|▍         | 89/1940 [01:04<15:38,  1.97it/s]"
     ]
    },
    {
     "name": "stdout",
     "output_type": "stream",
     "text": [
      "AFTER ENCODER PREP:  0.9574403762817383\n",
      "AFTER ENCODER:  0.6737696528434753\n",
      "AFTER DECODER PREP 0.19937579333782196\n",
      "AFTER DECODER 0.6435811519622803\n"
     ]
    },
    {
     "name": "stderr",
     "output_type": "stream",
     "text": [
      "Epoch 1 - Training:   5%|▍         | 90/1940 [01:05<20:31,  1.50it/s]"
     ]
    },
    {
     "name": "stdout",
     "output_type": "stream",
     "text": [
      "AFTER ENCODER PREP:  0.9319097995758057\n",
      "AFTER ENCODER:  0.5613477230072021\n",
      "AFTER DECODER PREP 0.14877590537071228\n",
      "AFTER DECODER 0.4649277329444885\n"
     ]
    },
    {
     "name": "stderr",
     "output_type": "stream",
     "text": [
      "Epoch 1 - Training:   5%|▍         | 91/1940 [01:06<23:43,  1.30it/s]"
     ]
    },
    {
     "name": "stdout",
     "output_type": "stream",
     "text": [
      "AFTER ENCODER PREP:  0.9544276595115662\n",
      "AFTER ENCODER:  0.5975000262260437\n",
      "AFTER DECODER PREP 0.1651405692100525\n",
      "AFTER DECODER 0.5267865657806396\n"
     ]
    },
    {
     "name": "stderr",
     "output_type": "stream",
     "text": [
      "Epoch 1 - Training:   5%|▍         | 92/1940 [01:07<22:02,  1.40it/s]"
     ]
    },
    {
     "name": "stdout",
     "output_type": "stream",
     "text": [
      "AFTER ENCODER PREP:  0.957614541053772\n",
      "AFTER ENCODER:  0.6135319471359253\n",
      "AFTER DECODER PREP 0.1726701706647873\n",
      "AFTER DECODER 0.5446993708610535\n"
     ]
    },
    {
     "name": "stderr",
     "output_type": "stream",
     "text": [
      "Epoch 1 - Training:   5%|▍         | 93/1940 [01:08<21:26,  1.44it/s]"
     ]
    },
    {
     "name": "stdout",
     "output_type": "stream",
     "text": [
      "AFTER ENCODER PREP:  0.9586607217788696\n",
      "AFTER ENCODER:  0.5099130272865295\n",
      "AFTER DECODER PREP 0.16297513246536255\n",
      "AFTER DECODER 0.5146623253822327\n"
     ]
    },
    {
     "name": "stderr",
     "output_type": "stream",
     "text": [
      "Epoch 1 - Training:   5%|▍         | 94/1940 [01:08<20:48,  1.48it/s]"
     ]
    },
    {
     "name": "stdout",
     "output_type": "stream",
     "text": [
      "AFTER ENCODER PREP:  0.9590098857879639\n",
      "AFTER ENCODER:  0.46655914187431335\n",
      "AFTER DECODER PREP 0.15955857932567596\n",
      "AFTER DECODER 0.5059914588928223\n"
     ]
    },
    {
     "name": "stderr",
     "output_type": "stream",
     "text": [
      "Epoch 1 - Training:   5%|▍         | 95/1940 [01:09<19:37,  1.57it/s]"
     ]
    },
    {
     "name": "stdout",
     "output_type": "stream",
     "text": [
      "AFTER ENCODER PREP:  0.9593437314033508\n",
      "AFTER ENCODER:  0.5580493211746216\n",
      "AFTER DECODER PREP 0.1792134791612625\n",
      "AFTER DECODER 0.582467257976532\n"
     ]
    },
    {
     "name": "stderr",
     "output_type": "stream",
     "text": [
      "Epoch 1 - Training:   5%|▍         | 96/1940 [01:09<18:54,  1.62it/s]"
     ]
    },
    {
     "name": "stdout",
     "output_type": "stream",
     "text": [
      "AFTER ENCODER PREP:  0.9464799165725708\n",
      "AFTER ENCODER:  0.4148711562156677\n",
      "AFTER DECODER PREP 0.15292316675186157\n",
      "AFTER DECODER 0.48806560039520264\n"
     ]
    },
    {
     "name": "stderr",
     "output_type": "stream",
     "text": [
      "Epoch 1 - Training:   5%|▌         | 97/1940 [01:10<17:34,  1.75it/s]"
     ]
    },
    {
     "name": "stdout",
     "output_type": "stream",
     "text": [
      "AFTER ENCODER PREP:  0.9563033580780029\n",
      "AFTER ENCODER:  0.36539921164512634\n",
      "AFTER DECODER PREP 0.14750373363494873\n",
      "AFTER DECODER 0.46315163373947144\n"
     ]
    },
    {
     "name": "stderr",
     "output_type": "stream",
     "text": [
      "Epoch 1 - Training:   5%|▌         | 98/1940 [01:10<16:40,  1.84it/s]"
     ]
    },
    {
     "name": "stdout",
     "output_type": "stream",
     "text": [
      "AFTER ENCODER PREP:  0.9597565531730652\n",
      "AFTER ENCODER:  0.4805392026901245\n",
      "AFTER DECODER PREP 0.1753859966993332\n",
      "AFTER DECODER 0.5457371473312378\n"
     ]
    },
    {
     "name": "stderr",
     "output_type": "stream",
     "text": [
      "Epoch 1 - Training:   5%|▌         | 99/1940 [01:11<16:20,  1.88it/s]"
     ]
    },
    {
     "name": "stdout",
     "output_type": "stream",
     "text": [
      "AFTER ENCODER PREP:  0.9660949110984802\n",
      "AFTER ENCODER:  0.6648420691490173\n",
      "AFTER DECODER PREP 0.20694482326507568\n",
      "AFTER DECODER 0.6562467217445374\n"
     ]
    },
    {
     "name": "stderr",
     "output_type": "stream",
     "text": [
      "Epoch 1 - Training:   5%|▌         | 100/1940 [01:11<16:21,  1.88it/s]"
     ]
    },
    {
     "name": "stdout",
     "output_type": "stream",
     "text": [
      "AFTER ENCODER PREP:  0.9594069123268127\n",
      "AFTER ENCODER:  0.5360367894172668\n",
      "AFTER DECODER PREP 0.1666167825460434\n",
      "AFTER DECODER 0.5271785855293274\n"
     ]
    },
    {
     "name": "stderr",
     "output_type": "stream",
     "text": [
      "Epoch 1 - Training:   5%|▌         | 101/1940 [01:12<16:57,  1.81it/s]"
     ]
    },
    {
     "name": "stdout",
     "output_type": "stream",
     "text": [
      "AFTER ENCODER PREP:  0.9542136192321777\n",
      "AFTER ENCODER:  0.4830966889858246\n",
      "AFTER DECODER PREP 0.1740727424621582\n",
      "AFTER DECODER 0.5707158446311951\n"
     ]
    },
    {
     "name": "stderr",
     "output_type": "stream",
     "text": [
      "Epoch 1 - Training:   5%|▌         | 102/1940 [01:13<16:30,  1.86it/s]"
     ]
    },
    {
     "name": "stdout",
     "output_type": "stream",
     "text": [
      "AFTER ENCODER PREP:  0.9478245377540588\n",
      "AFTER ENCODER:  0.517902672290802\n",
      "AFTER DECODER PREP 0.16608421504497528\n",
      "AFTER DECODER 0.5428255200386047\n"
     ]
    },
    {
     "name": "stderr",
     "output_type": "stream",
     "text": [
      "Epoch 1 - Training:   5%|▌         | 103/1940 [01:13<15:55,  1.92it/s]"
     ]
    },
    {
     "name": "stdout",
     "output_type": "stream",
     "text": [
      "AFTER ENCODER PREP:  0.9579215049743652\n",
      "AFTER ENCODER:  0.48276811838150024\n",
      "AFTER DECODER PREP 0.15682661533355713\n",
      "AFTER DECODER 0.5028433799743652\n"
     ]
    },
    {
     "name": "stderr",
     "output_type": "stream",
     "text": [
      "Epoch 1 - Training:   5%|▌         | 104/1940 [01:13<15:27,  1.98it/s]"
     ]
    },
    {
     "name": "stdout",
     "output_type": "stream",
     "text": [
      "AFTER ENCODER PREP:  0.9604078531265259\n",
      "AFTER ENCODER:  0.568681538105011\n",
      "AFTER DECODER PREP 0.19503480195999146\n",
      "AFTER DECODER 0.6090306639671326\n"
     ]
    },
    {
     "name": "stderr",
     "output_type": "stream",
     "text": [
      "Epoch 1 - Training:   5%|▌         | 105/1940 [01:14<15:00,  2.04it/s]"
     ]
    },
    {
     "name": "stdout",
     "output_type": "stream",
     "text": [
      "AFTER ENCODER PREP:  0.9694502353668213\n",
      "AFTER ENCODER:  0.7286649942398071\n",
      "AFTER DECODER PREP 0.20303954184055328\n",
      "AFTER DECODER 0.6311619281768799\n"
     ]
    },
    {
     "name": "stderr",
     "output_type": "stream",
     "text": [
      "Epoch 1 - Training:   5%|▌         | 106/1940 [01:14<14:36,  2.09it/s]"
     ]
    },
    {
     "name": "stdout",
     "output_type": "stream",
     "text": [
      "AFTER ENCODER PREP:  0.96149742603302\n",
      "AFTER ENCODER:  0.603731095790863\n",
      "AFTER DECODER PREP 0.17928342521190643\n",
      "AFTER DECODER 0.5708898305892944\n"
     ]
    },
    {
     "name": "stderr",
     "output_type": "stream",
     "text": [
      "Epoch 1 - Training:   6%|▌         | 107/1940 [01:15<15:52,  1.92it/s]"
     ]
    },
    {
     "name": "stdout",
     "output_type": "stream",
     "text": [
      "AFTER ENCODER PREP:  0.9480476379394531\n",
      "AFTER ENCODER:  0.5116231441497803\n",
      "AFTER DECODER PREP 0.1623283177614212\n",
      "AFTER DECODER 0.5282413363456726\n"
     ]
    },
    {
     "name": "stderr",
     "output_type": "stream",
     "text": [
      "Epoch 1 - Training:   6%|▌         | 108/1940 [01:16<15:59,  1.91it/s]"
     ]
    },
    {
     "name": "stdout",
     "output_type": "stream",
     "text": [
      "AFTER ENCODER PREP:  0.9483907222747803\n",
      "AFTER ENCODER:  0.5976654887199402\n",
      "AFTER DECODER PREP 0.1969408392906189\n",
      "AFTER DECODER 0.633687436580658\n"
     ]
    },
    {
     "name": "stderr",
     "output_type": "stream",
     "text": [
      "Epoch 1 - Training:   6%|▌         | 109/1940 [01:16<18:04,  1.69it/s]"
     ]
    },
    {
     "name": "stdout",
     "output_type": "stream",
     "text": [
      "AFTER ENCODER PREP:  0.9636754989624023\n",
      "AFTER ENCODER:  0.6166629791259766\n",
      "AFTER DECODER PREP 0.1818545013666153\n",
      "AFTER DECODER 0.5665581226348877\n"
     ]
    },
    {
     "name": "stderr",
     "output_type": "stream",
     "text": [
      "Epoch 1 - Training:   6%|▌         | 110/1940 [01:17<16:58,  1.80it/s]"
     ]
    },
    {
     "name": "stdout",
     "output_type": "stream",
     "text": [
      "AFTER ENCODER PREP:  0.9526476860046387\n",
      "AFTER ENCODER:  0.4082314074039459\n",
      "AFTER DECODER PREP 0.12529774010181427\n",
      "AFTER DECODER 0.3169393539428711\n"
     ]
    },
    {
     "name": "stderr",
     "output_type": "stream",
     "text": [
      "Epoch 1 - Training:   6%|▌         | 111/1940 [01:17<16:45,  1.82it/s]"
     ]
    },
    {
     "name": "stdout",
     "output_type": "stream",
     "text": [
      "AFTER ENCODER PREP:  0.9513681530952454\n",
      "AFTER ENCODER:  0.4837915599346161\n",
      "AFTER DECODER PREP 0.13274319469928741\n",
      "AFTER DECODER 0.35401058197021484\n"
     ]
    },
    {
     "name": "stderr",
     "output_type": "stream",
     "text": [
      "Epoch 1 - Training:   6%|▌         | 112/1940 [01:18<16:32,  1.84it/s]"
     ]
    },
    {
     "name": "stdout",
     "output_type": "stream",
     "text": [
      "AFTER ENCODER PREP:  0.9601795077323914\n",
      "AFTER ENCODER:  0.6706041693687439\n",
      "AFTER DECODER PREP 0.21472389996051788\n",
      "AFTER DECODER 0.6578814387321472\n"
     ]
    },
    {
     "name": "stderr",
     "output_type": "stream",
     "text": [
      "Epoch 1 - Training:   6%|▌         | 113/1940 [01:18<15:22,  1.98it/s]"
     ]
    },
    {
     "name": "stdout",
     "output_type": "stream",
     "text": [
      "AFTER ENCODER PREP:  0.962437093257904\n",
      "AFTER ENCODER:  0.5470017790794373\n",
      "AFTER DECODER PREP 0.1562679558992386\n",
      "AFTER DECODER 0.47867801785469055\n"
     ]
    },
    {
     "name": "stderr",
     "output_type": "stream",
     "text": [
      "Epoch 1 - Training:   6%|▌         | 114/1940 [01:19<15:21,  1.98it/s]"
     ]
    },
    {
     "name": "stdout",
     "output_type": "stream",
     "text": [
      "AFTER ENCODER PREP:  0.957805335521698\n",
      "AFTER ENCODER:  0.5476586818695068\n",
      "AFTER DECODER PREP 0.14936219155788422\n",
      "AFTER DECODER 0.45399710536003113\n"
     ]
    },
    {
     "name": "stderr",
     "output_type": "stream",
     "text": [
      "Epoch 1 - Training:   6%|▌         | 115/1940 [01:19<15:51,  1.92it/s]"
     ]
    },
    {
     "name": "stdout",
     "output_type": "stream",
     "text": [
      "AFTER ENCODER PREP:  0.9466885924339294\n",
      "AFTER ENCODER:  0.5737085342407227\n",
      "AFTER DECODER PREP 0.14513860642910004\n",
      "AFTER DECODER 0.41052767634391785\n"
     ]
    },
    {
     "name": "stderr",
     "output_type": "stream",
     "text": [
      "Epoch 1 - Training:   6%|▌         | 116/1940 [01:20<15:34,  1.95it/s]"
     ]
    },
    {
     "name": "stdout",
     "output_type": "stream",
     "text": [
      "AFTER ENCODER PREP:  0.9606645703315735\n",
      "AFTER ENCODER:  0.7414875626564026\n",
      "AFTER DECODER PREP 0.22047996520996094\n",
      "AFTER DECODER 0.7024640440940857\n"
     ]
    },
    {
     "name": "stderr",
     "output_type": "stream",
     "text": [
      "Epoch 1 - Training:   6%|▌         | 117/1940 [01:20<15:21,  1.98it/s]"
     ]
    },
    {
     "name": "stdout",
     "output_type": "stream",
     "text": [
      "AFTER ENCODER PREP:  0.9553042054176331\n",
      "AFTER ENCODER:  0.6914300918579102\n",
      "AFTER DECODER PREP 0.1817166954278946\n",
      "AFTER DECODER 0.6145228743553162\n"
     ]
    },
    {
     "name": "stderr",
     "output_type": "stream",
     "text": [
      "Epoch 1 - Training:   6%|▌         | 118/1940 [01:21<15:11,  2.00it/s]"
     ]
    },
    {
     "name": "stdout",
     "output_type": "stream",
     "text": [
      "AFTER ENCODER PREP:  0.9673938155174255\n",
      "AFTER ENCODER:  0.8374584913253784\n",
      "AFTER DECODER PREP 0.21302130818367004\n",
      "AFTER DECODER 0.702663242816925\n"
     ]
    },
    {
     "name": "stderr",
     "output_type": "stream",
     "text": [
      "Epoch 1 - Training:   6%|▌         | 119/1940 [01:21<15:10,  2.00it/s]"
     ]
    },
    {
     "name": "stdout",
     "output_type": "stream",
     "text": [
      "AFTER ENCODER PREP:  0.9555160999298096\n",
      "AFTER ENCODER:  0.6949666142463684\n",
      "AFTER DECODER PREP 0.18273808062076569\n",
      "AFTER DECODER 0.602157711982727\n"
     ]
    },
    {
     "name": "stderr",
     "output_type": "stream",
     "text": [
      "Epoch 1 - Training:   6%|▌         | 120/1940 [01:22<15:04,  2.01it/s]"
     ]
    },
    {
     "name": "stdout",
     "output_type": "stream",
     "text": [
      "AFTER ENCODER PREP:  0.9655507206916809\n",
      "AFTER ENCODER:  0.7924460172653198\n",
      "AFTER DECODER PREP 0.23848122358322144\n",
      "AFTER DECODER 0.7155457735061646\n"
     ]
    },
    {
     "name": "stderr",
     "output_type": "stream",
     "text": [
      "Epoch 1 - Training:   6%|▌         | 121/1940 [01:22<16:19,  1.86it/s]"
     ]
    },
    {
     "name": "stdout",
     "output_type": "stream",
     "text": [
      "AFTER ENCODER PREP:  0.9585342407226562\n",
      "AFTER ENCODER:  0.5689289569854736\n",
      "AFTER DECODER PREP 0.1592588871717453\n",
      "AFTER DECODER 0.4855416715145111\n"
     ]
    },
    {
     "name": "stderr",
     "output_type": "stream",
     "text": [
      "Epoch 1 - Training:   6%|▋         | 122/1940 [01:23<16:09,  1.88it/s]"
     ]
    },
    {
     "name": "stdout",
     "output_type": "stream",
     "text": [
      "AFTER ENCODER PREP:  0.9618044495582581\n",
      "AFTER ENCODER:  0.6955088376998901\n",
      "AFTER DECODER PREP 0.18130186200141907\n",
      "AFTER DECODER 0.5733171701431274\n"
     ]
    },
    {
     "name": "stderr",
     "output_type": "stream",
     "text": [
      "Epoch 1 - Training:   6%|▋         | 123/1940 [01:24<17:13,  1.76it/s]"
     ]
    },
    {
     "name": "stdout",
     "output_type": "stream",
     "text": [
      "AFTER ENCODER PREP:  0.9570552706718445\n",
      "AFTER ENCODER:  0.7047873139381409\n",
      "AFTER DECODER PREP 0.20639418065547943\n",
      "AFTER DECODER 0.643199622631073\n"
     ]
    },
    {
     "name": "stderr",
     "output_type": "stream",
     "text": [
      "Epoch 1 - Training:   6%|▋         | 124/1940 [01:24<17:56,  1.69it/s]"
     ]
    },
    {
     "name": "stdout",
     "output_type": "stream",
     "text": [
      "AFTER ENCODER PREP:  0.9587191939353943\n",
      "AFTER ENCODER:  0.657223105430603\n",
      "AFTER DECODER PREP 0.19466879963874817\n",
      "AFTER DECODER 0.5962277054786682\n"
     ]
    },
    {
     "name": "stderr",
     "output_type": "stream",
     "text": [
      "Epoch 1 - Training:   6%|▋         | 125/1940 [01:25<17:59,  1.68it/s]"
     ]
    },
    {
     "name": "stdout",
     "output_type": "stream",
     "text": [
      "AFTER ENCODER PREP:  0.9457215070724487\n",
      "AFTER ENCODER:  0.5898044109344482\n",
      "AFTER DECODER PREP 0.18456217646598816\n",
      "AFTER DECODER 0.5706458687782288\n"
     ]
    },
    {
     "name": "stderr",
     "output_type": "stream",
     "text": [
      "Epoch 1 - Training:   6%|▋         | 126/1940 [01:25<17:38,  1.71it/s]"
     ]
    },
    {
     "name": "stdout",
     "output_type": "stream",
     "text": [
      "AFTER ENCODER PREP:  0.9627510905265808\n",
      "AFTER ENCODER:  0.6613496541976929\n",
      "AFTER DECODER PREP 0.17682641744613647\n",
      "AFTER DECODER 0.546992838382721\n"
     ]
    },
    {
     "name": "stderr",
     "output_type": "stream",
     "text": [
      "Epoch 1 - Training:   7%|▋         | 127/1940 [01:26<17:47,  1.70it/s]"
     ]
    },
    {
     "name": "stdout",
     "output_type": "stream",
     "text": [
      "AFTER ENCODER PREP:  0.9569937586784363\n",
      "AFTER ENCODER:  0.6340463161468506\n",
      "AFTER DECODER PREP 0.1699334979057312\n",
      "AFTER DECODER 0.5121883153915405\n"
     ]
    },
    {
     "name": "stderr",
     "output_type": "stream",
     "text": [
      "Epoch 1 - Training:   7%|▋         | 128/1940 [01:27<17:43,  1.70it/s]"
     ]
    },
    {
     "name": "stdout",
     "output_type": "stream",
     "text": [
      "AFTER ENCODER PREP:  0.9518229365348816\n",
      "AFTER ENCODER:  0.6612679958343506\n",
      "AFTER DECODER PREP 0.19729416072368622\n",
      "AFTER DECODER 0.6017093062400818\n"
     ]
    },
    {
     "name": "stderr",
     "output_type": "stream",
     "text": [
      "Epoch 1 - Training:   7%|▋         | 129/1940 [01:27<17:28,  1.73it/s]"
     ]
    },
    {
     "name": "stdout",
     "output_type": "stream",
     "text": [
      "AFTER ENCODER PREP:  0.9566602110862732\n",
      "AFTER ENCODER:  0.767612099647522\n",
      "AFTER DECODER PREP 0.21176207065582275\n",
      "AFTER DECODER 0.6421971321105957\n"
     ]
    },
    {
     "name": "stderr",
     "output_type": "stream",
     "text": [
      "Epoch 1 - Training:   7%|▋         | 130/1940 [01:28<18:05,  1.67it/s]"
     ]
    },
    {
     "name": "stdout",
     "output_type": "stream",
     "text": [
      "AFTER ENCODER PREP:  0.9537460207939148\n",
      "AFTER ENCODER:  0.7770846486091614\n",
      "AFTER DECODER PREP 0.22057200968265533\n",
      "AFTER DECODER 0.6662870049476624\n"
     ]
    },
    {
     "name": "stderr",
     "output_type": "stream",
     "text": [
      "Epoch 1 - Training:   7%|▋         | 131/1940 [01:28<17:44,  1.70it/s]"
     ]
    },
    {
     "name": "stdout",
     "output_type": "stream",
     "text": [
      "AFTER ENCODER PREP:  0.9660806655883789\n",
      "AFTER ENCODER:  0.7768335938453674\n",
      "AFTER DECODER PREP 0.18700388073921204\n",
      "AFTER DECODER 0.5781499743461609\n"
     ]
    },
    {
     "name": "stderr",
     "output_type": "stream",
     "text": [
      "Epoch 1 - Training:   7%|▋         | 132/1940 [01:29<18:42,  1.61it/s]"
     ]
    },
    {
     "name": "stdout",
     "output_type": "stream",
     "text": [
      "AFTER ENCODER PREP:  0.96924889087677\n",
      "AFTER ENCODER:  0.7837330102920532\n",
      "AFTER DECODER PREP 0.18711699545383453\n",
      "AFTER DECODER 0.5829774737358093\n"
     ]
    },
    {
     "name": "stderr",
     "output_type": "stream",
     "text": [
      "Epoch 1 - Training:   7%|▋         | 133/1940 [01:30<17:46,  1.69it/s]"
     ]
    },
    {
     "name": "stdout",
     "output_type": "stream",
     "text": [
      "AFTER ENCODER PREP:  0.9534385800361633\n",
      "AFTER ENCODER:  0.7112982869148254\n",
      "AFTER DECODER PREP 0.21583442389965057\n",
      "AFTER DECODER 0.6530870795249939\n"
     ]
    },
    {
     "name": "stderr",
     "output_type": "stream",
     "text": [
      "Epoch 1 - Training:   7%|▋         | 134/1940 [01:30<16:58,  1.77it/s]"
     ]
    },
    {
     "name": "stdout",
     "output_type": "stream",
     "text": [
      "AFTER ENCODER PREP:  0.9565412402153015\n",
      "AFTER ENCODER:  0.6571440100669861\n",
      "AFTER DECODER PREP 0.17196522653102875\n",
      "AFTER DECODER 0.5238077640533447\n"
     ]
    },
    {
     "name": "stderr",
     "output_type": "stream",
     "text": [
      "Epoch 1 - Training:   7%|▋         | 135/1940 [01:31<16:22,  1.84it/s]"
     ]
    },
    {
     "name": "stdout",
     "output_type": "stream",
     "text": [
      "AFTER ENCODER PREP:  0.9484879970550537\n",
      "AFTER ENCODER:  0.6792837381362915\n",
      "AFTER DECODER PREP 0.1950535625219345\n",
      "AFTER DECODER 0.5842643976211548\n"
     ]
    },
    {
     "name": "stderr",
     "output_type": "stream",
     "text": [
      "Epoch 1 - Training:   7%|▋         | 136/1940 [01:31<16:25,  1.83it/s]"
     ]
    },
    {
     "name": "stdout",
     "output_type": "stream",
     "text": [
      "AFTER ENCODER PREP:  0.9628325700759888\n",
      "AFTER ENCODER:  0.8287780284881592\n",
      "AFTER DECODER PREP 0.2382918745279312\n",
      "AFTER DECODER 0.7212525010108948\n"
     ]
    },
    {
     "name": "stderr",
     "output_type": "stream",
     "text": [
      "Epoch 1 - Training:   7%|▋         | 137/1940 [01:32<16:30,  1.82it/s]"
     ]
    },
    {
     "name": "stdout",
     "output_type": "stream",
     "text": [
      "AFTER ENCODER PREP:  0.9692026972770691\n",
      "AFTER ENCODER:  0.818162739276886\n",
      "AFTER DECODER PREP 0.23342369496822357\n",
      "AFTER DECODER 0.6928146481513977\n"
     ]
    },
    {
     "name": "stderr",
     "output_type": "stream",
     "text": [
      "Epoch 1 - Training:   7%|▋         | 138/1940 [01:32<17:49,  1.69it/s]"
     ]
    },
    {
     "name": "stdout",
     "output_type": "stream",
     "text": [
      "AFTER ENCODER PREP:  0.9548881649971008\n",
      "AFTER ENCODER:  0.6540679931640625\n",
      "AFTER DECODER PREP 0.194474995136261\n",
      "AFTER DECODER 0.5627213716506958\n"
     ]
    },
    {
     "name": "stderr",
     "output_type": "stream",
     "text": [
      "Epoch 1 - Training:   7%|▋         | 139/1940 [01:33<18:36,  1.61it/s]"
     ]
    },
    {
     "name": "stdout",
     "output_type": "stream",
     "text": [
      "AFTER ENCODER PREP:  0.9549382925033569\n",
      "AFTER ENCODER:  0.6627183556556702\n",
      "AFTER DECODER PREP 0.1882270872592926\n",
      "AFTER DECODER 0.5321381688117981\n"
     ]
    },
    {
     "name": "stderr",
     "output_type": "stream",
     "text": [
      "Epoch 1 - Training:   7%|▋         | 140/1940 [01:34<22:07,  1.36it/s]"
     ]
    },
    {
     "name": "stdout",
     "output_type": "stream",
     "text": [
      "AFTER ENCODER PREP:  0.9565085172653198\n",
      "AFTER ENCODER:  0.7221446633338928\n",
      "AFTER DECODER PREP 0.2169170379638672\n",
      "AFTER DECODER 0.6504746079444885\n"
     ]
    },
    {
     "name": "stderr",
     "output_type": "stream",
     "text": [
      "Epoch 1 - Training:   7%|▋         | 141/1940 [01:35<22:42,  1.32it/s]"
     ]
    },
    {
     "name": "stdout",
     "output_type": "stream",
     "text": [
      "AFTER ENCODER PREP:  0.9573919177055359\n",
      "AFTER ENCODER:  0.6904441118240356\n",
      "AFTER DECODER PREP 0.1763283759355545\n",
      "AFTER DECODER 0.5625194907188416\n"
     ]
    },
    {
     "name": "stderr",
     "output_type": "stream",
     "text": [
      "Epoch 1 - Training:   7%|▋         | 142/1940 [01:35<21:44,  1.38it/s]"
     ]
    },
    {
     "name": "stdout",
     "output_type": "stream",
     "text": [
      "AFTER ENCODER PREP:  0.9584264159202576\n",
      "AFTER ENCODER:  0.7177249193191528\n",
      "AFTER DECODER PREP 0.2174953818321228\n",
      "AFTER DECODER 0.6476427912712097\n"
     ]
    },
    {
     "name": "stderr",
     "output_type": "stream",
     "text": [
      "Epoch 1 - Training:   7%|▋         | 143/1940 [01:36<23:58,  1.25it/s]"
     ]
    },
    {
     "name": "stdout",
     "output_type": "stream",
     "text": [
      "AFTER ENCODER PREP:  0.9684144854545593\n",
      "AFTER ENCODER:  0.7745533585548401\n",
      "AFTER DECODER PREP 0.1846943199634552\n",
      "AFTER DECODER 0.6169173121452332\n"
     ]
    },
    {
     "name": "stderr",
     "output_type": "stream",
     "text": [
      "Epoch 1 - Training:   7%|▋         | 144/1940 [01:37<22:28,  1.33it/s]"
     ]
    },
    {
     "name": "stdout",
     "output_type": "stream",
     "text": [
      "AFTER ENCODER PREP:  0.9631406664848328\n",
      "AFTER ENCODER:  0.7405816912651062\n",
      "AFTER DECODER PREP 0.18351984024047852\n",
      "AFTER DECODER 0.5867459774017334\n"
     ]
    },
    {
     "name": "stderr",
     "output_type": "stream",
     "text": [
      "Epoch 1 - Training:   7%|▋         | 145/1940 [01:38<23:03,  1.30it/s]"
     ]
    },
    {
     "name": "stdout",
     "output_type": "stream",
     "text": [
      "AFTER ENCODER PREP:  0.957939624786377\n",
      "AFTER ENCODER:  0.7020013928413391\n",
      "AFTER DECODER PREP 0.18544906377792358\n",
      "AFTER DECODER 0.5110828876495361\n"
     ]
    },
    {
     "name": "stderr",
     "output_type": "stream",
     "text": [
      "Epoch 1 - Training:   8%|▊         | 146/1940 [01:38<20:58,  1.42it/s]"
     ]
    },
    {
     "name": "stdout",
     "output_type": "stream",
     "text": [
      "AFTER ENCODER PREP:  0.9657049179077148\n",
      "AFTER ENCODER:  0.6869134902954102\n",
      "AFTER DECODER PREP 0.17376606166362762\n",
      "AFTER DECODER 0.5279451608657837\n"
     ]
    },
    {
     "name": "stderr",
     "output_type": "stream",
     "text": [
      "Epoch 1 - Training:   8%|▊         | 147/1940 [01:39<19:34,  1.53it/s]"
     ]
    },
    {
     "name": "stdout",
     "output_type": "stream",
     "text": [
      "AFTER ENCODER PREP:  0.9643608331680298\n",
      "AFTER ENCODER:  0.6921124458312988\n",
      "AFTER DECODER PREP 0.17356368899345398\n",
      "AFTER DECODER 0.5578871965408325\n"
     ]
    },
    {
     "name": "stderr",
     "output_type": "stream",
     "text": [
      "Epoch 1 - Training:   8%|▊         | 148/1940 [01:40<19:13,  1.55it/s]"
     ]
    },
    {
     "name": "stdout",
     "output_type": "stream",
     "text": [
      "AFTER ENCODER PREP:  0.9559029936790466\n",
      "AFTER ENCODER:  0.6588373184204102\n",
      "AFTER DECODER PREP 0.17430518567562103\n",
      "AFTER DECODER 0.5658611059188843\n"
     ]
    },
    {
     "name": "stderr",
     "output_type": "stream",
     "text": [
      "Epoch 1 - Training:   8%|▊         | 149/1940 [01:40<19:30,  1.53it/s]"
     ]
    },
    {
     "name": "stdout",
     "output_type": "stream",
     "text": [
      "AFTER ENCODER PREP:  0.9567607641220093\n",
      "AFTER ENCODER:  0.7878573536872864\n",
      "AFTER DECODER PREP 0.2257002890110016\n",
      "AFTER DECODER 0.6808621883392334\n"
     ]
    },
    {
     "name": "stderr",
     "output_type": "stream",
     "text": [
      "Epoch 1 - Training:   8%|▊         | 150/1940 [01:41<20:07,  1.48it/s]"
     ]
    },
    {
     "name": "stdout",
     "output_type": "stream",
     "text": [
      "AFTER ENCODER PREP:  0.9639952182769775\n",
      "AFTER ENCODER:  0.7214308977127075\n",
      "AFTER DECODER PREP 0.17241394519805908\n",
      "AFTER DECODER 0.5075457096099854\n"
     ]
    },
    {
     "name": "stderr",
     "output_type": "stream",
     "text": [
      "Epoch 1 - Training:   8%|▊         | 151/1940 [01:42<19:38,  1.52it/s]"
     ]
    },
    {
     "name": "stdout",
     "output_type": "stream",
     "text": [
      "AFTER ENCODER PREP:  0.9644513726234436\n",
      "AFTER ENCODER:  0.759838342666626\n",
      "AFTER DECODER PREP 0.17815260589122772\n",
      "AFTER DECODER 0.5248581767082214\n"
     ]
    },
    {
     "name": "stderr",
     "output_type": "stream",
     "text": [
      "Epoch 1 - Training:   8%|▊         | 152/1940 [01:42<20:06,  1.48it/s]"
     ]
    },
    {
     "name": "stdout",
     "output_type": "stream",
     "text": [
      "AFTER ENCODER PREP:  0.9694346785545349\n",
      "AFTER ENCODER:  0.7622065544128418\n",
      "AFTER DECODER PREP 0.2239215224981308\n",
      "AFTER DECODER 0.6383640766143799\n"
     ]
    },
    {
     "name": "stderr",
     "output_type": "stream",
     "text": [
      "Epoch 1 - Training:   8%|▊         | 153/1940 [01:43<21:58,  1.36it/s]"
     ]
    },
    {
     "name": "stdout",
     "output_type": "stream",
     "text": [
      "AFTER ENCODER PREP:  0.9500021934509277\n",
      "AFTER ENCODER:  0.6800853610038757\n",
      "AFTER DECODER PREP 0.20079810917377472\n",
      "AFTER DECODER 0.5773810744285583\n"
     ]
    },
    {
     "name": "stderr",
     "output_type": "stream",
     "text": [
      "Epoch 1 - Training:   8%|▊         | 154/1940 [01:44<20:50,  1.43it/s]"
     ]
    },
    {
     "name": "stdout",
     "output_type": "stream",
     "text": [
      "AFTER ENCODER PREP:  0.9601298570632935\n",
      "AFTER ENCODER:  0.7738292217254639\n",
      "AFTER DECODER PREP 0.18276521563529968\n",
      "AFTER DECODER 0.5460468530654907\n"
     ]
    },
    {
     "name": "stderr",
     "output_type": "stream",
     "text": [
      "Epoch 1 - Training:   8%|▊         | 155/1940 [01:44<19:34,  1.52it/s]"
     ]
    },
    {
     "name": "stdout",
     "output_type": "stream",
     "text": [
      "AFTER ENCODER PREP:  0.9722949862480164\n",
      "AFTER ENCODER:  0.8042864203453064\n",
      "AFTER DECODER PREP 0.22191886603832245\n",
      "AFTER DECODER 0.621878445148468\n"
     ]
    },
    {
     "name": "stderr",
     "output_type": "stream",
     "text": [
      "Epoch 1 - Training:   8%|▊         | 156/1940 [01:45<18:27,  1.61it/s]"
     ]
    },
    {
     "name": "stdout",
     "output_type": "stream",
     "text": [
      "AFTER ENCODER PREP:  0.9684205651283264\n",
      "AFTER ENCODER:  0.9135284423828125\n",
      "AFTER DECODER PREP 0.2600294053554535\n",
      "AFTER DECODER 0.7341083288192749\n"
     ]
    },
    {
     "name": "stderr",
     "output_type": "stream",
     "text": [
      "Epoch 1 - Training:   8%|▊         | 157/1940 [01:45<17:34,  1.69it/s]"
     ]
    },
    {
     "name": "stdout",
     "output_type": "stream",
     "text": [
      "AFTER ENCODER PREP:  0.9607992172241211\n",
      "AFTER ENCODER:  0.7322721481323242\n",
      "AFTER DECODER PREP 0.1753394901752472\n",
      "AFTER DECODER 0.4909975230693817\n"
     ]
    },
    {
     "name": "stderr",
     "output_type": "stream",
     "text": [
      "Epoch 1 - Training:   8%|▊         | 158/1940 [01:46<16:52,  1.76it/s]"
     ]
    },
    {
     "name": "stdout",
     "output_type": "stream",
     "text": [
      "AFTER ENCODER PREP:  0.9570077061653137\n",
      "AFTER ENCODER:  0.6954525113105774\n",
      "AFTER DECODER PREP 0.18050652742385864\n",
      "AFTER DECODER 0.5080217123031616\n"
     ]
    },
    {
     "name": "stderr",
     "output_type": "stream",
     "text": [
      "Epoch 1 - Training:   8%|▊         | 159/1940 [01:47<16:37,  1.79it/s]"
     ]
    },
    {
     "name": "stdout",
     "output_type": "stream",
     "text": [
      "AFTER ENCODER PREP:  0.9702360033988953\n",
      "AFTER ENCODER:  0.7723840475082397\n",
      "AFTER DECODER PREP 0.18759192526340485\n",
      "AFTER DECODER 0.547468364238739\n"
     ]
    },
    {
     "name": "stderr",
     "output_type": "stream",
     "text": [
      "Epoch 1 - Training:   8%|▊         | 160/1940 [01:47<16:53,  1.76it/s]"
     ]
    },
    {
     "name": "stdout",
     "output_type": "stream",
     "text": [
      "AFTER ENCODER PREP:  0.9572018980979919\n",
      "AFTER ENCODER:  0.6017142534255981\n",
      "AFTER DECODER PREP 0.15328964591026306\n",
      "AFTER DECODER 0.36503735184669495\n"
     ]
    },
    {
     "name": "stderr",
     "output_type": "stream",
     "text": [
      "Epoch 1 - Training:   8%|▊         | 161/1940 [01:48<16:29,  1.80it/s]"
     ]
    },
    {
     "name": "stdout",
     "output_type": "stream",
     "text": [
      "AFTER ENCODER PREP:  0.9598788619041443\n",
      "AFTER ENCODER:  0.6828498840332031\n",
      "AFTER DECODER PREP 0.20472365617752075\n",
      "AFTER DECODER 0.5625569224357605\n"
     ]
    },
    {
     "name": "stderr",
     "output_type": "stream",
     "text": [
      "Epoch 1 - Training:   8%|▊         | 162/1940 [01:48<16:36,  1.78it/s]"
     ]
    },
    {
     "name": "stdout",
     "output_type": "stream",
     "text": [
      "AFTER ENCODER PREP:  0.9589377641677856\n",
      "AFTER ENCODER:  0.6773644685745239\n",
      "AFTER DECODER PREP 0.2058756947517395\n",
      "AFTER DECODER 0.5636066794395447\n"
     ]
    },
    {
     "name": "stderr",
     "output_type": "stream",
     "text": [
      "Epoch 1 - Training:   8%|▊         | 163/1940 [01:49<17:14,  1.72it/s]"
     ]
    },
    {
     "name": "stdout",
     "output_type": "stream",
     "text": [
      "AFTER ENCODER PREP:  0.9660526514053345\n"
     ]
    },
    {
     "name": "stderr",
     "output_type": "stream",
     "text": [
      "                                                                      \r"
     ]
    },
    {
     "ename": "KeyboardInterrupt",
     "evalue": "",
     "output_type": "error",
     "traceback": [
      "\u001b[1;31m---------------------------------------------------------------------------\u001b[0m",
      "\u001b[1;31mKeyboardInterrupt\u001b[0m                         Traceback (most recent call last)",
      "Cell \u001b[1;32mIn[17], line 14\u001b[0m\n\u001b[0;32m      5\u001b[0m \u001b[38;5;28;01mimport\u001b[39;00m \u001b[38;5;21;01mos\u001b[39;00m\n\u001b[0;32m      7\u001b[0m trainer \u001b[38;5;241m=\u001b[39m Trainer(\n\u001b[0;32m      8\u001b[0m         img_size\u001b[38;5;241m=\u001b[39m\u001b[38;5;241m32\u001b[39m, patch_size\u001b[38;5;241m=\u001b[39m\u001b[38;5;241m8\u001b[39m, batch_size\u001b[38;5;241m=\u001b[39m\u001b[38;5;241m16\u001b[39m, in_channels\u001b[38;5;241m=\u001b[39m\u001b[38;5;241m3\u001b[39m,\n\u001b[0;32m      9\u001b[0m         encoder_embed_dim\u001b[38;5;241m=\u001b[39m\u001b[38;5;241m384\u001b[39m, encoder_num_heads\u001b[38;5;241m=\u001b[39m\u001b[38;5;241m8\u001b[39m,\n\u001b[0;32m     10\u001b[0m         decoder_embed_dim\u001b[38;5;241m=\u001b[39m\u001b[38;5;241m256\u001b[39m, decoder_num_heads\u001b[38;5;241m=\u001b[39m\u001b[38;5;241m4\u001b[39m,\n\u001b[0;32m     11\u001b[0m         base_dataset_dir\u001b[38;5;241m=\u001b[39mos\u001b[38;5;241m.\u001b[39mpath\u001b[38;5;241m.\u001b[39mjoin(os\u001b[38;5;241m.\u001b[39mgetcwd(), \u001b[38;5;124m'\u001b[39m\u001b[38;5;124mdataset\u001b[39m\u001b[38;5;124m'\u001b[39m)\n\u001b[0;32m     12\u001b[0m     )\n\u001b[1;32m---> 14\u001b[0m \u001b[43mtrainer\u001b[49m\u001b[38;5;241;43m.\u001b[39;49m\u001b[43mtrain\u001b[49m\u001b[43m(\u001b[49m\u001b[43mnum_epochs\u001b[49m\u001b[38;5;241;43m=\u001b[39;49m\u001b[38;5;241;43m50\u001b[39;49m\u001b[43m,\u001b[49m\u001b[43m \u001b[49m\u001b[43mlr\u001b[49m\u001b[38;5;241;43m=\u001b[39;49m\u001b[38;5;241;43m0.0006\u001b[39;49m\u001b[43m)\u001b[49m\n",
      "File \u001b[1;32mc:\\Daniel\\High School\\Research\\MV_MAE_Implementation\\train_setup.py:53\u001b[0m, in \u001b[0;36mTrainer.train\u001b[1;34m(self, num_epochs, lr)\u001b[0m\n\u001b[0;32m     50\u001b[0m optimizer\u001b[38;5;241m.\u001b[39mzero_grad()\n\u001b[0;32m     52\u001b[0m x1, x2 \u001b[38;5;241m=\u001b[39m x1\u001b[38;5;241m.\u001b[39mto(\u001b[38;5;28mself\u001b[39m\u001b[38;5;241m.\u001b[39mdevice), x2\u001b[38;5;241m.\u001b[39mto(\u001b[38;5;28mself\u001b[39m\u001b[38;5;241m.\u001b[39mdevice)\n\u001b[1;32m---> 53\u001b[0m out \u001b[38;5;241m=\u001b[39m \u001b[38;5;28;43mself\u001b[39;49m\u001b[38;5;241;43m.\u001b[39;49m\u001b[43mmodel\u001b[49m\u001b[43m(\u001b[49m\u001b[43mx1\u001b[49m\u001b[43m,\u001b[49m\u001b[43m \u001b[49m\u001b[43mx2\u001b[49m\u001b[43m)\u001b[49m\n\u001b[0;32m     54\u001b[0m loss: torch\u001b[38;5;241m.\u001b[39mTensor \u001b[38;5;241m=\u001b[39m \u001b[38;5;28mself\u001b[39m\u001b[38;5;241m.\u001b[39mmodel\u001b[38;5;241m.\u001b[39mget_loss(out)\n\u001b[0;32m     55\u001b[0m loss\u001b[38;5;241m.\u001b[39mbackward()\n",
      "File \u001b[1;32mc:\\Users\\danie_gfshjqx\\AppData\\Local\\Programs\\Python\\Python312\\Lib\\site-packages\\torch\\nn\\modules\\module.py:1553\u001b[0m, in \u001b[0;36mModule._wrapped_call_impl\u001b[1;34m(self, *args, **kwargs)\u001b[0m\n\u001b[0;32m   1551\u001b[0m     \u001b[38;5;28;01mreturn\u001b[39;00m \u001b[38;5;28mself\u001b[39m\u001b[38;5;241m.\u001b[39m_compiled_call_impl(\u001b[38;5;241m*\u001b[39margs, \u001b[38;5;241m*\u001b[39m\u001b[38;5;241m*\u001b[39mkwargs)  \u001b[38;5;66;03m# type: ignore[misc]\u001b[39;00m\n\u001b[0;32m   1552\u001b[0m \u001b[38;5;28;01melse\u001b[39;00m:\n\u001b[1;32m-> 1553\u001b[0m     \u001b[38;5;28;01mreturn\u001b[39;00m \u001b[38;5;28;43mself\u001b[39;49m\u001b[38;5;241;43m.\u001b[39;49m\u001b[43m_call_impl\u001b[49m\u001b[43m(\u001b[49m\u001b[38;5;241;43m*\u001b[39;49m\u001b[43margs\u001b[49m\u001b[43m,\u001b[49m\u001b[43m \u001b[49m\u001b[38;5;241;43m*\u001b[39;49m\u001b[38;5;241;43m*\u001b[39;49m\u001b[43mkwargs\u001b[49m\u001b[43m)\u001b[49m\n",
      "File \u001b[1;32mc:\\Users\\danie_gfshjqx\\AppData\\Local\\Programs\\Python\\Python312\\Lib\\site-packages\\torch\\nn\\modules\\module.py:1562\u001b[0m, in \u001b[0;36mModule._call_impl\u001b[1;34m(self, *args, **kwargs)\u001b[0m\n\u001b[0;32m   1557\u001b[0m \u001b[38;5;66;03m# If we don't have any hooks, we want to skip the rest of the logic in\u001b[39;00m\n\u001b[0;32m   1558\u001b[0m \u001b[38;5;66;03m# this function, and just call forward.\u001b[39;00m\n\u001b[0;32m   1559\u001b[0m \u001b[38;5;28;01mif\u001b[39;00m \u001b[38;5;129;01mnot\u001b[39;00m (\u001b[38;5;28mself\u001b[39m\u001b[38;5;241m.\u001b[39m_backward_hooks \u001b[38;5;129;01mor\u001b[39;00m \u001b[38;5;28mself\u001b[39m\u001b[38;5;241m.\u001b[39m_backward_pre_hooks \u001b[38;5;129;01mor\u001b[39;00m \u001b[38;5;28mself\u001b[39m\u001b[38;5;241m.\u001b[39m_forward_hooks \u001b[38;5;129;01mor\u001b[39;00m \u001b[38;5;28mself\u001b[39m\u001b[38;5;241m.\u001b[39m_forward_pre_hooks\n\u001b[0;32m   1560\u001b[0m         \u001b[38;5;129;01mor\u001b[39;00m _global_backward_pre_hooks \u001b[38;5;129;01mor\u001b[39;00m _global_backward_hooks\n\u001b[0;32m   1561\u001b[0m         \u001b[38;5;129;01mor\u001b[39;00m _global_forward_hooks \u001b[38;5;129;01mor\u001b[39;00m _global_forward_pre_hooks):\n\u001b[1;32m-> 1562\u001b[0m     \u001b[38;5;28;01mreturn\u001b[39;00m \u001b[43mforward_call\u001b[49m\u001b[43m(\u001b[49m\u001b[38;5;241;43m*\u001b[39;49m\u001b[43margs\u001b[49m\u001b[43m,\u001b[49m\u001b[43m \u001b[49m\u001b[38;5;241;43m*\u001b[39;49m\u001b[38;5;241;43m*\u001b[39;49m\u001b[43mkwargs\u001b[49m\u001b[43m)\u001b[49m\n\u001b[0;32m   1564\u001b[0m \u001b[38;5;28;01mtry\u001b[39;00m:\n\u001b[0;32m   1565\u001b[0m     result \u001b[38;5;241m=\u001b[39m \u001b[38;5;28;01mNone\u001b[39;00m\n",
      "File \u001b[1;32mc:\\Daniel\\High School\\Research\\MV_MAE_Implementation\\Model\\model.py:133\u001b[0m, in \u001b[0;36mModel.forward\u001b[1;34m(self, x1, x2)\u001b[0m\n\u001b[0;32m    131\u001b[0m x \u001b[38;5;241m=\u001b[39m \u001b[38;5;28mself\u001b[39m\u001b[38;5;241m.\u001b[39mprepare_encoder_in(x1, x2)\n\u001b[0;32m    132\u001b[0m \u001b[38;5;28mprint\u001b[39m(\u001b[38;5;124m\"\u001b[39m\u001b[38;5;124mAFTER ENCODER PREP: \u001b[39m\u001b[38;5;124m\"\u001b[39m, \u001b[38;5;28mself\u001b[39m\u001b[38;5;241m.\u001b[39msimilarity(x))\n\u001b[1;32m--> 133\u001b[0m x \u001b[38;5;241m=\u001b[39m \u001b[38;5;28;43mself\u001b[39;49m\u001b[38;5;241;43m.\u001b[39;49m\u001b[43mencoder\u001b[49m\u001b[43m(\u001b[49m\u001b[43mx\u001b[49m\u001b[43m)\u001b[49m\n\u001b[0;32m    134\u001b[0m \u001b[38;5;28mprint\u001b[39m(\u001b[38;5;124m\"\u001b[39m\u001b[38;5;124mAFTER ENCODER: \u001b[39m\u001b[38;5;124m\"\u001b[39m, \u001b[38;5;28mself\u001b[39m\u001b[38;5;241m.\u001b[39msimilarity(x))\n\u001b[0;32m    135\u001b[0m x \u001b[38;5;241m=\u001b[39m \u001b[38;5;28mself\u001b[39m\u001b[38;5;241m.\u001b[39mprepare_decoder_in(x, \u001b[38;5;28mself\u001b[39m\u001b[38;5;241m.\u001b[39mprepare_encoder_in\u001b[38;5;241m.\u001b[39mmasked_ids)\n",
      "File \u001b[1;32mc:\\Users\\danie_gfshjqx\\AppData\\Local\\Programs\\Python\\Python312\\Lib\\site-packages\\torch\\nn\\modules\\module.py:1553\u001b[0m, in \u001b[0;36mModule._wrapped_call_impl\u001b[1;34m(self, *args, **kwargs)\u001b[0m\n\u001b[0;32m   1551\u001b[0m     \u001b[38;5;28;01mreturn\u001b[39;00m \u001b[38;5;28mself\u001b[39m\u001b[38;5;241m.\u001b[39m_compiled_call_impl(\u001b[38;5;241m*\u001b[39margs, \u001b[38;5;241m*\u001b[39m\u001b[38;5;241m*\u001b[39mkwargs)  \u001b[38;5;66;03m# type: ignore[misc]\u001b[39;00m\n\u001b[0;32m   1552\u001b[0m \u001b[38;5;28;01melse\u001b[39;00m:\n\u001b[1;32m-> 1553\u001b[0m     \u001b[38;5;28;01mreturn\u001b[39;00m \u001b[38;5;28;43mself\u001b[39;49m\u001b[38;5;241;43m.\u001b[39;49m\u001b[43m_call_impl\u001b[49m\u001b[43m(\u001b[49m\u001b[38;5;241;43m*\u001b[39;49m\u001b[43margs\u001b[49m\u001b[43m,\u001b[49m\u001b[43m \u001b[49m\u001b[38;5;241;43m*\u001b[39;49m\u001b[38;5;241;43m*\u001b[39;49m\u001b[43mkwargs\u001b[49m\u001b[43m)\u001b[49m\n",
      "File \u001b[1;32mc:\\Users\\danie_gfshjqx\\AppData\\Local\\Programs\\Python\\Python312\\Lib\\site-packages\\torch\\nn\\modules\\module.py:1562\u001b[0m, in \u001b[0;36mModule._call_impl\u001b[1;34m(self, *args, **kwargs)\u001b[0m\n\u001b[0;32m   1557\u001b[0m \u001b[38;5;66;03m# If we don't have any hooks, we want to skip the rest of the logic in\u001b[39;00m\n\u001b[0;32m   1558\u001b[0m \u001b[38;5;66;03m# this function, and just call forward.\u001b[39;00m\n\u001b[0;32m   1559\u001b[0m \u001b[38;5;28;01mif\u001b[39;00m \u001b[38;5;129;01mnot\u001b[39;00m (\u001b[38;5;28mself\u001b[39m\u001b[38;5;241m.\u001b[39m_backward_hooks \u001b[38;5;129;01mor\u001b[39;00m \u001b[38;5;28mself\u001b[39m\u001b[38;5;241m.\u001b[39m_backward_pre_hooks \u001b[38;5;129;01mor\u001b[39;00m \u001b[38;5;28mself\u001b[39m\u001b[38;5;241m.\u001b[39m_forward_hooks \u001b[38;5;129;01mor\u001b[39;00m \u001b[38;5;28mself\u001b[39m\u001b[38;5;241m.\u001b[39m_forward_pre_hooks\n\u001b[0;32m   1560\u001b[0m         \u001b[38;5;129;01mor\u001b[39;00m _global_backward_pre_hooks \u001b[38;5;129;01mor\u001b[39;00m _global_backward_hooks\n\u001b[0;32m   1561\u001b[0m         \u001b[38;5;129;01mor\u001b[39;00m _global_forward_hooks \u001b[38;5;129;01mor\u001b[39;00m _global_forward_pre_hooks):\n\u001b[1;32m-> 1562\u001b[0m     \u001b[38;5;28;01mreturn\u001b[39;00m \u001b[43mforward_call\u001b[49m\u001b[43m(\u001b[49m\u001b[38;5;241;43m*\u001b[39;49m\u001b[43margs\u001b[49m\u001b[43m,\u001b[49m\u001b[43m \u001b[49m\u001b[38;5;241;43m*\u001b[39;49m\u001b[38;5;241;43m*\u001b[39;49m\u001b[43mkwargs\u001b[49m\u001b[43m)\u001b[49m\n\u001b[0;32m   1564\u001b[0m \u001b[38;5;28;01mtry\u001b[39;00m:\n\u001b[0;32m   1565\u001b[0m     result \u001b[38;5;241m=\u001b[39m \u001b[38;5;28;01mNone\u001b[39;00m\n",
      "File \u001b[1;32mc:\\Daniel\\High School\\Research\\MV_MAE_Implementation\\Model\\TransformerLayer\\transformer_block.py:41\u001b[0m, in \u001b[0;36mEncoder.forward\u001b[1;34m(self, x)\u001b[0m\n\u001b[0;32m     39\u001b[0m \u001b[38;5;28;01mdef\u001b[39;00m \u001b[38;5;21mforward\u001b[39m(\u001b[38;5;28mself\u001b[39m, x):\n\u001b[0;32m     40\u001b[0m     \u001b[38;5;28;01mfor\u001b[39;00m block \u001b[38;5;129;01min\u001b[39;00m \u001b[38;5;28mself\u001b[39m\u001b[38;5;241m.\u001b[39mencoder:\n\u001b[1;32m---> 41\u001b[0m         x \u001b[38;5;241m=\u001b[39m \u001b[43mblock\u001b[49m\u001b[43m(\u001b[49m\u001b[43mx\u001b[49m\u001b[43m)\u001b[49m\n\u001b[0;32m     42\u001b[0m     x \u001b[38;5;241m=\u001b[39m \u001b[38;5;28mself\u001b[39m\u001b[38;5;241m.\u001b[39mnorm(x)\n\u001b[0;32m     43\u001b[0m     \u001b[38;5;28;01mreturn\u001b[39;00m x\n",
      "File \u001b[1;32mc:\\Users\\danie_gfshjqx\\AppData\\Local\\Programs\\Python\\Python312\\Lib\\site-packages\\torch\\nn\\modules\\module.py:1553\u001b[0m, in \u001b[0;36mModule._wrapped_call_impl\u001b[1;34m(self, *args, **kwargs)\u001b[0m\n\u001b[0;32m   1551\u001b[0m     \u001b[38;5;28;01mreturn\u001b[39;00m \u001b[38;5;28mself\u001b[39m\u001b[38;5;241m.\u001b[39m_compiled_call_impl(\u001b[38;5;241m*\u001b[39margs, \u001b[38;5;241m*\u001b[39m\u001b[38;5;241m*\u001b[39mkwargs)  \u001b[38;5;66;03m# type: ignore[misc]\u001b[39;00m\n\u001b[0;32m   1552\u001b[0m \u001b[38;5;28;01melse\u001b[39;00m:\n\u001b[1;32m-> 1553\u001b[0m     \u001b[38;5;28;01mreturn\u001b[39;00m \u001b[38;5;28;43mself\u001b[39;49m\u001b[38;5;241;43m.\u001b[39;49m\u001b[43m_call_impl\u001b[49m\u001b[43m(\u001b[49m\u001b[38;5;241;43m*\u001b[39;49m\u001b[43margs\u001b[49m\u001b[43m,\u001b[49m\u001b[43m \u001b[49m\u001b[38;5;241;43m*\u001b[39;49m\u001b[38;5;241;43m*\u001b[39;49m\u001b[43mkwargs\u001b[49m\u001b[43m)\u001b[49m\n",
      "File \u001b[1;32mc:\\Users\\danie_gfshjqx\\AppData\\Local\\Programs\\Python\\Python312\\Lib\\site-packages\\torch\\nn\\modules\\module.py:1562\u001b[0m, in \u001b[0;36mModule._call_impl\u001b[1;34m(self, *args, **kwargs)\u001b[0m\n\u001b[0;32m   1557\u001b[0m \u001b[38;5;66;03m# If we don't have any hooks, we want to skip the rest of the logic in\u001b[39;00m\n\u001b[0;32m   1558\u001b[0m \u001b[38;5;66;03m# this function, and just call forward.\u001b[39;00m\n\u001b[0;32m   1559\u001b[0m \u001b[38;5;28;01mif\u001b[39;00m \u001b[38;5;129;01mnot\u001b[39;00m (\u001b[38;5;28mself\u001b[39m\u001b[38;5;241m.\u001b[39m_backward_hooks \u001b[38;5;129;01mor\u001b[39;00m \u001b[38;5;28mself\u001b[39m\u001b[38;5;241m.\u001b[39m_backward_pre_hooks \u001b[38;5;129;01mor\u001b[39;00m \u001b[38;5;28mself\u001b[39m\u001b[38;5;241m.\u001b[39m_forward_hooks \u001b[38;5;129;01mor\u001b[39;00m \u001b[38;5;28mself\u001b[39m\u001b[38;5;241m.\u001b[39m_forward_pre_hooks\n\u001b[0;32m   1560\u001b[0m         \u001b[38;5;129;01mor\u001b[39;00m _global_backward_pre_hooks \u001b[38;5;129;01mor\u001b[39;00m _global_backward_hooks\n\u001b[0;32m   1561\u001b[0m         \u001b[38;5;129;01mor\u001b[39;00m _global_forward_hooks \u001b[38;5;129;01mor\u001b[39;00m _global_forward_pre_hooks):\n\u001b[1;32m-> 1562\u001b[0m     \u001b[38;5;28;01mreturn\u001b[39;00m \u001b[43mforward_call\u001b[49m\u001b[43m(\u001b[49m\u001b[38;5;241;43m*\u001b[39;49m\u001b[43margs\u001b[49m\u001b[43m,\u001b[49m\u001b[43m \u001b[49m\u001b[38;5;241;43m*\u001b[39;49m\u001b[38;5;241;43m*\u001b[39;49m\u001b[43mkwargs\u001b[49m\u001b[43m)\u001b[49m\n\u001b[0;32m   1564\u001b[0m \u001b[38;5;28;01mtry\u001b[39;00m:\n\u001b[0;32m   1565\u001b[0m     result \u001b[38;5;241m=\u001b[39m \u001b[38;5;28;01mNone\u001b[39;00m\n",
      "File \u001b[1;32mc:\\Daniel\\High School\\Research\\MV_MAE_Implementation\\Model\\TransformerLayer\\transformer_block.py:28\u001b[0m, in \u001b[0;36mTransformerBlock.forward\u001b[1;34m(self, x)\u001b[0m\n\u001b[0;32m     18\u001b[0m \u001b[38;5;250m\u001b[39m\u001b[38;5;124;03m\"\"\"\u001b[39;00m\n\u001b[0;32m     19\u001b[0m \u001b[38;5;124;03mImplements residual connections between self attention layers and feed forward\u001b[39;00m\n\u001b[0;32m     20\u001b[0m \u001b[38;5;124;03mlayers in the transformer block.\u001b[39;00m\n\u001b[1;32m   (...)\u001b[0m\n\u001b[0;32m     25\u001b[0m \u001b[38;5;124;03m    (Tensor):   Output shape is the same as input\u001b[39;00m\n\u001b[0;32m     26\u001b[0m \u001b[38;5;124;03m\"\"\"\u001b[39;00m\n\u001b[0;32m     27\u001b[0m x \u001b[38;5;241m=\u001b[39m x \u001b[38;5;241m+\u001b[39m \u001b[38;5;28mself\u001b[39m\u001b[38;5;241m.\u001b[39mself_attention(x)\n\u001b[1;32m---> 28\u001b[0m x \u001b[38;5;241m=\u001b[39m x \u001b[38;5;241m+\u001b[39m \u001b[38;5;28;43mself\u001b[39;49m\u001b[38;5;241;43m.\u001b[39;49m\u001b[43mmlp\u001b[49m\u001b[43m(\u001b[49m\u001b[43mx\u001b[49m\u001b[43m)\u001b[49m\n\u001b[0;32m     29\u001b[0m \u001b[38;5;28;01mreturn\u001b[39;00m x\n",
      "File \u001b[1;32mc:\\Users\\danie_gfshjqx\\AppData\\Local\\Programs\\Python\\Python312\\Lib\\site-packages\\torch\\nn\\modules\\module.py:1553\u001b[0m, in \u001b[0;36mModule._wrapped_call_impl\u001b[1;34m(self, *args, **kwargs)\u001b[0m\n\u001b[0;32m   1551\u001b[0m     \u001b[38;5;28;01mreturn\u001b[39;00m \u001b[38;5;28mself\u001b[39m\u001b[38;5;241m.\u001b[39m_compiled_call_impl(\u001b[38;5;241m*\u001b[39margs, \u001b[38;5;241m*\u001b[39m\u001b[38;5;241m*\u001b[39mkwargs)  \u001b[38;5;66;03m# type: ignore[misc]\u001b[39;00m\n\u001b[0;32m   1552\u001b[0m \u001b[38;5;28;01melse\u001b[39;00m:\n\u001b[1;32m-> 1553\u001b[0m     \u001b[38;5;28;01mreturn\u001b[39;00m \u001b[38;5;28;43mself\u001b[39;49m\u001b[38;5;241;43m.\u001b[39;49m\u001b[43m_call_impl\u001b[49m\u001b[43m(\u001b[49m\u001b[38;5;241;43m*\u001b[39;49m\u001b[43margs\u001b[49m\u001b[43m,\u001b[49m\u001b[43m \u001b[49m\u001b[38;5;241;43m*\u001b[39;49m\u001b[38;5;241;43m*\u001b[39;49m\u001b[43mkwargs\u001b[49m\u001b[43m)\u001b[49m\n",
      "File \u001b[1;32mc:\\Users\\danie_gfshjqx\\AppData\\Local\\Programs\\Python\\Python312\\Lib\\site-packages\\torch\\nn\\modules\\module.py:1562\u001b[0m, in \u001b[0;36mModule._call_impl\u001b[1;34m(self, *args, **kwargs)\u001b[0m\n\u001b[0;32m   1557\u001b[0m \u001b[38;5;66;03m# If we don't have any hooks, we want to skip the rest of the logic in\u001b[39;00m\n\u001b[0;32m   1558\u001b[0m \u001b[38;5;66;03m# this function, and just call forward.\u001b[39;00m\n\u001b[0;32m   1559\u001b[0m \u001b[38;5;28;01mif\u001b[39;00m \u001b[38;5;129;01mnot\u001b[39;00m (\u001b[38;5;28mself\u001b[39m\u001b[38;5;241m.\u001b[39m_backward_hooks \u001b[38;5;129;01mor\u001b[39;00m \u001b[38;5;28mself\u001b[39m\u001b[38;5;241m.\u001b[39m_backward_pre_hooks \u001b[38;5;129;01mor\u001b[39;00m \u001b[38;5;28mself\u001b[39m\u001b[38;5;241m.\u001b[39m_forward_hooks \u001b[38;5;129;01mor\u001b[39;00m \u001b[38;5;28mself\u001b[39m\u001b[38;5;241m.\u001b[39m_forward_pre_hooks\n\u001b[0;32m   1560\u001b[0m         \u001b[38;5;129;01mor\u001b[39;00m _global_backward_pre_hooks \u001b[38;5;129;01mor\u001b[39;00m _global_backward_hooks\n\u001b[0;32m   1561\u001b[0m         \u001b[38;5;129;01mor\u001b[39;00m _global_forward_hooks \u001b[38;5;129;01mor\u001b[39;00m _global_forward_pre_hooks):\n\u001b[1;32m-> 1562\u001b[0m     \u001b[38;5;28;01mreturn\u001b[39;00m \u001b[43mforward_call\u001b[49m\u001b[43m(\u001b[49m\u001b[38;5;241;43m*\u001b[39;49m\u001b[43margs\u001b[49m\u001b[43m,\u001b[49m\u001b[43m \u001b[49m\u001b[38;5;241;43m*\u001b[39;49m\u001b[38;5;241;43m*\u001b[39;49m\u001b[43mkwargs\u001b[49m\u001b[43m)\u001b[49m\n\u001b[0;32m   1564\u001b[0m \u001b[38;5;28;01mtry\u001b[39;00m:\n\u001b[0;32m   1565\u001b[0m     result \u001b[38;5;241m=\u001b[39m \u001b[38;5;28;01mNone\u001b[39;00m\n",
      "File \u001b[1;32mc:\\Daniel\\High School\\Research\\MV_MAE_Implementation\\Model\\TransformerLayer\\mlp_layer.py:29\u001b[0m, in \u001b[0;36mFeedForward.forward\u001b[1;34m(self, x)\u001b[0m\n\u001b[0;32m     19\u001b[0m \u001b[38;5;250m\u001b[39m\u001b[38;5;124;03m\"\"\"\u001b[39;00m\n\u001b[0;32m     20\u001b[0m \u001b[38;5;124;03mFeedForward MLP block consisting of two linear projections with GELU activation and dropout.\u001b[39;00m\n\u001b[0;32m     21\u001b[0m \u001b[38;5;124;03mLayer normalization is used. Residual connection preserves output diversity. \u001b[39;00m\n\u001b[1;32m   (...)\u001b[0m\n\u001b[0;32m     26\u001b[0m \u001b[38;5;124;03m    (Tensor):   Output shape is the same as input\u001b[39;00m\n\u001b[0;32m     27\u001b[0m \u001b[38;5;124;03m\"\"\"\u001b[39;00m\n\u001b[0;32m     28\u001b[0m x_norm \u001b[38;5;241m=\u001b[39m \u001b[38;5;28mself\u001b[39m\u001b[38;5;241m.\u001b[39mnorm(x)\n\u001b[1;32m---> 29\u001b[0m mlp_out \u001b[38;5;241m=\u001b[39m \u001b[38;5;28;43mself\u001b[39;49m\u001b[38;5;241;43m.\u001b[39;49m\u001b[43mmlp\u001b[49m\u001b[43m(\u001b[49m\u001b[43mx_norm\u001b[49m\u001b[43m)\u001b[49m\n\u001b[0;32m     30\u001b[0m \u001b[38;5;28;01mreturn\u001b[39;00m x \u001b[38;5;241m+\u001b[39m mlp_out\n",
      "File \u001b[1;32mc:\\Users\\danie_gfshjqx\\AppData\\Local\\Programs\\Python\\Python312\\Lib\\site-packages\\torch\\nn\\modules\\module.py:1553\u001b[0m, in \u001b[0;36mModule._wrapped_call_impl\u001b[1;34m(self, *args, **kwargs)\u001b[0m\n\u001b[0;32m   1551\u001b[0m     \u001b[38;5;28;01mreturn\u001b[39;00m \u001b[38;5;28mself\u001b[39m\u001b[38;5;241m.\u001b[39m_compiled_call_impl(\u001b[38;5;241m*\u001b[39margs, \u001b[38;5;241m*\u001b[39m\u001b[38;5;241m*\u001b[39mkwargs)  \u001b[38;5;66;03m# type: ignore[misc]\u001b[39;00m\n\u001b[0;32m   1552\u001b[0m \u001b[38;5;28;01melse\u001b[39;00m:\n\u001b[1;32m-> 1553\u001b[0m     \u001b[38;5;28;01mreturn\u001b[39;00m \u001b[38;5;28;43mself\u001b[39;49m\u001b[38;5;241;43m.\u001b[39;49m\u001b[43m_call_impl\u001b[49m\u001b[43m(\u001b[49m\u001b[38;5;241;43m*\u001b[39;49m\u001b[43margs\u001b[49m\u001b[43m,\u001b[49m\u001b[43m \u001b[49m\u001b[38;5;241;43m*\u001b[39;49m\u001b[38;5;241;43m*\u001b[39;49m\u001b[43mkwargs\u001b[49m\u001b[43m)\u001b[49m\n",
      "File \u001b[1;32mc:\\Users\\danie_gfshjqx\\AppData\\Local\\Programs\\Python\\Python312\\Lib\\site-packages\\torch\\nn\\modules\\module.py:1562\u001b[0m, in \u001b[0;36mModule._call_impl\u001b[1;34m(self, *args, **kwargs)\u001b[0m\n\u001b[0;32m   1557\u001b[0m \u001b[38;5;66;03m# If we don't have any hooks, we want to skip the rest of the logic in\u001b[39;00m\n\u001b[0;32m   1558\u001b[0m \u001b[38;5;66;03m# this function, and just call forward.\u001b[39;00m\n\u001b[0;32m   1559\u001b[0m \u001b[38;5;28;01mif\u001b[39;00m \u001b[38;5;129;01mnot\u001b[39;00m (\u001b[38;5;28mself\u001b[39m\u001b[38;5;241m.\u001b[39m_backward_hooks \u001b[38;5;129;01mor\u001b[39;00m \u001b[38;5;28mself\u001b[39m\u001b[38;5;241m.\u001b[39m_backward_pre_hooks \u001b[38;5;129;01mor\u001b[39;00m \u001b[38;5;28mself\u001b[39m\u001b[38;5;241m.\u001b[39m_forward_hooks \u001b[38;5;129;01mor\u001b[39;00m \u001b[38;5;28mself\u001b[39m\u001b[38;5;241m.\u001b[39m_forward_pre_hooks\n\u001b[0;32m   1560\u001b[0m         \u001b[38;5;129;01mor\u001b[39;00m _global_backward_pre_hooks \u001b[38;5;129;01mor\u001b[39;00m _global_backward_hooks\n\u001b[0;32m   1561\u001b[0m         \u001b[38;5;129;01mor\u001b[39;00m _global_forward_hooks \u001b[38;5;129;01mor\u001b[39;00m _global_forward_pre_hooks):\n\u001b[1;32m-> 1562\u001b[0m     \u001b[38;5;28;01mreturn\u001b[39;00m \u001b[43mforward_call\u001b[49m\u001b[43m(\u001b[49m\u001b[38;5;241;43m*\u001b[39;49m\u001b[43margs\u001b[49m\u001b[43m,\u001b[49m\u001b[43m \u001b[49m\u001b[38;5;241;43m*\u001b[39;49m\u001b[38;5;241;43m*\u001b[39;49m\u001b[43mkwargs\u001b[49m\u001b[43m)\u001b[49m\n\u001b[0;32m   1564\u001b[0m \u001b[38;5;28;01mtry\u001b[39;00m:\n\u001b[0;32m   1565\u001b[0m     result \u001b[38;5;241m=\u001b[39m \u001b[38;5;28;01mNone\u001b[39;00m\n",
      "File \u001b[1;32mc:\\Users\\danie_gfshjqx\\AppData\\Local\\Programs\\Python\\Python312\\Lib\\site-packages\\torch\\nn\\modules\\container.py:219\u001b[0m, in \u001b[0;36mSequential.forward\u001b[1;34m(self, input)\u001b[0m\n\u001b[0;32m    217\u001b[0m \u001b[38;5;28;01mdef\u001b[39;00m \u001b[38;5;21mforward\u001b[39m(\u001b[38;5;28mself\u001b[39m, \u001b[38;5;28minput\u001b[39m):\n\u001b[0;32m    218\u001b[0m     \u001b[38;5;28;01mfor\u001b[39;00m module \u001b[38;5;129;01min\u001b[39;00m \u001b[38;5;28mself\u001b[39m:\n\u001b[1;32m--> 219\u001b[0m         \u001b[38;5;28minput\u001b[39m \u001b[38;5;241m=\u001b[39m \u001b[43mmodule\u001b[49m\u001b[43m(\u001b[49m\u001b[38;5;28;43minput\u001b[39;49m\u001b[43m)\u001b[49m\n\u001b[0;32m    220\u001b[0m     \u001b[38;5;28;01mreturn\u001b[39;00m \u001b[38;5;28minput\u001b[39m\n",
      "File \u001b[1;32mc:\\Users\\danie_gfshjqx\\AppData\\Local\\Programs\\Python\\Python312\\Lib\\site-packages\\torch\\nn\\modules\\module.py:1553\u001b[0m, in \u001b[0;36mModule._wrapped_call_impl\u001b[1;34m(self, *args, **kwargs)\u001b[0m\n\u001b[0;32m   1551\u001b[0m     \u001b[38;5;28;01mreturn\u001b[39;00m \u001b[38;5;28mself\u001b[39m\u001b[38;5;241m.\u001b[39m_compiled_call_impl(\u001b[38;5;241m*\u001b[39margs, \u001b[38;5;241m*\u001b[39m\u001b[38;5;241m*\u001b[39mkwargs)  \u001b[38;5;66;03m# type: ignore[misc]\u001b[39;00m\n\u001b[0;32m   1552\u001b[0m \u001b[38;5;28;01melse\u001b[39;00m:\n\u001b[1;32m-> 1553\u001b[0m     \u001b[38;5;28;01mreturn\u001b[39;00m \u001b[38;5;28;43mself\u001b[39;49m\u001b[38;5;241;43m.\u001b[39;49m\u001b[43m_call_impl\u001b[49m\u001b[43m(\u001b[49m\u001b[38;5;241;43m*\u001b[39;49m\u001b[43margs\u001b[49m\u001b[43m,\u001b[49m\u001b[43m \u001b[49m\u001b[38;5;241;43m*\u001b[39;49m\u001b[38;5;241;43m*\u001b[39;49m\u001b[43mkwargs\u001b[49m\u001b[43m)\u001b[49m\n",
      "File \u001b[1;32mc:\\Users\\danie_gfshjqx\\AppData\\Local\\Programs\\Python\\Python312\\Lib\\site-packages\\torch\\nn\\modules\\module.py:1562\u001b[0m, in \u001b[0;36mModule._call_impl\u001b[1;34m(self, *args, **kwargs)\u001b[0m\n\u001b[0;32m   1557\u001b[0m \u001b[38;5;66;03m# If we don't have any hooks, we want to skip the rest of the logic in\u001b[39;00m\n\u001b[0;32m   1558\u001b[0m \u001b[38;5;66;03m# this function, and just call forward.\u001b[39;00m\n\u001b[0;32m   1559\u001b[0m \u001b[38;5;28;01mif\u001b[39;00m \u001b[38;5;129;01mnot\u001b[39;00m (\u001b[38;5;28mself\u001b[39m\u001b[38;5;241m.\u001b[39m_backward_hooks \u001b[38;5;129;01mor\u001b[39;00m \u001b[38;5;28mself\u001b[39m\u001b[38;5;241m.\u001b[39m_backward_pre_hooks \u001b[38;5;129;01mor\u001b[39;00m \u001b[38;5;28mself\u001b[39m\u001b[38;5;241m.\u001b[39m_forward_hooks \u001b[38;5;129;01mor\u001b[39;00m \u001b[38;5;28mself\u001b[39m\u001b[38;5;241m.\u001b[39m_forward_pre_hooks\n\u001b[0;32m   1560\u001b[0m         \u001b[38;5;129;01mor\u001b[39;00m _global_backward_pre_hooks \u001b[38;5;129;01mor\u001b[39;00m _global_backward_hooks\n\u001b[0;32m   1561\u001b[0m         \u001b[38;5;129;01mor\u001b[39;00m _global_forward_hooks \u001b[38;5;129;01mor\u001b[39;00m _global_forward_pre_hooks):\n\u001b[1;32m-> 1562\u001b[0m     \u001b[38;5;28;01mreturn\u001b[39;00m \u001b[43mforward_call\u001b[49m\u001b[43m(\u001b[49m\u001b[38;5;241;43m*\u001b[39;49m\u001b[43margs\u001b[49m\u001b[43m,\u001b[49m\u001b[43m \u001b[49m\u001b[38;5;241;43m*\u001b[39;49m\u001b[38;5;241;43m*\u001b[39;49m\u001b[43mkwargs\u001b[49m\u001b[43m)\u001b[49m\n\u001b[0;32m   1564\u001b[0m \u001b[38;5;28;01mtry\u001b[39;00m:\n\u001b[0;32m   1565\u001b[0m     result \u001b[38;5;241m=\u001b[39m \u001b[38;5;28;01mNone\u001b[39;00m\n",
      "File \u001b[1;32mc:\\Users\\danie_gfshjqx\\AppData\\Local\\Programs\\Python\\Python312\\Lib\\site-packages\\torch\\nn\\modules\\linear.py:117\u001b[0m, in \u001b[0;36mLinear.forward\u001b[1;34m(self, input)\u001b[0m\n\u001b[0;32m    116\u001b[0m \u001b[38;5;28;01mdef\u001b[39;00m \u001b[38;5;21mforward\u001b[39m(\u001b[38;5;28mself\u001b[39m, \u001b[38;5;28minput\u001b[39m: Tensor) \u001b[38;5;241m-\u001b[39m\u001b[38;5;241m>\u001b[39m Tensor:\n\u001b[1;32m--> 117\u001b[0m     \u001b[38;5;28;01mreturn\u001b[39;00m \u001b[43mF\u001b[49m\u001b[38;5;241;43m.\u001b[39;49m\u001b[43mlinear\u001b[49m\u001b[43m(\u001b[49m\u001b[38;5;28;43minput\u001b[39;49m\u001b[43m,\u001b[49m\u001b[43m \u001b[49m\u001b[38;5;28;43mself\u001b[39;49m\u001b[38;5;241;43m.\u001b[39;49m\u001b[43mweight\u001b[49m\u001b[43m,\u001b[49m\u001b[43m \u001b[49m\u001b[38;5;28;43mself\u001b[39;49m\u001b[38;5;241;43m.\u001b[39;49m\u001b[43mbias\u001b[49m\u001b[43m)\u001b[49m\n",
      "\u001b[1;31mKeyboardInterrupt\u001b[0m: "
     ]
    }
   ],
   "source": [
    "%load_ext autoreload\n",
    "%autoreload 2\n",
    "\n",
    "from train_setup import Trainer\n",
    "import os\n",
    "\n",
    "trainer = Trainer(\n",
    "        img_size=32, patch_size=8, batch_size=16, in_channels=3,\n",
    "        encoder_embed_dim=384, encoder_num_heads=8,\n",
    "        decoder_embed_dim=256, decoder_num_heads=4,\n",
    "        base_dataset_dir=os.path.join(os.getcwd(), 'dataset')\n",
    "    )\n",
    "\n",
    "trainer.train(num_epochs=50, lr=0.0006)"
   ]
  },
  {
   "cell_type": "markdown",
   "id": "3ffa35b1",
   "metadata": {},
   "source": []
  },
  {
   "cell_type": "code",
   "execution_count": null,
   "id": "81f3d05d",
   "metadata": {},
   "outputs": [],
   "source": []
  }
 ],
 "metadata": {
  "kernelspec": {
   "display_name": "Python 3",
   "language": "python",
   "name": "python3"
  },
  "language_info": {
   "codemirror_mode": {
    "name": "ipython",
    "version": 3
   },
   "file_extension": ".py",
   "mimetype": "text/x-python",
   "name": "python",
   "nbconvert_exporter": "python",
   "pygments_lexer": "ipython3",
   "version": "3.12.5"
  }
 },
 "nbformat": 4,
 "nbformat_minor": 5
}
