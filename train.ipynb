{
 "cells": [
  {
   "cell_type": "code",
   "execution_count": null,
   "id": "cde2433d",
   "metadata": {},
   "outputs": [
    {
     "name": "stdout",
     "output_type": "stream",
     "text": [
      "The autoreload extension is already loaded. To reload it, use:\n",
      "  %reload_ext autoreload\n",
      "Setting up [LPIPS] perceptual loss: trunk [alex], v[0.1], spatial [off]\n",
      "Loading model from: c:\\Users\\danie_gfshjqx\\AppData\\Local\\Programs\\Python\\Python312\\Lib\\site-packages\\lpips\\weights\\v0.1\\alex.pth\n",
      "Loading dataset...\n",
      "Running on cpu\n"
     ]
    },
    {
     "name": "stderr",
     "output_type": "stream",
     "text": [
      "Epoch 1 - Training:   0%|          | 0/3881 [00:00<?, ?it/s]"
     ]
    },
    {
     "name": "stdout",
     "output_type": "stream",
     "text": [
      "Cos sim after patch embed: 0.09208642691373825073\n",
      "Cos sim after encoder: 0.09360222518444061279\n",
      "Cos sim after prepare decoder in: 0.15559294819831848145\n",
      "Cos sim after decoder: 0.51371788978576660156\n"
     ]
    },
    {
     "name": "stderr",
     "output_type": "stream",
     "text": [
      "Epoch 1 - Training:   0%|          | 1/3881 [00:35<38:08:15, 35.39s/it]"
     ]
    },
    {
     "name": "stdout",
     "output_type": "stream",
     "text": [
      "Cos sim after patch embed: 0.08358813077211380005\n",
      "Cos sim after encoder: 0.08693927526473999023\n",
      "Cos sim after prepare decoder in: 0.15318417549133300781\n",
      "Cos sim after decoder: 0.49977338314056396484\n"
     ]
    },
    {
     "name": "stderr",
     "output_type": "stream",
     "text": [
      "Epoch 1 - Training:   0%|          | 2/3881 [00:36<16:33:48, 15.37s/it]"
     ]
    },
    {
     "name": "stdout",
     "output_type": "stream",
     "text": [
      "Cos sim after patch embed: 0.09145358204841613770\n",
      "Cos sim after encoder: 0.10501043498516082764\n",
      "Cos sim after prepare decoder in: 0.16897132992744445801\n",
      "Cos sim after decoder: 0.48690330982208251953\n"
     ]
    },
    {
     "name": "stderr",
     "output_type": "stream",
     "text": [
      "Epoch 1 - Training:   0%|          | 3/3881 [00:38<9:45:20,  9.06s/it] "
     ]
    },
    {
     "name": "stdout",
     "output_type": "stream",
     "text": [
      "Cos sim after patch embed: 0.08988291025161743164\n",
      "Cos sim after encoder: 0.12046062946319580078\n",
      "Cos sim after prepare decoder in: 0.19204790890216827393\n",
      "Cos sim after decoder: 0.47517958283424377441\n"
     ]
    },
    {
     "name": "stderr",
     "output_type": "stream",
     "text": [
      "Epoch 1 - Training:   0%|          | 4/3881 [00:39<6:27:40,  6.00s/it]"
     ]
    },
    {
     "name": "stdout",
     "output_type": "stream",
     "text": [
      "Cos sim after patch embed: 0.11017446219921112061\n",
      "Cos sim after encoder: 0.16989812254905700684\n",
      "Cos sim after prepare decoder in: 0.23407596349716186523\n",
      "Cos sim after decoder: 0.46344947814941406250\n"
     ]
    },
    {
     "name": "stderr",
     "output_type": "stream",
     "text": [
      "Epoch 1 - Training:   0%|          | 5/3881 [00:40<4:36:37,  4.28s/it]"
     ]
    },
    {
     "name": "stdout",
     "output_type": "stream",
     "text": [
      "Cos sim after patch embed: 0.11914086341857910156\n",
      "Cos sim after encoder: 0.21339170634746551514\n",
      "Cos sim after prepare decoder in: 0.27508166432380676270\n",
      "Cos sim after decoder: 0.45315960049629211426\n"
     ]
    },
    {
     "name": "stderr",
     "output_type": "stream",
     "text": [
      "Epoch 1 - Training:   0%|          | 6/3881 [00:42<3:30:36,  3.26s/it]"
     ]
    },
    {
     "name": "stdout",
     "output_type": "stream",
     "text": [
      "Cos sim after patch embed: 0.14868561923503875732\n",
      "Cos sim after encoder: 0.29232802987098693848\n",
      "Cos sim after prepare decoder in: 0.32589346170425415039\n",
      "Cos sim after decoder: 0.44364064931869506836\n"
     ]
    },
    {
     "name": "stderr",
     "output_type": "stream",
     "text": [
      "Epoch 1 - Training:   0%|          | 7/3881 [00:43<2:47:38,  2.60s/it]"
     ]
    },
    {
     "name": "stdout",
     "output_type": "stream",
     "text": [
      "Cos sim after patch embed: 0.13400407135486602783\n",
      "Cos sim after encoder: 0.30765578150749206543\n",
      "Cos sim after prepare decoder in: 0.34808069467544555664\n",
      "Cos sim after decoder: 0.43586632609367370605\n"
     ]
    },
    {
     "name": "stderr",
     "output_type": "stream",
     "text": [
      "Epoch 1 - Training:   0%|          | 8/3881 [00:44<2:28:05,  2.29s/it]"
     ]
    },
    {
     "name": "stdout",
     "output_type": "stream",
     "text": [
      "Cos sim after patch embed: 0.14253893494606018066\n",
      "Cos sim after encoder: 0.35333558917045593262\n",
      "Cos sim after prepare decoder in: 0.37368747591972351074\n",
      "Cos sim after decoder: 0.42847460508346557617\n"
     ]
    },
    {
     "name": "stderr",
     "output_type": "stream",
     "text": [
      "Epoch 1 - Training:   0%|          | 9/3881 [00:46<2:12:21,  2.05s/it]"
     ]
    },
    {
     "name": "stdout",
     "output_type": "stream",
     "text": [
      "Cos sim after patch embed: 0.13591223955154418945\n",
      "Cos sim after encoder: 0.36605894565582275391\n",
      "Cos sim after prepare decoder in: 0.38292756676673889160\n",
      "Cos sim after decoder: 0.42081302404403686523\n"
     ]
    },
    {
     "name": "stderr",
     "output_type": "stream",
     "text": [
      "Epoch 1 - Training:   0%|          | 10/3881 [00:47<2:00:36,  1.87s/it]"
     ]
    },
    {
     "name": "stdout",
     "output_type": "stream",
     "text": [
      "Cos sim after patch embed: 0.15094356238842010498\n",
      "Cos sim after encoder: 0.40409779548645019531\n",
      "Cos sim after prepare decoder in: 0.39305382966995239258\n",
      "Cos sim after decoder: 0.41334539651870727539\n"
     ]
    },
    {
     "name": "stderr",
     "output_type": "stream",
     "text": [
      "Epoch 1 - Training:   0%|          | 11/3881 [00:49<1:45:32,  1.64s/it]"
     ]
    },
    {
     "name": "stdout",
     "output_type": "stream",
     "text": [
      "Cos sim after patch embed: 0.17854475975036621094\n",
      "Cos sim after encoder: 0.44460213184356689453\n",
      "Cos sim after prepare decoder in: 0.39752346277236938477\n",
      "Cos sim after decoder: 0.40618187189102172852\n"
     ]
    },
    {
     "name": "stderr",
     "output_type": "stream",
     "text": [
      "Epoch 1 - Training:   0%|          | 12/3881 [00:50<1:37:30,  1.51s/it]"
     ]
    },
    {
     "name": "stdout",
     "output_type": "stream",
     "text": [
      "Cos sim after patch embed: 0.14990434050559997559\n",
      "Cos sim after encoder: 0.41580513119697570801\n",
      "Cos sim after prepare decoder in: 0.38737523555755615234\n",
      "Cos sim after decoder: 0.39987877011299133301\n"
     ]
    },
    {
     "name": "stderr",
     "output_type": "stream",
     "text": [
      "Epoch 1 - Training:   0%|          | 13/3881 [00:51<1:31:09,  1.41s/it]"
     ]
    },
    {
     "name": "stdout",
     "output_type": "stream",
     "text": [
      "Cos sim after patch embed: 0.18672421574592590332\n",
      "Cos sim after encoder: 0.47637796401977539062\n",
      "Cos sim after prepare decoder in: 0.39379802346229553223\n",
      "Cos sim after decoder: 0.39412435889244079590\n"
     ]
    },
    {
     "name": "stderr",
     "output_type": "stream",
     "text": [
      "Epoch 1 - Training:   0%|          | 14/3881 [00:52<1:25:31,  1.33s/it]"
     ]
    },
    {
     "name": "stdout",
     "output_type": "stream",
     "text": [
      "Cos sim after patch embed: 0.17216521501541137695\n",
      "Cos sim after encoder: 0.45830672979354858398\n",
      "Cos sim after prepare decoder in: 0.38294923305511474609\n",
      "Cos sim after decoder: 0.38935542106628417969\n"
     ]
    },
    {
     "name": "stderr",
     "output_type": "stream",
     "text": [
      "Epoch 1 - Training:   0%|          | 15/3881 [00:53<1:22:11,  1.28s/it]"
     ]
    },
    {
     "name": "stdout",
     "output_type": "stream",
     "text": [
      "Cos sim after patch embed: 0.16661655902862548828\n",
      "Cos sim after encoder: 0.45901244878768920898\n",
      "Cos sim after prepare decoder in: 0.37640675902366638184\n",
      "Cos sim after decoder: 0.38542932271957397461\n"
     ]
    },
    {
     "name": "stderr",
     "output_type": "stream",
     "text": [
      "Epoch 1 - Training:   0%|          | 16/3881 [00:54<1:20:32,  1.25s/it]"
     ]
    },
    {
     "name": "stdout",
     "output_type": "stream",
     "text": [
      "Cos sim after patch embed: 0.17661243677139282227\n",
      "Cos sim after encoder: 0.47493276000022888184\n",
      "Cos sim after prepare decoder in: 0.37235948443412780762\n",
      "Cos sim after decoder: 0.38139194250106811523\n"
     ]
    },
    {
     "name": "stderr",
     "output_type": "stream",
     "text": [
      "Epoch 1 - Training:   0%|          | 17/3881 [00:56<1:22:27,  1.28s/it]"
     ]
    },
    {
     "name": "stdout",
     "output_type": "stream",
     "text": [
      "Cos sim after patch embed: 0.15746563673019409180\n",
      "Cos sim after encoder: 0.45497050881385803223\n",
      "Cos sim after prepare decoder in: 0.36238658428192138672\n",
      "Cos sim after decoder: 0.37836724519729614258\n"
     ]
    },
    {
     "name": "stderr",
     "output_type": "stream",
     "text": [
      "Epoch 1 - Training:   0%|          | 18/3881 [00:57<1:19:48,  1.24s/it]"
     ]
    },
    {
     "name": "stdout",
     "output_type": "stream",
     "text": [
      "Cos sim after patch embed: 0.16702677309513092041\n",
      "Cos sim after encoder: 0.47605186700820922852\n",
      "Cos sim after prepare decoder in: 0.36002328991889953613\n",
      "Cos sim after decoder: 0.37385338544845581055\n"
     ]
    },
    {
     "name": "stderr",
     "output_type": "stream",
     "text": [
      "Epoch 1 - Training:   0%|          | 19/3881 [00:58<1:17:22,  1.20s/it]"
     ]
    },
    {
     "name": "stdout",
     "output_type": "stream",
     "text": [
      "Cos sim after patch embed: 0.17671021819114685059\n",
      "Cos sim after encoder: 0.48712593317031860352\n",
      "Cos sim after prepare decoder in: 0.35530585050582885742\n",
      "Cos sim after decoder: 0.36972552537918090820\n"
     ]
    },
    {
     "name": "stderr",
     "output_type": "stream",
     "text": [
      "Epoch 1 - Training:   1%|          | 20/3881 [00:59<1:17:21,  1.20s/it]"
     ]
    },
    {
     "name": "stdout",
     "output_type": "stream",
     "text": [
      "Cos sim after patch embed: 0.18080505728721618652\n",
      "Cos sim after encoder: 0.49963274598121643066\n",
      "Cos sim after prepare decoder in: 0.35222584009170532227\n",
      "Cos sim after decoder: 0.36551040410995483398\n"
     ]
    },
    {
     "name": "stderr",
     "output_type": "stream",
     "text": [
      "Epoch 1 - Training:   1%|          | 21/3881 [01:00<1:15:38,  1.18s/it]"
     ]
    },
    {
     "name": "stdout",
     "output_type": "stream",
     "text": [
      "Cos sim after patch embed: 0.16940543055534362793\n",
      "Cos sim after encoder: 0.48746550083160400391\n",
      "Cos sim after prepare decoder in: 0.34627592563629150391\n",
      "Cos sim after decoder: 0.36232551932334899902\n"
     ]
    },
    {
     "name": "stderr",
     "output_type": "stream",
     "text": [
      "Epoch 1 - Training:   1%|          | 22/3881 [01:02<1:14:24,  1.16s/it]"
     ]
    },
    {
     "name": "stdout",
     "output_type": "stream",
     "text": [
      "Cos sim after patch embed: 0.19784408807754516602\n",
      "Cos sim after encoder: 0.52717351913452148438\n",
      "Cos sim after prepare decoder in: 0.34778764843940734863\n",
      "Cos sim after decoder: 0.35949799418449401855\n"
     ]
    },
    {
     "name": "stderr",
     "output_type": "stream",
     "text": [
      "Epoch 1 - Training:   1%|          | 23/3881 [01:03<1:12:44,  1.13s/it]"
     ]
    },
    {
     "name": "stdout",
     "output_type": "stream",
     "text": [
      "Cos sim after patch embed: 0.17910619080066680908\n",
      "Cos sim after encoder: 0.51073855161666870117\n",
      "Cos sim after prepare decoder in: 0.34273773431777954102\n",
      "Cos sim after decoder: 0.35702699422836303711\n"
     ]
    },
    {
     "name": "stderr",
     "output_type": "stream",
     "text": [
      "Epoch 1 - Training:   1%|          | 24/3881 [01:04<1:17:06,  1.20s/it]"
     ]
    },
    {
     "name": "stdout",
     "output_type": "stream",
     "text": [
      "Cos sim after patch embed: 0.17243349552154541016\n",
      "Cos sim after encoder: 0.50432676076889038086\n",
      "Cos sim after prepare decoder in: 0.33854860067367553711\n",
      "Cos sim after decoder: 0.35454386472702026367\n"
     ]
    },
    {
     "name": "stderr",
     "output_type": "stream",
     "text": [
      "Epoch 1 - Training:   1%|          | 25/3881 [01:05<1:16:41,  1.19s/it]"
     ]
    },
    {
     "name": "stdout",
     "output_type": "stream",
     "text": [
      "Cos sim after patch embed: 0.19614547491073608398\n",
      "Cos sim after encoder: 0.53575700521469116211\n",
      "Cos sim after prepare decoder in: 0.34047582745552062988\n",
      "Cos sim after decoder: 0.35194653272628784180\n"
     ]
    },
    {
     "name": "stderr",
     "output_type": "stream",
     "text": [
      "Epoch 1 - Training:   1%|          | 26/3881 [01:07<1:20:45,  1.26s/it]"
     ]
    },
    {
     "name": "stdout",
     "output_type": "stream",
     "text": [
      "Cos sim after patch embed: 0.17772015929222106934\n",
      "Cos sim after encoder: 0.51465904712677001953\n",
      "Cos sim after prepare decoder in: 0.33589589595794677734\n",
      "Cos sim after decoder: 0.34954673051834106445\n"
     ]
    },
    {
     "name": "stderr",
     "output_type": "stream",
     "text": [
      "Epoch 1 - Training:   1%|          | 27/3881 [01:08<1:19:32,  1.24s/it]"
     ]
    },
    {
     "name": "stdout",
     "output_type": "stream",
     "text": [
      "Cos sim after patch embed: 0.20470879971981048584\n",
      "Cos sim after encoder: 0.54672813415527343750\n",
      "Cos sim after prepare decoder in: 0.33783268928527832031\n",
      "Cos sim after decoder: 0.34657511115074157715\n"
     ]
    },
    {
     "name": "stderr",
     "output_type": "stream",
     "text": [
      "Epoch 1 - Training:   1%|          | 28/3881 [01:09<1:17:06,  1.20s/it]"
     ]
    },
    {
     "name": "stdout",
     "output_type": "stream",
     "text": [
      "Cos sim after patch embed: 0.22543889284133911133\n",
      "Cos sim after encoder: 0.57375299930572509766\n",
      "Cos sim after prepare decoder in: 0.33972540497779846191\n",
      "Cos sim after decoder: 0.34434917569160461426\n"
     ]
    },
    {
     "name": "stderr",
     "output_type": "stream",
     "text": [
      "Epoch 1 - Training:   1%|          | 29/3881 [01:10<1:19:49,  1.24s/it]"
     ]
    },
    {
     "name": "stdout",
     "output_type": "stream",
     "text": [
      "Cos sim after patch embed: 0.19036197662353515625\n",
      "Cos sim after encoder: 0.53657174110412597656\n",
      "Cos sim after prepare decoder in: 0.33512929081916809082\n",
      "Cos sim after decoder: 0.34266823530197143555\n"
     ]
    },
    {
     "name": "stderr",
     "output_type": "stream",
     "text": [
      "Epoch 1 - Training:   1%|          | 30/3881 [01:12<1:36:55,  1.51s/it]"
     ]
    },
    {
     "name": "stdout",
     "output_type": "stream",
     "text": [
      "Cos sim after patch embed: 0.20494699478149414062\n",
      "Cos sim after encoder: 0.55506938695907592773\n",
      "Cos sim after prepare decoder in: 0.33746814727783203125\n",
      "Cos sim after decoder: 0.33966207504272460938\n"
     ]
    },
    {
     "name": "stderr",
     "output_type": "stream",
     "text": [
      "Epoch 1 - Training:   1%|          | 31/3881 [01:14<1:46:07,  1.65s/it]"
     ]
    },
    {
     "name": "stdout",
     "output_type": "stream",
     "text": [
      "Cos sim after patch embed: 0.22188088297843933105\n",
      "Cos sim after encoder: 0.57536065578460693359\n",
      "Cos sim after prepare decoder in: 0.33973768353462219238\n",
      "Cos sim after decoder: 0.33807754516601562500\n"
     ]
    },
    {
     "name": "stderr",
     "output_type": "stream",
     "text": [
      "Epoch 1 - Training:   1%|          | 32/3881 [01:16<1:55:53,  1.81s/it]"
     ]
    },
    {
     "name": "stdout",
     "output_type": "stream",
     "text": [
      "Cos sim after patch embed: 0.20462726056575775146\n",
      "Cos sim after encoder: 0.55375236272811889648\n",
      "Cos sim after prepare decoder in: 0.33811557292938232422\n",
      "Cos sim after decoder: 0.33736559748649597168\n"
     ]
    },
    {
     "name": "stderr",
     "output_type": "stream",
     "text": [
      "Epoch 1 - Training:   1%|          | 33/3881 [01:19<2:02:39,  1.91s/it]"
     ]
    },
    {
     "name": "stdout",
     "output_type": "stream",
     "text": [
      "Cos sim after patch embed: 0.20847724378108978271\n",
      "Cos sim after encoder: 0.56594973802566528320\n",
      "Cos sim after prepare decoder in: 0.34089976549148559570\n",
      "Cos sim after decoder: 0.33575388789176940918\n"
     ]
    },
    {
     "name": "stderr",
     "output_type": "stream",
     "text": [
      "Epoch 1 - Training:   1%|          | 34/3881 [01:21<2:04:21,  1.94s/it]"
     ]
    },
    {
     "name": "stdout",
     "output_type": "stream",
     "text": [
      "Cos sim after patch embed: 0.17938359081745147705\n",
      "Cos sim after encoder: 0.53012448549270629883\n",
      "Cos sim after prepare decoder in: 0.33874392509460449219\n",
      "Cos sim after decoder: 0.33400100469589233398\n"
     ]
    },
    {
     "name": "stderr",
     "output_type": "stream",
     "text": [
      "Epoch 1 - Training:   1%|          | 35/3881 [01:23<2:03:16,  1.92s/it]"
     ]
    },
    {
     "name": "stdout",
     "output_type": "stream",
     "text": [
      "Cos sim after patch embed: 0.21202325820922851562\n",
      "Cos sim after encoder: 0.57023406028747558594\n",
      "Cos sim after prepare decoder in: 0.34456580877304077148\n",
      "Cos sim after decoder: 0.33058503270149230957\n"
     ]
    },
    {
     "name": "stderr",
     "output_type": "stream",
     "text": [
      "Epoch 1 - Training:   1%|          | 36/3881 [01:24<2:03:49,  1.93s/it]"
     ]
    },
    {
     "name": "stdout",
     "output_type": "stream",
     "text": [
      "Cos sim after patch embed: 0.20795546472072601318\n",
      "Cos sim after encoder: 0.55232024192810058594\n",
      "Cos sim after prepare decoder in: 0.34397384524345397949\n",
      "Cos sim after decoder: 0.32858848571777343750\n"
     ]
    },
    {
     "name": "stderr",
     "output_type": "stream",
     "text": [
      "Epoch 1 - Training:   1%|          | 37/3881 [01:26<2:05:15,  1.96s/it]"
     ]
    },
    {
     "name": "stdout",
     "output_type": "stream",
     "text": [
      "Cos sim after patch embed: 0.20133566856384277344\n",
      "Cos sim after encoder: 0.55864018201828002930\n",
      "Cos sim after prepare decoder in: 0.34714975953102111816\n",
      "Cos sim after decoder: 0.32604029774665832520\n"
     ]
    },
    {
     "name": "stderr",
     "output_type": "stream",
     "text": [
      "Epoch 1 - Training:   1%|          | 38/3881 [01:29<2:07:24,  1.99s/it]"
     ]
    },
    {
     "name": "stdout",
     "output_type": "stream",
     "text": [
      "Cos sim after patch embed: 0.20230205357074737549\n",
      "Cos sim after encoder: 0.56067574024200439453\n",
      "Cos sim after prepare decoder in: 0.34933167695999145508\n",
      "Cos sim after decoder: 0.32238945364952087402\n"
     ]
    },
    {
     "name": "stderr",
     "output_type": "stream",
     "text": [
      "Epoch 1 - Training:   1%|          | 39/3881 [01:31<2:14:30,  2.10s/it]"
     ]
    },
    {
     "name": "stdout",
     "output_type": "stream",
     "text": [
      "Cos sim after patch embed: 0.19098147749900817871\n",
      "Cos sim after encoder: 0.54658377170562744141\n",
      "Cos sim after prepare decoder in: 0.35021817684173583984\n",
      "Cos sim after decoder: 0.32105231285095214844\n"
     ]
    },
    {
     "name": "stderr",
     "output_type": "stream",
     "text": [
      "Epoch 1 - Training:   1%|          | 40/3881 [01:33<2:14:56,  2.11s/it]"
     ]
    },
    {
     "name": "stdout",
     "output_type": "stream",
     "text": [
      "Cos sim after patch embed: 0.18492078781127929688\n",
      "Cos sim after encoder: 0.54228448867797851562\n",
      "Cos sim after prepare decoder in: 0.35258731245994567871\n",
      "Cos sim after decoder: 0.31897136569023132324\n"
     ]
    },
    {
     "name": "stderr",
     "output_type": "stream",
     "text": [
      "Epoch 1 - Training:   1%|          | 41/3881 [01:35<2:03:44,  1.93s/it]"
     ]
    },
    {
     "name": "stdout",
     "output_type": "stream",
     "text": [
      "Cos sim after patch embed: 0.19865123927593231201\n",
      "Cos sim after encoder: 0.55695736408233642578\n",
      "Cos sim after prepare decoder in: 0.35614699125289916992\n",
      "Cos sim after decoder: 0.31680944561958312988\n"
     ]
    },
    {
     "name": "stderr",
     "output_type": "stream",
     "text": [
      "Epoch 1 - Training:   1%|          | 42/3881 [01:36<1:50:28,  1.73s/it]"
     ]
    },
    {
     "name": "stdout",
     "output_type": "stream",
     "text": [
      "Cos sim after patch embed: 0.19343620538711547852\n",
      "Cos sim after encoder: 0.55489951372146606445\n",
      "Cos sim after prepare decoder in: 0.35846650600433349609\n",
      "Cos sim after decoder: 0.31428068876266479492\n"
     ]
    },
    {
     "name": "stderr",
     "output_type": "stream",
     "text": [
      "Epoch 1 - Training:   1%|          | 43/3881 [01:37<1:37:32,  1.52s/it]"
     ]
    },
    {
     "name": "stdout",
     "output_type": "stream",
     "text": [
      "Cos sim after patch embed: 0.19189588725566864014\n",
      "Cos sim after encoder: 0.55008620023727416992\n",
      "Cos sim after prepare decoder in: 0.35987788438796997070\n",
      "Cos sim after decoder: 0.31102228164672851562\n"
     ]
    },
    {
     "name": "stderr",
     "output_type": "stream",
     "text": [
      "Epoch 1 - Training:   1%|          | 44/3881 [01:38<1:28:45,  1.39s/it]"
     ]
    },
    {
     "name": "stdout",
     "output_type": "stream",
     "text": [
      "Cos sim after patch embed: 0.20288120210170745850\n",
      "Cos sim after encoder: 0.56326007843017578125\n",
      "Cos sim after prepare decoder in: 0.36337596178054809570\n",
      "Cos sim after decoder: 0.30839118361473083496\n"
     ]
    },
    {
     "name": "stderr",
     "output_type": "stream",
     "text": [
      "Epoch 1 - Training:   1%|          | 45/3881 [01:39<1:22:27,  1.29s/it]"
     ]
    },
    {
     "name": "stdout",
     "output_type": "stream",
     "text": [
      "Cos sim after patch embed: 0.20055262744426727295\n",
      "Cos sim after encoder: 0.55690854787826538086\n",
      "Cos sim after prepare decoder in: 0.36468672752380371094\n",
      "Cos sim after decoder: 0.30656355619430541992\n"
     ]
    },
    {
     "name": "stderr",
     "output_type": "stream",
     "text": [
      "Epoch 1 - Training:   1%|          | 46/3881 [01:40<1:17:11,  1.21s/it]"
     ]
    },
    {
     "name": "stdout",
     "output_type": "stream",
     "text": [
      "Cos sim after patch embed: 0.20563599467277526855\n",
      "Cos sim after encoder: 0.56454944610595703125\n",
      "Cos sim after prepare decoder in: 0.36776012182235717773\n",
      "Cos sim after decoder: 0.30379095673561096191\n"
     ]
    },
    {
     "name": "stderr",
     "output_type": "stream",
     "text": [
      "Epoch 1 - Training:   1%|          | 47/3881 [01:41<1:22:48,  1.30s/it]"
     ]
    },
    {
     "name": "stdout",
     "output_type": "stream",
     "text": [
      "Cos sim after patch embed: 0.20126000046730041504\n",
      "Cos sim after encoder: 0.56196522712707519531\n",
      "Cos sim after prepare decoder in: 0.36960068345069885254\n",
      "Cos sim after decoder: 0.30196160078048706055\n"
     ]
    },
    {
     "name": "stderr",
     "output_type": "stream",
     "text": [
      "Epoch 1 - Training:   1%|          | 48/3881 [01:43<1:27:10,  1.36s/it]"
     ]
    },
    {
     "name": "stdout",
     "output_type": "stream",
     "text": [
      "Cos sim after patch embed: 0.21457132697105407715\n",
      "Cos sim after encoder: 0.57115286588668823242\n",
      "Cos sim after prepare decoder in: 0.37168473005294799805\n",
      "Cos sim after decoder: 0.29932001233100891113\n"
     ]
    },
    {
     "name": "stderr",
     "output_type": "stream",
     "text": [
      "Epoch 1 - Training:   1%|▏         | 49/3881 [01:44<1:22:19,  1.29s/it]"
     ]
    },
    {
     "name": "stdout",
     "output_type": "stream",
     "text": [
      "Cos sim after patch embed: 0.19357815384864807129\n",
      "Cos sim after encoder: 0.56293731927871704102\n",
      "Cos sim after prepare decoder in: 0.37341573834419250488\n",
      "Cos sim after decoder: 0.29749926924705505371\n"
     ]
    },
    {
     "name": "stderr",
     "output_type": "stream",
     "text": [
      "Epoch 1 - Training:   1%|▏         | 50/3881 [01:46<1:24:39,  1.33s/it]"
     ]
    },
    {
     "name": "stdout",
     "output_type": "stream",
     "text": [
      "Cos sim after patch embed: 0.21337741613388061523\n",
      "Cos sim after encoder: 0.57770472764968872070\n",
      "Cos sim after prepare decoder in: 0.37615603208541870117\n",
      "Cos sim after decoder: 0.29469650983810424805\n"
     ]
    },
    {
     "name": "stderr",
     "output_type": "stream",
     "text": [
      "Epoch 1 - Training:   1%|▏         | 51/3881 [01:48<1:38:47,  1.55s/it]"
     ]
    },
    {
     "name": "stdout",
     "output_type": "stream",
     "text": [
      "Cos sim after patch embed: 0.19801995158195495605\n",
      "Cos sim after encoder: 0.56759554147720336914\n",
      "Cos sim after prepare decoder in: 0.37685850262641906738\n",
      "Cos sim after decoder: 0.29179972410202026367\n"
     ]
    },
    {
     "name": "stderr",
     "output_type": "stream",
     "text": [
      "Epoch 1 - Training:   1%|▏         | 52/3881 [01:50<1:48:56,  1.71s/it]"
     ]
    },
    {
     "name": "stdout",
     "output_type": "stream",
     "text": [
      "Cos sim after patch embed: 0.18413290381431579590\n",
      "Cos sim after encoder: 0.55629169940948486328\n",
      "Cos sim after prepare decoder in: 0.37746995687484741211\n",
      "Cos sim after decoder: 0.28885200619697570801\n"
     ]
    },
    {
     "name": "stderr",
     "output_type": "stream",
     "text": [
      "Epoch 1 - Training:   1%|▏         | 53/3881 [01:52<1:56:00,  1.82s/it]"
     ]
    },
    {
     "name": "stdout",
     "output_type": "stream",
     "text": [
      "Cos sim after patch embed: 0.20884808897972106934\n",
      "Cos sim after encoder: 0.58290815353393554688\n",
      "Cos sim after prepare decoder in: 0.38123375177383422852\n",
      "Cos sim after decoder: 0.28676068782806396484\n"
     ]
    },
    {
     "name": "stderr",
     "output_type": "stream",
     "text": [
      "Epoch 1 - Training:   1%|▏         | 54/3881 [01:54<2:03:05,  1.93s/it]"
     ]
    },
    {
     "name": "stdout",
     "output_type": "stream",
     "text": [
      "Cos sim after patch embed: 0.22542992234230041504\n",
      "Cos sim after encoder: 0.60255283117294311523\n",
      "Cos sim after prepare decoder in: 0.38421720266342163086\n",
      "Cos sim after decoder: 0.28311833739280700684\n"
     ]
    },
    {
     "name": "stderr",
     "output_type": "stream",
     "text": [
      "Epoch 1 - Training:   1%|▏         | 55/3881 [01:56<2:08:47,  2.02s/it]"
     ]
    },
    {
     "name": "stdout",
     "output_type": "stream",
     "text": [
      "Cos sim after patch embed: 0.20720219612121582031\n",
      "Cos sim after encoder: 0.59138065576553344727\n",
      "Cos sim after prepare decoder in: 0.38459470868110656738\n",
      "Cos sim after decoder: 0.28132528066635131836\n"
     ]
    },
    {
     "name": "stderr",
     "output_type": "stream",
     "text": [
      "Epoch 1 - Training:   1%|▏         | 56/3881 [01:58<2:12:29,  2.08s/it]"
     ]
    },
    {
     "name": "stdout",
     "output_type": "stream",
     "text": [
      "Cos sim after patch embed: 0.21077495813369750977\n",
      "Cos sim after encoder: 0.59245312213897705078\n",
      "Cos sim after prepare decoder in: 0.38565716147422790527\n",
      "Cos sim after decoder: 0.27852302789688110352\n"
     ]
    },
    {
     "name": "stderr",
     "output_type": "stream",
     "text": [
      "Epoch 1 - Training:   1%|▏         | 57/3881 [02:00<2:12:43,  2.08s/it]"
     ]
    },
    {
     "name": "stdout",
     "output_type": "stream",
     "text": [
      "Cos sim after patch embed: 0.20669470727443695068\n",
      "Cos sim after encoder: 0.58989739418029785156\n",
      "Cos sim after prepare decoder in: 0.38606390357017517090\n",
      "Cos sim after decoder: 0.27509799599647521973\n"
     ]
    },
    {
     "name": "stderr",
     "output_type": "stream",
     "text": [
      "Epoch 1 - Training:   1%|▏         | 58/3881 [02:02<1:57:35,  1.85s/it]"
     ]
    },
    {
     "name": "stdout",
     "output_type": "stream",
     "text": [
      "Cos sim after patch embed: 0.20546761155128479004\n",
      "Cos sim after encoder: 0.59115922451019287109\n",
      "Cos sim after prepare decoder in: 0.38708752393722534180\n",
      "Cos sim after decoder: 0.27282267808914184570\n"
     ]
    },
    {
     "name": "stderr",
     "output_type": "stream",
     "text": [
      "Epoch 1 - Training:   2%|▏         | 59/3881 [02:03<1:40:31,  1.58s/it]"
     ]
    },
    {
     "name": "stdout",
     "output_type": "stream",
     "text": [
      "Cos sim after patch embed: 0.23136895895004272461\n",
      "Cos sim after encoder: 0.61336266994476318359\n",
      "Cos sim after prepare decoder in: 0.38956856727600097656\n",
      "Cos sim after decoder: 0.27064055204391479492\n"
     ]
    },
    {
     "name": "stderr",
     "output_type": "stream",
     "text": [
      "Epoch 1 - Training:   2%|▏         | 60/3881 [02:04<1:27:27,  1.37s/it]"
     ]
    },
    {
     "name": "stdout",
     "output_type": "stream",
     "text": [
      "Cos sim after patch embed: 0.19298245012760162354\n",
      "Cos sim after encoder: 0.58805042505264282227\n",
      "Cos sim after prepare decoder in: 0.38835740089416503906\n",
      "Cos sim after decoder: 0.26792865991592407227\n"
     ]
    },
    {
     "name": "stderr",
     "output_type": "stream",
     "text": [
      "Epoch 1 - Training:   2%|▏         | 61/3881 [02:05<1:20:17,  1.26s/it]"
     ]
    },
    {
     "name": "stdout",
     "output_type": "stream",
     "text": [
      "Cos sim after patch embed: 0.20524916052818298340\n",
      "Cos sim after encoder: 0.59978932142257690430\n",
      "Cos sim after prepare decoder in: 0.39008665084838867188\n",
      "Cos sim after decoder: 0.26485100388526916504\n"
     ]
    },
    {
     "name": "stderr",
     "output_type": "stream",
     "text": [
      "Epoch 1 - Training:   2%|▏         | 62/3881 [02:06<1:17:21,  1.22s/it]"
     ]
    },
    {
     "name": "stdout",
     "output_type": "stream",
     "text": [
      "Cos sim after patch embed: 0.21479323506355285645\n",
      "Cos sim after encoder: 0.60747313499450683594\n",
      "Cos sim after prepare decoder in: 0.39115601778030395508\n",
      "Cos sim after decoder: 0.26206588745117187500\n"
     ]
    },
    {
     "name": "stderr",
     "output_type": "stream",
     "text": [
      "Epoch 1 - Training:   2%|▏         | 63/3881 [02:07<1:16:53,  1.21s/it]"
     ]
    },
    {
     "name": "stdout",
     "output_type": "stream",
     "text": [
      "Cos sim after patch embed: 0.19064894318580627441\n",
      "Cos sim after encoder: 0.59239077568054199219\n",
      "Cos sim after prepare decoder in: 0.39058935642242431641\n",
      "Cos sim after decoder: 0.26000481843948364258\n"
     ]
    },
    {
     "name": "stderr",
     "output_type": "stream",
     "text": [
      "Epoch 1 - Training:   2%|▏         | 64/3881 [02:08<1:13:48,  1.16s/it]"
     ]
    },
    {
     "name": "stdout",
     "output_type": "stream",
     "text": [
      "Cos sim after patch embed: 0.21704973280429840088\n",
      "Cos sim after encoder: 0.61384767293930053711\n",
      "Cos sim after prepare decoder in: 0.39295744895935058594\n",
      "Cos sim after decoder: 0.25664851069450378418\n"
     ]
    },
    {
     "name": "stderr",
     "output_type": "stream",
     "text": [
      "Epoch 1 - Training:   2%|▏         | 65/3881 [02:09<1:11:55,  1.13s/it]"
     ]
    },
    {
     "name": "stdout",
     "output_type": "stream",
     "text": [
      "Cos sim after patch embed: 0.21492299437522888184\n",
      "Cos sim after encoder: 0.61865347623825073242\n",
      "Cos sim after prepare decoder in: 0.39432701468467712402\n",
      "Cos sim after decoder: 0.25240755081176757812\n"
     ]
    },
    {
     "name": "stderr",
     "output_type": "stream",
     "text": [
      "Epoch 1 - Training:   2%|▏         | 66/3881 [02:10<1:09:44,  1.10s/it]"
     ]
    },
    {
     "name": "stdout",
     "output_type": "stream",
     "text": [
      "Cos sim after patch embed: 0.19998514652252197266\n",
      "Cos sim after encoder: 0.60734391212463378906\n",
      "Cos sim after prepare decoder in: 0.39393472671508789062\n",
      "Cos sim after decoder: 0.25132685899734497070\n"
     ]
    },
    {
     "name": "stderr",
     "output_type": "stream",
     "text": [
      "Epoch 1 - Training:   2%|▏         | 67/3881 [02:11<1:07:51,  1.07s/it]"
     ]
    },
    {
     "name": "stdout",
     "output_type": "stream",
     "text": [
      "Cos sim after patch embed: 0.22703911364078521729\n",
      "Cos sim after encoder: 0.63612782955169677734\n",
      "Cos sim after prepare decoder in: 0.39692455530166625977\n",
      "Cos sim after decoder: 0.24798576533794403076\n"
     ]
    },
    {
     "name": "stderr",
     "output_type": "stream",
     "text": [
      "Epoch 1 - Training:   2%|▏         | 68/3881 [02:12<1:06:28,  1.05s/it]"
     ]
    },
    {
     "name": "stdout",
     "output_type": "stream",
     "text": [
      "Cos sim after patch embed: 0.21651552617549896240\n",
      "Cos sim after encoder: 0.62348914146423339844\n",
      "Cos sim after prepare decoder in: 0.39672517776489257812\n",
      "Cos sim after decoder: 0.24569275975227355957\n"
     ]
    },
    {
     "name": "stderr",
     "output_type": "stream",
     "text": [
      "Epoch 1 - Training:   2%|▏         | 69/3881 [02:13<1:06:07,  1.04s/it]"
     ]
    },
    {
     "name": "stdout",
     "output_type": "stream",
     "text": [
      "Cos sim after patch embed: 0.21227182447910308838\n",
      "Cos sim after encoder: 0.62717175483703613281\n",
      "Cos sim after prepare decoder in: 0.39811360836029052734\n",
      "Cos sim after decoder: 0.24172513186931610107\n"
     ]
    },
    {
     "name": "stderr",
     "output_type": "stream",
     "text": [
      "Epoch 1 - Training:   2%|▏         | 70/3881 [02:14<1:07:36,  1.06s/it]"
     ]
    },
    {
     "name": "stdout",
     "output_type": "stream",
     "text": [
      "Cos sim after patch embed: 0.20899403095245361328\n",
      "Cos sim after encoder: 0.62793695926666259766\n",
      "Cos sim after prepare decoder in: 0.39904180169105529785\n",
      "Cos sim after decoder: 0.23891501128673553467\n"
     ]
    },
    {
     "name": "stderr",
     "output_type": "stream",
     "text": [
      "Epoch 1 - Training:   2%|▏         | 71/3881 [02:15<1:08:10,  1.07s/it]"
     ]
    },
    {
     "name": "stdout",
     "output_type": "stream",
     "text": [
      "Cos sim after patch embed: 0.19346921145915985107\n",
      "Cos sim after encoder: 0.61517214775085449219\n",
      "Cos sim after prepare decoder in: 0.39882418513298034668\n",
      "Cos sim after decoder: 0.23534941673278808594\n"
     ]
    },
    {
     "name": "stderr",
     "output_type": "stream",
     "text": [
      "Epoch 1 - Training:   2%|▏         | 72/3881 [02:16<1:09:26,  1.09s/it]"
     ]
    },
    {
     "name": "stdout",
     "output_type": "stream",
     "text": [
      "Cos sim after patch embed: 0.22582566738128662109\n",
      "Cos sim after encoder: 0.64544284343719482422\n",
      "Cos sim after prepare decoder in: 0.40213206410408020020\n",
      "Cos sim after decoder: 0.23306423425674438477\n"
     ]
    },
    {
     "name": "stderr",
     "output_type": "stream",
     "text": [
      "Epoch 1 - Training:   2%|▏         | 73/3881 [02:18<1:10:24,  1.11s/it]"
     ]
    },
    {
     "name": "stdout",
     "output_type": "stream",
     "text": [
      "Cos sim after patch embed: 0.19361613690853118896\n",
      "Cos sim after encoder: 0.61471253633499145508\n",
      "Cos sim after prepare decoder in: 0.40082338452339172363\n",
      "Cos sim after decoder: 0.22984474897384643555\n"
     ]
    },
    {
     "name": "stderr",
     "output_type": "stream",
     "text": [
      "Epoch 1 - Training:   2%|▏         | 74/3881 [02:19<1:13:00,  1.15s/it]"
     ]
    },
    {
     "name": "stdout",
     "output_type": "stream",
     "text": [
      "Cos sim after patch embed: 0.22197872400283813477\n",
      "Cos sim after encoder: 0.63937026262283325195\n",
      "Cos sim after prepare decoder in: 0.40380203723907470703\n",
      "Cos sim after decoder: 0.22726193070411682129\n"
     ]
    },
    {
     "name": "stderr",
     "output_type": "stream",
     "text": [
      "Epoch 1 - Training:   2%|▏         | 75/3881 [02:20<1:12:22,  1.14s/it]"
     ]
    },
    {
     "name": "stdout",
     "output_type": "stream",
     "text": [
      "Cos sim after patch embed: 0.23825784027576446533\n",
      "Cos sim after encoder: 0.65920037031173706055\n",
      "Cos sim after prepare decoder in: 0.40580743551254272461\n",
      "Cos sim after decoder: 0.22287860512733459473\n"
     ]
    },
    {
     "name": "stderr",
     "output_type": "stream",
     "text": [
      "Epoch 1 - Training:   2%|▏         | 76/3881 [02:21<1:11:30,  1.13s/it]"
     ]
    },
    {
     "name": "stdout",
     "output_type": "stream",
     "text": [
      "Cos sim after patch embed: 0.19922800362110137939\n",
      "Cos sim after encoder: 0.62991940975189208984\n",
      "Cos sim after prepare decoder in: 0.40449184179306030273\n",
      "Cos sim after decoder: 0.22121527791023254395\n"
     ]
    },
    {
     "name": "stderr",
     "output_type": "stream",
     "text": [
      "Epoch 1 - Training:   2%|▏         | 77/3881 [02:22<1:11:00,  1.12s/it]"
     ]
    },
    {
     "name": "stdout",
     "output_type": "stream",
     "text": [
      "Cos sim after patch embed: 0.24288925528526306152\n",
      "Cos sim after encoder: 0.66634315252304077148\n",
      "Cos sim after prepare decoder in: 0.40748521685600280762\n",
      "Cos sim after decoder: 0.21717058122158050537\n"
     ]
    },
    {
     "name": "stderr",
     "output_type": "stream",
     "text": [
      "                                                                       \r"
     ]
    },
    {
     "ename": "KeyboardInterrupt",
     "evalue": "",
     "output_type": "error",
     "traceback": [
      "\u001b[1;31m---------------------------------------------------------------------------\u001b[0m",
      "\u001b[1;31mKeyboardInterrupt\u001b[0m                         Traceback (most recent call last)",
      "Cell \u001b[1;32mIn[6], line 20\u001b[0m\n\u001b[0;32m      7\u001b[0m \u001b[38;5;28;01mfrom\u001b[39;00m \u001b[38;5;21;01mtrain_setup\u001b[39;00m \u001b[38;5;28;01mimport\u001b[39;00m Train\n\u001b[0;32m      8\u001b[0m trainer \u001b[38;5;241m=\u001b[39m Train(\n\u001b[0;32m      9\u001b[0m         img_size\u001b[38;5;241m=\u001b[39m\u001b[38;5;241m64\u001b[39m,\n\u001b[0;32m     10\u001b[0m         patch_size\u001b[38;5;241m=\u001b[39m\u001b[38;5;241m8\u001b[39m,\n\u001b[1;32m   (...)\u001b[0m\n\u001b[0;32m     17\u001b[0m         loss_weighting\u001b[38;5;241m=\u001b[39m(\u001b[38;5;241m1.0\u001b[39m, \u001b[38;5;241m0.75\u001b[39m, \u001b[38;5;241m0.50\u001b[39m),\n\u001b[0;32m     18\u001b[0m     )\n\u001b[1;32m---> 20\u001b[0m \u001b[43mtrainer\u001b[49m\u001b[38;5;241;43m.\u001b[39;49m\u001b[43mtrain\u001b[49m\u001b[43m(\u001b[49m\u001b[43mnum_epochs\u001b[49m\u001b[38;5;241;43m=\u001b[39;49m\u001b[38;5;241;43m50\u001b[39;49m\u001b[43m,\u001b[49m\u001b[43m \u001b[49m\u001b[43mlr\u001b[49m\u001b[38;5;241;43m=\u001b[39;49m\u001b[38;5;241;43m0.00035\u001b[39;49m\u001b[43m,\u001b[49m\u001b[43m \u001b[49m\u001b[43mcont\u001b[49m\u001b[38;5;241;43m=\u001b[39;49m\u001b[38;5;28;43;01mFalse\u001b[39;49;00m\u001b[43m,\u001b[49m\u001b[43m \u001b[49m\u001b[43mcheckpoint_path\u001b[49m\u001b[38;5;241;43m=\u001b[39;49m\u001b[38;5;124;43m\"\u001b[39;49m\u001b[38;5;124;43m/kaggle/working/Results/checkpoint.pth\u001b[39;49m\u001b[38;5;124;43m\"\u001b[39;49m\u001b[43m)\u001b[49m\n\u001b[0;32m     21\u001b[0m \u001b[38;5;66;03m# trainer.train(num_epochs=50, lr=0.0002, cont=True, checkpoint_path=\"/kaggle/working/Results/checkpoint.pth\")\u001b[39;00m\n",
      "File \u001b[1;32mc:\\Daniel\\High School\\Research\\MV_MAE_Implementation\\train_setup.py:72\u001b[0m, in \u001b[0;36mTrain.train\u001b[1;34m(self, num_epochs, lr, cont, checkpoint_path)\u001b[0m\n\u001b[0;32m     70\u001b[0m x \u001b[38;5;241m=\u001b[39m \u001b[38;5;28mself\u001b[39m\u001b[38;5;241m.\u001b[39mmodel(visible)\n\u001b[0;32m     71\u001b[0m loss \u001b[38;5;241m=\u001b[39m \u001b[38;5;28mself\u001b[39m\u001b[38;5;241m.\u001b[39mmodel\u001b[38;5;241m.\u001b[39mget_loss(x, masked)\n\u001b[1;32m---> 72\u001b[0m \u001b[43mloss\u001b[49m\u001b[38;5;241;43m.\u001b[39;49m\u001b[43mbackward\u001b[49m\u001b[43m(\u001b[49m\u001b[43m)\u001b[49m\n\u001b[0;32m     73\u001b[0m optimizer\u001b[38;5;241m.\u001b[39mstep()\n\u001b[0;32m     75\u001b[0m total_loss \u001b[38;5;241m+\u001b[39m\u001b[38;5;241m=\u001b[39m loss\u001b[38;5;241m.\u001b[39mitem()\n",
      "File \u001b[1;32mc:\\Users\\danie_gfshjqx\\AppData\\Local\\Programs\\Python\\Python312\\Lib\\site-packages\\torch\\_tensor.py:521\u001b[0m, in \u001b[0;36mTensor.backward\u001b[1;34m(self, gradient, retain_graph, create_graph, inputs)\u001b[0m\n\u001b[0;32m    511\u001b[0m \u001b[38;5;28;01mif\u001b[39;00m has_torch_function_unary(\u001b[38;5;28mself\u001b[39m):\n\u001b[0;32m    512\u001b[0m     \u001b[38;5;28;01mreturn\u001b[39;00m handle_torch_function(\n\u001b[0;32m    513\u001b[0m         Tensor\u001b[38;5;241m.\u001b[39mbackward,\n\u001b[0;32m    514\u001b[0m         (\u001b[38;5;28mself\u001b[39m,),\n\u001b[1;32m   (...)\u001b[0m\n\u001b[0;32m    519\u001b[0m         inputs\u001b[38;5;241m=\u001b[39minputs,\n\u001b[0;32m    520\u001b[0m     )\n\u001b[1;32m--> 521\u001b[0m \u001b[43mtorch\u001b[49m\u001b[38;5;241;43m.\u001b[39;49m\u001b[43mautograd\u001b[49m\u001b[38;5;241;43m.\u001b[39;49m\u001b[43mbackward\u001b[49m\u001b[43m(\u001b[49m\n\u001b[0;32m    522\u001b[0m \u001b[43m    \u001b[49m\u001b[38;5;28;43mself\u001b[39;49m\u001b[43m,\u001b[49m\u001b[43m \u001b[49m\u001b[43mgradient\u001b[49m\u001b[43m,\u001b[49m\u001b[43m \u001b[49m\u001b[43mretain_graph\u001b[49m\u001b[43m,\u001b[49m\u001b[43m \u001b[49m\u001b[43mcreate_graph\u001b[49m\u001b[43m,\u001b[49m\u001b[43m \u001b[49m\u001b[43minputs\u001b[49m\u001b[38;5;241;43m=\u001b[39;49m\u001b[43minputs\u001b[49m\n\u001b[0;32m    523\u001b[0m \u001b[43m\u001b[49m\u001b[43m)\u001b[49m\n",
      "File \u001b[1;32mc:\\Users\\danie_gfshjqx\\AppData\\Local\\Programs\\Python\\Python312\\Lib\\site-packages\\torch\\autograd\\__init__.py:289\u001b[0m, in \u001b[0;36mbackward\u001b[1;34m(tensors, grad_tensors, retain_graph, create_graph, grad_variables, inputs)\u001b[0m\n\u001b[0;32m    284\u001b[0m     retain_graph \u001b[38;5;241m=\u001b[39m create_graph\n\u001b[0;32m    286\u001b[0m \u001b[38;5;66;03m# The reason we repeat the same comment below is that\u001b[39;00m\n\u001b[0;32m    287\u001b[0m \u001b[38;5;66;03m# some Python versions print out the first line of a multi-line function\u001b[39;00m\n\u001b[0;32m    288\u001b[0m \u001b[38;5;66;03m# calls in the traceback and some print out the last line\u001b[39;00m\n\u001b[1;32m--> 289\u001b[0m \u001b[43m_engine_run_backward\u001b[49m\u001b[43m(\u001b[49m\n\u001b[0;32m    290\u001b[0m \u001b[43m    \u001b[49m\u001b[43mtensors\u001b[49m\u001b[43m,\u001b[49m\n\u001b[0;32m    291\u001b[0m \u001b[43m    \u001b[49m\u001b[43mgrad_tensors_\u001b[49m\u001b[43m,\u001b[49m\n\u001b[0;32m    292\u001b[0m \u001b[43m    \u001b[49m\u001b[43mretain_graph\u001b[49m\u001b[43m,\u001b[49m\n\u001b[0;32m    293\u001b[0m \u001b[43m    \u001b[49m\u001b[43mcreate_graph\u001b[49m\u001b[43m,\u001b[49m\n\u001b[0;32m    294\u001b[0m \u001b[43m    \u001b[49m\u001b[43minputs\u001b[49m\u001b[43m,\u001b[49m\n\u001b[0;32m    295\u001b[0m \u001b[43m    \u001b[49m\u001b[43mallow_unreachable\u001b[49m\u001b[38;5;241;43m=\u001b[39;49m\u001b[38;5;28;43;01mTrue\u001b[39;49;00m\u001b[43m,\u001b[49m\n\u001b[0;32m    296\u001b[0m \u001b[43m    \u001b[49m\u001b[43maccumulate_grad\u001b[49m\u001b[38;5;241;43m=\u001b[39;49m\u001b[38;5;28;43;01mTrue\u001b[39;49;00m\u001b[43m,\u001b[49m\n\u001b[0;32m    297\u001b[0m \u001b[43m\u001b[49m\u001b[43m)\u001b[49m\n",
      "File \u001b[1;32mc:\\Users\\danie_gfshjqx\\AppData\\Local\\Programs\\Python\\Python312\\Lib\\site-packages\\torch\\autograd\\graph.py:769\u001b[0m, in \u001b[0;36m_engine_run_backward\u001b[1;34m(t_outputs, *args, **kwargs)\u001b[0m\n\u001b[0;32m    767\u001b[0m     unregister_hooks \u001b[38;5;241m=\u001b[39m _register_logging_hooks_on_whole_graph(t_outputs)\n\u001b[0;32m    768\u001b[0m \u001b[38;5;28;01mtry\u001b[39;00m:\n\u001b[1;32m--> 769\u001b[0m     \u001b[38;5;28;01mreturn\u001b[39;00m \u001b[43mVariable\u001b[49m\u001b[38;5;241;43m.\u001b[39;49m\u001b[43m_execution_engine\u001b[49m\u001b[38;5;241;43m.\u001b[39;49m\u001b[43mrun_backward\u001b[49m\u001b[43m(\u001b[49m\u001b[43m  \u001b[49m\u001b[38;5;66;43;03m# Calls into the C++ engine to run the backward pass\u001b[39;49;00m\n\u001b[0;32m    770\u001b[0m \u001b[43m        \u001b[49m\u001b[43mt_outputs\u001b[49m\u001b[43m,\u001b[49m\u001b[43m \u001b[49m\u001b[38;5;241;43m*\u001b[39;49m\u001b[43margs\u001b[49m\u001b[43m,\u001b[49m\u001b[43m \u001b[49m\u001b[38;5;241;43m*\u001b[39;49m\u001b[38;5;241;43m*\u001b[39;49m\u001b[43mkwargs\u001b[49m\n\u001b[0;32m    771\u001b[0m \u001b[43m    \u001b[49m\u001b[43m)\u001b[49m  \u001b[38;5;66;03m# Calls into the C++ engine to run the backward pass\u001b[39;00m\n\u001b[0;32m    772\u001b[0m \u001b[38;5;28;01mfinally\u001b[39;00m:\n\u001b[0;32m    773\u001b[0m     \u001b[38;5;28;01mif\u001b[39;00m attach_logging_hooks:\n",
      "\u001b[1;31mKeyboardInterrupt\u001b[0m: "
     ]
    }
   ],
   "source": [
    "%load_ext autoreload\n",
    "%autoreload 2\n",
    "\n",
    "from train_setup import Train\n",
    "trainer = Train(\n",
    "        img_size=64,\n",
    "        patch_size=8,\n",
    "        batch_size=8,\n",
    "        in_channels=3,\n",
    "        encoder_embed_dim=384,\n",
    "        encoder_num_heads=3,\n",
    "        decoder_embed_dim=256,\n",
    "        decoder_num_heads=2,\n",
    "        loss_weighting=(1.0, 0.75, 0.50),\n",
    "    )\n",
    "\n",
    "trainer.train(num_epochs=50, lr=0.00035, cont=False, checkpoint_path=\"/kaggle/working/Results/checkpoint.pth\")\n",
    "# trainer.train(num_epochs=50, lr=0.0002, cont=True, checkpoint_path=\"/kaggle/working/Results/checkpoint.pth\")"
   ]
  },
  {
   "cell_type": "markdown",
   "id": "3ffa35b1",
   "metadata": {},
   "source": []
  },
  {
   "cell_type": "code",
   "execution_count": null,
   "id": "81f3d05d",
   "metadata": {},
   "outputs": [],
   "source": []
  }
 ],
 "metadata": {
  "kernelspec": {
   "display_name": "Python 3",
   "language": "python",
   "name": "python3"
  },
  "language_info": {
   "codemirror_mode": {
    "name": "ipython",
    "version": 3
   },
   "file_extension": ".py",
   "mimetype": "text/x-python",
   "name": "python",
   "nbconvert_exporter": "python",
   "pygments_lexer": "ipython3",
   "version": "3.12.5"
  }
 },
 "nbformat": 4,
 "nbformat_minor": 5
}
