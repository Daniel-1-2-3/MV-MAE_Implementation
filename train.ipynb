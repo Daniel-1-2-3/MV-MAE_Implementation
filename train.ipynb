{
 "cells": [
  {
   "cell_type": "code",
   "execution_count": 16,
   "id": "cde2433d",
   "metadata": {},
   "outputs": [
    {
     "name": "stdout",
     "output_type": "stream",
     "text": [
      "The autoreload extension is already loaded. To reload it, use:\n",
      "  %reload_ext autoreload\n",
      "Loading dataset...\n",
      "Running on cpu\n"
     ]
    },
    {
     "name": "stderr",
     "output_type": "stream",
     "text": [
      "Epoch 1 - Training:   0%|          | 0/1940 [00:00<?, ?it/s]"
     ]
    },
    {
     "name": "stdout",
     "output_type": "stream",
     "text": [
      "AFTER ENCODER PREP:  0.9790414571762085\n",
      "AFTER ENCODER:  0.9746876358985901\n"
     ]
    },
    {
     "name": "stderr",
     "output_type": "stream",
     "text": [
      "Epoch 1 - Training:   0%|          | 1/1940 [00:35<19:03:55, 35.40s/it]"
     ]
    },
    {
     "name": "stdout",
     "output_type": "stream",
     "text": [
      "AFTER ENCODER PREP:  0.9823092818260193\n",
      "AFTER ENCODER:  0.9793074727058411\n"
     ]
    },
    {
     "name": "stderr",
     "output_type": "stream",
     "text": [
      "Epoch 1 - Training:   0%|          | 2/1940 [00:37<8:22:20, 15.55s/it] "
     ]
    },
    {
     "name": "stdout",
     "output_type": "stream",
     "text": [
      "AFTER ENCODER PREP:  0.9783599376678467\n",
      "AFTER ENCODER:  0.9743872880935669\n"
     ]
    },
    {
     "name": "stderr",
     "output_type": "stream",
     "text": [
      "Epoch 1 - Training:   0%|          | 3/1940 [00:37<4:38:06,  8.61s/it]"
     ]
    },
    {
     "name": "stdout",
     "output_type": "stream",
     "text": [
      "AFTER ENCODER PREP:  0.9809967875480652\n",
      "AFTER ENCODER:  0.97784423828125\n"
     ]
    },
    {
     "name": "stderr",
     "output_type": "stream",
     "text": [
      "Epoch 1 - Training:   0%|          | 4/1940 [00:37<2:52:40,  5.35s/it]"
     ]
    },
    {
     "name": "stdout",
     "output_type": "stream",
     "text": [
      "AFTER ENCODER PREP:  0.9807184338569641\n",
      "AFTER ENCODER:  0.9776793718338013\n"
     ]
    },
    {
     "name": "stderr",
     "output_type": "stream",
     "text": [
      "Epoch 1 - Training:   0%|          | 5/1940 [00:38<1:55:44,  3.59s/it]"
     ]
    },
    {
     "name": "stdout",
     "output_type": "stream",
     "text": [
      "AFTER ENCODER PREP:  0.9780867695808411\n",
      "AFTER ENCODER:  0.9742595553398132\n"
     ]
    },
    {
     "name": "stderr",
     "output_type": "stream",
     "text": [
      "Epoch 1 - Training:   0%|          | 6/1940 [00:38<1:20:17,  2.49s/it]"
     ]
    },
    {
     "name": "stdout",
     "output_type": "stream",
     "text": [
      "AFTER ENCODER PREP:  0.9770697355270386\n",
      "AFTER ENCODER:  0.9734199047088623\n"
     ]
    },
    {
     "name": "stderr",
     "output_type": "stream",
     "text": [
      "Epoch 1 - Training:   0%|          | 7/1940 [00:38<57:54,  1.80s/it]  "
     ]
    },
    {
     "name": "stdout",
     "output_type": "stream",
     "text": [
      "AFTER ENCODER PREP:  0.9810966849327087\n",
      "AFTER ENCODER:  0.9779230952262878\n"
     ]
    },
    {
     "name": "stderr",
     "output_type": "stream",
     "text": [
      "Epoch 1 - Training:   0%|          | 8/1940 [00:39<42:56,  1.33s/it]"
     ]
    },
    {
     "name": "stdout",
     "output_type": "stream",
     "text": [
      "AFTER ENCODER PREP:  0.9797685742378235\n",
      "AFTER ENCODER:  0.9766978621482849\n"
     ]
    },
    {
     "name": "stderr",
     "output_type": "stream",
     "text": [
      "Epoch 1 - Training:   0%|          | 9/1940 [00:39<34:18,  1.07s/it]"
     ]
    },
    {
     "name": "stdout",
     "output_type": "stream",
     "text": [
      "AFTER ENCODER PREP:  0.9802123308181763\n",
      "AFTER ENCODER:  0.9770822525024414\n"
     ]
    },
    {
     "name": "stderr",
     "output_type": "stream",
     "text": [
      "Epoch 1 - Training:   1%|          | 10/1940 [00:40<27:28,  1.17it/s]"
     ]
    },
    {
     "name": "stdout",
     "output_type": "stream",
     "text": [
      "AFTER ENCODER PREP:  0.9769632816314697\n",
      "AFTER ENCODER:  0.9756734371185303\n"
     ]
    },
    {
     "name": "stderr",
     "output_type": "stream",
     "text": [
      "Epoch 1 - Training:   1%|          | 11/1940 [00:40<23:35,  1.36it/s]"
     ]
    },
    {
     "name": "stdout",
     "output_type": "stream",
     "text": [
      "AFTER ENCODER PREP:  0.9738366007804871\n",
      "AFTER ENCODER:  0.970417857170105\n"
     ]
    },
    {
     "name": "stderr",
     "output_type": "stream",
     "text": [
      "Epoch 1 - Training:   1%|          | 12/1940 [00:41<21:08,  1.52it/s]"
     ]
    },
    {
     "name": "stdout",
     "output_type": "stream",
     "text": [
      "AFTER ENCODER PREP:  0.972783088684082\n",
      "AFTER ENCODER:  0.9695076942443848\n"
     ]
    },
    {
     "name": "stderr",
     "output_type": "stream",
     "text": [
      "Epoch 1 - Training:   1%|          | 13/1940 [00:41<18:06,  1.77it/s]"
     ]
    },
    {
     "name": "stdout",
     "output_type": "stream",
     "text": [
      "AFTER ENCODER PREP:  0.9773160815238953\n",
      "AFTER ENCODER:  0.9770686030387878\n"
     ]
    },
    {
     "name": "stderr",
     "output_type": "stream",
     "text": [
      "Epoch 1 - Training:   1%|          | 14/1940 [00:41<16:20,  1.96it/s]"
     ]
    },
    {
     "name": "stdout",
     "output_type": "stream",
     "text": [
      "AFTER ENCODER PREP:  0.9783491492271423\n",
      "AFTER ENCODER:  0.9773508906364441\n"
     ]
    },
    {
     "name": "stderr",
     "output_type": "stream",
     "text": [
      "Epoch 1 - Training:   1%|          | 15/1940 [00:42<14:40,  2.19it/s]"
     ]
    },
    {
     "name": "stdout",
     "output_type": "stream",
     "text": [
      "AFTER ENCODER PREP:  0.9813781380653381\n",
      "AFTER ENCODER:  0.9791577458381653\n"
     ]
    },
    {
     "name": "stderr",
     "output_type": "stream",
     "text": [
      "Epoch 1 - Training:   1%|          | 16/1940 [00:42<13:53,  2.31it/s]"
     ]
    },
    {
     "name": "stdout",
     "output_type": "stream",
     "text": [
      "AFTER ENCODER PREP:  0.9796645641326904\n",
      "AFTER ENCODER:  0.9787142276763916\n"
     ]
    },
    {
     "name": "stderr",
     "output_type": "stream",
     "text": [
      "Epoch 1 - Training:   1%|          | 17/1940 [00:42<13:31,  2.37it/s]"
     ]
    },
    {
     "name": "stdout",
     "output_type": "stream",
     "text": [
      "AFTER ENCODER PREP:  0.9790357947349548\n",
      "AFTER ENCODER:  0.9785113334655762\n"
     ]
    },
    {
     "name": "stderr",
     "output_type": "stream",
     "text": [
      "Epoch 1 - Training:   1%|          | 18/1940 [00:43<12:41,  2.53it/s]"
     ]
    },
    {
     "name": "stdout",
     "output_type": "stream",
     "text": [
      "AFTER ENCODER PREP:  0.9749864339828491\n",
      "AFTER ENCODER:  0.9765084981918335\n"
     ]
    },
    {
     "name": "stderr",
     "output_type": "stream",
     "text": [
      "Epoch 1 - Training:   1%|          | 19/1940 [00:43<12:05,  2.65it/s]"
     ]
    },
    {
     "name": "stdout",
     "output_type": "stream",
     "text": [
      "AFTER ENCODER PREP:  0.9805071353912354\n",
      "AFTER ENCODER:  0.9790138602256775\n"
     ]
    },
    {
     "name": "stderr",
     "output_type": "stream",
     "text": [
      "Epoch 1 - Training:   1%|          | 20/1940 [00:43<11:43,  2.73it/s]"
     ]
    },
    {
     "name": "stdout",
     "output_type": "stream",
     "text": [
      "AFTER ENCODER PREP:  0.9747095108032227\n",
      "AFTER ENCODER:  0.9727808833122253\n"
     ]
    },
    {
     "name": "stderr",
     "output_type": "stream",
     "text": [
      "Epoch 1 - Training:   1%|          | 21/1940 [00:44<11:45,  2.72it/s]"
     ]
    },
    {
     "name": "stdout",
     "output_type": "stream",
     "text": [
      "AFTER ENCODER PREP:  0.9753409624099731\n",
      "AFTER ENCODER:  0.9768931269645691\n"
     ]
    },
    {
     "name": "stderr",
     "output_type": "stream",
     "text": [
      "Epoch 1 - Training:   1%|          | 22/1940 [00:44<11:20,  2.82it/s]"
     ]
    },
    {
     "name": "stdout",
     "output_type": "stream",
     "text": [
      "AFTER ENCODER PREP:  0.974708080291748\n",
      "AFTER ENCODER:  0.9767271280288696\n"
     ]
    },
    {
     "name": "stderr",
     "output_type": "stream",
     "text": [
      "Epoch 1 - Training:   1%|          | 23/1940 [00:45<11:29,  2.78it/s]"
     ]
    },
    {
     "name": "stdout",
     "output_type": "stream",
     "text": [
      "AFTER ENCODER PREP:  0.9682255387306213\n",
      "AFTER ENCODER:  0.9701566696166992\n"
     ]
    },
    {
     "name": "stderr",
     "output_type": "stream",
     "text": [
      "Epoch 1 - Training:   1%|          | 24/1940 [00:45<11:24,  2.80it/s]"
     ]
    },
    {
     "name": "stdout",
     "output_type": "stream",
     "text": [
      "AFTER ENCODER PREP:  0.9759506583213806\n",
      "AFTER ENCODER:  0.9775565266609192\n"
     ]
    },
    {
     "name": "stderr",
     "output_type": "stream",
     "text": [
      "Epoch 1 - Training:   1%|▏         | 25/1940 [00:45<11:07,  2.87it/s]"
     ]
    },
    {
     "name": "stdout",
     "output_type": "stream",
     "text": [
      "AFTER ENCODER PREP:  0.972208559513092\n",
      "AFTER ENCODER:  0.9734063744544983\n"
     ]
    },
    {
     "name": "stderr",
     "output_type": "stream",
     "text": [
      "Epoch 1 - Training:   1%|▏         | 26/1940 [00:46<10:58,  2.91it/s]"
     ]
    },
    {
     "name": "stdout",
     "output_type": "stream",
     "text": [
      "AFTER ENCODER PREP:  0.9701391458511353\n",
      "AFTER ENCODER:  0.9745389819145203\n"
     ]
    },
    {
     "name": "stderr",
     "output_type": "stream",
     "text": [
      "Epoch 1 - Training:   1%|▏         | 27/1940 [00:46<10:52,  2.93it/s]"
     ]
    },
    {
     "name": "stdout",
     "output_type": "stream",
     "text": [
      "AFTER ENCODER PREP:  0.9656895995140076\n",
      "AFTER ENCODER:  0.9678628444671631\n"
     ]
    },
    {
     "name": "stderr",
     "output_type": "stream",
     "text": [
      "Epoch 1 - Training:   1%|▏         | 28/1940 [00:46<10:41,  2.98it/s]"
     ]
    },
    {
     "name": "stdout",
     "output_type": "stream",
     "text": [
      "AFTER ENCODER PREP:  0.9702639579772949\n",
      "AFTER ENCODER:  0.9728962182998657\n"
     ]
    },
    {
     "name": "stderr",
     "output_type": "stream",
     "text": [
      "Epoch 1 - Training:   1%|▏         | 29/1940 [00:47<10:36,  3.00it/s]"
     ]
    },
    {
     "name": "stdout",
     "output_type": "stream",
     "text": [
      "AFTER ENCODER PREP:  0.9614415168762207\n",
      "AFTER ENCODER:  0.9627180099487305\n"
     ]
    },
    {
     "name": "stderr",
     "output_type": "stream",
     "text": [
      "Epoch 1 - Training:   2%|▏         | 30/1940 [00:47<11:13,  2.83it/s]"
     ]
    },
    {
     "name": "stdout",
     "output_type": "stream",
     "text": [
      "AFTER ENCODER PREP:  0.9757043123245239\n",
      "AFTER ENCODER:  0.9762301445007324\n"
     ]
    },
    {
     "name": "stderr",
     "output_type": "stream",
     "text": [
      "Epoch 1 - Training:   2%|▏         | 31/1940 [00:47<10:43,  2.97it/s]"
     ]
    },
    {
     "name": "stdout",
     "output_type": "stream",
     "text": [
      "AFTER ENCODER PREP:  0.971200168132782\n",
      "AFTER ENCODER:  0.9704055786132812\n"
     ]
    },
    {
     "name": "stderr",
     "output_type": "stream",
     "text": [
      "Epoch 1 - Training:   2%|▏         | 32/1940 [00:48<10:31,  3.02it/s]"
     ]
    },
    {
     "name": "stdout",
     "output_type": "stream",
     "text": [
      "AFTER ENCODER PREP:  0.961655855178833\n",
      "AFTER ENCODER:  0.9562007784843445\n"
     ]
    },
    {
     "name": "stderr",
     "output_type": "stream",
     "text": [
      "Epoch 1 - Training:   2%|▏         | 33/1940 [00:48<10:27,  3.04it/s]"
     ]
    },
    {
     "name": "stdout",
     "output_type": "stream",
     "text": [
      "AFTER ENCODER PREP:  0.9640635848045349\n",
      "AFTER ENCODER:  0.9556551575660706\n"
     ]
    },
    {
     "name": "stderr",
     "output_type": "stream",
     "text": [
      "Epoch 1 - Training:   2%|▏         | 34/1940 [00:48<10:32,  3.01it/s]"
     ]
    },
    {
     "name": "stdout",
     "output_type": "stream",
     "text": [
      "AFTER ENCODER PREP:  0.974711537361145\n",
      "AFTER ENCODER:  0.9716484546661377\n"
     ]
    },
    {
     "name": "stderr",
     "output_type": "stream",
     "text": [
      "Epoch 1 - Training:   2%|▏         | 35/1940 [00:49<10:29,  3.03it/s]"
     ]
    },
    {
     "name": "stdout",
     "output_type": "stream",
     "text": [
      "AFTER ENCODER PREP:  0.9643391966819763\n",
      "AFTER ENCODER:  0.9494759440422058\n"
     ]
    },
    {
     "name": "stderr",
     "output_type": "stream",
     "text": [
      "Epoch 1 - Training:   2%|▏         | 36/1940 [00:49<10:26,  3.04it/s]"
     ]
    },
    {
     "name": "stdout",
     "output_type": "stream",
     "text": [
      "AFTER ENCODER PREP:  0.9438198208808899\n",
      "AFTER ENCODER:  0.9086331725120544\n"
     ]
    },
    {
     "name": "stderr",
     "output_type": "stream",
     "text": [
      "Epoch 1 - Training:   2%|▏         | 37/1940 [00:49<10:32,  3.01it/s]"
     ]
    },
    {
     "name": "stdout",
     "output_type": "stream",
     "text": [
      "AFTER ENCODER PREP:  0.9768710136413574\n",
      "AFTER ENCODER:  0.967217743396759\n"
     ]
    },
    {
     "name": "stderr",
     "output_type": "stream",
     "text": [
      "Epoch 1 - Training:   2%|▏         | 38/1940 [00:50<10:27,  3.03it/s]"
     ]
    },
    {
     "name": "stdout",
     "output_type": "stream",
     "text": [
      "AFTER ENCODER PREP:  0.9634506106376648\n",
      "AFTER ENCODER:  0.9347883462905884\n"
     ]
    },
    {
     "name": "stderr",
     "output_type": "stream",
     "text": [
      "Epoch 1 - Training:   2%|▏         | 39/1940 [00:50<10:20,  3.06it/s]"
     ]
    },
    {
     "name": "stdout",
     "output_type": "stream",
     "text": [
      "AFTER ENCODER PREP:  0.9732732772827148\n",
      "AFTER ENCODER:  0.9482592344284058\n"
     ]
    },
    {
     "name": "stderr",
     "output_type": "stream",
     "text": [
      "Epoch 1 - Training:   2%|▏         | 40/1940 [00:50<10:19,  3.07it/s]"
     ]
    },
    {
     "name": "stdout",
     "output_type": "stream",
     "text": [
      "AFTER ENCODER PREP:  0.9574774503707886\n",
      "AFTER ENCODER:  0.9093417525291443\n"
     ]
    },
    {
     "name": "stderr",
     "output_type": "stream",
     "text": [
      "Epoch 1 - Training:   2%|▏         | 41/1940 [00:50<10:10,  3.11it/s]"
     ]
    },
    {
     "name": "stdout",
     "output_type": "stream",
     "text": [
      "AFTER ENCODER PREP:  0.9652308821678162\n",
      "AFTER ENCODER:  0.8789289593696594\n"
     ]
    },
    {
     "name": "stderr",
     "output_type": "stream",
     "text": [
      "Epoch 1 - Training:   2%|▏         | 42/1940 [00:51<10:18,  3.07it/s]"
     ]
    },
    {
     "name": "stdout",
     "output_type": "stream",
     "text": [
      "AFTER ENCODER PREP:  0.9496945738792419\n",
      "AFTER ENCODER:  0.7151512503623962\n"
     ]
    },
    {
     "name": "stderr",
     "output_type": "stream",
     "text": [
      "Epoch 1 - Training:   2%|▏         | 43/1940 [00:51<10:48,  2.93it/s]"
     ]
    },
    {
     "name": "stdout",
     "output_type": "stream",
     "text": [
      "AFTER ENCODER PREP:  0.9729718565940857\n",
      "AFTER ENCODER:  0.8625248670578003\n"
     ]
    },
    {
     "name": "stderr",
     "output_type": "stream",
     "text": [
      "Epoch 1 - Training:   2%|▏         | 44/1940 [00:52<10:44,  2.94it/s]"
     ]
    },
    {
     "name": "stdout",
     "output_type": "stream",
     "text": [
      "AFTER ENCODER PREP:  0.9424201846122742\n",
      "AFTER ENCODER:  0.5505096912384033\n"
     ]
    },
    {
     "name": "stderr",
     "output_type": "stream",
     "text": [
      "Epoch 1 - Training:   2%|▏         | 45/1940 [00:52<10:33,  2.99it/s]"
     ]
    },
    {
     "name": "stdout",
     "output_type": "stream",
     "text": [
      "AFTER ENCODER PREP:  0.95307457447052\n",
      "AFTER ENCODER:  0.586922287940979\n"
     ]
    },
    {
     "name": "stderr",
     "output_type": "stream",
     "text": [
      "Epoch 1 - Training:   2%|▏         | 46/1940 [00:52<10:33,  2.99it/s]"
     ]
    },
    {
     "name": "stdout",
     "output_type": "stream",
     "text": [
      "AFTER ENCODER PREP:  0.9455149173736572\n",
      "AFTER ENCODER:  0.49577996134757996\n"
     ]
    },
    {
     "name": "stderr",
     "output_type": "stream",
     "text": [
      "Epoch 1 - Training:   2%|▏         | 47/1940 [00:53<10:32,  2.99it/s]"
     ]
    },
    {
     "name": "stdout",
     "output_type": "stream",
     "text": [
      "AFTER ENCODER PREP:  0.9490060210227966\n",
      "AFTER ENCODER:  0.3764263689517975\n"
     ]
    },
    {
     "name": "stderr",
     "output_type": "stream",
     "text": [
      "Epoch 1 - Training:   2%|▏         | 48/1940 [00:53<10:23,  3.04it/s]"
     ]
    },
    {
     "name": "stdout",
     "output_type": "stream",
     "text": [
      "AFTER ENCODER PREP:  0.9554160237312317\n",
      "AFTER ENCODER:  0.6049565076828003\n"
     ]
    },
    {
     "name": "stderr",
     "output_type": "stream",
     "text": [
      "Epoch 1 - Training:   3%|▎         | 49/1940 [00:53<10:20,  3.05it/s]"
     ]
    },
    {
     "name": "stdout",
     "output_type": "stream",
     "text": [
      "AFTER ENCODER PREP:  0.9453251361846924\n",
      "AFTER ENCODER:  0.40369173884391785\n"
     ]
    },
    {
     "name": "stderr",
     "output_type": "stream",
     "text": [
      "Epoch 1 - Training:   3%|▎         | 50/1940 [00:53<10:22,  3.04it/s]"
     ]
    },
    {
     "name": "stdout",
     "output_type": "stream",
     "text": [
      "AFTER ENCODER PREP:  0.9612456560134888\n",
      "AFTER ENCODER:  0.5636022686958313\n"
     ]
    },
    {
     "name": "stderr",
     "output_type": "stream",
     "text": [
      "Epoch 1 - Training:   3%|▎         | 51/1940 [00:54<10:10,  3.10it/s]"
     ]
    },
    {
     "name": "stdout",
     "output_type": "stream",
     "text": [
      "AFTER ENCODER PREP:  0.9645562171936035\n",
      "AFTER ENCODER:  0.5480838418006897\n"
     ]
    },
    {
     "name": "stderr",
     "output_type": "stream",
     "text": [
      "Epoch 1 - Training:   3%|▎         | 52/1940 [00:54<10:07,  3.11it/s]"
     ]
    },
    {
     "name": "stdout",
     "output_type": "stream",
     "text": [
      "AFTER ENCODER PREP:  0.9628876447677612\n",
      "AFTER ENCODER:  0.6460010409355164\n"
     ]
    },
    {
     "name": "stderr",
     "output_type": "stream",
     "text": [
      "Epoch 1 - Training:   3%|▎         | 53/1940 [00:54<10:18,  3.05it/s]"
     ]
    },
    {
     "name": "stdout",
     "output_type": "stream",
     "text": [
      "AFTER ENCODER PREP:  0.9320095181465149\n",
      "AFTER ENCODER:  0.2397911548614502\n"
     ]
    },
    {
     "name": "stderr",
     "output_type": "stream",
     "text": [
      "Epoch 1 - Training:   3%|▎         | 54/1940 [00:55<10:51,  2.90it/s]"
     ]
    },
    {
     "name": "stdout",
     "output_type": "stream",
     "text": [
      "AFTER ENCODER PREP:  0.9537321925163269\n",
      "AFTER ENCODER:  0.2886993885040283\n"
     ]
    },
    {
     "name": "stderr",
     "output_type": "stream",
     "text": [
      "Epoch 1 - Training:   3%|▎         | 55/1940 [00:55<10:36,  2.96it/s]"
     ]
    },
    {
     "name": "stdout",
     "output_type": "stream",
     "text": [
      "AFTER ENCODER PREP:  0.9432093501091003\n",
      "AFTER ENCODER:  0.28205931186676025\n"
     ]
    },
    {
     "name": "stderr",
     "output_type": "stream",
     "text": [
      "Epoch 1 - Training:   3%|▎         | 56/1940 [00:55<10:31,  2.98it/s]"
     ]
    },
    {
     "name": "stdout",
     "output_type": "stream",
     "text": [
      "AFTER ENCODER PREP:  0.9559441804885864\n",
      "AFTER ENCODER:  0.3320420980453491\n"
     ]
    },
    {
     "name": "stderr",
     "output_type": "stream",
     "text": [
      "Epoch 1 - Training:   3%|▎         | 57/1940 [00:56<10:49,  2.90it/s]"
     ]
    },
    {
     "name": "stdout",
     "output_type": "stream",
     "text": [
      "AFTER ENCODER PREP:  0.9476556777954102\n",
      "AFTER ENCODER:  0.3750714957714081\n"
     ]
    },
    {
     "name": "stderr",
     "output_type": "stream",
     "text": [
      "Epoch 1 - Training:   3%|▎         | 58/1940 [00:56<10:52,  2.89it/s]"
     ]
    },
    {
     "name": "stdout",
     "output_type": "stream",
     "text": [
      "AFTER ENCODER PREP:  0.9518201351165771\n",
      "AFTER ENCODER:  0.3906528949737549\n"
     ]
    },
    {
     "name": "stderr",
     "output_type": "stream",
     "text": [
      "Epoch 1 - Training:   3%|▎         | 59/1940 [00:57<11:19,  2.77it/s]"
     ]
    },
    {
     "name": "stdout",
     "output_type": "stream",
     "text": [
      "AFTER ENCODER PREP:  0.9435697197914124\n",
      "AFTER ENCODER:  0.3505697250366211\n"
     ]
    },
    {
     "name": "stderr",
     "output_type": "stream",
     "text": [
      "Epoch 1 - Training:   3%|▎         | 60/1940 [00:57<12:00,  2.61it/s]"
     ]
    },
    {
     "name": "stdout",
     "output_type": "stream",
     "text": [
      "AFTER ENCODER PREP:  0.9562392830848694\n",
      "AFTER ENCODER:  0.4746626317501068\n"
     ]
    },
    {
     "name": "stderr",
     "output_type": "stream",
     "text": [
      "Epoch 1 - Training:   3%|▎         | 61/1940 [00:57<11:32,  2.71it/s]"
     ]
    },
    {
     "name": "stdout",
     "output_type": "stream",
     "text": [
      "AFTER ENCODER PREP:  0.9579418301582336\n",
      "AFTER ENCODER:  0.6688497066497803\n"
     ]
    },
    {
     "name": "stderr",
     "output_type": "stream",
     "text": [
      "Epoch 1 - Training:   3%|▎         | 62/1940 [00:58<11:31,  2.71it/s]"
     ]
    },
    {
     "name": "stdout",
     "output_type": "stream",
     "text": [
      "AFTER ENCODER PREP:  0.9525409936904907\n",
      "AFTER ENCODER:  0.3960883319377899\n"
     ]
    },
    {
     "name": "stderr",
     "output_type": "stream",
     "text": [
      "Epoch 1 - Training:   3%|▎         | 63/1940 [00:58<11:22,  2.75it/s]"
     ]
    },
    {
     "name": "stdout",
     "output_type": "stream",
     "text": [
      "AFTER ENCODER PREP:  0.9470964670181274\n",
      "AFTER ENCODER:  0.41436925530433655\n"
     ]
    },
    {
     "name": "stderr",
     "output_type": "stream",
     "text": [
      "Epoch 1 - Training:   3%|▎         | 64/1940 [00:58<10:59,  2.84it/s]"
     ]
    },
    {
     "name": "stdout",
     "output_type": "stream",
     "text": [
      "AFTER ENCODER PREP:  0.9627971649169922\n",
      "AFTER ENCODER:  0.5089166164398193\n"
     ]
    },
    {
     "name": "stderr",
     "output_type": "stream",
     "text": [
      "Epoch 1 - Training:   3%|▎         | 65/1940 [00:59<10:42,  2.92it/s]"
     ]
    },
    {
     "name": "stdout",
     "output_type": "stream",
     "text": [
      "AFTER ENCODER PREP:  0.9387332201004028\n",
      "AFTER ENCODER:  0.5544548630714417\n"
     ]
    },
    {
     "name": "stderr",
     "output_type": "stream",
     "text": [
      "Epoch 1 - Training:   3%|▎         | 66/1940 [00:59<11:08,  2.80it/s]"
     ]
    },
    {
     "name": "stdout",
     "output_type": "stream",
     "text": [
      "AFTER ENCODER PREP:  0.9523583650588989\n",
      "AFTER ENCODER:  0.6546415686607361\n"
     ]
    },
    {
     "name": "stderr",
     "output_type": "stream",
     "text": [
      "Epoch 1 - Training:   3%|▎         | 67/1940 [00:59<11:01,  2.83it/s]"
     ]
    },
    {
     "name": "stdout",
     "output_type": "stream",
     "text": [
      "AFTER ENCODER PREP:  0.9620453715324402\n",
      "AFTER ENCODER:  0.781866192817688\n"
     ]
    },
    {
     "name": "stderr",
     "output_type": "stream",
     "text": [
      "Epoch 1 - Training:   4%|▎         | 68/1940 [01:00<11:01,  2.83it/s]"
     ]
    },
    {
     "name": "stdout",
     "output_type": "stream",
     "text": [
      "AFTER ENCODER PREP:  0.9471604824066162\n",
      "AFTER ENCODER:  0.7312086820602417\n"
     ]
    },
    {
     "name": "stderr",
     "output_type": "stream",
     "text": [
      "Epoch 1 - Training:   4%|▎         | 69/1940 [01:00<10:57,  2.85it/s]"
     ]
    },
    {
     "name": "stdout",
     "output_type": "stream",
     "text": [
      "AFTER ENCODER PREP:  0.9616138339042664\n",
      "AFTER ENCODER:  0.7246515154838562\n"
     ]
    },
    {
     "name": "stderr",
     "output_type": "stream",
     "text": [
      "Epoch 1 - Training:   4%|▎         | 70/1940 [01:01<11:14,  2.77it/s]"
     ]
    },
    {
     "name": "stdout",
     "output_type": "stream",
     "text": [
      "AFTER ENCODER PREP:  0.9511148929595947\n",
      "AFTER ENCODER:  0.8626918196678162\n"
     ]
    },
    {
     "name": "stderr",
     "output_type": "stream",
     "text": [
      "Epoch 1 - Training:   4%|▎         | 71/1940 [01:01<11:14,  2.77it/s]"
     ]
    },
    {
     "name": "stdout",
     "output_type": "stream",
     "text": [
      "AFTER ENCODER PREP:  0.9630544781684875\n",
      "AFTER ENCODER:  0.901908278465271\n"
     ]
    },
    {
     "name": "stderr",
     "output_type": "stream",
     "text": [
      "Epoch 1 - Training:   4%|▎         | 72/1940 [01:01<11:11,  2.78it/s]"
     ]
    },
    {
     "name": "stdout",
     "output_type": "stream",
     "text": [
      "AFTER ENCODER PREP:  0.929419994354248\n",
      "AFTER ENCODER:  0.792668879032135\n"
     ]
    },
    {
     "name": "stderr",
     "output_type": "stream",
     "text": [
      "Epoch 1 - Training:   4%|▍         | 73/1940 [01:02<11:08,  2.79it/s]"
     ]
    },
    {
     "name": "stdout",
     "output_type": "stream",
     "text": [
      "AFTER ENCODER PREP:  0.9613373279571533\n",
      "AFTER ENCODER:  0.81718909740448\n"
     ]
    },
    {
     "name": "stderr",
     "output_type": "stream",
     "text": [
      "Epoch 1 - Training:   4%|▍         | 74/1940 [01:02<10:51,  2.86it/s]"
     ]
    },
    {
     "name": "stdout",
     "output_type": "stream",
     "text": [
      "AFTER ENCODER PREP:  0.9508469104766846\n",
      "AFTER ENCODER:  0.8222966194152832\n"
     ]
    },
    {
     "name": "stderr",
     "output_type": "stream",
     "text": [
      "Epoch 1 - Training:   4%|▍         | 75/1940 [01:02<10:42,  2.90it/s]"
     ]
    },
    {
     "name": "stdout",
     "output_type": "stream",
     "text": [
      "AFTER ENCODER PREP:  0.9475006461143494\n",
      "AFTER ENCODER:  0.7872128486633301\n"
     ]
    },
    {
     "name": "stderr",
     "output_type": "stream",
     "text": [
      "Epoch 1 - Training:   4%|▍         | 76/1940 [01:03<10:38,  2.92it/s]"
     ]
    },
    {
     "name": "stdout",
     "output_type": "stream",
     "text": [
      "AFTER ENCODER PREP:  0.9495016932487488\n",
      "AFTER ENCODER:  0.7631493806838989\n"
     ]
    },
    {
     "name": "stderr",
     "output_type": "stream",
     "text": [
      "Epoch 1 - Training:   4%|▍         | 77/1940 [01:03<10:30,  2.96it/s]"
     ]
    },
    {
     "name": "stdout",
     "output_type": "stream",
     "text": [
      "AFTER ENCODER PREP:  0.9437012076377869\n",
      "AFTER ENCODER:  0.7436378002166748\n"
     ]
    },
    {
     "name": "stderr",
     "output_type": "stream",
     "text": [
      "Epoch 1 - Training:   4%|▍         | 78/1940 [01:03<10:08,  3.06it/s]"
     ]
    },
    {
     "name": "stdout",
     "output_type": "stream",
     "text": [
      "AFTER ENCODER PREP:  0.9579522609710693\n",
      "AFTER ENCODER:  0.7797142267227173\n"
     ]
    },
    {
     "name": "stderr",
     "output_type": "stream",
     "text": [
      "Epoch 1 - Training:   4%|▍         | 79/1940 [01:04<10:40,  2.91it/s]"
     ]
    },
    {
     "name": "stdout",
     "output_type": "stream",
     "text": [
      "AFTER ENCODER PREP:  0.9477882981300354\n",
      "AFTER ENCODER:  0.5236422419548035\n"
     ]
    },
    {
     "name": "stderr",
     "output_type": "stream",
     "text": [
      "Epoch 1 - Training:   4%|▍         | 80/1940 [01:04<10:19,  3.00it/s]"
     ]
    },
    {
     "name": "stdout",
     "output_type": "stream",
     "text": [
      "AFTER ENCODER PREP:  0.953551709651947\n",
      "AFTER ENCODER:  0.5805857181549072\n"
     ]
    },
    {
     "name": "stderr",
     "output_type": "stream",
     "text": [
      "Epoch 1 - Training:   4%|▍         | 81/1940 [01:04<10:17,  3.01it/s]"
     ]
    },
    {
     "name": "stdout",
     "output_type": "stream",
     "text": [
      "AFTER ENCODER PREP:  0.9441454410552979\n",
      "AFTER ENCODER:  0.4992941617965698\n"
     ]
    },
    {
     "name": "stderr",
     "output_type": "stream",
     "text": [
      "Epoch 1 - Training:   4%|▍         | 82/1940 [01:05<10:15,  3.02it/s]"
     ]
    },
    {
     "name": "stdout",
     "output_type": "stream",
     "text": [
      "AFTER ENCODER PREP:  0.946945071220398\n",
      "AFTER ENCODER:  0.5567655563354492\n"
     ]
    },
    {
     "name": "stderr",
     "output_type": "stream",
     "text": [
      "Epoch 1 - Training:   4%|▍         | 83/1940 [01:05<10:17,  3.01it/s]"
     ]
    },
    {
     "name": "stdout",
     "output_type": "stream",
     "text": [
      "AFTER ENCODER PREP:  0.9573191404342651\n",
      "AFTER ENCODER:  0.6734136343002319\n"
     ]
    },
    {
     "name": "stderr",
     "output_type": "stream",
     "text": [
      "Epoch 1 - Training:   4%|▍         | 84/1940 [01:05<10:09,  3.05it/s]"
     ]
    },
    {
     "name": "stdout",
     "output_type": "stream",
     "text": [
      "AFTER ENCODER PREP:  0.9467992782592773\n",
      "AFTER ENCODER:  0.7424066662788391\n"
     ]
    },
    {
     "name": "stderr",
     "output_type": "stream",
     "text": [
      "Epoch 1 - Training:   4%|▍         | 85/1940 [01:06<10:00,  3.09it/s]"
     ]
    },
    {
     "name": "stdout",
     "output_type": "stream",
     "text": [
      "AFTER ENCODER PREP:  0.9431076645851135\n",
      "AFTER ENCODER:  0.6911400556564331\n"
     ]
    },
    {
     "name": "stderr",
     "output_type": "stream",
     "text": [
      "Epoch 1 - Training:   4%|▍         | 86/1940 [01:06<09:56,  3.11it/s]"
     ]
    },
    {
     "name": "stdout",
     "output_type": "stream",
     "text": [
      "AFTER ENCODER PREP:  0.956580400466919\n",
      "AFTER ENCODER:  0.6990669369697571\n"
     ]
    },
    {
     "name": "stderr",
     "output_type": "stream",
     "text": [
      "Epoch 1 - Training:   4%|▍         | 87/1940 [01:06<10:06,  3.06it/s]"
     ]
    },
    {
     "name": "stdout",
     "output_type": "stream",
     "text": [
      "AFTER ENCODER PREP:  0.9559118151664734\n",
      "AFTER ENCODER:  0.5934647917747498\n"
     ]
    },
    {
     "name": "stderr",
     "output_type": "stream",
     "text": [
      "Epoch 1 - Training:   5%|▍         | 88/1940 [01:07<09:56,  3.10it/s]"
     ]
    },
    {
     "name": "stdout",
     "output_type": "stream",
     "text": [
      "AFTER ENCODER PREP:  0.9400120973587036\n",
      "AFTER ENCODER:  0.582342267036438\n"
     ]
    },
    {
     "name": "stderr",
     "output_type": "stream",
     "text": [
      "Epoch 1 - Training:   5%|▍         | 89/1940 [01:07<10:02,  3.07it/s]"
     ]
    },
    {
     "name": "stdout",
     "output_type": "stream",
     "text": [
      "AFTER ENCODER PREP:  0.9579947590827942\n",
      "AFTER ENCODER:  0.6647001504898071\n"
     ]
    },
    {
     "name": "stderr",
     "output_type": "stream",
     "text": [
      "Epoch 1 - Training:   5%|▍         | 90/1940 [01:07<09:57,  3.10it/s]"
     ]
    },
    {
     "name": "stdout",
     "output_type": "stream",
     "text": [
      "AFTER ENCODER PREP:  0.9372274279594421\n",
      "AFTER ENCODER:  0.5036367177963257\n"
     ]
    },
    {
     "name": "stderr",
     "output_type": "stream",
     "text": [
      "Epoch 1 - Training:   5%|▍         | 91/1940 [01:08<10:49,  2.85it/s]"
     ]
    },
    {
     "name": "stdout",
     "output_type": "stream",
     "text": [
      "AFTER ENCODER PREP:  0.9505683183670044\n",
      "AFTER ENCODER:  0.6102936267852783\n"
     ]
    },
    {
     "name": "stderr",
     "output_type": "stream",
     "text": [
      "Epoch 1 - Training:   5%|▍         | 92/1940 [01:08<11:29,  2.68it/s]"
     ]
    },
    {
     "name": "stdout",
     "output_type": "stream",
     "text": [
      "AFTER ENCODER PREP:  0.940092921257019\n",
      "AFTER ENCODER:  0.5234699249267578\n"
     ]
    },
    {
     "name": "stderr",
     "output_type": "stream",
     "text": [
      "Epoch 1 - Training:   5%|▍         | 93/1940 [01:08<11:51,  2.60it/s]"
     ]
    },
    {
     "name": "stdout",
     "output_type": "stream",
     "text": [
      "AFTER ENCODER PREP:  0.9547166228294373\n",
      "AFTER ENCODER:  0.6053228974342346\n"
     ]
    },
    {
     "name": "stderr",
     "output_type": "stream",
     "text": [
      "Epoch 1 - Training:   5%|▍         | 94/1940 [01:09<11:57,  2.57it/s]"
     ]
    },
    {
     "name": "stdout",
     "output_type": "stream",
     "text": [
      "AFTER ENCODER PREP:  0.9561410546302795\n",
      "AFTER ENCODER:  0.6523637175559998\n"
     ]
    },
    {
     "name": "stderr",
     "output_type": "stream",
     "text": [
      "Epoch 1 - Training:   5%|▍         | 95/1940 [01:09<12:15,  2.51it/s]"
     ]
    },
    {
     "name": "stdout",
     "output_type": "stream",
     "text": [
      "AFTER ENCODER PREP:  0.9609808921813965\n",
      "AFTER ENCODER:  0.66807621717453\n"
     ]
    },
    {
     "name": "stderr",
     "output_type": "stream",
     "text": [
      "Epoch 1 - Training:   5%|▍         | 96/1940 [01:10<12:26,  2.47it/s]"
     ]
    },
    {
     "name": "stdout",
     "output_type": "stream",
     "text": [
      "AFTER ENCODER PREP:  0.9636235237121582\n",
      "AFTER ENCODER:  0.8116668462753296\n"
     ]
    },
    {
     "name": "stderr",
     "output_type": "stream",
     "text": [
      "Epoch 1 - Training:   5%|▌         | 97/1940 [01:10<12:09,  2.53it/s]"
     ]
    },
    {
     "name": "stdout",
     "output_type": "stream",
     "text": [
      "AFTER ENCODER PREP:  0.9440874457359314\n",
      "AFTER ENCODER:  0.6633239984512329\n"
     ]
    },
    {
     "name": "stderr",
     "output_type": "stream",
     "text": [
      "Epoch 1 - Training:   5%|▌         | 98/1940 [01:10<12:14,  2.51it/s]"
     ]
    },
    {
     "name": "stdout",
     "output_type": "stream",
     "text": [
      "AFTER ENCODER PREP:  0.9610298871994019\n",
      "AFTER ENCODER:  0.7775188684463501\n"
     ]
    },
    {
     "name": "stderr",
     "output_type": "stream",
     "text": [
      "Epoch 1 - Training:   5%|▌         | 99/1940 [01:11<12:11,  2.52it/s]"
     ]
    },
    {
     "name": "stdout",
     "output_type": "stream",
     "text": [
      "AFTER ENCODER PREP:  0.9574587345123291\n",
      "AFTER ENCODER:  0.7143287062644958\n"
     ]
    },
    {
     "name": "stderr",
     "output_type": "stream",
     "text": [
      "Epoch 1 - Training:   5%|▌         | 100/1940 [01:11<12:28,  2.46it/s]"
     ]
    },
    {
     "name": "stdout",
     "output_type": "stream",
     "text": [
      "AFTER ENCODER PREP:  0.9555440545082092\n",
      "AFTER ENCODER:  0.605198860168457\n"
     ]
    },
    {
     "name": "stderr",
     "output_type": "stream",
     "text": [
      "Epoch 1 - Training:   5%|▌         | 101/1940 [01:12<12:17,  2.49it/s]"
     ]
    },
    {
     "name": "stdout",
     "output_type": "stream",
     "text": [
      "AFTER ENCODER PREP:  0.9389904141426086\n",
      "AFTER ENCODER:  0.5945413708686829\n"
     ]
    },
    {
     "name": "stderr",
     "output_type": "stream",
     "text": [
      "Epoch 1 - Training:   5%|▌         | 102/1940 [01:12<12:46,  2.40it/s]"
     ]
    },
    {
     "name": "stdout",
     "output_type": "stream",
     "text": [
      "AFTER ENCODER PREP:  0.9620732665061951\n",
      "AFTER ENCODER:  0.646033525466919\n"
     ]
    },
    {
     "name": "stderr",
     "output_type": "stream",
     "text": [
      "Epoch 1 - Training:   5%|▌         | 103/1940 [01:13<12:42,  2.41it/s]"
     ]
    },
    {
     "name": "stdout",
     "output_type": "stream",
     "text": [
      "AFTER ENCODER PREP:  0.9444112181663513\n",
      "AFTER ENCODER:  0.5399428009986877\n"
     ]
    },
    {
     "name": "stderr",
     "output_type": "stream",
     "text": [
      "Epoch 1 - Training:   5%|▌         | 104/1940 [01:13<13:32,  2.26it/s]"
     ]
    },
    {
     "name": "stdout",
     "output_type": "stream",
     "text": [
      "AFTER ENCODER PREP:  0.9549116492271423\n",
      "AFTER ENCODER:  0.5145407915115356\n"
     ]
    },
    {
     "name": "stderr",
     "output_type": "stream",
     "text": [
      "Epoch 1 - Training:   5%|▌         | 105/1940 [01:13<13:10,  2.32it/s]"
     ]
    },
    {
     "name": "stdout",
     "output_type": "stream",
     "text": [
      "AFTER ENCODER PREP:  0.9515191316604614\n",
      "AFTER ENCODER:  0.5296997427940369\n"
     ]
    },
    {
     "name": "stderr",
     "output_type": "stream",
     "text": [
      "Epoch 1 - Training:   5%|▌         | 106/1940 [01:14<13:09,  2.32it/s]"
     ]
    },
    {
     "name": "stdout",
     "output_type": "stream",
     "text": [
      "AFTER ENCODER PREP:  0.9477570056915283\n",
      "AFTER ENCODER:  0.4280470013618469\n"
     ]
    },
    {
     "name": "stderr",
     "output_type": "stream",
     "text": [
      "Epoch 1 - Training:   6%|▌         | 107/1940 [01:14<12:46,  2.39it/s]"
     ]
    },
    {
     "name": "stdout",
     "output_type": "stream",
     "text": [
      "AFTER ENCODER PREP:  0.9398365020751953\n",
      "AFTER ENCODER:  0.41767656803131104\n"
     ]
    },
    {
     "name": "stderr",
     "output_type": "stream",
     "text": [
      "Epoch 1 - Training:   6%|▌         | 108/1940 [01:15<12:40,  2.41it/s]"
     ]
    },
    {
     "name": "stdout",
     "output_type": "stream",
     "text": [
      "AFTER ENCODER PREP:  0.9488968849182129\n",
      "AFTER ENCODER:  0.5955040454864502\n"
     ]
    },
    {
     "name": "stderr",
     "output_type": "stream",
     "text": [
      "Epoch 1 - Training:   6%|▌         | 109/1940 [01:15<12:54,  2.37it/s]"
     ]
    },
    {
     "name": "stdout",
     "output_type": "stream",
     "text": [
      "AFTER ENCODER PREP:  0.9243281483650208\n",
      "AFTER ENCODER:  0.40583088994026184\n"
     ]
    },
    {
     "name": "stderr",
     "output_type": "stream",
     "text": [
      "Epoch 1 - Training:   6%|▌         | 110/1940 [01:16<12:57,  2.35it/s]"
     ]
    },
    {
     "name": "stdout",
     "output_type": "stream",
     "text": [
      "AFTER ENCODER PREP:  0.9400823712348938\n",
      "AFTER ENCODER:  0.42335644364356995\n"
     ]
    },
    {
     "name": "stderr",
     "output_type": "stream",
     "text": [
      "Epoch 1 - Training:   6%|▌         | 111/1940 [01:16<13:28,  2.26it/s]"
     ]
    },
    {
     "name": "stdout",
     "output_type": "stream",
     "text": [
      "AFTER ENCODER PREP:  0.9346923828125\n",
      "AFTER ENCODER:  0.47384703159332275\n"
     ]
    },
    {
     "name": "stderr",
     "output_type": "stream",
     "text": [
      "Epoch 1 - Training:   6%|▌         | 112/1940 [01:16<13:42,  2.22it/s]"
     ]
    },
    {
     "name": "stdout",
     "output_type": "stream",
     "text": [
      "AFTER ENCODER PREP:  0.9350161552429199\n",
      "AFTER ENCODER:  0.4037191569805145\n"
     ]
    },
    {
     "name": "stderr",
     "output_type": "stream",
     "text": [
      "Epoch 1 - Training:   6%|▌         | 113/1940 [01:17<14:42,  2.07it/s]"
     ]
    },
    {
     "name": "stdout",
     "output_type": "stream",
     "text": [
      "AFTER ENCODER PREP:  0.9611178636550903\n",
      "AFTER ENCODER:  0.6979384422302246\n"
     ]
    },
    {
     "name": "stderr",
     "output_type": "stream",
     "text": [
      "Epoch 1 - Training:   6%|▌         | 114/1940 [01:18<15:10,  2.00it/s]"
     ]
    },
    {
     "name": "stdout",
     "output_type": "stream",
     "text": [
      "AFTER ENCODER PREP:  0.9464860558509827\n",
      "AFTER ENCODER:  0.49735260009765625\n"
     ]
    },
    {
     "name": "stderr",
     "output_type": "stream",
     "text": [
      "Epoch 1 - Training:   6%|▌         | 115/1940 [01:18<14:52,  2.04it/s]"
     ]
    },
    {
     "name": "stdout",
     "output_type": "stream",
     "text": [
      "AFTER ENCODER PREP:  0.9468024373054504\n",
      "AFTER ENCODER:  0.619612455368042\n"
     ]
    },
    {
     "name": "stderr",
     "output_type": "stream",
     "text": [
      "Epoch 1 - Training:   6%|▌         | 116/1940 [01:19<15:29,  1.96it/s]"
     ]
    },
    {
     "name": "stdout",
     "output_type": "stream",
     "text": [
      "AFTER ENCODER PREP:  0.946636438369751\n",
      "AFTER ENCODER:  0.5411312580108643\n"
     ]
    },
    {
     "name": "stderr",
     "output_type": "stream",
     "text": [
      "Epoch 1 - Training:   6%|▌         | 117/1940 [01:19<14:52,  2.04it/s]"
     ]
    },
    {
     "name": "stdout",
     "output_type": "stream",
     "text": [
      "AFTER ENCODER PREP:  0.9491128325462341\n",
      "AFTER ENCODER:  0.5982304811477661\n"
     ]
    },
    {
     "name": "stderr",
     "output_type": "stream",
     "text": [
      "Epoch 1 - Training:   6%|▌         | 118/1940 [01:20<14:36,  2.08it/s]"
     ]
    },
    {
     "name": "stdout",
     "output_type": "stream",
     "text": [
      "AFTER ENCODER PREP:  0.9448624849319458\n",
      "AFTER ENCODER:  0.4843980371952057\n"
     ]
    },
    {
     "name": "stderr",
     "output_type": "stream",
     "text": [
      "Epoch 1 - Training:   6%|▌         | 119/1940 [01:20<14:32,  2.09it/s]"
     ]
    },
    {
     "name": "stdout",
     "output_type": "stream",
     "text": [
      "AFTER ENCODER PREP:  0.9528052806854248\n",
      "AFTER ENCODER:  0.5949468612670898\n"
     ]
    },
    {
     "name": "stderr",
     "output_type": "stream",
     "text": [
      "Epoch 1 - Training:   6%|▌         | 120/1940 [01:20<14:27,  2.10it/s]"
     ]
    },
    {
     "name": "stdout",
     "output_type": "stream",
     "text": [
      "AFTER ENCODER PREP:  0.9425179362297058\n",
      "AFTER ENCODER:  0.5578230619430542\n"
     ]
    },
    {
     "name": "stderr",
     "output_type": "stream",
     "text": [
      "Epoch 1 - Training:   6%|▌         | 121/1940 [01:21<14:21,  2.11it/s]"
     ]
    },
    {
     "name": "stdout",
     "output_type": "stream",
     "text": [
      "AFTER ENCODER PREP:  0.9466716647148132\n",
      "AFTER ENCODER:  0.671351969242096\n"
     ]
    },
    {
     "name": "stderr",
     "output_type": "stream",
     "text": [
      "Epoch 1 - Training:   6%|▋         | 122/1940 [01:21<14:32,  2.08it/s]"
     ]
    },
    {
     "name": "stdout",
     "output_type": "stream",
     "text": [
      "AFTER ENCODER PREP:  0.9474633932113647\n",
      "AFTER ENCODER:  0.7224794626235962\n"
     ]
    },
    {
     "name": "stderr",
     "output_type": "stream",
     "text": [
      "Epoch 1 - Training:   6%|▋         | 123/1940 [01:22<14:03,  2.15it/s]"
     ]
    },
    {
     "name": "stdout",
     "output_type": "stream",
     "text": [
      "AFTER ENCODER PREP:  0.9429064989089966\n",
      "AFTER ENCODER:  0.6850845217704773\n"
     ]
    },
    {
     "name": "stderr",
     "output_type": "stream",
     "text": [
      "Epoch 1 - Training:   6%|▋         | 124/1940 [01:22<13:46,  2.20it/s]"
     ]
    },
    {
     "name": "stdout",
     "output_type": "stream",
     "text": [
      "AFTER ENCODER PREP:  0.9519472718238831\n",
      "AFTER ENCODER:  0.7055788040161133\n"
     ]
    },
    {
     "name": "stderr",
     "output_type": "stream",
     "text": [
      "Epoch 1 - Training:   6%|▋         | 125/1940 [01:23<13:54,  2.18it/s]"
     ]
    },
    {
     "name": "stdout",
     "output_type": "stream",
     "text": [
      "AFTER ENCODER PREP:  0.9343460202217102\n",
      "AFTER ENCODER:  0.721881628036499\n"
     ]
    },
    {
     "name": "stderr",
     "output_type": "stream",
     "text": [
      "Epoch 1 - Training:   6%|▋         | 126/1940 [01:23<13:51,  2.18it/s]"
     ]
    },
    {
     "name": "stdout",
     "output_type": "stream",
     "text": [
      "AFTER ENCODER PREP:  0.9417328238487244\n",
      "AFTER ENCODER:  0.7175219058990479\n"
     ]
    },
    {
     "name": "stderr",
     "output_type": "stream",
     "text": [
      "Epoch 1 - Training:   7%|▋         | 127/1940 [01:24<14:53,  2.03it/s]"
     ]
    },
    {
     "name": "stdout",
     "output_type": "stream",
     "text": [
      "AFTER ENCODER PREP:  0.9540824890136719\n",
      "AFTER ENCODER:  0.8080722689628601\n"
     ]
    },
    {
     "name": "stderr",
     "output_type": "stream",
     "text": [
      "Epoch 1 - Training:   7%|▋         | 128/1940 [01:24<14:51,  2.03it/s]"
     ]
    },
    {
     "name": "stdout",
     "output_type": "stream",
     "text": [
      "AFTER ENCODER PREP:  0.9465798735618591\n",
      "AFTER ENCODER:  0.6731664538383484\n"
     ]
    },
    {
     "name": "stderr",
     "output_type": "stream",
     "text": [
      "Epoch 1 - Training:   7%|▋         | 129/1940 [01:25<14:50,  2.03it/s]"
     ]
    },
    {
     "name": "stdout",
     "output_type": "stream",
     "text": [
      "AFTER ENCODER PREP:  0.9515979290008545\n",
      "AFTER ENCODER:  0.7396506667137146\n"
     ]
    },
    {
     "name": "stderr",
     "output_type": "stream",
     "text": [
      "Epoch 1 - Training:   7%|▋         | 130/1940 [01:25<14:13,  2.12it/s]"
     ]
    },
    {
     "name": "stdout",
     "output_type": "stream",
     "text": [
      "AFTER ENCODER PREP:  0.9579632878303528\n",
      "AFTER ENCODER:  0.745427668094635\n"
     ]
    },
    {
     "name": "stderr",
     "output_type": "stream",
     "text": [
      "Epoch 1 - Training:   7%|▋         | 131/1940 [01:26<14:17,  2.11it/s]"
     ]
    },
    {
     "name": "stdout",
     "output_type": "stream",
     "text": [
      "AFTER ENCODER PREP:  0.9629039764404297\n",
      "AFTER ENCODER:  0.8238240480422974\n"
     ]
    },
    {
     "name": "stderr",
     "output_type": "stream",
     "text": [
      "Epoch 1 - Training:   7%|▋         | 132/1940 [01:26<14:05,  2.14it/s]"
     ]
    },
    {
     "name": "stdout",
     "output_type": "stream",
     "text": [
      "AFTER ENCODER PREP:  0.9655042886734009\n",
      "AFTER ENCODER:  0.811561107635498\n"
     ]
    },
    {
     "name": "stderr",
     "output_type": "stream",
     "text": [
      "Epoch 1 - Training:   7%|▋         | 133/1940 [01:27<13:29,  2.23it/s]"
     ]
    },
    {
     "name": "stdout",
     "output_type": "stream",
     "text": [
      "AFTER ENCODER PREP:  0.9589120745658875\n",
      "AFTER ENCODER:  0.8147132396697998\n"
     ]
    },
    {
     "name": "stderr",
     "output_type": "stream",
     "text": [
      "Epoch 1 - Training:   7%|▋         | 134/1940 [01:27<14:06,  2.13it/s]"
     ]
    },
    {
     "name": "stdout",
     "output_type": "stream",
     "text": [
      "AFTER ENCODER PREP:  0.9239469766616821\n",
      "AFTER ENCODER:  0.6307231783866882\n"
     ]
    },
    {
     "name": "stderr",
     "output_type": "stream",
     "text": [
      "Epoch 1 - Training:   7%|▋         | 135/1940 [01:28<14:07,  2.13it/s]"
     ]
    },
    {
     "name": "stdout",
     "output_type": "stream",
     "text": [
      "AFTER ENCODER PREP:  0.9559593796730042\n",
      "AFTER ENCODER:  0.8211997747421265\n"
     ]
    },
    {
     "name": "stderr",
     "output_type": "stream",
     "text": [
      "Epoch 1 - Training:   7%|▋         | 136/1940 [01:28<14:25,  2.08it/s]"
     ]
    },
    {
     "name": "stdout",
     "output_type": "stream",
     "text": [
      "AFTER ENCODER PREP:  0.9636219143867493\n",
      "AFTER ENCODER:  0.8289665579795837\n"
     ]
    },
    {
     "name": "stderr",
     "output_type": "stream",
     "text": [
      "Epoch 1 - Training:   7%|▋         | 137/1940 [01:29<14:35,  2.06it/s]"
     ]
    },
    {
     "name": "stdout",
     "output_type": "stream",
     "text": [
      "AFTER ENCODER PREP:  0.9413849711418152\n",
      "AFTER ENCODER:  0.6618882417678833\n"
     ]
    },
    {
     "name": "stderr",
     "output_type": "stream",
     "text": [
      "Epoch 1 - Training:   7%|▋         | 138/1940 [01:29<14:52,  2.02it/s]"
     ]
    },
    {
     "name": "stdout",
     "output_type": "stream",
     "text": [
      "AFTER ENCODER PREP:  0.9456002116203308\n",
      "AFTER ENCODER:  0.6629577279090881\n"
     ]
    },
    {
     "name": "stderr",
     "output_type": "stream",
     "text": [
      "Epoch 1 - Training:   7%|▋         | 139/1940 [01:30<16:01,  1.87it/s]"
     ]
    },
    {
     "name": "stdout",
     "output_type": "stream",
     "text": [
      "AFTER ENCODER PREP:  0.9525060653686523\n",
      "AFTER ENCODER:  0.6947334408760071\n"
     ]
    },
    {
     "name": "stderr",
     "output_type": "stream",
     "text": [
      "Epoch 1 - Training:   7%|▋         | 140/1940 [01:30<15:34,  1.93it/s]"
     ]
    },
    {
     "name": "stdout",
     "output_type": "stream",
     "text": [
      "AFTER ENCODER PREP:  0.9637202024459839\n",
      "AFTER ENCODER:  0.7356457710266113\n"
     ]
    },
    {
     "name": "stderr",
     "output_type": "stream",
     "text": [
      "Epoch 1 - Training:   7%|▋         | 141/1940 [01:31<15:09,  1.98it/s]"
     ]
    },
    {
     "name": "stdout",
     "output_type": "stream",
     "text": [
      "AFTER ENCODER PREP:  0.9585466384887695\n",
      "AFTER ENCODER:  0.8297536373138428\n"
     ]
    },
    {
     "name": "stderr",
     "output_type": "stream",
     "text": [
      "Epoch 1 - Training:   7%|▋         | 142/1940 [01:31<15:14,  1.97it/s]"
     ]
    },
    {
     "name": "stdout",
     "output_type": "stream",
     "text": [
      "AFTER ENCODER PREP:  0.9398941993713379\n",
      "AFTER ENCODER:  0.7491791248321533\n"
     ]
    },
    {
     "name": "stderr",
     "output_type": "stream",
     "text": [
      "Epoch 1 - Training:   7%|▋         | 143/1940 [01:32<15:03,  1.99it/s]"
     ]
    },
    {
     "name": "stdout",
     "output_type": "stream",
     "text": [
      "AFTER ENCODER PREP:  0.964374303817749\n",
      "AFTER ENCODER:  0.8277992010116577\n"
     ]
    },
    {
     "name": "stderr",
     "output_type": "stream",
     "text": [
      "Epoch 1 - Training:   7%|▋         | 144/1940 [01:32<15:07,  1.98it/s]"
     ]
    },
    {
     "name": "stdout",
     "output_type": "stream",
     "text": [
      "AFTER ENCODER PREP:  0.9601795077323914\n",
      "AFTER ENCODER:  0.8066349625587463\n"
     ]
    },
    {
     "name": "stderr",
     "output_type": "stream",
     "text": [
      "Epoch 1 - Training:   7%|▋         | 145/1940 [01:33<15:02,  1.99it/s]"
     ]
    },
    {
     "name": "stdout",
     "output_type": "stream",
     "text": [
      "AFTER ENCODER PREP:  0.9597665071487427\n",
      "AFTER ENCODER:  0.8907965421676636\n"
     ]
    },
    {
     "name": "stderr",
     "output_type": "stream",
     "text": [
      "Epoch 1 - Training:   8%|▊         | 146/1940 [01:33<14:52,  2.01it/s]"
     ]
    },
    {
     "name": "stdout",
     "output_type": "stream",
     "text": [
      "AFTER ENCODER PREP:  0.9571014046669006\n",
      "AFTER ENCODER:  0.8536188006401062\n"
     ]
    },
    {
     "name": "stderr",
     "output_type": "stream",
     "text": [
      "Epoch 1 - Training:   8%|▊         | 147/1940 [01:34<14:41,  2.03it/s]"
     ]
    },
    {
     "name": "stdout",
     "output_type": "stream",
     "text": [
      "AFTER ENCODER PREP:  0.9407529830932617\n",
      "AFTER ENCODER:  0.7747461199760437\n"
     ]
    },
    {
     "name": "stderr",
     "output_type": "stream",
     "text": [
      "Epoch 1 - Training:   8%|▊         | 148/1940 [01:34<15:12,  1.96it/s]"
     ]
    },
    {
     "name": "stdout",
     "output_type": "stream",
     "text": [
      "AFTER ENCODER PREP:  0.9693264365196228\n",
      "AFTER ENCODER:  0.8814874887466431\n"
     ]
    },
    {
     "name": "stderr",
     "output_type": "stream",
     "text": [
      "Epoch 1 - Training:   8%|▊         | 149/1940 [01:35<17:00,  1.75it/s]"
     ]
    },
    {
     "name": "stdout",
     "output_type": "stream",
     "text": [
      "AFTER ENCODER PREP:  0.9575984477996826\n",
      "AFTER ENCODER:  0.7603101134300232\n"
     ]
    },
    {
     "name": "stderr",
     "output_type": "stream",
     "text": [
      "Epoch 1 - Training:   8%|▊         | 150/1940 [01:36<18:27,  1.62it/s]"
     ]
    },
    {
     "name": "stdout",
     "output_type": "stream",
     "text": [
      "AFTER ENCODER PREP:  0.9485450387001038\n",
      "AFTER ENCODER:  0.7408870458602905\n"
     ]
    },
    {
     "name": "stderr",
     "output_type": "stream",
     "text": [
      "Epoch 1 - Training:   8%|▊         | 151/1940 [01:36<18:29,  1.61it/s]"
     ]
    },
    {
     "name": "stdout",
     "output_type": "stream",
     "text": [
      "AFTER ENCODER PREP:  0.9629678726196289\n",
      "AFTER ENCODER:  0.8709681630134583\n"
     ]
    },
    {
     "name": "stderr",
     "output_type": "stream",
     "text": [
      "Epoch 1 - Training:   8%|▊         | 152/1940 [01:37<17:54,  1.66it/s]"
     ]
    },
    {
     "name": "stdout",
     "output_type": "stream",
     "text": [
      "AFTER ENCODER PREP:  0.9672384262084961\n",
      "AFTER ENCODER:  0.8287762403488159\n"
     ]
    },
    {
     "name": "stderr",
     "output_type": "stream",
     "text": [
      "Epoch 1 - Training:   8%|▊         | 153/1940 [01:37<17:50,  1.67it/s]"
     ]
    },
    {
     "name": "stdout",
     "output_type": "stream",
     "text": [
      "AFTER ENCODER PREP:  0.9607813358306885\n",
      "AFTER ENCODER:  0.7091437578201294\n"
     ]
    },
    {
     "name": "stderr",
     "output_type": "stream",
     "text": [
      "Epoch 1 - Training:   8%|▊         | 154/1940 [01:38<18:03,  1.65it/s]"
     ]
    },
    {
     "name": "stdout",
     "output_type": "stream",
     "text": [
      "AFTER ENCODER PREP:  0.9434095621109009\n",
      "AFTER ENCODER:  0.5757595300674438\n"
     ]
    },
    {
     "name": "stderr",
     "output_type": "stream",
     "text": [
      "Epoch 1 - Training:   8%|▊         | 155/1940 [01:38<16:55,  1.76it/s]"
     ]
    },
    {
     "name": "stdout",
     "output_type": "stream",
     "text": [
      "AFTER ENCODER PREP:  0.9530084133148193\n",
      "AFTER ENCODER:  0.7349371314048767\n"
     ]
    },
    {
     "name": "stderr",
     "output_type": "stream",
     "text": [
      "Epoch 1 - Training:   8%|▊         | 156/1940 [01:39<16:14,  1.83it/s]"
     ]
    },
    {
     "name": "stdout",
     "output_type": "stream",
     "text": [
      "AFTER ENCODER PREP:  0.9536859393119812\n",
      "AFTER ENCODER:  0.7302827835083008\n"
     ]
    },
    {
     "name": "stderr",
     "output_type": "stream",
     "text": [
      "Epoch 1 - Training:   8%|▊         | 157/1940 [01:39<15:50,  1.88it/s]"
     ]
    },
    {
     "name": "stdout",
     "output_type": "stream",
     "text": [
      "AFTER ENCODER PREP:  0.9553884267807007\n",
      "AFTER ENCODER:  0.7555350661277771\n"
     ]
    },
    {
     "name": "stderr",
     "output_type": "stream",
     "text": [
      "Epoch 1 - Training:   8%|▊         | 158/1940 [01:40<15:18,  1.94it/s]"
     ]
    },
    {
     "name": "stdout",
     "output_type": "stream",
     "text": [
      "AFTER ENCODER PREP:  0.9583815932273865\n",
      "AFTER ENCODER:  0.7959818840026855\n"
     ]
    },
    {
     "name": "stderr",
     "output_type": "stream",
     "text": [
      "Epoch 1 - Training:   8%|▊         | 159/1940 [01:40<15:14,  1.95it/s]"
     ]
    },
    {
     "name": "stdout",
     "output_type": "stream",
     "text": [
      "AFTER ENCODER PREP:  0.95195472240448\n",
      "AFTER ENCODER:  0.760287880897522\n"
     ]
    },
    {
     "name": "stderr",
     "output_type": "stream",
     "text": [
      "Epoch 1 - Training:   8%|▊         | 160/1940 [01:41<15:06,  1.96it/s]"
     ]
    },
    {
     "name": "stdout",
     "output_type": "stream",
     "text": [
      "AFTER ENCODER PREP:  0.9526836276054382\n",
      "AFTER ENCODER:  0.6239137649536133\n"
     ]
    },
    {
     "name": "stderr",
     "output_type": "stream",
     "text": [
      "Epoch 1 - Training:   8%|▊         | 161/1940 [01:42<16:03,  1.85it/s]"
     ]
    },
    {
     "name": "stdout",
     "output_type": "stream",
     "text": [
      "AFTER ENCODER PREP:  0.9583012461662292\n",
      "AFTER ENCODER:  0.8236638903617859\n"
     ]
    },
    {
     "name": "stderr",
     "output_type": "stream",
     "text": [
      "Epoch 1 - Training:   8%|▊         | 162/1940 [01:42<15:31,  1.91it/s]"
     ]
    },
    {
     "name": "stdout",
     "output_type": "stream",
     "text": [
      "AFTER ENCODER PREP:  0.9580013155937195\n",
      "AFTER ENCODER:  0.8034088611602783\n"
     ]
    },
    {
     "name": "stderr",
     "output_type": "stream",
     "text": [
      "Epoch 1 - Training:   8%|▊         | 163/1940 [01:43<14:54,  1.99it/s]"
     ]
    },
    {
     "name": "stdout",
     "output_type": "stream",
     "text": [
      "AFTER ENCODER PREP:  0.9521448016166687\n",
      "AFTER ENCODER:  0.6414483189582825\n"
     ]
    },
    {
     "name": "stderr",
     "output_type": "stream",
     "text": [
      "Epoch 1 - Training:   8%|▊         | 164/1940 [01:43<14:25,  2.05it/s]"
     ]
    },
    {
     "name": "stdout",
     "output_type": "stream",
     "text": [
      "AFTER ENCODER PREP:  0.9587002992630005\n",
      "AFTER ENCODER:  0.7554417252540588\n"
     ]
    },
    {
     "name": "stderr",
     "output_type": "stream",
     "text": [
      "Epoch 1 - Training:   9%|▊         | 165/1940 [01:43<14:25,  2.05it/s]"
     ]
    },
    {
     "name": "stdout",
     "output_type": "stream",
     "text": [
      "AFTER ENCODER PREP:  0.9422221183776855\n",
      "AFTER ENCODER:  0.7106447219848633\n"
     ]
    },
    {
     "name": "stderr",
     "output_type": "stream",
     "text": [
      "Epoch 1 - Training:   9%|▊         | 166/1940 [01:44<14:08,  2.09it/s]"
     ]
    },
    {
     "name": "stdout",
     "output_type": "stream",
     "text": [
      "AFTER ENCODER PREP:  0.9407437443733215\n",
      "AFTER ENCODER:  0.7273885607719421\n"
     ]
    },
    {
     "name": "stderr",
     "output_type": "stream",
     "text": [
      "Epoch 1 - Training:   9%|▊         | 167/1940 [01:44<14:23,  2.05it/s]"
     ]
    },
    {
     "name": "stdout",
     "output_type": "stream",
     "text": [
      "AFTER ENCODER PREP:  0.9385175108909607\n",
      "AFTER ENCODER:  0.6506871581077576\n"
     ]
    },
    {
     "name": "stderr",
     "output_type": "stream",
     "text": [
      "Epoch 1 - Training:   9%|▊         | 168/1940 [01:45<14:29,  2.04it/s]"
     ]
    },
    {
     "name": "stdout",
     "output_type": "stream",
     "text": [
      "AFTER ENCODER PREP:  0.9480355978012085\n",
      "AFTER ENCODER:  0.7776985168457031\n"
     ]
    },
    {
     "name": "stderr",
     "output_type": "stream",
     "text": [
      "Epoch 1 - Training:   9%|▊         | 169/1940 [01:45<14:23,  2.05it/s]"
     ]
    },
    {
     "name": "stdout",
     "output_type": "stream",
     "text": [
      "AFTER ENCODER PREP:  0.9546091556549072\n",
      "AFTER ENCODER:  0.7917852401733398\n"
     ]
    },
    {
     "name": "stderr",
     "output_type": "stream",
     "text": [
      "Epoch 1 - Training:   9%|▉         | 170/1940 [01:46<14:11,  2.08it/s]"
     ]
    },
    {
     "name": "stdout",
     "output_type": "stream",
     "text": [
      "AFTER ENCODER PREP:  0.958673357963562\n",
      "AFTER ENCODER:  0.7263885140419006\n"
     ]
    },
    {
     "name": "stderr",
     "output_type": "stream",
     "text": [
      "Epoch 1 - Training:   9%|▉         | 171/1940 [01:46<14:02,  2.10it/s]"
     ]
    },
    {
     "name": "stdout",
     "output_type": "stream",
     "text": [
      "AFTER ENCODER PREP:  0.9548194408416748\n",
      "AFTER ENCODER:  0.7963260412216187\n"
     ]
    },
    {
     "name": "stderr",
     "output_type": "stream",
     "text": [
      "Epoch 1 - Training:   9%|▉         | 172/1940 [01:47<14:59,  1.97it/s]"
     ]
    },
    {
     "name": "stdout",
     "output_type": "stream",
     "text": [
      "AFTER ENCODER PREP:  0.9578350186347961\n",
      "AFTER ENCODER:  0.6619077324867249\n"
     ]
    },
    {
     "name": "stderr",
     "output_type": "stream",
     "text": [
      "Epoch 1 - Training:   9%|▉         | 173/1940 [01:47<15:02,  1.96it/s]"
     ]
    },
    {
     "name": "stdout",
     "output_type": "stream",
     "text": [
      "AFTER ENCODER PREP:  0.966792643070221\n",
      "AFTER ENCODER:  0.7625156044960022\n"
     ]
    },
    {
     "name": "stderr",
     "output_type": "stream",
     "text": [
      "Epoch 1 - Training:   9%|▉         | 174/1940 [01:48<15:16,  1.93it/s]"
     ]
    },
    {
     "name": "stdout",
     "output_type": "stream",
     "text": [
      "AFTER ENCODER PREP:  0.9547497630119324\n",
      "AFTER ENCODER:  0.8340242505073547\n"
     ]
    },
    {
     "name": "stderr",
     "output_type": "stream",
     "text": [
      "Epoch 1 - Training:   9%|▉         | 175/1940 [01:48<15:14,  1.93it/s]"
     ]
    },
    {
     "name": "stdout",
     "output_type": "stream",
     "text": [
      "AFTER ENCODER PREP:  0.9391794204711914\n",
      "AFTER ENCODER:  0.7930244207382202\n"
     ]
    },
    {
     "name": "stderr",
     "output_type": "stream",
     "text": [
      "Epoch 1 - Training:   9%|▉         | 176/1940 [01:49<15:25,  1.91it/s]"
     ]
    },
    {
     "name": "stdout",
     "output_type": "stream",
     "text": [
      "AFTER ENCODER PREP:  0.959648847579956\n",
      "AFTER ENCODER:  0.8571892976760864\n"
     ]
    },
    {
     "name": "stderr",
     "output_type": "stream",
     "text": [
      "Epoch 1 - Training:   9%|▉         | 177/1940 [01:49<15:04,  1.95it/s]"
     ]
    },
    {
     "name": "stdout",
     "output_type": "stream",
     "text": [
      "AFTER ENCODER PREP:  0.9446340203285217\n",
      "AFTER ENCODER:  0.663968563079834\n"
     ]
    },
    {
     "name": "stderr",
     "output_type": "stream",
     "text": [
      "Epoch 1 - Training:   9%|▉         | 178/1940 [01:50<14:59,  1.96it/s]"
     ]
    },
    {
     "name": "stdout",
     "output_type": "stream",
     "text": [
      "AFTER ENCODER PREP:  0.9441771507263184\n",
      "AFTER ENCODER:  0.6230122447013855\n"
     ]
    },
    {
     "name": "stderr",
     "output_type": "stream",
     "text": [
      "Epoch 1 - Training:   9%|▉         | 179/1940 [01:50<14:44,  1.99it/s]"
     ]
    },
    {
     "name": "stdout",
     "output_type": "stream",
     "text": [
      "AFTER ENCODER PREP:  0.9483222961425781\n",
      "AFTER ENCODER:  0.7828534841537476\n"
     ]
    },
    {
     "name": "stderr",
     "output_type": "stream",
     "text": [
      "Epoch 1 - Training:   9%|▉         | 180/1940 [01:51<14:18,  2.05it/s]"
     ]
    },
    {
     "name": "stdout",
     "output_type": "stream",
     "text": [
      "AFTER ENCODER PREP:  0.971019983291626\n",
      "AFTER ENCODER:  0.8247436285018921\n"
     ]
    },
    {
     "name": "stderr",
     "output_type": "stream",
     "text": [
      "Epoch 1 - Training:   9%|▉         | 181/1940 [01:51<14:22,  2.04it/s]"
     ]
    },
    {
     "name": "stdout",
     "output_type": "stream",
     "text": [
      "AFTER ENCODER PREP:  0.9384815096855164\n",
      "AFTER ENCODER:  0.7180044651031494\n"
     ]
    },
    {
     "name": "stderr",
     "output_type": "stream",
     "text": [
      "Epoch 1 - Training:   9%|▉         | 182/1940 [01:52<14:22,  2.04it/s]"
     ]
    },
    {
     "name": "stdout",
     "output_type": "stream",
     "text": [
      "AFTER ENCODER PREP:  0.9383905529975891\n",
      "AFTER ENCODER:  0.5977867245674133\n"
     ]
    },
    {
     "name": "stderr",
     "output_type": "stream",
     "text": [
      "Epoch 1 - Training:   9%|▉         | 183/1940 [01:53<15:27,  1.90it/s]"
     ]
    },
    {
     "name": "stdout",
     "output_type": "stream",
     "text": [
      "AFTER ENCODER PREP:  0.9582780003547668\n",
      "AFTER ENCODER:  0.5809755325317383\n"
     ]
    },
    {
     "name": "stderr",
     "output_type": "stream",
     "text": [
      "Epoch 1 - Training:   9%|▉         | 184/1940 [01:53<15:06,  1.94it/s]"
     ]
    },
    {
     "name": "stdout",
     "output_type": "stream",
     "text": [
      "AFTER ENCODER PREP:  0.9357713460922241\n",
      "AFTER ENCODER:  0.5788082480430603\n"
     ]
    },
    {
     "name": "stderr",
     "output_type": "stream",
     "text": [
      "Epoch 1 - Training:  10%|▉         | 185/1940 [01:54<14:56,  1.96it/s]"
     ]
    },
    {
     "name": "stdout",
     "output_type": "stream",
     "text": [
      "AFTER ENCODER PREP:  0.9503676295280457\n",
      "AFTER ENCODER:  0.6645429730415344\n"
     ]
    },
    {
     "name": "stderr",
     "output_type": "stream",
     "text": [
      "Epoch 1 - Training:  10%|▉         | 186/1940 [01:54<14:53,  1.96it/s]"
     ]
    },
    {
     "name": "stdout",
     "output_type": "stream",
     "text": [
      "AFTER ENCODER PREP:  0.9441662430763245\n",
      "AFTER ENCODER:  0.6706004738807678\n"
     ]
    },
    {
     "name": "stderr",
     "output_type": "stream",
     "text": [
      "Epoch 1 - Training:  10%|▉         | 187/1940 [01:55<14:48,  1.97it/s]"
     ]
    },
    {
     "name": "stdout",
     "output_type": "stream",
     "text": [
      "AFTER ENCODER PREP:  0.9623458981513977\n",
      "AFTER ENCODER:  0.781000018119812\n"
     ]
    },
    {
     "name": "stderr",
     "output_type": "stream",
     "text": [
      "Epoch 1 - Training:  10%|▉         | 188/1940 [01:55<14:28,  2.02it/s]"
     ]
    },
    {
     "name": "stdout",
     "output_type": "stream",
     "text": [
      "AFTER ENCODER PREP:  0.9577037692070007\n",
      "AFTER ENCODER:  0.6951282620429993\n"
     ]
    },
    {
     "name": "stderr",
     "output_type": "stream",
     "text": [
      "Epoch 1 - Training:  10%|▉         | 189/1940 [01:56<14:31,  2.01it/s]"
     ]
    },
    {
     "name": "stdout",
     "output_type": "stream",
     "text": [
      "AFTER ENCODER PREP:  0.9599897861480713\n",
      "AFTER ENCODER:  0.755387008190155\n"
     ]
    },
    {
     "name": "stderr",
     "output_type": "stream",
     "text": [
      "Epoch 1 - Training:  10%|▉         | 190/1940 [01:56<15:43,  1.85it/s]"
     ]
    },
    {
     "name": "stdout",
     "output_type": "stream",
     "text": [
      "AFTER ENCODER PREP:  0.9511576890945435\n",
      "AFTER ENCODER:  0.6879187226295471\n"
     ]
    },
    {
     "name": "stderr",
     "output_type": "stream",
     "text": [
      "Epoch 1 - Training:  10%|▉         | 191/1940 [01:57<16:01,  1.82it/s]"
     ]
    },
    {
     "name": "stdout",
     "output_type": "stream",
     "text": [
      "AFTER ENCODER PREP:  0.9620823860168457\n",
      "AFTER ENCODER:  0.8150768876075745\n"
     ]
    },
    {
     "name": "stderr",
     "output_type": "stream",
     "text": [
      "Epoch 1 - Training:  10%|▉         | 192/1940 [01:57<16:09,  1.80it/s]"
     ]
    },
    {
     "name": "stdout",
     "output_type": "stream",
     "text": [
      "AFTER ENCODER PREP:  0.9497777819633484\n",
      "AFTER ENCODER:  0.7722592949867249\n"
     ]
    },
    {
     "name": "stderr",
     "output_type": "stream",
     "text": [
      "Epoch 1 - Training:  10%|▉         | 193/1940 [01:58<15:33,  1.87it/s]"
     ]
    },
    {
     "name": "stdout",
     "output_type": "stream",
     "text": [
      "AFTER ENCODER PREP:  0.9454506635665894\n",
      "AFTER ENCODER:  0.7352705001831055\n"
     ]
    },
    {
     "name": "stderr",
     "output_type": "stream",
     "text": [
      "Epoch 1 - Training:  10%|█         | 194/1940 [01:58<16:18,  1.78it/s]"
     ]
    },
    {
     "name": "stdout",
     "output_type": "stream",
     "text": [
      "AFTER ENCODER PREP:  0.9547152519226074\n",
      "AFTER ENCODER:  0.804187536239624\n"
     ]
    },
    {
     "name": "stderr",
     "output_type": "stream",
     "text": [
      "Epoch 1 - Training:  10%|█         | 195/1940 [01:59<15:31,  1.87it/s]"
     ]
    },
    {
     "name": "stdout",
     "output_type": "stream",
     "text": [
      "AFTER ENCODER PREP:  0.9582449197769165\n",
      "AFTER ENCODER:  0.7820653915405273\n"
     ]
    },
    {
     "name": "stderr",
     "output_type": "stream",
     "text": [
      "Epoch 1 - Training:  10%|█         | 196/1940 [01:59<15:00,  1.94it/s]"
     ]
    },
    {
     "name": "stdout",
     "output_type": "stream",
     "text": [
      "AFTER ENCODER PREP:  0.9480148553848267\n",
      "AFTER ENCODER:  0.7965937256813049\n"
     ]
    },
    {
     "name": "stderr",
     "output_type": "stream",
     "text": [
      "Epoch 1 - Training:  10%|█         | 197/1940 [02:00<14:59,  1.94it/s]"
     ]
    },
    {
     "name": "stdout",
     "output_type": "stream",
     "text": [
      "AFTER ENCODER PREP:  0.9465068578720093\n",
      "AFTER ENCODER:  0.7830632328987122\n"
     ]
    },
    {
     "name": "stderr",
     "output_type": "stream",
     "text": [
      "Epoch 1 - Training:  10%|█         | 198/1940 [02:00<14:41,  1.98it/s]"
     ]
    },
    {
     "name": "stdout",
     "output_type": "stream",
     "text": [
      "AFTER ENCODER PREP:  0.9378905296325684\n",
      "AFTER ENCODER:  0.6409539580345154\n"
     ]
    },
    {
     "name": "stderr",
     "output_type": "stream",
     "text": [
      "Epoch 1 - Training:  10%|█         | 199/1940 [02:01<14:46,  1.96it/s]"
     ]
    },
    {
     "name": "stdout",
     "output_type": "stream",
     "text": [
      "AFTER ENCODER PREP:  0.9470077753067017\n",
      "AFTER ENCODER:  0.7075875401496887\n"
     ]
    },
    {
     "name": "stderr",
     "output_type": "stream",
     "text": [
      "Epoch 1 - Training:  10%|█         | 200/1940 [02:01<14:50,  1.95it/s]"
     ]
    },
    {
     "name": "stdout",
     "output_type": "stream",
     "text": [
      "AFTER ENCODER PREP:  0.9604296684265137\n",
      "AFTER ENCODER:  0.8348932266235352\n"
     ]
    },
    {
     "name": "stderr",
     "output_type": "stream",
     "text": [
      "Epoch 1 - Training:  10%|█         | 201/1940 [02:02<14:41,  1.97it/s]"
     ]
    },
    {
     "name": "stdout",
     "output_type": "stream",
     "text": [
      "AFTER ENCODER PREP:  0.9517770409584045\n",
      "AFTER ENCODER:  0.7856740355491638\n"
     ]
    },
    {
     "name": "stderr",
     "output_type": "stream",
     "text": [
      "Epoch 1 - Training:  10%|█         | 202/1940 [02:02<14:39,  1.98it/s]"
     ]
    },
    {
     "name": "stdout",
     "output_type": "stream",
     "text": [
      "AFTER ENCODER PREP:  0.9324371218681335\n",
      "AFTER ENCODER:  0.5406274199485779\n"
     ]
    },
    {
     "name": "stderr",
     "output_type": "stream",
     "text": [
      "Epoch 1 - Training:  10%|█         | 203/1940 [02:03<14:30,  2.00it/s]"
     ]
    },
    {
     "name": "stdout",
     "output_type": "stream",
     "text": [
      "AFTER ENCODER PREP:  0.9469240307807922\n",
      "AFTER ENCODER:  0.6261855959892273\n"
     ]
    },
    {
     "name": "stderr",
     "output_type": "stream",
     "text": [
      "Epoch 1 - Training:  11%|█         | 204/1940 [02:03<14:12,  2.04it/s]"
     ]
    },
    {
     "name": "stdout",
     "output_type": "stream",
     "text": [
      "AFTER ENCODER PREP:  0.9458011984825134\n",
      "AFTER ENCODER:  0.7315604090690613\n"
     ]
    },
    {
     "name": "stderr",
     "output_type": "stream",
     "text": [
      "Epoch 1 - Training:  11%|█         | 205/1940 [02:04<15:21,  1.88it/s]"
     ]
    },
    {
     "name": "stdout",
     "output_type": "stream",
     "text": [
      "AFTER ENCODER PREP:  0.9488970637321472\n",
      "AFTER ENCODER:  0.7917618155479431\n"
     ]
    },
    {
     "name": "stderr",
     "output_type": "stream",
     "text": [
      "Epoch 1 - Training:  11%|█         | 206/1940 [02:04<15:14,  1.90it/s]"
     ]
    },
    {
     "name": "stdout",
     "output_type": "stream",
     "text": [
      "AFTER ENCODER PREP:  0.9461672902107239\n",
      "AFTER ENCODER:  0.6221311688423157\n"
     ]
    },
    {
     "name": "stderr",
     "output_type": "stream",
     "text": [
      "Epoch 1 - Training:  11%|█         | 207/1940 [02:05<14:59,  1.93it/s]"
     ]
    },
    {
     "name": "stdout",
     "output_type": "stream",
     "text": [
      "AFTER ENCODER PREP:  0.9596278071403503\n",
      "AFTER ENCODER:  0.8727426528930664\n"
     ]
    },
    {
     "name": "stderr",
     "output_type": "stream",
     "text": [
      "Epoch 1 - Training:  11%|█         | 208/1940 [02:05<14:34,  1.98it/s]"
     ]
    },
    {
     "name": "stdout",
     "output_type": "stream",
     "text": [
      "AFTER ENCODER PREP:  0.95769202709198\n",
      "AFTER ENCODER:  0.7529193162918091\n"
     ]
    },
    {
     "name": "stderr",
     "output_type": "stream",
     "text": [
      "Epoch 1 - Training:  11%|█         | 209/1940 [02:06<14:45,  1.96it/s]"
     ]
    },
    {
     "name": "stdout",
     "output_type": "stream",
     "text": [
      "AFTER ENCODER PREP:  0.9534510374069214\n",
      "AFTER ENCODER:  0.6807011365890503\n"
     ]
    },
    {
     "name": "stderr",
     "output_type": "stream",
     "text": [
      "Epoch 1 - Training:  11%|█         | 210/1940 [02:06<14:32,  1.98it/s]"
     ]
    },
    {
     "name": "stdout",
     "output_type": "stream",
     "text": [
      "AFTER ENCODER PREP:  0.9415886998176575\n",
      "AFTER ENCODER:  0.7777000069618225\n"
     ]
    },
    {
     "name": "stderr",
     "output_type": "stream",
     "text": [
      "Epoch 1 - Training:  11%|█         | 211/1940 [02:07<14:17,  2.02it/s]"
     ]
    },
    {
     "name": "stdout",
     "output_type": "stream",
     "text": [
      "AFTER ENCODER PREP:  0.9469538927078247\n",
      "AFTER ENCODER:  0.8077182769775391\n"
     ]
    },
    {
     "name": "stderr",
     "output_type": "stream",
     "text": [
      "Epoch 1 - Training:  11%|█         | 212/1940 [02:07<14:14,  2.02it/s]"
     ]
    },
    {
     "name": "stdout",
     "output_type": "stream",
     "text": [
      "AFTER ENCODER PREP:  0.9508407115936279\n",
      "AFTER ENCODER:  0.6830703616142273\n"
     ]
    },
    {
     "name": "stderr",
     "output_type": "stream",
     "text": [
      "Epoch 1 - Training:  11%|█         | 213/1940 [02:08<14:06,  2.04it/s]"
     ]
    },
    {
     "name": "stdout",
     "output_type": "stream",
     "text": [
      "AFTER ENCODER PREP:  0.9573822617530823\n",
      "AFTER ENCODER:  0.7325189113616943\n"
     ]
    },
    {
     "name": "stderr",
     "output_type": "stream",
     "text": [
      "Epoch 1 - Training:  11%|█         | 214/1940 [02:08<14:20,  2.01it/s]"
     ]
    },
    {
     "name": "stdout",
     "output_type": "stream",
     "text": [
      "AFTER ENCODER PREP:  0.9602496027946472\n",
      "AFTER ENCODER:  0.8361107110977173\n"
     ]
    },
    {
     "name": "stderr",
     "output_type": "stream",
     "text": [
      "Epoch 1 - Training:  11%|█         | 215/1940 [02:09<15:11,  1.89it/s]"
     ]
    },
    {
     "name": "stdout",
     "output_type": "stream",
     "text": [
      "AFTER ENCODER PREP:  0.9535877704620361\n",
      "AFTER ENCODER:  0.788972795009613\n"
     ]
    },
    {
     "name": "stderr",
     "output_type": "stream",
     "text": [
      "Epoch 1 - Training:  11%|█         | 216/1940 [02:10<15:05,  1.90it/s]"
     ]
    },
    {
     "name": "stdout",
     "output_type": "stream",
     "text": [
      "AFTER ENCODER PREP:  0.9552640914916992\n",
      "AFTER ENCODER:  0.8159170746803284\n"
     ]
    },
    {
     "name": "stderr",
     "output_type": "stream",
     "text": [
      "Epoch 1 - Training:  11%|█         | 217/1940 [02:10<15:02,  1.91it/s]"
     ]
    },
    {
     "name": "stdout",
     "output_type": "stream",
     "text": [
      "AFTER ENCODER PREP:  0.9496517777442932\n",
      "AFTER ENCODER:  0.6371346116065979\n"
     ]
    },
    {
     "name": "stderr",
     "output_type": "stream",
     "text": [
      "Epoch 1 - Training:  11%|█         | 218/1940 [02:11<14:39,  1.96it/s]"
     ]
    },
    {
     "name": "stdout",
     "output_type": "stream",
     "text": [
      "AFTER ENCODER PREP:  0.9494116306304932\n",
      "AFTER ENCODER:  0.7309601902961731\n"
     ]
    },
    {
     "name": "stderr",
     "output_type": "stream",
     "text": [
      "Epoch 1 - Training:  11%|█▏        | 219/1940 [02:11<14:18,  2.00it/s]"
     ]
    },
    {
     "name": "stdout",
     "output_type": "stream",
     "text": [
      "AFTER ENCODER PREP:  0.9525414705276489\n",
      "AFTER ENCODER:  0.7946511507034302\n"
     ]
    },
    {
     "name": "stderr",
     "output_type": "stream",
     "text": [
      "Epoch 1 - Training:  11%|█▏        | 220/1940 [02:12<14:22,  1.99it/s]"
     ]
    },
    {
     "name": "stdout",
     "output_type": "stream",
     "text": [
      "AFTER ENCODER PREP:  0.9520783424377441\n",
      "AFTER ENCODER:  0.778734564781189\n"
     ]
    },
    {
     "name": "stderr",
     "output_type": "stream",
     "text": [
      "Epoch 1 - Training:  11%|█▏        | 221/1940 [02:12<14:23,  1.99it/s]"
     ]
    },
    {
     "name": "stdout",
     "output_type": "stream",
     "text": [
      "AFTER ENCODER PREP:  0.9391186833381653\n",
      "AFTER ENCODER:  0.624964714050293\n"
     ]
    },
    {
     "name": "stderr",
     "output_type": "stream",
     "text": [
      "Epoch 1 - Training:  11%|█▏        | 222/1940 [02:13<14:24,  1.99it/s]"
     ]
    },
    {
     "name": "stdout",
     "output_type": "stream",
     "text": [
      "AFTER ENCODER PREP:  0.9635106921195984\n",
      "AFTER ENCODER:  0.8967542052268982\n"
     ]
    },
    {
     "name": "stderr",
     "output_type": "stream",
     "text": [
      "Epoch 1 - Training:  11%|█▏        | 223/1940 [02:13<14:22,  1.99it/s]"
     ]
    },
    {
     "name": "stdout",
     "output_type": "stream",
     "text": [
      "AFTER ENCODER PREP:  0.9660173654556274\n",
      "AFTER ENCODER:  0.8093465566635132\n"
     ]
    },
    {
     "name": "stderr",
     "output_type": "stream",
     "text": [
      "Epoch 1 - Training:  12%|█▏        | 224/1940 [02:14<14:15,  2.01it/s]"
     ]
    },
    {
     "name": "stdout",
     "output_type": "stream",
     "text": [
      "AFTER ENCODER PREP:  0.9551599025726318\n",
      "AFTER ENCODER:  0.6318617463111877\n"
     ]
    },
    {
     "name": "stderr",
     "output_type": "stream",
     "text": [
      "Epoch 1 - Training:  12%|█▏        | 225/1940 [02:14<14:09,  2.02it/s]"
     ]
    },
    {
     "name": "stdout",
     "output_type": "stream",
     "text": [
      "AFTER ENCODER PREP:  0.9544323086738586\n",
      "AFTER ENCODER:  0.6974923014640808\n"
     ]
    },
    {
     "name": "stderr",
     "output_type": "stream",
     "text": [
      "Epoch 1 - Training:  12%|█▏        | 226/1940 [02:15<15:03,  1.90it/s]"
     ]
    },
    {
     "name": "stdout",
     "output_type": "stream",
     "text": [
      "AFTER ENCODER PREP:  0.9565611481666565\n",
      "AFTER ENCODER:  0.7180740833282471\n"
     ]
    },
    {
     "name": "stderr",
     "output_type": "stream",
     "text": [
      "Epoch 1 - Training:  12%|█▏        | 227/1940 [02:15<14:43,  1.94it/s]"
     ]
    },
    {
     "name": "stdout",
     "output_type": "stream",
     "text": [
      "AFTER ENCODER PREP:  0.9588108062744141\n",
      "AFTER ENCODER:  0.8830281496047974\n"
     ]
    },
    {
     "name": "stderr",
     "output_type": "stream",
     "text": [
      "Epoch 1 - Training:  12%|█▏        | 228/1940 [02:16<14:15,  2.00it/s]"
     ]
    },
    {
     "name": "stdout",
     "output_type": "stream",
     "text": [
      "AFTER ENCODER PREP:  0.9636716842651367\n",
      "AFTER ENCODER:  0.7864672541618347\n"
     ]
    },
    {
     "name": "stderr",
     "output_type": "stream",
     "text": [
      "Epoch 1 - Training:  12%|█▏        | 229/1940 [02:16<14:24,  1.98it/s]"
     ]
    },
    {
     "name": "stdout",
     "output_type": "stream",
     "text": [
      "AFTER ENCODER PREP:  0.9597214460372925\n",
      "AFTER ENCODER:  0.791202187538147\n"
     ]
    },
    {
     "name": "stderr",
     "output_type": "stream",
     "text": [
      "Epoch 1 - Training:  12%|█▏        | 230/1940 [02:17<14:06,  2.02it/s]"
     ]
    },
    {
     "name": "stdout",
     "output_type": "stream",
     "text": [
      "AFTER ENCODER PREP:  0.9646827578544617\n",
      "AFTER ENCODER:  0.8695839047431946\n"
     ]
    },
    {
     "name": "stderr",
     "output_type": "stream",
     "text": [
      "Epoch 1 - Training:  12%|█▏        | 231/1940 [02:17<14:31,  1.96it/s]"
     ]
    },
    {
     "name": "stdout",
     "output_type": "stream",
     "text": [
      "AFTER ENCODER PREP:  0.9613322019577026\n",
      "AFTER ENCODER:  0.7508506178855896\n"
     ]
    },
    {
     "name": "stderr",
     "output_type": "stream",
     "text": [
      "Epoch 1 - Training:  12%|█▏        | 232/1940 [02:18<14:44,  1.93it/s]"
     ]
    },
    {
     "name": "stdout",
     "output_type": "stream",
     "text": [
      "AFTER ENCODER PREP:  0.956607460975647\n",
      "AFTER ENCODER:  0.7951745986938477\n"
     ]
    },
    {
     "name": "stderr",
     "output_type": "stream",
     "text": [
      "Epoch 1 - Training:  12%|█▏        | 233/1940 [02:18<14:35,  1.95it/s]"
     ]
    },
    {
     "name": "stdout",
     "output_type": "stream",
     "text": [
      "AFTER ENCODER PREP:  0.9558725953102112\n",
      "AFTER ENCODER:  0.7309485673904419\n"
     ]
    },
    {
     "name": "stderr",
     "output_type": "stream",
     "text": [
      "Epoch 1 - Training:  12%|█▏        | 234/1940 [02:19<14:28,  1.97it/s]"
     ]
    },
    {
     "name": "stdout",
     "output_type": "stream",
     "text": [
      "AFTER ENCODER PREP:  0.9498416185379028\n",
      "AFTER ENCODER:  0.6201151013374329\n"
     ]
    },
    {
     "name": "stderr",
     "output_type": "stream",
     "text": [
      "Epoch 1 - Training:  12%|█▏        | 235/1940 [02:19<14:02,  2.02it/s]"
     ]
    },
    {
     "name": "stdout",
     "output_type": "stream",
     "text": [
      "AFTER ENCODER PREP:  0.957226037979126\n",
      "AFTER ENCODER:  0.8634786605834961\n"
     ]
    },
    {
     "name": "stderr",
     "output_type": "stream",
     "text": [
      "Epoch 1 - Training:  12%|█▏        | 236/1940 [02:20<15:06,  1.88it/s]"
     ]
    },
    {
     "name": "stdout",
     "output_type": "stream",
     "text": [
      "AFTER ENCODER PREP:  0.9394887089729309\n",
      "AFTER ENCODER:  0.8255058526992798\n"
     ]
    },
    {
     "name": "stderr",
     "output_type": "stream",
     "text": [
      "Epoch 1 - Training:  12%|█▏        | 237/1940 [02:20<14:55,  1.90it/s]"
     ]
    },
    {
     "name": "stdout",
     "output_type": "stream",
     "text": [
      "AFTER ENCODER PREP:  0.946548342704773\n",
      "AFTER ENCODER:  0.6411660313606262\n"
     ]
    },
    {
     "name": "stderr",
     "output_type": "stream",
     "text": [
      "Epoch 1 - Training:  12%|█▏        | 238/1940 [02:21<14:44,  1.92it/s]"
     ]
    },
    {
     "name": "stdout",
     "output_type": "stream",
     "text": [
      "AFTER ENCODER PREP:  0.952255129814148\n",
      "AFTER ENCODER:  0.8586623668670654\n"
     ]
    },
    {
     "name": "stderr",
     "output_type": "stream",
     "text": [
      "Epoch 1 - Training:  12%|█▏        | 239/1940 [02:21<14:48,  1.91it/s]"
     ]
    },
    {
     "name": "stdout",
     "output_type": "stream",
     "text": [
      "AFTER ENCODER PREP:  0.9634714722633362\n",
      "AFTER ENCODER:  0.8953136205673218\n"
     ]
    },
    {
     "name": "stderr",
     "output_type": "stream",
     "text": [
      "Epoch 1 - Training:  12%|█▏        | 240/1940 [02:22<14:42,  1.93it/s]"
     ]
    },
    {
     "name": "stdout",
     "output_type": "stream",
     "text": [
      "AFTER ENCODER PREP:  0.9401000738143921\n",
      "AFTER ENCODER:  0.778060793876648\n"
     ]
    },
    {
     "name": "stderr",
     "output_type": "stream",
     "text": [
      "Epoch 1 - Training:  12%|█▏        | 241/1940 [02:22<14:46,  1.92it/s]"
     ]
    },
    {
     "name": "stdout",
     "output_type": "stream",
     "text": [
      "AFTER ENCODER PREP:  0.943386971950531\n",
      "AFTER ENCODER:  0.6025648713111877\n"
     ]
    },
    {
     "name": "stderr",
     "output_type": "stream",
     "text": [
      "Epoch 1 - Training:  12%|█▏        | 242/1940 [02:23<14:44,  1.92it/s]"
     ]
    },
    {
     "name": "stdout",
     "output_type": "stream",
     "text": [
      "AFTER ENCODER PREP:  0.9504283666610718\n",
      "AFTER ENCODER:  0.5836111903190613\n"
     ]
    },
    {
     "name": "stderr",
     "output_type": "stream",
     "text": [
      "Epoch 1 - Training:  13%|█▎        | 243/1940 [02:23<14:23,  1.97it/s]"
     ]
    },
    {
     "name": "stdout",
     "output_type": "stream",
     "text": [
      "AFTER ENCODER PREP:  0.9565386772155762\n",
      "AFTER ENCODER:  0.8275010585784912\n"
     ]
    },
    {
     "name": "stderr",
     "output_type": "stream",
     "text": [
      "Epoch 1 - Training:  13%|█▎        | 244/1940 [02:24<14:17,  1.98it/s]"
     ]
    },
    {
     "name": "stdout",
     "output_type": "stream",
     "text": [
      "AFTER ENCODER PREP:  0.9438304305076599\n",
      "AFTER ENCODER:  0.6058909296989441\n"
     ]
    },
    {
     "name": "stderr",
     "output_type": "stream",
     "text": [
      "Epoch 1 - Training:  13%|█▎        | 245/1940 [02:24<14:18,  1.97it/s]"
     ]
    },
    {
     "name": "stdout",
     "output_type": "stream",
     "text": [
      "AFTER ENCODER PREP:  0.9504638314247131\n",
      "AFTER ENCODER:  0.6349737048149109\n"
     ]
    },
    {
     "name": "stderr",
     "output_type": "stream",
     "text": [
      "Epoch 1 - Training:  13%|█▎        | 246/1940 [02:25<16:03,  1.76it/s]"
     ]
    },
    {
     "name": "stdout",
     "output_type": "stream",
     "text": [
      "AFTER ENCODER PREP:  0.948576807975769\n",
      "AFTER ENCODER:  0.8291413187980652\n"
     ]
    },
    {
     "name": "stderr",
     "output_type": "stream",
     "text": [
      "Epoch 1 - Training:  13%|█▎        | 247/1940 [02:26<15:34,  1.81it/s]"
     ]
    },
    {
     "name": "stdout",
     "output_type": "stream",
     "text": [
      "AFTER ENCODER PREP:  0.9660010933876038\n",
      "AFTER ENCODER:  0.834373950958252\n"
     ]
    },
    {
     "name": "stderr",
     "output_type": "stream",
     "text": [
      "Epoch 1 - Training:  13%|█▎        | 248/1940 [02:26<15:11,  1.86it/s]"
     ]
    },
    {
     "name": "stdout",
     "output_type": "stream",
     "text": [
      "AFTER ENCODER PREP:  0.9323940277099609\n",
      "AFTER ENCODER:  0.7696457505226135\n"
     ]
    },
    {
     "name": "stderr",
     "output_type": "stream",
     "text": [
      "Epoch 1 - Training:  13%|█▎        | 249/1940 [02:27<14:39,  1.92it/s]"
     ]
    },
    {
     "name": "stdout",
     "output_type": "stream",
     "text": [
      "AFTER ENCODER PREP:  0.9536651968955994\n",
      "AFTER ENCODER:  0.8181278109550476\n"
     ]
    },
    {
     "name": "stderr",
     "output_type": "stream",
     "text": [
      "Epoch 1 - Training:  13%|█▎        | 250/1940 [02:27<13:54,  2.02it/s]"
     ]
    },
    {
     "name": "stdout",
     "output_type": "stream",
     "text": [
      "AFTER ENCODER PREP:  0.9489616751670837\n",
      "AFTER ENCODER:  0.7751441597938538\n"
     ]
    },
    {
     "name": "stderr",
     "output_type": "stream",
     "text": [
      "Epoch 1 - Training:  13%|█▎        | 251/1940 [02:27<13:15,  2.12it/s]"
     ]
    },
    {
     "name": "stdout",
     "output_type": "stream",
     "text": [
      "AFTER ENCODER PREP:  0.9534964561462402\n",
      "AFTER ENCODER:  0.5945173501968384\n"
     ]
    },
    {
     "name": "stderr",
     "output_type": "stream",
     "text": [
      "Epoch 1 - Training:  13%|█▎        | 252/1940 [02:28<13:11,  2.13it/s]"
     ]
    },
    {
     "name": "stdout",
     "output_type": "stream",
     "text": [
      "AFTER ENCODER PREP:  0.9536665081977844\n",
      "AFTER ENCODER:  0.7472924590110779\n"
     ]
    },
    {
     "name": "stderr",
     "output_type": "stream",
     "text": [
      "Epoch 1 - Training:  13%|█▎        | 253/1940 [02:28<13:10,  2.13it/s]"
     ]
    },
    {
     "name": "stdout",
     "output_type": "stream",
     "text": [
      "AFTER ENCODER PREP:  0.9365116357803345\n",
      "AFTER ENCODER:  0.660828709602356\n"
     ]
    },
    {
     "name": "stderr",
     "output_type": "stream",
     "text": [
      "Epoch 1 - Training:  13%|█▎        | 254/1940 [02:29<13:12,  2.13it/s]"
     ]
    },
    {
     "name": "stdout",
     "output_type": "stream",
     "text": [
      "AFTER ENCODER PREP:  0.9485998153686523\n",
      "AFTER ENCODER:  0.7515702247619629\n"
     ]
    },
    {
     "name": "stderr",
     "output_type": "stream",
     "text": [
      "Epoch 1 - Training:  13%|█▎        | 255/1940 [02:29<13:07,  2.14it/s]"
     ]
    },
    {
     "name": "stdout",
     "output_type": "stream",
     "text": [
      "AFTER ENCODER PREP:  0.9473270177841187\n",
      "AFTER ENCODER:  0.6875545978546143\n"
     ]
    },
    {
     "name": "stderr",
     "output_type": "stream",
     "text": [
      "Epoch 1 - Training:  13%|█▎        | 256/1940 [02:30<12:58,  2.16it/s]"
     ]
    },
    {
     "name": "stdout",
     "output_type": "stream",
     "text": [
      "AFTER ENCODER PREP:  0.9524005055427551\n",
      "AFTER ENCODER:  0.6438718438148499\n"
     ]
    },
    {
     "name": "stderr",
     "output_type": "stream",
     "text": [
      "Epoch 1 - Training:  13%|█▎        | 257/1940 [02:30<13:08,  2.13it/s]"
     ]
    },
    {
     "name": "stdout",
     "output_type": "stream",
     "text": [
      "AFTER ENCODER PREP:  0.9558433890342712\n",
      "AFTER ENCODER:  0.8059772849082947\n"
     ]
    },
    {
     "name": "stderr",
     "output_type": "stream",
     "text": [
      "Epoch 1 - Training:  13%|█▎        | 258/1940 [02:31<13:43,  2.04it/s]"
     ]
    },
    {
     "name": "stdout",
     "output_type": "stream",
     "text": [
      "AFTER ENCODER PREP:  0.9515017867088318\n",
      "AFTER ENCODER:  0.7399836182594299\n"
     ]
    },
    {
     "name": "stderr",
     "output_type": "stream",
     "text": [
      "Epoch 1 - Training:  13%|█▎        | 259/1940 [02:31<13:20,  2.10it/s]"
     ]
    },
    {
     "name": "stdout",
     "output_type": "stream",
     "text": [
      "AFTER ENCODER PREP:  0.9607506990432739\n",
      "AFTER ENCODER:  0.8152187466621399\n"
     ]
    },
    {
     "name": "stderr",
     "output_type": "stream",
     "text": [
      "Epoch 1 - Training:  13%|█▎        | 260/1940 [02:32<13:11,  2.12it/s]"
     ]
    },
    {
     "name": "stdout",
     "output_type": "stream",
     "text": [
      "AFTER ENCODER PREP:  0.9611424207687378\n",
      "AFTER ENCODER:  0.8609115481376648\n"
     ]
    },
    {
     "name": "stderr",
     "output_type": "stream",
     "text": [
      "Epoch 1 - Training:  13%|█▎        | 261/1940 [02:32<13:04,  2.14it/s]"
     ]
    },
    {
     "name": "stdout",
     "output_type": "stream",
     "text": [
      "AFTER ENCODER PREP:  0.9536195397377014\n",
      "AFTER ENCODER:  0.7143416404724121\n"
     ]
    },
    {
     "name": "stderr",
     "output_type": "stream",
     "text": [
      "Epoch 1 - Training:  14%|█▎        | 262/1940 [02:33<13:06,  2.13it/s]"
     ]
    },
    {
     "name": "stdout",
     "output_type": "stream",
     "text": [
      "AFTER ENCODER PREP:  0.9466853737831116\n",
      "AFTER ENCODER:  0.6970506310462952\n"
     ]
    },
    {
     "name": "stderr",
     "output_type": "stream",
     "text": [
      "Epoch 1 - Training:  14%|█▎        | 263/1940 [02:33<13:02,  2.14it/s]"
     ]
    },
    {
     "name": "stdout",
     "output_type": "stream",
     "text": [
      "AFTER ENCODER PREP:  0.9372116923332214\n",
      "AFTER ENCODER:  0.7275317907333374\n"
     ]
    },
    {
     "name": "stderr",
     "output_type": "stream",
     "text": [
      "Epoch 1 - Training:  14%|█▎        | 264/1940 [02:33<12:56,  2.16it/s]"
     ]
    },
    {
     "name": "stdout",
     "output_type": "stream",
     "text": [
      "AFTER ENCODER PREP:  0.9516386985778809\n",
      "AFTER ENCODER:  0.7374365329742432\n"
     ]
    },
    {
     "name": "stderr",
     "output_type": "stream",
     "text": [
      "Epoch 1 - Training:  14%|█▎        | 265/1940 [02:34<12:46,  2.19it/s]"
     ]
    },
    {
     "name": "stdout",
     "output_type": "stream",
     "text": [
      "AFTER ENCODER PREP:  0.9511672854423523\n",
      "AFTER ENCODER:  0.6771827340126038\n"
     ]
    },
    {
     "name": "stderr",
     "output_type": "stream",
     "text": [
      "Epoch 1 - Training:  14%|█▎        | 266/1940 [02:34<12:39,  2.20it/s]"
     ]
    },
    {
     "name": "stdout",
     "output_type": "stream",
     "text": [
      "AFTER ENCODER PREP:  0.9614220261573792\n",
      "AFTER ENCODER:  0.7444508075714111\n"
     ]
    },
    {
     "name": "stderr",
     "output_type": "stream",
     "text": [
      "Epoch 1 - Training:  14%|█▍        | 267/1940 [02:35<12:48,  2.18it/s]"
     ]
    },
    {
     "name": "stdout",
     "output_type": "stream",
     "text": [
      "AFTER ENCODER PREP:  0.943899393081665\n",
      "AFTER ENCODER:  0.6984344124794006\n"
     ]
    },
    {
     "name": "stderr",
     "output_type": "stream",
     "text": [
      "Epoch 1 - Training:  14%|█▍        | 268/1940 [02:35<12:51,  2.17it/s]"
     ]
    },
    {
     "name": "stdout",
     "output_type": "stream",
     "text": [
      "AFTER ENCODER PREP:  0.9364641904830933\n",
      "AFTER ENCODER:  0.6045600771903992\n"
     ]
    },
    {
     "name": "stderr",
     "output_type": "stream",
     "text": [
      "Epoch 1 - Training:  14%|█▍        | 269/1940 [02:36<12:45,  2.18it/s]"
     ]
    },
    {
     "name": "stdout",
     "output_type": "stream",
     "text": [
      "AFTER ENCODER PREP:  0.9644117951393127\n",
      "AFTER ENCODER:  0.7927446365356445\n"
     ]
    },
    {
     "name": "stderr",
     "output_type": "stream",
     "text": [
      "Epoch 1 - Training:  14%|█▍        | 270/1940 [02:36<12:16,  2.27it/s]"
     ]
    },
    {
     "name": "stdout",
     "output_type": "stream",
     "text": [
      "AFTER ENCODER PREP:  0.9529325366020203\n",
      "AFTER ENCODER:  0.7926824688911438\n"
     ]
    },
    {
     "name": "stderr",
     "output_type": "stream",
     "text": [
      "Epoch 1 - Training:  14%|█▍        | 271/1940 [02:37<12:53,  2.16it/s]"
     ]
    },
    {
     "name": "stdout",
     "output_type": "stream",
     "text": [
      "AFTER ENCODER PREP:  0.9525488018989563\n",
      "AFTER ENCODER:  0.7679332494735718\n"
     ]
    },
    {
     "name": "stderr",
     "output_type": "stream",
     "text": [
      "Epoch 1 - Training:  14%|█▍        | 272/1940 [02:37<12:48,  2.17it/s]"
     ]
    },
    {
     "name": "stdout",
     "output_type": "stream",
     "text": [
      "AFTER ENCODER PREP:  0.9380114674568176\n",
      "AFTER ENCODER:  0.6689385175704956\n"
     ]
    },
    {
     "name": "stderr",
     "output_type": "stream",
     "text": [
      "Epoch 1 - Training:  14%|█▍        | 273/1940 [02:38<12:40,  2.19it/s]"
     ]
    },
    {
     "name": "stdout",
     "output_type": "stream",
     "text": [
      "AFTER ENCODER PREP:  0.9442829489707947\n",
      "AFTER ENCODER:  0.7245534062385559\n"
     ]
    },
    {
     "name": "stderr",
     "output_type": "stream",
     "text": [
      "Epoch 1 - Training:  14%|█▍        | 274/1940 [02:38<12:53,  2.15it/s]"
     ]
    },
    {
     "name": "stdout",
     "output_type": "stream",
     "text": [
      "AFTER ENCODER PREP:  0.9496022462844849\n",
      "AFTER ENCODER:  0.7497270703315735\n"
     ]
    },
    {
     "name": "stderr",
     "output_type": "stream",
     "text": [
      "Epoch 1 - Training:  14%|█▍        | 275/1940 [02:38<12:50,  2.16it/s]"
     ]
    },
    {
     "name": "stdout",
     "output_type": "stream",
     "text": [
      "AFTER ENCODER PREP:  0.9368491768836975\n",
      "AFTER ENCODER:  0.7115733623504639\n"
     ]
    },
    {
     "name": "stderr",
     "output_type": "stream",
     "text": [
      "Epoch 1 - Training:  14%|█▍        | 276/1940 [02:39<12:42,  2.18it/s]"
     ]
    },
    {
     "name": "stdout",
     "output_type": "stream",
     "text": [
      "AFTER ENCODER PREP:  0.9432347416877747\n",
      "AFTER ENCODER:  0.6838052868843079\n"
     ]
    },
    {
     "name": "stderr",
     "output_type": "stream",
     "text": [
      "Epoch 1 - Training:  14%|█▍        | 277/1940 [02:39<12:39,  2.19it/s]"
     ]
    },
    {
     "name": "stdout",
     "output_type": "stream",
     "text": [
      "AFTER ENCODER PREP:  0.9529898166656494\n",
      "AFTER ENCODER:  0.7953345775604248\n"
     ]
    },
    {
     "name": "stderr",
     "output_type": "stream",
     "text": [
      "Epoch 1 - Training:  14%|█▍        | 278/1940 [02:40<12:52,  2.15it/s]"
     ]
    },
    {
     "name": "stdout",
     "output_type": "stream",
     "text": [
      "AFTER ENCODER PREP:  0.9546216130256653\n",
      "AFTER ENCODER:  0.7269507646560669\n"
     ]
    },
    {
     "name": "stderr",
     "output_type": "stream",
     "text": [
      "Epoch 1 - Training:  14%|█▍        | 279/1940 [02:40<12:29,  2.22it/s]"
     ]
    },
    {
     "name": "stdout",
     "output_type": "stream",
     "text": [
      "AFTER ENCODER PREP:  0.9453369379043579\n",
      "AFTER ENCODER:  0.7042255401611328\n"
     ]
    },
    {
     "name": "stderr",
     "output_type": "stream",
     "text": [
      "Epoch 1 - Training:  14%|█▍        | 280/1940 [02:41<12:05,  2.29it/s]"
     ]
    },
    {
     "name": "stdout",
     "output_type": "stream",
     "text": [
      "AFTER ENCODER PREP:  0.9498260021209717\n",
      "AFTER ENCODER:  0.7573603987693787\n"
     ]
    },
    {
     "name": "stderr",
     "output_type": "stream",
     "text": [
      "Epoch 1 - Training:  14%|█▍        | 281/1940 [02:41<12:29,  2.21it/s]"
     ]
    },
    {
     "name": "stdout",
     "output_type": "stream",
     "text": [
      "AFTER ENCODER PREP:  0.9534419775009155\n",
      "AFTER ENCODER:  0.8014941215515137\n"
     ]
    },
    {
     "name": "stderr",
     "output_type": "stream",
     "text": [
      "Epoch 1 - Training:  15%|█▍        | 282/1940 [02:42<12:26,  2.22it/s]"
     ]
    },
    {
     "name": "stdout",
     "output_type": "stream",
     "text": [
      "AFTER ENCODER PREP:  0.9537901878356934\n",
      "AFTER ENCODER:  0.7705977559089661\n"
     ]
    },
    {
     "name": "stderr",
     "output_type": "stream",
     "text": [
      "Epoch 1 - Training:  15%|█▍        | 283/1940 [02:42<13:07,  2.10it/s]"
     ]
    },
    {
     "name": "stdout",
     "output_type": "stream",
     "text": [
      "AFTER ENCODER PREP:  0.9603679776191711\n",
      "AFTER ENCODER:  0.7930564284324646\n"
     ]
    },
    {
     "name": "stderr",
     "output_type": "stream",
     "text": [
      "Epoch 1 - Training:  15%|█▍        | 284/1940 [02:43<12:56,  2.13it/s]"
     ]
    },
    {
     "name": "stdout",
     "output_type": "stream",
     "text": [
      "AFTER ENCODER PREP:  0.9579735994338989\n",
      "AFTER ENCODER:  0.7678216099739075\n"
     ]
    },
    {
     "name": "stderr",
     "output_type": "stream",
     "text": [
      "Epoch 1 - Training:  15%|█▍        | 285/1940 [02:43<12:56,  2.13it/s]"
     ]
    },
    {
     "name": "stdout",
     "output_type": "stream",
     "text": [
      "AFTER ENCODER PREP:  0.951553225517273\n",
      "AFTER ENCODER:  0.6868765354156494\n"
     ]
    },
    {
     "name": "stderr",
     "output_type": "stream",
     "text": [
      "Epoch 1 - Training:  15%|█▍        | 286/1940 [02:44<12:47,  2.15it/s]"
     ]
    },
    {
     "name": "stdout",
     "output_type": "stream",
     "text": [
      "AFTER ENCODER PREP:  0.953115701675415\n",
      "AFTER ENCODER:  0.7113932371139526\n"
     ]
    },
    {
     "name": "stderr",
     "output_type": "stream",
     "text": [
      "Epoch 1 - Training:  15%|█▍        | 287/1940 [02:44<12:27,  2.21it/s]"
     ]
    },
    {
     "name": "stdout",
     "output_type": "stream",
     "text": [
      "AFTER ENCODER PREP:  0.9318420886993408\n",
      "AFTER ENCODER:  0.6554915904998779\n"
     ]
    },
    {
     "name": "stderr",
     "output_type": "stream",
     "text": [
      "Epoch 1 - Training:  15%|█▍        | 288/1940 [02:44<12:21,  2.23it/s]"
     ]
    },
    {
     "name": "stdout",
     "output_type": "stream",
     "text": [
      "AFTER ENCODER PREP:  0.9544089436531067\n",
      "AFTER ENCODER:  0.6454448103904724\n"
     ]
    },
    {
     "name": "stderr",
     "output_type": "stream",
     "text": [
      "Epoch 1 - Training:  15%|█▍        | 289/1940 [02:45<12:09,  2.26it/s]"
     ]
    },
    {
     "name": "stdout",
     "output_type": "stream",
     "text": [
      "AFTER ENCODER PREP:  0.9406824111938477\n",
      "AFTER ENCODER:  0.733687698841095\n"
     ]
    },
    {
     "name": "stderr",
     "output_type": "stream",
     "text": [
      "Epoch 1 - Training:  15%|█▍        | 290/1940 [02:45<12:08,  2.26it/s]"
     ]
    },
    {
     "name": "stdout",
     "output_type": "stream",
     "text": [
      "AFTER ENCODER PREP:  0.9531413912773132\n",
      "AFTER ENCODER:  0.782992422580719\n"
     ]
    },
    {
     "name": "stderr",
     "output_type": "stream",
     "text": [
      "Epoch 1 - Training:  15%|█▌        | 291/1940 [02:46<12:17,  2.24it/s]"
     ]
    },
    {
     "name": "stdout",
     "output_type": "stream",
     "text": [
      "AFTER ENCODER PREP:  0.9449945092201233\n",
      "AFTER ENCODER:  0.7641949653625488\n"
     ]
    },
    {
     "name": "stderr",
     "output_type": "stream",
     "text": [
      "Epoch 1 - Training:  15%|█▌        | 292/1940 [02:46<12:26,  2.21it/s]"
     ]
    },
    {
     "name": "stdout",
     "output_type": "stream",
     "text": [
      "AFTER ENCODER PREP:  0.941118597984314\n",
      "AFTER ENCODER:  0.7191458940505981\n"
     ]
    },
    {
     "name": "stderr",
     "output_type": "stream",
     "text": [
      "Epoch 1 - Training:  15%|█▌        | 293/1940 [02:47<12:24,  2.21it/s]"
     ]
    },
    {
     "name": "stdout",
     "output_type": "stream",
     "text": [
      "AFTER ENCODER PREP:  0.9395811557769775\n",
      "AFTER ENCODER:  0.7157582640647888\n"
     ]
    },
    {
     "name": "stderr",
     "output_type": "stream",
     "text": [
      "Epoch 1 - Training:  15%|█▌        | 294/1940 [02:47<12:26,  2.20it/s]"
     ]
    },
    {
     "name": "stdout",
     "output_type": "stream",
     "text": [
      "AFTER ENCODER PREP:  0.9483172297477722\n",
      "AFTER ENCODER:  0.7231894135475159\n"
     ]
    },
    {
     "name": "stderr",
     "output_type": "stream",
     "text": [
      "Epoch 1 - Training:  15%|█▌        | 295/1940 [02:48<13:02,  2.10it/s]"
     ]
    },
    {
     "name": "stdout",
     "output_type": "stream",
     "text": [
      "AFTER ENCODER PREP:  0.9638509154319763\n",
      "AFTER ENCODER:  0.8081456422805786\n"
     ]
    },
    {
     "name": "stderr",
     "output_type": "stream",
     "text": [
      "Epoch 1 - Training:  15%|█▌        | 296/1940 [02:48<12:24,  2.21it/s]"
     ]
    },
    {
     "name": "stdout",
     "output_type": "stream",
     "text": [
      "AFTER ENCODER PREP:  0.9609792232513428\n",
      "AFTER ENCODER:  0.782116711139679\n"
     ]
    },
    {
     "name": "stderr",
     "output_type": "stream",
     "text": [
      "Epoch 1 - Training:  15%|█▌        | 297/1940 [02:48<12:06,  2.26it/s]"
     ]
    },
    {
     "name": "stdout",
     "output_type": "stream",
     "text": [
      "AFTER ENCODER PREP:  0.960493266582489\n",
      "AFTER ENCODER:  0.8902102708816528\n"
     ]
    },
    {
     "name": "stderr",
     "output_type": "stream",
     "text": [
      "Epoch 1 - Training:  15%|█▌        | 298/1940 [02:49<12:17,  2.23it/s]"
     ]
    },
    {
     "name": "stdout",
     "output_type": "stream",
     "text": [
      "AFTER ENCODER PREP:  0.9590475559234619\n",
      "AFTER ENCODER:  0.8210122585296631\n"
     ]
    },
    {
     "name": "stderr",
     "output_type": "stream",
     "text": [
      "Epoch 1 - Training:  15%|█▌        | 299/1940 [02:49<12:18,  2.22it/s]"
     ]
    },
    {
     "name": "stdout",
     "output_type": "stream",
     "text": [
      "AFTER ENCODER PREP:  0.9487524628639221\n",
      "AFTER ENCODER:  0.8345370292663574\n"
     ]
    },
    {
     "name": "stderr",
     "output_type": "stream",
     "text": [
      "Epoch 1 - Training:  15%|█▌        | 300/1940 [02:50<12:17,  2.22it/s]"
     ]
    },
    {
     "name": "stdout",
     "output_type": "stream",
     "text": [
      "AFTER ENCODER PREP:  0.9527602791786194\n",
      "AFTER ENCODER:  0.8199453353881836\n"
     ]
    },
    {
     "name": "stderr",
     "output_type": "stream",
     "text": [
      "Epoch 1 - Training:  16%|█▌        | 301/1940 [02:50<12:26,  2.20it/s]"
     ]
    },
    {
     "name": "stdout",
     "output_type": "stream",
     "text": [
      "AFTER ENCODER PREP:  0.9381229281425476\n",
      "AFTER ENCODER:  0.7806463837623596\n"
     ]
    },
    {
     "name": "stderr",
     "output_type": "stream",
     "text": [
      "Epoch 1 - Training:  16%|█▌        | 302/1940 [02:51<12:14,  2.23it/s]"
     ]
    },
    {
     "name": "stdout",
     "output_type": "stream",
     "text": [
      "AFTER ENCODER PREP:  0.9521284103393555\n",
      "AFTER ENCODER:  0.7736839056015015\n"
     ]
    },
    {
     "name": "stderr",
     "output_type": "stream",
     "text": [
      "Epoch 1 - Training:  16%|█▌        | 303/1940 [02:51<12:21,  2.21it/s]"
     ]
    },
    {
     "name": "stdout",
     "output_type": "stream",
     "text": [
      "AFTER ENCODER PREP:  0.968426525592804\n",
      "AFTER ENCODER:  0.8732514977455139\n"
     ]
    },
    {
     "name": "stderr",
     "output_type": "stream",
     "text": [
      "Epoch 1 - Training:  16%|█▌        | 304/1940 [02:52<12:17,  2.22it/s]"
     ]
    },
    {
     "name": "stdout",
     "output_type": "stream",
     "text": [
      "AFTER ENCODER PREP:  0.937483549118042\n",
      "AFTER ENCODER:  0.7608341574668884\n"
     ]
    },
    {
     "name": "stderr",
     "output_type": "stream",
     "text": [
      "Epoch 1 - Training:  16%|█▌        | 305/1940 [02:52<12:04,  2.26it/s]"
     ]
    },
    {
     "name": "stdout",
     "output_type": "stream",
     "text": [
      "AFTER ENCODER PREP:  0.9478429555892944\n",
      "AFTER ENCODER:  0.795620322227478\n"
     ]
    },
    {
     "name": "stderr",
     "output_type": "stream",
     "text": [
      "Epoch 1 - Training:  16%|█▌        | 306/1940 [02:52<11:50,  2.30it/s]"
     ]
    },
    {
     "name": "stdout",
     "output_type": "stream",
     "text": [
      "AFTER ENCODER PREP:  0.9546067118644714\n",
      "AFTER ENCODER:  0.8108969926834106\n"
     ]
    },
    {
     "name": "stderr",
     "output_type": "stream",
     "text": [
      "Epoch 1 - Training:  16%|█▌        | 307/1940 [02:53<12:46,  2.13it/s]"
     ]
    },
    {
     "name": "stdout",
     "output_type": "stream",
     "text": [
      "AFTER ENCODER PREP:  0.9343254566192627\n",
      "AFTER ENCODER:  0.727703869342804\n"
     ]
    },
    {
     "name": "stderr",
     "output_type": "stream",
     "text": [
      "Epoch 1 - Training:  16%|█▌        | 308/1940 [02:53<12:36,  2.16it/s]"
     ]
    },
    {
     "name": "stdout",
     "output_type": "stream",
     "text": [
      "AFTER ENCODER PREP:  0.9583382606506348\n",
      "AFTER ENCODER:  0.8741874694824219\n"
     ]
    },
    {
     "name": "stderr",
     "output_type": "stream",
     "text": [
      "Epoch 1 - Training:  16%|█▌        | 309/1940 [02:54<12:50,  2.12it/s]"
     ]
    },
    {
     "name": "stdout",
     "output_type": "stream",
     "text": [
      "AFTER ENCODER PREP:  0.957859992980957\n",
      "AFTER ENCODER:  0.7844760417938232\n"
     ]
    },
    {
     "name": "stderr",
     "output_type": "stream",
     "text": [
      "Epoch 1 - Training:  16%|█▌        | 310/1940 [02:54<12:40,  2.14it/s]"
     ]
    },
    {
     "name": "stdout",
     "output_type": "stream",
     "text": [
      "AFTER ENCODER PREP:  0.9552885890007019\n",
      "AFTER ENCODER:  0.6720454096794128\n"
     ]
    },
    {
     "name": "stderr",
     "output_type": "stream",
     "text": [
      "Epoch 1 - Training:  16%|█▌        | 311/1940 [02:55<12:28,  2.18it/s]"
     ]
    },
    {
     "name": "stdout",
     "output_type": "stream",
     "text": [
      "AFTER ENCODER PREP:  0.9596003890037537\n",
      "AFTER ENCODER:  0.8486034274101257\n"
     ]
    },
    {
     "name": "stderr",
     "output_type": "stream",
     "text": [
      "Epoch 1 - Training:  16%|█▌        | 312/1940 [02:55<12:29,  2.17it/s]"
     ]
    },
    {
     "name": "stdout",
     "output_type": "stream",
     "text": [
      "AFTER ENCODER PREP:  0.9531521797180176\n",
      "AFTER ENCODER:  0.7101094126701355\n"
     ]
    },
    {
     "name": "stderr",
     "output_type": "stream",
     "text": [
      "Epoch 1 - Training:  16%|█▌        | 313/1940 [02:56<12:15,  2.21it/s]"
     ]
    },
    {
     "name": "stdout",
     "output_type": "stream",
     "text": [
      "AFTER ENCODER PREP:  0.9550418853759766\n",
      "AFTER ENCODER:  0.7731663584709167\n"
     ]
    },
    {
     "name": "stderr",
     "output_type": "stream",
     "text": [
      "Epoch 1 - Training:  16%|█▌        | 314/1940 [02:56<11:44,  2.31it/s]"
     ]
    },
    {
     "name": "stdout",
     "output_type": "stream",
     "text": [
      "AFTER ENCODER PREP:  0.9472052454948425\n",
      "AFTER ENCODER:  0.7011030316352844\n"
     ]
    },
    {
     "name": "stderr",
     "output_type": "stream",
     "text": [
      "Epoch 1 - Training:  16%|█▌        | 315/1940 [02:57<11:41,  2.32it/s]"
     ]
    },
    {
     "name": "stdout",
     "output_type": "stream",
     "text": [
      "AFTER ENCODER PREP:  0.9420232772827148\n",
      "AFTER ENCODER:  0.7597709894180298\n"
     ]
    },
    {
     "name": "stderr",
     "output_type": "stream",
     "text": [
      "Epoch 1 - Training:  16%|█▋        | 316/1940 [02:57<11:48,  2.29it/s]"
     ]
    },
    {
     "name": "stdout",
     "output_type": "stream",
     "text": [
      "AFTER ENCODER PREP:  0.9571011662483215\n",
      "AFTER ENCODER:  0.7466154098510742\n"
     ]
    },
    {
     "name": "stderr",
     "output_type": "stream",
     "text": [
      "Epoch 1 - Training:  16%|█▋        | 317/1940 [02:57<11:50,  2.28it/s]"
     ]
    },
    {
     "name": "stdout",
     "output_type": "stream",
     "text": [
      "AFTER ENCODER PREP:  0.9445197582244873\n",
      "AFTER ENCODER:  0.6614218950271606\n"
     ]
    },
    {
     "name": "stderr",
     "output_type": "stream",
     "text": [
      "Epoch 1 - Training:  16%|█▋        | 318/1940 [02:58<11:55,  2.27it/s]"
     ]
    },
    {
     "name": "stdout",
     "output_type": "stream",
     "text": [
      "AFTER ENCODER PREP:  0.942806601524353\n",
      "AFTER ENCODER:  0.6717737317085266\n"
     ]
    },
    {
     "name": "stderr",
     "output_type": "stream",
     "text": [
      "Epoch 1 - Training:  16%|█▋        | 319/1940 [02:58<12:56,  2.09it/s]"
     ]
    },
    {
     "name": "stdout",
     "output_type": "stream",
     "text": [
      "AFTER ENCODER PREP:  0.9555417895317078\n",
      "AFTER ENCODER:  0.6899858713150024\n"
     ]
    },
    {
     "name": "stderr",
     "output_type": "stream",
     "text": [
      "Epoch 1 - Training:  16%|█▋        | 320/1940 [02:59<12:47,  2.11it/s]"
     ]
    },
    {
     "name": "stdout",
     "output_type": "stream",
     "text": [
      "AFTER ENCODER PREP:  0.9487910866737366\n",
      "AFTER ENCODER:  0.7327417731285095\n"
     ]
    },
    {
     "name": "stderr",
     "output_type": "stream",
     "text": [
      "Epoch 1 - Training:  17%|█▋        | 321/1940 [02:59<12:36,  2.14it/s]"
     ]
    },
    {
     "name": "stdout",
     "output_type": "stream",
     "text": [
      "AFTER ENCODER PREP:  0.9527294039726257\n",
      "AFTER ENCODER:  0.8035140037536621\n"
     ]
    },
    {
     "name": "stderr",
     "output_type": "stream",
     "text": [
      "Epoch 1 - Training:  17%|█▋        | 322/1940 [03:00<12:27,  2.17it/s]"
     ]
    },
    {
     "name": "stdout",
     "output_type": "stream",
     "text": [
      "AFTER ENCODER PREP:  0.942767322063446\n",
      "AFTER ENCODER:  0.635016918182373\n"
     ]
    },
    {
     "name": "stderr",
     "output_type": "stream",
     "text": [
      "Epoch 1 - Training:  17%|█▋        | 323/1940 [03:00<12:15,  2.20it/s]"
     ]
    },
    {
     "name": "stdout",
     "output_type": "stream",
     "text": [
      "AFTER ENCODER PREP:  0.9581722617149353\n",
      "AFTER ENCODER:  0.8206651210784912\n"
     ]
    },
    {
     "name": "stderr",
     "output_type": "stream",
     "text": [
      "Epoch 1 - Training:  17%|█▋        | 324/1940 [03:01<12:02,  2.24it/s]"
     ]
    },
    {
     "name": "stdout",
     "output_type": "stream",
     "text": [
      "AFTER ENCODER PREP:  0.936277449131012\n",
      "AFTER ENCODER:  0.652169406414032\n"
     ]
    },
    {
     "name": "stderr",
     "output_type": "stream",
     "text": [
      "Epoch 1 - Training:  17%|█▋        | 325/1940 [03:01<11:55,  2.26it/s]"
     ]
    },
    {
     "name": "stdout",
     "output_type": "stream",
     "text": [
      "AFTER ENCODER PREP:  0.9400845766067505\n",
      "AFTER ENCODER:  0.6220051050186157\n"
     ]
    },
    {
     "name": "stderr",
     "output_type": "stream",
     "text": [
      "Epoch 1 - Training:  17%|█▋        | 326/1940 [03:02<11:58,  2.25it/s]"
     ]
    },
    {
     "name": "stdout",
     "output_type": "stream",
     "text": [
      "AFTER ENCODER PREP:  0.9518765807151794\n",
      "AFTER ENCODER:  0.7939711213111877\n"
     ]
    },
    {
     "name": "stderr",
     "output_type": "stream",
     "text": [
      "Epoch 1 - Training:  17%|█▋        | 327/1940 [03:02<12:16,  2.19it/s]"
     ]
    },
    {
     "name": "stdout",
     "output_type": "stream",
     "text": [
      "AFTER ENCODER PREP:  0.9483237266540527\n",
      "AFTER ENCODER:  0.6915096640586853\n"
     ]
    },
    {
     "name": "stderr",
     "output_type": "stream",
     "text": [
      "Epoch 1 - Training:  17%|█▋        | 328/1940 [03:03<12:20,  2.18it/s]"
     ]
    },
    {
     "name": "stdout",
     "output_type": "stream",
     "text": [
      "AFTER ENCODER PREP:  0.952425479888916\n",
      "AFTER ENCODER:  0.7431135177612305\n"
     ]
    },
    {
     "name": "stderr",
     "output_type": "stream",
     "text": [
      "Epoch 1 - Training:  17%|█▋        | 329/1940 [03:03<12:16,  2.19it/s]"
     ]
    },
    {
     "name": "stdout",
     "output_type": "stream",
     "text": [
      "AFTER ENCODER PREP:  0.9604907035827637\n",
      "AFTER ENCODER:  0.7482927441596985\n"
     ]
    },
    {
     "name": "stderr",
     "output_type": "stream",
     "text": [
      "Epoch 1 - Training:  17%|█▋        | 330/1940 [03:04<12:54,  2.08it/s]"
     ]
    },
    {
     "name": "stdout",
     "output_type": "stream",
     "text": [
      "AFTER ENCODER PREP:  0.955998957157135\n",
      "AFTER ENCODER:  0.7345861792564392\n"
     ]
    },
    {
     "name": "stderr",
     "output_type": "stream",
     "text": [
      "Epoch 1 - Training:  17%|█▋        | 331/1940 [03:04<12:28,  2.15it/s]"
     ]
    },
    {
     "name": "stdout",
     "output_type": "stream",
     "text": [
      "AFTER ENCODER PREP:  0.9441782236099243\n",
      "AFTER ENCODER:  0.671596884727478\n"
     ]
    },
    {
     "name": "stderr",
     "output_type": "stream",
     "text": [
      "Epoch 1 - Training:  17%|█▋        | 332/1940 [03:04<12:13,  2.19it/s]"
     ]
    },
    {
     "name": "stdout",
     "output_type": "stream",
     "text": [
      "AFTER ENCODER PREP:  0.9385865926742554\n",
      "AFTER ENCODER:  0.6445090770721436\n"
     ]
    },
    {
     "name": "stderr",
     "output_type": "stream",
     "text": [
      "Epoch 1 - Training:  17%|█▋        | 333/1940 [03:05<12:01,  2.23it/s]"
     ]
    },
    {
     "name": "stdout",
     "output_type": "stream",
     "text": [
      "AFTER ENCODER PREP:  0.9613224267959595\n",
      "AFTER ENCODER:  0.7080780863761902\n"
     ]
    },
    {
     "name": "stderr",
     "output_type": "stream",
     "text": [
      "Epoch 1 - Training:  17%|█▋        | 334/1940 [03:05<11:53,  2.25it/s]"
     ]
    },
    {
     "name": "stdout",
     "output_type": "stream",
     "text": [
      "AFTER ENCODER PREP:  0.9534670114517212\n",
      "AFTER ENCODER:  0.7344796061515808\n"
     ]
    },
    {
     "name": "stderr",
     "output_type": "stream",
     "text": [
      "Epoch 1 - Training:  17%|█▋        | 335/1940 [03:06<12:12,  2.19it/s]"
     ]
    },
    {
     "name": "stdout",
     "output_type": "stream",
     "text": [
      "AFTER ENCODER PREP:  0.9642124176025391\n",
      "AFTER ENCODER:  0.7217636704444885\n"
     ]
    },
    {
     "name": "stderr",
     "output_type": "stream",
     "text": [
      "Epoch 1 - Training:  17%|█▋        | 336/1940 [03:06<12:08,  2.20it/s]"
     ]
    },
    {
     "name": "stdout",
     "output_type": "stream",
     "text": [
      "AFTER ENCODER PREP:  0.9558528661727905\n",
      "AFTER ENCODER:  0.6931567192077637\n"
     ]
    },
    {
     "name": "stderr",
     "output_type": "stream",
     "text": [
      "Epoch 1 - Training:  17%|█▋        | 337/1940 [03:07<12:09,  2.20it/s]"
     ]
    },
    {
     "name": "stdout",
     "output_type": "stream",
     "text": [
      "AFTER ENCODER PREP:  0.9519246220588684\n",
      "AFTER ENCODER:  0.7999296188354492\n"
     ]
    },
    {
     "name": "stderr",
     "output_type": "stream",
     "text": [
      "Epoch 1 - Training:  17%|█▋        | 338/1940 [03:07<12:19,  2.17it/s]"
     ]
    },
    {
     "name": "stdout",
     "output_type": "stream",
     "text": [
      "AFTER ENCODER PREP:  0.9714105725288391\n",
      "AFTER ENCODER:  0.8055760264396667\n"
     ]
    },
    {
     "name": "stderr",
     "output_type": "stream",
     "text": [
      "Epoch 1 - Training:  17%|█▋        | 339/1940 [03:08<12:21,  2.16it/s]"
     ]
    },
    {
     "name": "stdout",
     "output_type": "stream",
     "text": [
      "AFTER ENCODER PREP:  0.9502543807029724\n",
      "AFTER ENCODER:  0.7780992388725281\n"
     ]
    },
    {
     "name": "stderr",
     "output_type": "stream",
     "text": [
      "Epoch 1 - Training:  18%|█▊        | 340/1940 [03:08<12:14,  2.18it/s]"
     ]
    },
    {
     "name": "stdout",
     "output_type": "stream",
     "text": [
      "AFTER ENCODER PREP:  0.9573913812637329\n",
      "AFTER ENCODER:  0.8502682447433472\n"
     ]
    },
    {
     "name": "stderr",
     "output_type": "stream",
     "text": [
      "Epoch 1 - Training:  18%|█▊        | 341/1940 [03:09<12:43,  2.09it/s]"
     ]
    },
    {
     "name": "stdout",
     "output_type": "stream",
     "text": [
      "AFTER ENCODER PREP:  0.9578437805175781\n",
      "AFTER ENCODER:  0.8645176887512207\n"
     ]
    },
    {
     "name": "stderr",
     "output_type": "stream",
     "text": [
      "Epoch 1 - Training:  18%|█▊        | 342/1940 [03:09<12:22,  2.15it/s]"
     ]
    },
    {
     "name": "stdout",
     "output_type": "stream",
     "text": [
      "AFTER ENCODER PREP:  0.9455036520957947\n",
      "AFTER ENCODER:  0.6942174434661865\n"
     ]
    },
    {
     "name": "stderr",
     "output_type": "stream",
     "text": [
      "Epoch 1 - Training:  18%|█▊        | 343/1940 [03:09<12:20,  2.16it/s]"
     ]
    },
    {
     "name": "stdout",
     "output_type": "stream",
     "text": [
      "AFTER ENCODER PREP:  0.956233024597168\n",
      "AFTER ENCODER:  0.6925011277198792\n"
     ]
    },
    {
     "name": "stderr",
     "output_type": "stream",
     "text": [
      "Epoch 1 - Training:  18%|█▊        | 344/1940 [03:10<12:18,  2.16it/s]"
     ]
    },
    {
     "name": "stdout",
     "output_type": "stream",
     "text": [
      "AFTER ENCODER PREP:  0.9528176784515381\n",
      "AFTER ENCODER:  0.7106255292892456\n"
     ]
    },
    {
     "name": "stderr",
     "output_type": "stream",
     "text": [
      "Epoch 1 - Training:  18%|█▊        | 345/1940 [03:10<12:24,  2.14it/s]"
     ]
    },
    {
     "name": "stdout",
     "output_type": "stream",
     "text": [
      "AFTER ENCODER PREP:  0.9499813318252563\n",
      "AFTER ENCODER:  0.6764187812805176\n"
     ]
    },
    {
     "name": "stderr",
     "output_type": "stream",
     "text": [
      "Epoch 1 - Training:  18%|█▊        | 346/1940 [03:11<12:39,  2.10it/s]"
     ]
    },
    {
     "name": "stdout",
     "output_type": "stream",
     "text": [
      "AFTER ENCODER PREP:  0.9473541975021362\n",
      "AFTER ENCODER:  0.6221357583999634\n"
     ]
    },
    {
     "name": "stderr",
     "output_type": "stream",
     "text": [
      "Epoch 1 - Training:  18%|█▊        | 347/1940 [03:11<12:19,  2.15it/s]"
     ]
    },
    {
     "name": "stdout",
     "output_type": "stream",
     "text": [
      "AFTER ENCODER PREP:  0.9539632797241211\n",
      "AFTER ENCODER:  0.6798433661460876\n"
     ]
    },
    {
     "name": "stderr",
     "output_type": "stream",
     "text": [
      "Epoch 1 - Training:  18%|█▊        | 348/1940 [03:12<12:18,  2.16it/s]"
     ]
    },
    {
     "name": "stdout",
     "output_type": "stream",
     "text": [
      "AFTER ENCODER PREP:  0.9405138492584229\n",
      "AFTER ENCODER:  0.5153209567070007\n"
     ]
    },
    {
     "name": "stderr",
     "output_type": "stream",
     "text": [
      "Epoch 1 - Training:  18%|█▊        | 349/1940 [03:12<12:19,  2.15it/s]"
     ]
    },
    {
     "name": "stdout",
     "output_type": "stream",
     "text": [
      "AFTER ENCODER PREP:  0.9610631465911865\n",
      "AFTER ENCODER:  0.7601518630981445\n"
     ]
    },
    {
     "name": "stderr",
     "output_type": "stream",
     "text": [
      "Epoch 1 - Training:  18%|█▊        | 350/1940 [03:13<11:48,  2.25it/s]"
     ]
    },
    {
     "name": "stdout",
     "output_type": "stream",
     "text": [
      "AFTER ENCODER PREP:  0.9429301023483276\n",
      "AFTER ENCODER:  0.7355314493179321\n"
     ]
    },
    {
     "name": "stderr",
     "output_type": "stream",
     "text": [
      "Epoch 1 - Training:  18%|█▊        | 351/1940 [03:13<11:42,  2.26it/s]"
     ]
    },
    {
     "name": "stdout",
     "output_type": "stream",
     "text": [
      "AFTER ENCODER PREP:  0.9457230567932129\n",
      "AFTER ENCODER:  0.7611551284790039\n"
     ]
    },
    {
     "name": "stderr",
     "output_type": "stream",
     "text": [
      "Epoch 1 - Training:  18%|█▊        | 352/1940 [03:14<12:41,  2.09it/s]"
     ]
    },
    {
     "name": "stdout",
     "output_type": "stream",
     "text": [
      "AFTER ENCODER PREP:  0.9625370502471924\n",
      "AFTER ENCODER:  0.835502564907074\n"
     ]
    },
    {
     "name": "stderr",
     "output_type": "stream",
     "text": [
      "Epoch 1 - Training:  18%|█▊        | 353/1940 [03:14<12:26,  2.13it/s]"
     ]
    },
    {
     "name": "stdout",
     "output_type": "stream",
     "text": [
      "AFTER ENCODER PREP:  0.9513826370239258\n",
      "AFTER ENCODER:  0.7260017395019531\n"
     ]
    },
    {
     "name": "stderr",
     "output_type": "stream",
     "text": [
      "Epoch 1 - Training:  18%|█▊        | 354/1940 [03:15<12:32,  2.11it/s]"
     ]
    },
    {
     "name": "stdout",
     "output_type": "stream",
     "text": [
      "AFTER ENCODER PREP:  0.9662800431251526\n",
      "AFTER ENCODER:  0.8656461238861084\n"
     ]
    },
    {
     "name": "stderr",
     "output_type": "stream",
     "text": [
      "Epoch 1 - Training:  18%|█▊        | 355/1940 [03:15<12:12,  2.16it/s]"
     ]
    },
    {
     "name": "stdout",
     "output_type": "stream",
     "text": [
      "AFTER ENCODER PREP:  0.9560633301734924\n",
      "AFTER ENCODER:  0.7858203053474426\n"
     ]
    },
    {
     "name": "stderr",
     "output_type": "stream",
     "text": [
      "Epoch 1 - Training:  18%|█▊        | 356/1940 [03:16<12:20,  2.14it/s]"
     ]
    },
    {
     "name": "stdout",
     "output_type": "stream",
     "text": [
      "AFTER ENCODER PREP:  0.9470722675323486\n",
      "AFTER ENCODER:  0.6788564920425415\n"
     ]
    },
    {
     "name": "stderr",
     "output_type": "stream",
     "text": [
      "Epoch 1 - Training:  18%|█▊        | 357/1940 [03:16<12:13,  2.16it/s]"
     ]
    },
    {
     "name": "stdout",
     "output_type": "stream",
     "text": [
      "AFTER ENCODER PREP:  0.9434378147125244\n",
      "AFTER ENCODER:  0.7077109217643738\n"
     ]
    },
    {
     "name": "stderr",
     "output_type": "stream",
     "text": [
      "Epoch 1 - Training:  18%|█▊        | 358/1940 [03:16<12:15,  2.15it/s]"
     ]
    },
    {
     "name": "stdout",
     "output_type": "stream",
     "text": [
      "AFTER ENCODER PREP:  0.9503986239433289\n",
      "AFTER ENCODER:  0.6892189979553223\n"
     ]
    },
    {
     "name": "stderr",
     "output_type": "stream",
     "text": [
      "Epoch 1 - Training:  19%|█▊        | 359/1940 [03:17<11:43,  2.25it/s]"
     ]
    },
    {
     "name": "stdout",
     "output_type": "stream",
     "text": [
      "AFTER ENCODER PREP:  0.9431638717651367\n",
      "AFTER ENCODER:  0.625803530216217\n"
     ]
    },
    {
     "name": "stderr",
     "output_type": "stream",
     "text": [
      "Epoch 1 - Training:  19%|█▊        | 360/1940 [03:17<11:52,  2.22it/s]"
     ]
    },
    {
     "name": "stdout",
     "output_type": "stream",
     "text": [
      "AFTER ENCODER PREP:  0.9513225555419922\n",
      "AFTER ENCODER:  0.7256577610969543\n"
     ]
    },
    {
     "name": "stderr",
     "output_type": "stream",
     "text": [
      "Epoch 1 - Training:  19%|█▊        | 361/1940 [03:18<11:57,  2.20it/s]"
     ]
    },
    {
     "name": "stdout",
     "output_type": "stream",
     "text": [
      "AFTER ENCODER PREP:  0.9419881701469421\n",
      "AFTER ENCODER:  0.6784568428993225\n"
     ]
    },
    {
     "name": "stderr",
     "output_type": "stream",
     "text": [
      "Epoch 1 - Training:  19%|█▊        | 362/1940 [03:18<11:58,  2.20it/s]"
     ]
    },
    {
     "name": "stdout",
     "output_type": "stream",
     "text": [
      "AFTER ENCODER PREP:  0.9545381665229797\n",
      "AFTER ENCODER:  0.7430535554885864\n"
     ]
    },
    {
     "name": "stderr",
     "output_type": "stream",
     "text": [
      "Epoch 1 - Training:  19%|█▊        | 363/1940 [03:19<12:53,  2.04it/s]"
     ]
    },
    {
     "name": "stdout",
     "output_type": "stream",
     "text": [
      "AFTER ENCODER PREP:  0.9598153829574585\n",
      "AFTER ENCODER:  0.6405115723609924\n"
     ]
    },
    {
     "name": "stderr",
     "output_type": "stream",
     "text": [
      "Epoch 1 - Training:  19%|█▉        | 364/1940 [03:19<12:30,  2.10it/s]"
     ]
    },
    {
     "name": "stdout",
     "output_type": "stream",
     "text": [
      "AFTER ENCODER PREP:  0.9637219905853271\n",
      "AFTER ENCODER:  0.8644189834594727\n"
     ]
    },
    {
     "name": "stderr",
     "output_type": "stream",
     "text": [
      "Epoch 1 - Training:  19%|█▉        | 365/1940 [03:20<12:10,  2.16it/s]"
     ]
    },
    {
     "name": "stdout",
     "output_type": "stream",
     "text": [
      "AFTER ENCODER PREP:  0.9526315331459045\n",
      "AFTER ENCODER:  0.8015298843383789\n"
     ]
    },
    {
     "name": "stderr",
     "output_type": "stream",
     "text": [
      "Epoch 1 - Training:  19%|█▉        | 366/1940 [03:20<12:05,  2.17it/s]"
     ]
    },
    {
     "name": "stdout",
     "output_type": "stream",
     "text": [
      "AFTER ENCODER PREP:  0.9367271065711975\n",
      "AFTER ENCODER:  0.638984739780426\n"
     ]
    },
    {
     "name": "stderr",
     "output_type": "stream",
     "text": [
      "Epoch 1 - Training:  19%|█▉        | 367/1940 [03:21<11:56,  2.19it/s]"
     ]
    },
    {
     "name": "stdout",
     "output_type": "stream",
     "text": [
      "AFTER ENCODER PREP:  0.9473685026168823\n",
      "AFTER ENCODER:  0.7882999181747437\n"
     ]
    },
    {
     "name": "stderr",
     "output_type": "stream",
     "text": [
      "Epoch 1 - Training:  19%|█▉        | 368/1940 [03:21<11:39,  2.25it/s]"
     ]
    },
    {
     "name": "stdout",
     "output_type": "stream",
     "text": [
      "AFTER ENCODER PREP:  0.9695497155189514\n",
      "AFTER ENCODER:  0.8326297998428345\n"
     ]
    },
    {
     "name": "stderr",
     "output_type": "stream",
     "text": [
      "Epoch 1 - Training:  19%|█▉        | 369/1940 [03:21<11:51,  2.21it/s]"
     ]
    },
    {
     "name": "stdout",
     "output_type": "stream",
     "text": [
      "AFTER ENCODER PREP:  0.9471641182899475\n",
      "AFTER ENCODER:  0.720587968826294\n"
     ]
    },
    {
     "name": "stderr",
     "output_type": "stream",
     "text": [
      "Epoch 1 - Training:  19%|█▉        | 370/1940 [03:22<11:55,  2.20it/s]"
     ]
    },
    {
     "name": "stdout",
     "output_type": "stream",
     "text": [
      "AFTER ENCODER PREP:  0.9531260132789612\n",
      "AFTER ENCODER:  0.7755775451660156\n"
     ]
    },
    {
     "name": "stderr",
     "output_type": "stream",
     "text": [
      "Epoch 1 - Training:  19%|█▉        | 371/1940 [03:22<11:59,  2.18it/s]"
     ]
    },
    {
     "name": "stdout",
     "output_type": "stream",
     "text": [
      "AFTER ENCODER PREP:  0.9511528611183167\n",
      "AFTER ENCODER:  0.7497199773788452\n"
     ]
    },
    {
     "name": "stderr",
     "output_type": "stream",
     "text": [
      "Epoch 1 - Training:  19%|█▉        | 372/1940 [03:23<12:09,  2.15it/s]"
     ]
    },
    {
     "name": "stdout",
     "output_type": "stream",
     "text": [
      "AFTER ENCODER PREP:  0.9577512145042419\n",
      "AFTER ENCODER:  0.8128352761268616\n"
     ]
    },
    {
     "name": "stderr",
     "output_type": "stream",
     "text": [
      "Epoch 1 - Training:  19%|█▉        | 373/1940 [03:23<12:42,  2.05it/s]"
     ]
    },
    {
     "name": "stdout",
     "output_type": "stream",
     "text": [
      "AFTER ENCODER PREP:  0.9492837190628052\n",
      "AFTER ENCODER:  0.7181057929992676\n"
     ]
    },
    {
     "name": "stderr",
     "output_type": "stream",
     "text": [
      "Epoch 1 - Training:  19%|█▉        | 374/1940 [03:24<12:32,  2.08it/s]"
     ]
    },
    {
     "name": "stdout",
     "output_type": "stream",
     "text": [
      "AFTER ENCODER PREP:  0.9649639129638672\n",
      "AFTER ENCODER:  0.8413481712341309\n"
     ]
    },
    {
     "name": "stderr",
     "output_type": "stream",
     "text": [
      "Epoch 1 - Training:  19%|█▉        | 375/1940 [03:24<12:19,  2.12it/s]"
     ]
    },
    {
     "name": "stdout",
     "output_type": "stream",
     "text": [
      "AFTER ENCODER PREP:  0.9544937014579773\n",
      "AFTER ENCODER:  0.7344164252281189\n"
     ]
    },
    {
     "name": "stderr",
     "output_type": "stream",
     "text": [
      "Epoch 1 - Training:  19%|█▉        | 376/1940 [03:25<12:41,  2.05it/s]"
     ]
    },
    {
     "name": "stdout",
     "output_type": "stream",
     "text": [
      "AFTER ENCODER PREP:  0.9470587372779846\n",
      "AFTER ENCODER:  0.7145509719848633\n"
     ]
    },
    {
     "name": "stderr",
     "output_type": "stream",
     "text": [
      "Epoch 1 - Training:  19%|█▉        | 377/1940 [03:25<12:35,  2.07it/s]"
     ]
    },
    {
     "name": "stdout",
     "output_type": "stream",
     "text": [
      "AFTER ENCODER PREP:  0.9560048580169678\n",
      "AFTER ENCODER:  0.7920169830322266\n"
     ]
    },
    {
     "name": "stderr",
     "output_type": "stream",
     "text": [
      "Epoch 1 - Training:  19%|█▉        | 378/1940 [03:26<12:35,  2.07it/s]"
     ]
    },
    {
     "name": "stdout",
     "output_type": "stream",
     "text": [
      "AFTER ENCODER PREP:  0.9537515044212341\n",
      "AFTER ENCODER:  0.8255926966667175\n"
     ]
    },
    {
     "name": "stderr",
     "output_type": "stream",
     "text": [
      "Epoch 1 - Training:  20%|█▉        | 379/1940 [03:26<12:24,  2.10it/s]"
     ]
    },
    {
     "name": "stdout",
     "output_type": "stream",
     "text": [
      "AFTER ENCODER PREP:  0.9609063863754272\n",
      "AFTER ENCODER:  0.8583249449729919\n"
     ]
    },
    {
     "name": "stderr",
     "output_type": "stream",
     "text": [
      "Epoch 1 - Training:  20%|█▉        | 380/1940 [03:27<12:32,  2.07it/s]"
     ]
    },
    {
     "name": "stdout",
     "output_type": "stream",
     "text": [
      "AFTER ENCODER PREP:  0.963710367679596\n",
      "AFTER ENCODER:  0.8161519169807434\n"
     ]
    },
    {
     "name": "stderr",
     "output_type": "stream",
     "text": [
      "Epoch 1 - Training:  20%|█▉        | 381/1940 [03:27<12:45,  2.04it/s]"
     ]
    },
    {
     "name": "stdout",
     "output_type": "stream",
     "text": [
      "AFTER ENCODER PREP:  0.9623981714248657\n",
      "AFTER ENCODER:  0.9101881384849548\n"
     ]
    },
    {
     "name": "stderr",
     "output_type": "stream",
     "text": [
      "Epoch 1 - Training:  20%|█▉        | 382/1940 [03:28<13:04,  1.99it/s]"
     ]
    },
    {
     "name": "stdout",
     "output_type": "stream",
     "text": [
      "AFTER ENCODER PREP:  0.9434882998466492\n",
      "AFTER ENCODER:  0.6449114680290222\n"
     ]
    },
    {
     "name": "stderr",
     "output_type": "stream",
     "text": [
      "Epoch 1 - Training:  20%|█▉        | 383/1940 [03:28<12:54,  2.01it/s]"
     ]
    },
    {
     "name": "stdout",
     "output_type": "stream",
     "text": [
      "AFTER ENCODER PREP:  0.9488486051559448\n",
      "AFTER ENCODER:  0.7465768456459045\n"
     ]
    },
    {
     "name": "stderr",
     "output_type": "stream",
     "text": [
      "Epoch 1 - Training:  20%|█▉        | 384/1940 [03:29<13:11,  1.97it/s]"
     ]
    },
    {
     "name": "stdout",
     "output_type": "stream",
     "text": [
      "AFTER ENCODER PREP:  0.9493318200111389\n",
      "AFTER ENCODER:  0.7318113446235657\n"
     ]
    },
    {
     "name": "stderr",
     "output_type": "stream",
     "text": [
      "Epoch 1 - Training:  20%|█▉        | 385/1940 [03:29<12:43,  2.04it/s]"
     ]
    },
    {
     "name": "stdout",
     "output_type": "stream",
     "text": [
      "AFTER ENCODER PREP:  0.947637677192688\n",
      "AFTER ENCODER:  0.764063835144043\n"
     ]
    },
    {
     "name": "stderr",
     "output_type": "stream",
     "text": [
      "Epoch 1 - Training:  20%|█▉        | 386/1940 [03:30<12:31,  2.07it/s]"
     ]
    },
    {
     "name": "stdout",
     "output_type": "stream",
     "text": [
      "AFTER ENCODER PREP:  0.9401416778564453\n",
      "AFTER ENCODER:  0.7490923404693604\n"
     ]
    },
    {
     "name": "stderr",
     "output_type": "stream",
     "text": [
      "Epoch 1 - Training:  20%|█▉        | 387/1940 [03:30<12:23,  2.09it/s]"
     ]
    },
    {
     "name": "stdout",
     "output_type": "stream",
     "text": [
      "AFTER ENCODER PREP:  0.9625323414802551\n",
      "AFTER ENCODER:  0.8065751791000366\n"
     ]
    },
    {
     "name": "stderr",
     "output_type": "stream",
     "text": [
      "Epoch 1 - Training:  20%|██        | 388/1940 [03:31<12:09,  2.13it/s]"
     ]
    },
    {
     "name": "stdout",
     "output_type": "stream",
     "text": [
      "AFTER ENCODER PREP:  0.9626560807228088\n",
      "AFTER ENCODER:  0.705885648727417\n"
     ]
    },
    {
     "name": "stderr",
     "output_type": "stream",
     "text": [
      "Epoch 1 - Training:  20%|██        | 389/1940 [03:31<12:33,  2.06it/s]"
     ]
    },
    {
     "name": "stdout",
     "output_type": "stream",
     "text": [
      "AFTER ENCODER PREP:  0.9345643520355225\n",
      "AFTER ENCODER:  0.6879858374595642\n"
     ]
    },
    {
     "name": "stderr",
     "output_type": "stream",
     "text": [
      "Epoch 1 - Training:  20%|██        | 390/1940 [03:32<12:37,  2.05it/s]"
     ]
    },
    {
     "name": "stdout",
     "output_type": "stream",
     "text": [
      "AFTER ENCODER PREP:  0.9563212394714355\n",
      "AFTER ENCODER:  0.6940780282020569\n"
     ]
    },
    {
     "name": "stderr",
     "output_type": "stream",
     "text": [
      "Epoch 1 - Training:  20%|██        | 391/1940 [03:32<12:57,  1.99it/s]"
     ]
    },
    {
     "name": "stdout",
     "output_type": "stream",
     "text": [
      "AFTER ENCODER PREP:  0.953260064125061\n",
      "AFTER ENCODER:  0.8078240752220154\n"
     ]
    },
    {
     "name": "stderr",
     "output_type": "stream",
     "text": [
      "Epoch 1 - Training:  20%|██        | 392/1940 [03:33<12:48,  2.02it/s]"
     ]
    },
    {
     "name": "stdout",
     "output_type": "stream",
     "text": [
      "AFTER ENCODER PREP:  0.9516043663024902\n",
      "AFTER ENCODER:  0.7727603912353516\n"
     ]
    },
    {
     "name": "stderr",
     "output_type": "stream",
     "text": [
      "Epoch 1 - Training:  20%|██        | 393/1940 [03:33<12:18,  2.09it/s]"
     ]
    },
    {
     "name": "stdout",
     "output_type": "stream",
     "text": [
      "AFTER ENCODER PREP:  0.9389097094535828\n",
      "AFTER ENCODER:  0.7661809921264648\n"
     ]
    },
    {
     "name": "stderr",
     "output_type": "stream",
     "text": [
      "Epoch 1 - Training:  20%|██        | 394/1940 [03:34<12:05,  2.13it/s]"
     ]
    },
    {
     "name": "stdout",
     "output_type": "stream",
     "text": [
      "AFTER ENCODER PREP:  0.9508846998214722\n",
      "AFTER ENCODER:  0.8274590373039246\n"
     ]
    },
    {
     "name": "stderr",
     "output_type": "stream",
     "text": [
      "Epoch 1 - Training:  20%|██        | 395/1940 [03:34<12:03,  2.13it/s]"
     ]
    },
    {
     "name": "stdout",
     "output_type": "stream",
     "text": [
      "AFTER ENCODER PREP:  0.9451507925987244\n",
      "AFTER ENCODER:  0.7359513640403748\n"
     ]
    },
    {
     "name": "stderr",
     "output_type": "stream",
     "text": [
      "Epoch 1 - Training:  20%|██        | 396/1940 [03:34<12:02,  2.14it/s]"
     ]
    },
    {
     "name": "stdout",
     "output_type": "stream",
     "text": [
      "AFTER ENCODER PREP:  0.9500073194503784\n",
      "AFTER ENCODER:  0.8073852062225342\n"
     ]
    },
    {
     "name": "stderr",
     "output_type": "stream",
     "text": [
      "Epoch 1 - Training:  20%|██        | 397/1940 [03:35<12:16,  2.09it/s]"
     ]
    },
    {
     "name": "stdout",
     "output_type": "stream",
     "text": [
      "AFTER ENCODER PREP:  0.9464203715324402\n",
      "AFTER ENCODER:  0.8210419416427612\n"
     ]
    },
    {
     "name": "stderr",
     "output_type": "stream",
     "text": [
      "Epoch 1 - Training:  21%|██        | 398/1940 [03:35<12:11,  2.11it/s]"
     ]
    },
    {
     "name": "stdout",
     "output_type": "stream",
     "text": [
      "AFTER ENCODER PREP:  0.9553874731063843\n",
      "AFTER ENCODER:  0.8468679785728455\n"
     ]
    },
    {
     "name": "stderr",
     "output_type": "stream",
     "text": [
      "Epoch 1 - Training:  21%|██        | 399/1940 [03:36<12:45,  2.01it/s]"
     ]
    },
    {
     "name": "stdout",
     "output_type": "stream",
     "text": [
      "AFTER ENCODER PREP:  0.9616130590438843\n",
      "AFTER ENCODER:  0.7742544412612915\n"
     ]
    },
    {
     "name": "stderr",
     "output_type": "stream",
     "text": [
      "Epoch 1 - Training:  21%|██        | 400/1940 [03:36<12:30,  2.05it/s]"
     ]
    },
    {
     "name": "stdout",
     "output_type": "stream",
     "text": [
      "AFTER ENCODER PREP:  0.9620223641395569\n",
      "AFTER ENCODER:  0.8786377310752869\n"
     ]
    },
    {
     "name": "stderr",
     "output_type": "stream",
     "text": [
      "Epoch 1 - Training:  21%|██        | 401/1940 [03:37<12:13,  2.10it/s]"
     ]
    },
    {
     "name": "stdout",
     "output_type": "stream",
     "text": [
      "AFTER ENCODER PREP:  0.9498237371444702\n",
      "AFTER ENCODER:  0.6784921884536743\n"
     ]
    },
    {
     "name": "stderr",
     "output_type": "stream",
     "text": [
      "Epoch 1 - Training:  21%|██        | 402/1940 [03:37<11:47,  2.18it/s]"
     ]
    },
    {
     "name": "stdout",
     "output_type": "stream",
     "text": [
      "AFTER ENCODER PREP:  0.9416701793670654\n",
      "AFTER ENCODER:  0.7848105430603027\n"
     ]
    },
    {
     "name": "stderr",
     "output_type": "stream",
     "text": [
      "Epoch 1 - Training:  21%|██        | 403/1940 [03:38<11:25,  2.24it/s]"
     ]
    },
    {
     "name": "stdout",
     "output_type": "stream",
     "text": [
      "AFTER ENCODER PREP:  0.955592155456543\n",
      "AFTER ENCODER:  0.8334804773330688\n"
     ]
    },
    {
     "name": "stderr",
     "output_type": "stream",
     "text": [
      "Epoch 1 - Training:  21%|██        | 404/1940 [03:38<11:19,  2.26it/s]"
     ]
    },
    {
     "name": "stdout",
     "output_type": "stream",
     "text": [
      "AFTER ENCODER PREP:  0.9660484790802002\n",
      "AFTER ENCODER:  0.8813759684562683\n"
     ]
    },
    {
     "name": "stderr",
     "output_type": "stream",
     "text": [
      "Epoch 1 - Training:  21%|██        | 405/1940 [03:39<11:20,  2.26it/s]"
     ]
    },
    {
     "name": "stdout",
     "output_type": "stream",
     "text": [
      "AFTER ENCODER PREP:  0.9622882008552551\n",
      "AFTER ENCODER:  0.8448612689971924\n"
     ]
    },
    {
     "name": "stderr",
     "output_type": "stream",
     "text": [
      "Epoch 1 - Training:  21%|██        | 406/1940 [03:39<11:25,  2.24it/s]"
     ]
    },
    {
     "name": "stdout",
     "output_type": "stream",
     "text": [
      "AFTER ENCODER PREP:  0.95567786693573\n",
      "AFTER ENCODER:  0.8371697068214417\n"
     ]
    },
    {
     "name": "stderr",
     "output_type": "stream",
     "text": [
      "Epoch 1 - Training:  21%|██        | 407/1940 [03:40<11:50,  2.16it/s]"
     ]
    },
    {
     "name": "stdout",
     "output_type": "stream",
     "text": [
      "AFTER ENCODER PREP:  0.94609534740448\n",
      "AFTER ENCODER:  0.7419586777687073\n"
     ]
    },
    {
     "name": "stderr",
     "output_type": "stream",
     "text": [
      "Epoch 1 - Training:  21%|██        | 408/1940 [03:40<11:33,  2.21it/s]"
     ]
    },
    {
     "name": "stdout",
     "output_type": "stream",
     "text": [
      "AFTER ENCODER PREP:  0.946573793888092\n",
      "AFTER ENCODER:  0.7139648795127869\n"
     ]
    },
    {
     "name": "stderr",
     "output_type": "stream",
     "text": [
      "Epoch 1 - Training:  21%|██        | 409/1940 [03:40<11:39,  2.19it/s]"
     ]
    },
    {
     "name": "stdout",
     "output_type": "stream",
     "text": [
      "AFTER ENCODER PREP:  0.9531557559967041\n",
      "AFTER ENCODER:  0.8033609390258789\n"
     ]
    },
    {
     "name": "stderr",
     "output_type": "stream",
     "text": [
      "Epoch 1 - Training:  21%|██        | 410/1940 [03:41<11:37,  2.19it/s]"
     ]
    },
    {
     "name": "stdout",
     "output_type": "stream",
     "text": [
      "AFTER ENCODER PREP:  0.9311166405677795\n",
      "AFTER ENCODER:  0.6865663528442383\n"
     ]
    },
    {
     "name": "stderr",
     "output_type": "stream",
     "text": [
      "Epoch 1 - Training:  21%|██        | 411/1940 [03:41<11:30,  2.22it/s]"
     ]
    },
    {
     "name": "stdout",
     "output_type": "stream",
     "text": [
      "AFTER ENCODER PREP:  0.9622219800949097\n",
      "AFTER ENCODER:  0.7793585658073425\n"
     ]
    },
    {
     "name": "stderr",
     "output_type": "stream",
     "text": [
      "Epoch 1 - Training:  21%|██        | 412/1940 [03:42<11:21,  2.24it/s]"
     ]
    },
    {
     "name": "stdout",
     "output_type": "stream",
     "text": [
      "AFTER ENCODER PREP:  0.9442377686500549\n",
      "AFTER ENCODER:  0.7412837743759155\n"
     ]
    },
    {
     "name": "stderr",
     "output_type": "stream",
     "text": [
      "Epoch 1 - Training:  21%|██▏       | 413/1940 [03:42<11:28,  2.22it/s]"
     ]
    },
    {
     "name": "stdout",
     "output_type": "stream",
     "text": [
      "AFTER ENCODER PREP:  0.9471001029014587\n",
      "AFTER ENCODER:  0.7112413048744202\n"
     ]
    },
    {
     "name": "stderr",
     "output_type": "stream",
     "text": [
      "Epoch 1 - Training:  21%|██▏       | 414/1940 [03:43<12:19,  2.06it/s]"
     ]
    },
    {
     "name": "stdout",
     "output_type": "stream",
     "text": [
      "AFTER ENCODER PREP:  0.9512888193130493\n",
      "AFTER ENCODER:  0.7467551231384277\n"
     ]
    },
    {
     "name": "stderr",
     "output_type": "stream",
     "text": [
      "Epoch 1 - Training:  21%|██▏       | 415/1940 [03:43<12:13,  2.08it/s]"
     ]
    },
    {
     "name": "stdout",
     "output_type": "stream",
     "text": [
      "AFTER ENCODER PREP:  0.9455850720405579\n",
      "AFTER ENCODER:  0.754948616027832\n"
     ]
    },
    {
     "name": "stderr",
     "output_type": "stream",
     "text": [
      "Epoch 1 - Training:  21%|██▏       | 416/1940 [03:44<12:40,  2.00it/s]"
     ]
    },
    {
     "name": "stdout",
     "output_type": "stream",
     "text": [
      "AFTER ENCODER PREP:  0.9606401324272156\n",
      "AFTER ENCODER:  0.8757879137992859\n"
     ]
    },
    {
     "name": "stderr",
     "output_type": "stream",
     "text": [
      "Epoch 1 - Training:  21%|██▏       | 417/1940 [03:44<13:23,  1.89it/s]"
     ]
    },
    {
     "name": "stdout",
     "output_type": "stream",
     "text": [
      "AFTER ENCODER PREP:  0.9539719223976135\n",
      "AFTER ENCODER:  0.8036001920700073\n"
     ]
    },
    {
     "name": "stderr",
     "output_type": "stream",
     "text": [
      "Epoch 1 - Training:  22%|██▏       | 418/1940 [03:45<14:12,  1.79it/s]"
     ]
    },
    {
     "name": "stdout",
     "output_type": "stream",
     "text": [
      "AFTER ENCODER PREP:  0.9605331420898438\n",
      "AFTER ENCODER:  0.7977668046951294\n"
     ]
    },
    {
     "name": "stderr",
     "output_type": "stream",
     "text": [
      "Epoch 1 - Training:  22%|██▏       | 419/1940 [03:46<15:11,  1.67it/s]"
     ]
    },
    {
     "name": "stdout",
     "output_type": "stream",
     "text": [
      "AFTER ENCODER PREP:  0.952384889125824\n",
      "AFTER ENCODER:  0.7858309149742126\n"
     ]
    },
    {
     "name": "stderr",
     "output_type": "stream",
     "text": [
      "Epoch 1 - Training:  22%|██▏       | 420/1940 [03:46<15:56,  1.59it/s]"
     ]
    },
    {
     "name": "stdout",
     "output_type": "stream",
     "text": [
      "AFTER ENCODER PREP:  0.9410675168037415\n",
      "AFTER ENCODER:  0.7614353895187378\n"
     ]
    },
    {
     "name": "stderr",
     "output_type": "stream",
     "text": [
      "Epoch 1 - Training:  22%|██▏       | 421/1940 [03:47<15:46,  1.60it/s]"
     ]
    },
    {
     "name": "stdout",
     "output_type": "stream",
     "text": [
      "AFTER ENCODER PREP:  0.9563411474227905\n",
      "AFTER ENCODER:  0.814474880695343\n"
     ]
    },
    {
     "name": "stderr",
     "output_type": "stream",
     "text": [
      "Epoch 1 - Training:  22%|██▏       | 422/1940 [03:48<15:08,  1.67it/s]"
     ]
    },
    {
     "name": "stdout",
     "output_type": "stream",
     "text": [
      "AFTER ENCODER PREP:  0.9506680965423584\n",
      "AFTER ENCODER:  0.6933258175849915\n"
     ]
    },
    {
     "name": "stderr",
     "output_type": "stream",
     "text": [
      "Epoch 1 - Training:  22%|██▏       | 423/1940 [03:48<14:38,  1.73it/s]"
     ]
    },
    {
     "name": "stdout",
     "output_type": "stream",
     "text": [
      "AFTER ENCODER PREP:  0.9397150874137878\n",
      "AFTER ENCODER:  0.7788811922073364\n"
     ]
    },
    {
     "name": "stderr",
     "output_type": "stream",
     "text": [
      "Epoch 1 - Training:  22%|██▏       | 424/1940 [03:49<14:27,  1.75it/s]"
     ]
    },
    {
     "name": "stdout",
     "output_type": "stream",
     "text": [
      "AFTER ENCODER PREP:  0.9672172665596008\n",
      "AFTER ENCODER:  0.8379859328269958\n"
     ]
    },
    {
     "name": "stderr",
     "output_type": "stream",
     "text": [
      "Epoch 1 - Training:  22%|██▏       | 425/1940 [03:49<14:01,  1.80it/s]"
     ]
    },
    {
     "name": "stdout",
     "output_type": "stream",
     "text": [
      "AFTER ENCODER PREP:  0.9330970644950867\n",
      "AFTER ENCODER:  0.7032452821731567\n"
     ]
    },
    {
     "name": "stderr",
     "output_type": "stream",
     "text": [
      "Epoch 1 - Training:  22%|██▏       | 426/1940 [03:50<13:52,  1.82it/s]"
     ]
    },
    {
     "name": "stdout",
     "output_type": "stream",
     "text": [
      "AFTER ENCODER PREP:  0.9447264075279236\n",
      "AFTER ENCODER:  0.7694605588912964\n"
     ]
    },
    {
     "name": "stderr",
     "output_type": "stream",
     "text": [
      "Epoch 1 - Training:  22%|██▏       | 427/1940 [03:50<13:49,  1.82it/s]"
     ]
    },
    {
     "name": "stdout",
     "output_type": "stream",
     "text": [
      "AFTER ENCODER PREP:  0.9552543759346008\n",
      "AFTER ENCODER:  0.8080753087997437\n"
     ]
    },
    {
     "name": "stderr",
     "output_type": "stream",
     "text": [
      "Epoch 1 - Training:  22%|██▏       | 428/1940 [03:51<13:43,  1.84it/s]"
     ]
    },
    {
     "name": "stdout",
     "output_type": "stream",
     "text": [
      "AFTER ENCODER PREP:  0.9408565759658813\n",
      "AFTER ENCODER:  0.7019990682601929\n"
     ]
    },
    {
     "name": "stderr",
     "output_type": "stream",
     "text": [
      "Epoch 1 - Training:  22%|██▏       | 429/1940 [03:52<14:46,  1.70it/s]"
     ]
    },
    {
     "name": "stdout",
     "output_type": "stream",
     "text": [
      "AFTER ENCODER PREP:  0.9506004452705383\n",
      "AFTER ENCODER:  0.793187141418457\n"
     ]
    },
    {
     "name": "stderr",
     "output_type": "stream",
     "text": [
      "Epoch 1 - Training:  22%|██▏       | 430/1940 [03:52<13:56,  1.81it/s]"
     ]
    },
    {
     "name": "stdout",
     "output_type": "stream",
     "text": [
      "AFTER ENCODER PREP:  0.9403529167175293\n",
      "AFTER ENCODER:  0.7414690256118774\n"
     ]
    },
    {
     "name": "stderr",
     "output_type": "stream",
     "text": [
      "Epoch 1 - Training:  22%|██▏       | 431/1940 [03:52<13:14,  1.90it/s]"
     ]
    },
    {
     "name": "stdout",
     "output_type": "stream",
     "text": [
      "AFTER ENCODER PREP:  0.9528791308403015\n",
      "AFTER ENCODER:  0.8190465569496155\n"
     ]
    },
    {
     "name": "stderr",
     "output_type": "stream",
     "text": [
      "Epoch 1 - Training:  22%|██▏       | 432/1940 [03:53<12:59,  1.93it/s]"
     ]
    },
    {
     "name": "stdout",
     "output_type": "stream",
     "text": [
      "AFTER ENCODER PREP:  0.9577867984771729\n",
      "AFTER ENCODER:  0.7928532361984253\n"
     ]
    },
    {
     "name": "stderr",
     "output_type": "stream",
     "text": [
      "Epoch 1 - Training:  22%|██▏       | 433/1940 [03:53<12:25,  2.02it/s]"
     ]
    },
    {
     "name": "stdout",
     "output_type": "stream",
     "text": [
      "AFTER ENCODER PREP:  0.9508936405181885\n",
      "AFTER ENCODER:  0.7286627888679504\n"
     ]
    },
    {
     "name": "stderr",
     "output_type": "stream",
     "text": [
      "Epoch 1 - Training:  22%|██▏       | 434/1940 [03:54<12:12,  2.06it/s]"
     ]
    },
    {
     "name": "stdout",
     "output_type": "stream",
     "text": [
      "AFTER ENCODER PREP:  0.954956591129303\n",
      "AFTER ENCODER:  0.6765521168708801\n"
     ]
    },
    {
     "name": "stderr",
     "output_type": "stream",
     "text": [
      "Epoch 1 - Training:  22%|██▏       | 435/1940 [03:54<12:10,  2.06it/s]"
     ]
    },
    {
     "name": "stdout",
     "output_type": "stream",
     "text": [
      "AFTER ENCODER PREP:  0.9420111775398254\n",
      "AFTER ENCODER:  0.6128998398780823\n"
     ]
    },
    {
     "name": "stderr",
     "output_type": "stream",
     "text": [
      "Epoch 1 - Training:  22%|██▏       | 436/1940 [03:55<12:04,  2.08it/s]"
     ]
    },
    {
     "name": "stdout",
     "output_type": "stream",
     "text": [
      "AFTER ENCODER PREP:  0.9497755765914917\n",
      "AFTER ENCODER:  0.771454930305481\n"
     ]
    },
    {
     "name": "stderr",
     "output_type": "stream",
     "text": [
      "Epoch 1 - Training:  23%|██▎       | 437/1940 [03:55<12:02,  2.08it/s]"
     ]
    },
    {
     "name": "stdout",
     "output_type": "stream",
     "text": [
      "AFTER ENCODER PREP:  0.9489001631736755\n",
      "AFTER ENCODER:  0.7907825708389282\n"
     ]
    },
    {
     "name": "stderr",
     "output_type": "stream",
     "text": [
      "Epoch 1 - Training:  23%|██▎       | 438/1940 [03:56<11:55,  2.10it/s]"
     ]
    },
    {
     "name": "stdout",
     "output_type": "stream",
     "text": [
      "AFTER ENCODER PREP:  0.9414547681808472\n",
      "AFTER ENCODER:  0.7342077493667603\n"
     ]
    },
    {
     "name": "stderr",
     "output_type": "stream",
     "text": [
      "Epoch 1 - Training:  23%|██▎       | 439/1940 [03:56<11:50,  2.11it/s]"
     ]
    },
    {
     "name": "stdout",
     "output_type": "stream",
     "text": [
      "AFTER ENCODER PREP:  0.961100161075592\n",
      "AFTER ENCODER:  0.9051083922386169\n"
     ]
    },
    {
     "name": "stderr",
     "output_type": "stream",
     "text": [
      "Epoch 1 - Training:  23%|██▎       | 440/1940 [03:57<11:37,  2.15it/s]"
     ]
    },
    {
     "name": "stdout",
     "output_type": "stream",
     "text": [
      "AFTER ENCODER PREP:  0.9581941366195679\n",
      "AFTER ENCODER:  0.870697021484375\n"
     ]
    },
    {
     "name": "stderr",
     "output_type": "stream",
     "text": [
      "Epoch 1 - Training:  23%|██▎       | 441/1940 [03:57<11:36,  2.15it/s]"
     ]
    },
    {
     "name": "stdout",
     "output_type": "stream",
     "text": [
      "AFTER ENCODER PREP:  0.9526782631874084\n",
      "AFTER ENCODER:  0.7951396703720093\n"
     ]
    },
    {
     "name": "stderr",
     "output_type": "stream",
     "text": [
      "Epoch 1 - Training:  23%|██▎       | 442/1940 [03:58<11:48,  2.12it/s]"
     ]
    },
    {
     "name": "stdout",
     "output_type": "stream",
     "text": [
      "AFTER ENCODER PREP:  0.9524315595626831\n",
      "AFTER ENCODER:  0.8281042575836182\n"
     ]
    },
    {
     "name": "stderr",
     "output_type": "stream",
     "text": [
      "Epoch 1 - Training:  23%|██▎       | 443/1940 [03:58<13:59,  1.78it/s]"
     ]
    },
    {
     "name": "stdout",
     "output_type": "stream",
     "text": [
      "AFTER ENCODER PREP:  0.960104763507843\n",
      "AFTER ENCODER:  0.8144506812095642\n"
     ]
    },
    {
     "name": "stderr",
     "output_type": "stream",
     "text": [
      "Epoch 1 - Training:  23%|██▎       | 444/1940 [03:59<13:41,  1.82it/s]"
     ]
    },
    {
     "name": "stdout",
     "output_type": "stream",
     "text": [
      "AFTER ENCODER PREP:  0.9631375074386597\n",
      "AFTER ENCODER:  0.8140628933906555\n"
     ]
    },
    {
     "name": "stderr",
     "output_type": "stream",
     "text": [
      "Epoch 1 - Training:  23%|██▎       | 445/1940 [04:00<13:53,  1.79it/s]"
     ]
    },
    {
     "name": "stdout",
     "output_type": "stream",
     "text": [
      "AFTER ENCODER PREP:  0.9572404026985168\n",
      "AFTER ENCODER:  0.7618223428726196\n"
     ]
    },
    {
     "name": "stderr",
     "output_type": "stream",
     "text": [
      "Epoch 1 - Training:  23%|██▎       | 446/1940 [04:00<13:16,  1.88it/s]"
     ]
    },
    {
     "name": "stdout",
     "output_type": "stream",
     "text": [
      "AFTER ENCODER PREP:  0.9502786993980408\n",
      "AFTER ENCODER:  0.7252718806266785\n"
     ]
    },
    {
     "name": "stderr",
     "output_type": "stream",
     "text": [
      "Epoch 1 - Training:  23%|██▎       | 447/1940 [04:00<12:42,  1.96it/s]"
     ]
    },
    {
     "name": "stdout",
     "output_type": "stream",
     "text": [
      "AFTER ENCODER PREP:  0.9565662741661072\n",
      "AFTER ENCODER:  0.8024673461914062\n"
     ]
    },
    {
     "name": "stderr",
     "output_type": "stream",
     "text": [
      "Epoch 1 - Training:  23%|██▎       | 448/1940 [04:01<12:34,  1.98it/s]"
     ]
    },
    {
     "name": "stdout",
     "output_type": "stream",
     "text": [
      "AFTER ENCODER PREP:  0.944207489490509\n",
      "AFTER ENCODER:  0.6593847274780273\n"
     ]
    },
    {
     "name": "stderr",
     "output_type": "stream",
     "text": [
      "Epoch 1 - Training:  23%|██▎       | 449/1940 [04:01<12:18,  2.02it/s]"
     ]
    },
    {
     "name": "stdout",
     "output_type": "stream",
     "text": [
      "AFTER ENCODER PREP:  0.9574253559112549\n",
      "AFTER ENCODER:  0.744815468788147\n"
     ]
    },
    {
     "name": "stderr",
     "output_type": "stream",
     "text": [
      "Epoch 1 - Training:  23%|██▎       | 450/1940 [04:02<11:54,  2.09it/s]"
     ]
    },
    {
     "name": "stdout",
     "output_type": "stream",
     "text": [
      "AFTER ENCODER PREP:  0.9560325145721436\n",
      "AFTER ENCODER:  0.7462813854217529\n"
     ]
    },
    {
     "name": "stderr",
     "output_type": "stream",
     "text": [
      "Epoch 1 - Training:  23%|██▎       | 451/1940 [04:02<11:53,  2.09it/s]"
     ]
    },
    {
     "name": "stdout",
     "output_type": "stream",
     "text": [
      "AFTER ENCODER PREP:  0.9482139348983765\n",
      "AFTER ENCODER:  0.687559962272644\n"
     ]
    },
    {
     "name": "stderr",
     "output_type": "stream",
     "text": [
      "Epoch 1 - Training:  23%|██▎       | 452/1940 [04:03<11:41,  2.12it/s]"
     ]
    },
    {
     "name": "stdout",
     "output_type": "stream",
     "text": [
      "AFTER ENCODER PREP:  0.9539359211921692\n",
      "AFTER ENCODER:  0.7671108245849609\n"
     ]
    },
    {
     "name": "stderr",
     "output_type": "stream",
     "text": [
      "Epoch 1 - Training:  23%|██▎       | 453/1940 [04:03<12:01,  2.06it/s]"
     ]
    },
    {
     "name": "stdout",
     "output_type": "stream",
     "text": [
      "AFTER ENCODER PREP:  0.9512681365013123\n",
      "AFTER ENCODER:  0.7033517956733704\n"
     ]
    },
    {
     "name": "stderr",
     "output_type": "stream",
     "text": [
      "Epoch 1 - Training:  23%|██▎       | 454/1940 [04:04<11:58,  2.07it/s]"
     ]
    },
    {
     "name": "stdout",
     "output_type": "stream",
     "text": [
      "AFTER ENCODER PREP:  0.9474506378173828\n",
      "AFTER ENCODER:  0.710090160369873\n"
     ]
    },
    {
     "name": "stderr",
     "output_type": "stream",
     "text": [
      "Epoch 1 - Training:  23%|██▎       | 455/1940 [04:04<12:46,  1.94it/s]"
     ]
    },
    {
     "name": "stdout",
     "output_type": "stream",
     "text": [
      "AFTER ENCODER PREP:  0.9486607313156128\n",
      "AFTER ENCODER:  0.703190267086029\n"
     ]
    },
    {
     "name": "stderr",
     "output_type": "stream",
     "text": [
      "Epoch 1 - Training:  24%|██▎       | 456/1940 [04:05<12:27,  1.98it/s]"
     ]
    },
    {
     "name": "stdout",
     "output_type": "stream",
     "text": [
      "AFTER ENCODER PREP:  0.9383531808853149\n",
      "AFTER ENCODER:  0.7492799162864685\n"
     ]
    },
    {
     "name": "stderr",
     "output_type": "stream",
     "text": [
      "Epoch 1 - Training:  24%|██▎       | 457/1940 [04:05<12:05,  2.05it/s]"
     ]
    },
    {
     "name": "stdout",
     "output_type": "stream",
     "text": [
      "AFTER ENCODER PREP:  0.9466636180877686\n",
      "AFTER ENCODER:  0.7784364819526672\n"
     ]
    },
    {
     "name": "stderr",
     "output_type": "stream",
     "text": [
      "Epoch 1 - Training:  24%|██▎       | 458/1940 [04:06<11:59,  2.06it/s]"
     ]
    },
    {
     "name": "stdout",
     "output_type": "stream",
     "text": [
      "AFTER ENCODER PREP:  0.9332096576690674\n",
      "AFTER ENCODER:  0.628488302230835\n"
     ]
    },
    {
     "name": "stderr",
     "output_type": "stream",
     "text": [
      "Epoch 1 - Training:  24%|██▎       | 459/1940 [04:06<11:54,  2.07it/s]"
     ]
    },
    {
     "name": "stdout",
     "output_type": "stream",
     "text": [
      "AFTER ENCODER PREP:  0.9490549564361572\n",
      "AFTER ENCODER:  0.8199906945228577\n"
     ]
    },
    {
     "name": "stderr",
     "output_type": "stream",
     "text": [
      "Epoch 1 - Training:  24%|██▎       | 460/1940 [04:07<11:55,  2.07it/s]"
     ]
    },
    {
     "name": "stdout",
     "output_type": "stream",
     "text": [
      "AFTER ENCODER PREP:  0.9354696869850159\n",
      "AFTER ENCODER:  0.679375171661377\n"
     ]
    },
    {
     "name": "stderr",
     "output_type": "stream",
     "text": [
      "Epoch 1 - Training:  24%|██▍       | 461/1940 [04:07<12:01,  2.05it/s]"
     ]
    },
    {
     "name": "stdout",
     "output_type": "stream",
     "text": [
      "AFTER ENCODER PREP:  0.9550946950912476\n",
      "AFTER ENCODER:  0.7968353629112244\n"
     ]
    },
    {
     "name": "stderr",
     "output_type": "stream",
     "text": [
      "Epoch 1 - Training:  24%|██▍       | 462/1940 [04:08<11:54,  2.07it/s]"
     ]
    },
    {
     "name": "stdout",
     "output_type": "stream",
     "text": [
      "AFTER ENCODER PREP:  0.953583300113678\n",
      "AFTER ENCODER:  0.7827796936035156\n"
     ]
    },
    {
     "name": "stderr",
     "output_type": "stream",
     "text": [
      "Epoch 1 - Training:  24%|██▍       | 463/1940 [04:08<11:47,  2.09it/s]"
     ]
    },
    {
     "name": "stdout",
     "output_type": "stream",
     "text": [
      "AFTER ENCODER PREP:  0.9512208104133606\n",
      "AFTER ENCODER:  0.8100878000259399\n"
     ]
    },
    {
     "name": "stderr",
     "output_type": "stream",
     "text": [
      "Epoch 1 - Training:  24%|██▍       | 464/1940 [04:09<11:55,  2.06it/s]"
     ]
    },
    {
     "name": "stdout",
     "output_type": "stream",
     "text": [
      "AFTER ENCODER PREP:  0.9398662447929382\n",
      "AFTER ENCODER:  0.7302737236022949\n"
     ]
    },
    {
     "name": "stderr",
     "output_type": "stream",
     "text": [
      "Epoch 1 - Training:  24%|██▍       | 465/1940 [04:09<11:47,  2.09it/s]"
     ]
    },
    {
     "name": "stdout",
     "output_type": "stream",
     "text": [
      "AFTER ENCODER PREP:  0.9422104954719543\n",
      "AFTER ENCODER:  0.6852375864982605\n"
     ]
    },
    {
     "name": "stderr",
     "output_type": "stream",
     "text": [
      "Epoch 1 - Training:  24%|██▍       | 466/1940 [04:10<11:27,  2.14it/s]"
     ]
    },
    {
     "name": "stdout",
     "output_type": "stream",
     "text": [
      "AFTER ENCODER PREP:  0.930677056312561\n",
      "AFTER ENCODER:  0.6357309222221375\n"
     ]
    },
    {
     "name": "stderr",
     "output_type": "stream",
     "text": [
      "Epoch 1 - Training:  24%|██▍       | 467/1940 [04:10<11:32,  2.13it/s]"
     ]
    },
    {
     "name": "stdout",
     "output_type": "stream",
     "text": [
      "AFTER ENCODER PREP:  0.9480197429656982\n",
      "AFTER ENCODER:  0.7407687306404114\n"
     ]
    },
    {
     "name": "stderr",
     "output_type": "stream",
     "text": [
      "Epoch 1 - Training:  24%|██▍       | 468/1940 [04:11<11:38,  2.11it/s]"
     ]
    },
    {
     "name": "stdout",
     "output_type": "stream",
     "text": [
      "AFTER ENCODER PREP:  0.9466162919998169\n",
      "AFTER ENCODER:  0.6633986830711365\n"
     ]
    },
    {
     "name": "stderr",
     "output_type": "stream",
     "text": [
      "Epoch 1 - Training:  24%|██▍       | 469/1940 [04:11<12:42,  1.93it/s]"
     ]
    },
    {
     "name": "stdout",
     "output_type": "stream",
     "text": [
      "AFTER ENCODER PREP:  0.944966733455658\n",
      "AFTER ENCODER:  0.6702863574028015\n"
     ]
    },
    {
     "name": "stderr",
     "output_type": "stream",
     "text": [
      "Epoch 1 - Training:  24%|██▍       | 470/1940 [04:12<12:38,  1.94it/s]"
     ]
    },
    {
     "name": "stdout",
     "output_type": "stream",
     "text": [
      "AFTER ENCODER PREP:  0.9448598623275757\n",
      "AFTER ENCODER:  0.6986439824104309\n"
     ]
    },
    {
     "name": "stderr",
     "output_type": "stream",
     "text": [
      "Epoch 1 - Training:  24%|██▍       | 471/1940 [04:12<12:38,  1.94it/s]"
     ]
    },
    {
     "name": "stdout",
     "output_type": "stream",
     "text": [
      "AFTER ENCODER PREP:  0.9356261491775513\n",
      "AFTER ENCODER:  0.6676878333091736\n"
     ]
    },
    {
     "name": "stderr",
     "output_type": "stream",
     "text": [
      "Epoch 1 - Training:  24%|██▍       | 472/1940 [04:13<12:49,  1.91it/s]"
     ]
    },
    {
     "name": "stdout",
     "output_type": "stream",
     "text": [
      "AFTER ENCODER PREP:  0.9618570804595947\n",
      "AFTER ENCODER:  0.7477491497993469\n"
     ]
    },
    {
     "name": "stderr",
     "output_type": "stream",
     "text": [
      "Epoch 1 - Training:  24%|██▍       | 473/1940 [04:13<12:42,  1.92it/s]"
     ]
    },
    {
     "name": "stdout",
     "output_type": "stream",
     "text": [
      "AFTER ENCODER PREP:  0.9606842398643494\n",
      "AFTER ENCODER:  0.8582683801651001\n"
     ]
    },
    {
     "name": "stderr",
     "output_type": "stream",
     "text": [
      "Epoch 1 - Training:  24%|██▍       | 474/1940 [04:14<12:49,  1.90it/s]"
     ]
    },
    {
     "name": "stdout",
     "output_type": "stream",
     "text": [
      "AFTER ENCODER PREP:  0.9478546977043152\n",
      "AFTER ENCODER:  0.7306879162788391\n"
     ]
    },
    {
     "name": "stderr",
     "output_type": "stream",
     "text": [
      "Epoch 1 - Training:  24%|██▍       | 475/1940 [04:14<12:51,  1.90it/s]"
     ]
    },
    {
     "name": "stdout",
     "output_type": "stream",
     "text": [
      "AFTER ENCODER PREP:  0.9529271721839905\n",
      "AFTER ENCODER:  0.7820363640785217\n"
     ]
    },
    {
     "name": "stderr",
     "output_type": "stream",
     "text": [
      "Epoch 1 - Training:  25%|██▍       | 476/1940 [04:15<12:29,  1.95it/s]"
     ]
    },
    {
     "name": "stdout",
     "output_type": "stream",
     "text": [
      "AFTER ENCODER PREP:  0.9389678239822388\n",
      "AFTER ENCODER:  0.6764587759971619\n"
     ]
    },
    {
     "name": "stderr",
     "output_type": "stream",
     "text": [
      "Epoch 1 - Training:  25%|██▍       | 477/1940 [04:15<12:33,  1.94it/s]"
     ]
    },
    {
     "name": "stdout",
     "output_type": "stream",
     "text": [
      "AFTER ENCODER PREP:  0.9526153206825256\n",
      "AFTER ENCODER:  0.762848436832428\n"
     ]
    },
    {
     "name": "stderr",
     "output_type": "stream",
     "text": [
      "Epoch 1 - Training:  25%|██▍       | 478/1940 [04:16<12:12,  2.00it/s]"
     ]
    },
    {
     "name": "stdout",
     "output_type": "stream",
     "text": [
      "AFTER ENCODER PREP:  0.9578181505203247\n",
      "AFTER ENCODER:  0.80519038438797\n"
     ]
    },
    {
     "name": "stderr",
     "output_type": "stream",
     "text": [
      "Epoch 1 - Training:  25%|██▍       | 479/1940 [04:16<11:56,  2.04it/s]"
     ]
    },
    {
     "name": "stdout",
     "output_type": "stream",
     "text": [
      "AFTER ENCODER PREP:  0.9453157186508179\n",
      "AFTER ENCODER:  0.7903981804847717\n"
     ]
    },
    {
     "name": "stderr",
     "output_type": "stream",
     "text": [
      "Epoch 1 - Training:  25%|██▍       | 480/1940 [04:17<11:40,  2.08it/s]"
     ]
    },
    {
     "name": "stdout",
     "output_type": "stream",
     "text": [
      "AFTER ENCODER PREP:  0.9585131406784058\n",
      "AFTER ENCODER:  0.8232694268226624\n"
     ]
    },
    {
     "name": "stderr",
     "output_type": "stream",
     "text": [
      "Epoch 1 - Training:  25%|██▍       | 481/1940 [04:17<11:39,  2.09it/s]"
     ]
    },
    {
     "name": "stdout",
     "output_type": "stream",
     "text": [
      "AFTER ENCODER PREP:  0.9506192207336426\n",
      "AFTER ENCODER:  0.80516517162323\n"
     ]
    },
    {
     "name": "stderr",
     "output_type": "stream",
     "text": [
      "Epoch 1 - Training:  25%|██▍       | 482/1940 [04:18<11:48,  2.06it/s]"
     ]
    },
    {
     "name": "stdout",
     "output_type": "stream",
     "text": [
      "AFTER ENCODER PREP:  0.9454473853111267\n",
      "AFTER ENCODER:  0.7659182548522949\n"
     ]
    },
    {
     "name": "stderr",
     "output_type": "stream",
     "text": [
      "Epoch 1 - Training:  25%|██▍       | 483/1940 [04:18<11:48,  2.06it/s]"
     ]
    },
    {
     "name": "stdout",
     "output_type": "stream",
     "text": [
      "AFTER ENCODER PREP:  0.9296352863311768\n",
      "AFTER ENCODER:  0.7912365794181824\n"
     ]
    },
    {
     "name": "stderr",
     "output_type": "stream",
     "text": [
      "Epoch 1 - Training:  25%|██▍       | 484/1940 [04:19<12:13,  1.98it/s]"
     ]
    },
    {
     "name": "stdout",
     "output_type": "stream",
     "text": [
      "AFTER ENCODER PREP:  0.9515389204025269\n",
      "AFTER ENCODER:  0.7562942504882812\n"
     ]
    },
    {
     "name": "stderr",
     "output_type": "stream",
     "text": [
      "Epoch 1 - Training:  25%|██▌       | 485/1940 [04:19<11:49,  2.05it/s]"
     ]
    },
    {
     "name": "stdout",
     "output_type": "stream",
     "text": [
      "AFTER ENCODER PREP:  0.9500463008880615\n",
      "AFTER ENCODER:  0.702376663684845\n"
     ]
    },
    {
     "name": "stderr",
     "output_type": "stream",
     "text": [
      "Epoch 1 - Training:  25%|██▌       | 486/1940 [04:20<11:49,  2.05it/s]"
     ]
    },
    {
     "name": "stdout",
     "output_type": "stream",
     "text": [
      "AFTER ENCODER PREP:  0.94772869348526\n",
      "AFTER ENCODER:  0.675693154335022\n"
     ]
    },
    {
     "name": "stderr",
     "output_type": "stream",
     "text": [
      "Epoch 1 - Training:  25%|██▌       | 487/1940 [04:20<11:37,  2.08it/s]"
     ]
    },
    {
     "name": "stdout",
     "output_type": "stream",
     "text": [
      "AFTER ENCODER PREP:  0.946923553943634\n",
      "AFTER ENCODER:  0.6447103023529053\n"
     ]
    },
    {
     "name": "stderr",
     "output_type": "stream",
     "text": [
      "Epoch 1 - Training:  25%|██▌       | 488/1940 [04:21<11:44,  2.06it/s]"
     ]
    },
    {
     "name": "stdout",
     "output_type": "stream",
     "text": [
      "AFTER ENCODER PREP:  0.9352347254753113\n",
      "AFTER ENCODER:  0.6426753401756287\n"
     ]
    },
    {
     "name": "stderr",
     "output_type": "stream",
     "text": [
      "Epoch 1 - Training:  25%|██▌       | 489/1940 [04:21<12:33,  1.93it/s]"
     ]
    },
    {
     "name": "stdout",
     "output_type": "stream",
     "text": [
      "AFTER ENCODER PREP:  0.942538857460022\n",
      "AFTER ENCODER:  0.7954463362693787\n"
     ]
    },
    {
     "name": "stderr",
     "output_type": "stream",
     "text": [
      "Epoch 1 - Training:  25%|██▌       | 490/1940 [04:22<12:28,  1.94it/s]"
     ]
    },
    {
     "name": "stdout",
     "output_type": "stream",
     "text": [
      "AFTER ENCODER PREP:  0.954811692237854\n",
      "AFTER ENCODER:  0.7126030921936035\n"
     ]
    },
    {
     "name": "stderr",
     "output_type": "stream",
     "text": [
      "Epoch 1 - Training:  25%|██▌       | 491/1940 [04:22<11:51,  2.04it/s]"
     ]
    },
    {
     "name": "stdout",
     "output_type": "stream",
     "text": [
      "AFTER ENCODER PREP:  0.9464112520217896\n",
      "AFTER ENCODER:  0.8062304258346558\n"
     ]
    },
    {
     "name": "stderr",
     "output_type": "stream",
     "text": [
      "Epoch 1 - Training:  25%|██▌       | 492/1940 [04:23<11:54,  2.03it/s]"
     ]
    },
    {
     "name": "stdout",
     "output_type": "stream",
     "text": [
      "AFTER ENCODER PREP:  0.9251375198364258\n",
      "AFTER ENCODER:  0.6937734484672546\n"
     ]
    },
    {
     "name": "stderr",
     "output_type": "stream",
     "text": [
      "Epoch 1 - Training:  25%|██▌       | 493/1940 [04:23<11:41,  2.06it/s]"
     ]
    },
    {
     "name": "stdout",
     "output_type": "stream",
     "text": [
      "AFTER ENCODER PREP:  0.9676478505134583\n",
      "AFTER ENCODER:  0.8240684270858765\n"
     ]
    },
    {
     "name": "stderr",
     "output_type": "stream",
     "text": [
      "Epoch 1 - Training:  25%|██▌       | 494/1940 [04:24<11:43,  2.06it/s]"
     ]
    },
    {
     "name": "stdout",
     "output_type": "stream",
     "text": [
      "AFTER ENCODER PREP:  0.9314841628074646\n",
      "AFTER ENCODER:  0.6417034864425659\n"
     ]
    },
    {
     "name": "stderr",
     "output_type": "stream",
     "text": [
      "Epoch 1 - Training:  26%|██▌       | 495/1940 [04:24<11:48,  2.04it/s]"
     ]
    },
    {
     "name": "stdout",
     "output_type": "stream",
     "text": [
      "AFTER ENCODER PREP:  0.9408328533172607\n",
      "AFTER ENCODER:  0.713208794593811\n"
     ]
    },
    {
     "name": "stderr",
     "output_type": "stream",
     "text": [
      "Epoch 1 - Training:  26%|██▌       | 496/1940 [04:25<12:13,  1.97it/s]"
     ]
    },
    {
     "name": "stdout",
     "output_type": "stream",
     "text": [
      "AFTER ENCODER PREP:  0.9563736319541931\n",
      "AFTER ENCODER:  0.8185473084449768\n"
     ]
    },
    {
     "name": "stderr",
     "output_type": "stream",
     "text": [
      "Epoch 1 - Training:  26%|██▌       | 497/1940 [04:25<11:48,  2.04it/s]"
     ]
    },
    {
     "name": "stdout",
     "output_type": "stream",
     "text": [
      "AFTER ENCODER PREP:  0.9548044800758362\n",
      "AFTER ENCODER:  0.8576366901397705\n"
     ]
    },
    {
     "name": "stderr",
     "output_type": "stream",
     "text": [
      "Epoch 1 - Training:  26%|██▌       | 498/1940 [04:26<11:27,  2.10it/s]"
     ]
    },
    {
     "name": "stdout",
     "output_type": "stream",
     "text": [
      "AFTER ENCODER PREP:  0.9503840208053589\n",
      "AFTER ENCODER:  0.7284480333328247\n"
     ]
    },
    {
     "name": "stderr",
     "output_type": "stream",
     "text": [
      "Epoch 1 - Training:  26%|██▌       | 499/1940 [04:26<11:18,  2.12it/s]"
     ]
    },
    {
     "name": "stdout",
     "output_type": "stream",
     "text": [
      "AFTER ENCODER PREP:  0.9513702392578125\n",
      "AFTER ENCODER:  0.8291906714439392\n"
     ]
    },
    {
     "name": "stderr",
     "output_type": "stream",
     "text": [
      "Epoch 1 - Training:  26%|██▌       | 500/1940 [04:26<11:22,  2.11it/s]"
     ]
    },
    {
     "name": "stdout",
     "output_type": "stream",
     "text": [
      "AFTER ENCODER PREP:  0.9339606165885925\n",
      "AFTER ENCODER:  0.6416717767715454\n"
     ]
    },
    {
     "name": "stderr",
     "output_type": "stream",
     "text": [
      "Epoch 1 - Training:  26%|██▌       | 501/1940 [04:27<11:24,  2.10it/s]"
     ]
    },
    {
     "name": "stdout",
     "output_type": "stream",
     "text": [
      "AFTER ENCODER PREP:  0.9318516850471497\n",
      "AFTER ENCODER:  0.686855673789978\n"
     ]
    },
    {
     "name": "stderr",
     "output_type": "stream",
     "text": [
      "Epoch 1 - Training:  26%|██▌       | 502/1940 [04:27<11:41,  2.05it/s]"
     ]
    },
    {
     "name": "stdout",
     "output_type": "stream",
     "text": [
      "AFTER ENCODER PREP:  0.9302697777748108\n",
      "AFTER ENCODER:  0.6661090850830078\n"
     ]
    },
    {
     "name": "stderr",
     "output_type": "stream",
     "text": [
      "Epoch 1 - Training:  26%|██▌       | 503/1940 [04:28<11:39,  2.06it/s]"
     ]
    },
    {
     "name": "stdout",
     "output_type": "stream",
     "text": [
      "AFTER ENCODER PREP:  0.9599515795707703\n",
      "AFTER ENCODER:  0.8321484327316284\n"
     ]
    },
    {
     "name": "stderr",
     "output_type": "stream",
     "text": [
      "Epoch 1 - Training:  26%|██▌       | 504/1940 [04:28<11:44,  2.04it/s]"
     ]
    },
    {
     "name": "stdout",
     "output_type": "stream",
     "text": [
      "AFTER ENCODER PREP:  0.9663152098655701\n",
      "AFTER ENCODER:  0.8685723543167114\n"
     ]
    },
    {
     "name": "stderr",
     "output_type": "stream",
     "text": [
      "Epoch 1 - Training:  26%|██▌       | 505/1940 [04:29<11:36,  2.06it/s]"
     ]
    },
    {
     "name": "stdout",
     "output_type": "stream",
     "text": [
      "AFTER ENCODER PREP:  0.9420148730278015\n",
      "AFTER ENCODER:  0.6370677351951599\n"
     ]
    },
    {
     "name": "stderr",
     "output_type": "stream",
     "text": [
      "Epoch 1 - Training:  26%|██▌       | 506/1940 [04:29<11:25,  2.09it/s]"
     ]
    },
    {
     "name": "stdout",
     "output_type": "stream",
     "text": [
      "AFTER ENCODER PREP:  0.9491252303123474\n",
      "AFTER ENCODER:  0.6591651439666748\n"
     ]
    },
    {
     "name": "stderr",
     "output_type": "stream",
     "text": [
      "Epoch 1 - Training:  26%|██▌       | 507/1940 [04:30<11:12,  2.13it/s]"
     ]
    },
    {
     "name": "stdout",
     "output_type": "stream",
     "text": [
      "AFTER ENCODER PREP:  0.959309995174408\n",
      "AFTER ENCODER:  0.8124251961708069\n"
     ]
    },
    {
     "name": "stderr",
     "output_type": "stream",
     "text": [
      "Epoch 1 - Training:  26%|██▌       | 508/1940 [04:30<11:18,  2.11it/s]"
     ]
    },
    {
     "name": "stdout",
     "output_type": "stream",
     "text": [
      "AFTER ENCODER PREP:  0.9314561486244202\n",
      "AFTER ENCODER:  0.7519246935844421\n"
     ]
    },
    {
     "name": "stderr",
     "output_type": "stream",
     "text": [
      "Epoch 1 - Training:  26%|██▌       | 509/1940 [04:31<12:07,  1.97it/s]"
     ]
    },
    {
     "name": "stdout",
     "output_type": "stream",
     "text": [
      "AFTER ENCODER PREP:  0.9353107213973999\n",
      "AFTER ENCODER:  0.7292442321777344\n"
     ]
    },
    {
     "name": "stderr",
     "output_type": "stream",
     "text": [
      "Epoch 1 - Training:  26%|██▋       | 510/1940 [04:31<12:22,  1.93it/s]"
     ]
    },
    {
     "name": "stdout",
     "output_type": "stream",
     "text": [
      "AFTER ENCODER PREP:  0.9526326656341553\n",
      "AFTER ENCODER:  0.7052342295646667\n"
     ]
    },
    {
     "name": "stderr",
     "output_type": "stream",
     "text": [
      "Epoch 1 - Training:  26%|██▋       | 511/1940 [04:32<12:06,  1.97it/s]"
     ]
    },
    {
     "name": "stdout",
     "output_type": "stream",
     "text": [
      "AFTER ENCODER PREP:  0.9515339732170105\n",
      "AFTER ENCODER:  0.6766589283943176\n"
     ]
    },
    {
     "name": "stderr",
     "output_type": "stream",
     "text": [
      "Epoch 1 - Training:  26%|██▋       | 512/1940 [04:32<11:51,  2.01it/s]"
     ]
    },
    {
     "name": "stdout",
     "output_type": "stream",
     "text": [
      "AFTER ENCODER PREP:  0.9542639255523682\n",
      "AFTER ENCODER:  0.8562750816345215\n"
     ]
    },
    {
     "name": "stderr",
     "output_type": "stream",
     "text": [
      "Epoch 1 - Training:  26%|██▋       | 513/1940 [04:33<11:41,  2.03it/s]"
     ]
    },
    {
     "name": "stdout",
     "output_type": "stream",
     "text": [
      "AFTER ENCODER PREP:  0.9555121064186096\n",
      "AFTER ENCODER:  0.8339062929153442\n"
     ]
    },
    {
     "name": "stderr",
     "output_type": "stream",
     "text": [
      "Epoch 1 - Training:  26%|██▋       | 514/1940 [04:33<11:38,  2.04it/s]"
     ]
    },
    {
     "name": "stdout",
     "output_type": "stream",
     "text": [
      "AFTER ENCODER PREP:  0.9515761733055115\n",
      "AFTER ENCODER:  0.8027412295341492\n"
     ]
    },
    {
     "name": "stderr",
     "output_type": "stream",
     "text": [
      "Epoch 1 - Training:  27%|██▋       | 515/1940 [04:34<11:22,  2.09it/s]"
     ]
    },
    {
     "name": "stdout",
     "output_type": "stream",
     "text": [
      "AFTER ENCODER PREP:  0.9597828388214111\n",
      "AFTER ENCODER:  0.7888532876968384\n"
     ]
    },
    {
     "name": "stderr",
     "output_type": "stream",
     "text": [
      "Epoch 1 - Training:  27%|██▋       | 516/1940 [04:34<11:07,  2.13it/s]"
     ]
    },
    {
     "name": "stdout",
     "output_type": "stream",
     "text": [
      "AFTER ENCODER PREP:  0.9264621138572693\n",
      "AFTER ENCODER:  0.6586878299713135\n"
     ]
    },
    {
     "name": "stderr",
     "output_type": "stream",
     "text": [
      "Epoch 1 - Training:  27%|██▋       | 517/1940 [04:35<11:13,  2.11it/s]"
     ]
    },
    {
     "name": "stdout",
     "output_type": "stream",
     "text": [
      "AFTER ENCODER PREP:  0.9405445456504822\n",
      "AFTER ENCODER:  0.6877174973487854\n"
     ]
    },
    {
     "name": "stderr",
     "output_type": "stream",
     "text": [
      "Epoch 1 - Training:  27%|██▋       | 518/1940 [04:35<11:38,  2.04it/s]"
     ]
    },
    {
     "name": "stdout",
     "output_type": "stream",
     "text": [
      "AFTER ENCODER PREP:  0.9404700398445129\n",
      "AFTER ENCODER:  0.6821468472480774\n"
     ]
    },
    {
     "name": "stderr",
     "output_type": "stream",
     "text": [
      "Epoch 1 - Training:  27%|██▋       | 519/1940 [04:36<11:39,  2.03it/s]"
     ]
    },
    {
     "name": "stdout",
     "output_type": "stream",
     "text": [
      "AFTER ENCODER PREP:  0.935491681098938\n",
      "AFTER ENCODER:  0.7004332542419434\n"
     ]
    },
    {
     "name": "stderr",
     "output_type": "stream",
     "text": [
      "Epoch 1 - Training:  27%|██▋       | 520/1940 [04:36<11:38,  2.03it/s]"
     ]
    },
    {
     "name": "stdout",
     "output_type": "stream",
     "text": [
      "AFTER ENCODER PREP:  0.9534873962402344\n",
      "AFTER ENCODER:  0.7505269050598145\n"
     ]
    },
    {
     "name": "stderr",
     "output_type": "stream",
     "text": [
      "Epoch 1 - Training:  27%|██▋       | 521/1940 [04:37<11:28,  2.06it/s]"
     ]
    },
    {
     "name": "stdout",
     "output_type": "stream",
     "text": [
      "AFTER ENCODER PREP:  0.9544557929039001\n",
      "AFTER ENCODER:  0.7134215235710144\n"
     ]
    },
    {
     "name": "stderr",
     "output_type": "stream",
     "text": [
      "Epoch 1 - Training:  27%|██▋       | 522/1940 [04:37<11:10,  2.11it/s]"
     ]
    },
    {
     "name": "stdout",
     "output_type": "stream",
     "text": [
      "AFTER ENCODER PREP:  0.9365167617797852\n",
      "AFTER ENCODER:  0.655266284942627\n"
     ]
    },
    {
     "name": "stderr",
     "output_type": "stream",
     "text": [
      "Epoch 1 - Training:  27%|██▋       | 523/1940 [04:38<11:54,  1.98it/s]"
     ]
    },
    {
     "name": "stdout",
     "output_type": "stream",
     "text": [
      "AFTER ENCODER PREP:  0.9428492784500122\n",
      "AFTER ENCODER:  0.7844462990760803\n"
     ]
    },
    {
     "name": "stderr",
     "output_type": "stream",
     "text": [
      "Epoch 1 - Training:  27%|██▋       | 524/1940 [04:38<11:54,  1.98it/s]"
     ]
    },
    {
     "name": "stdout",
     "output_type": "stream",
     "text": [
      "AFTER ENCODER PREP:  0.944084882736206\n",
      "AFTER ENCODER:  0.7234768271446228\n"
     ]
    },
    {
     "name": "stderr",
     "output_type": "stream",
     "text": [
      "Epoch 1 - Training:  27%|██▋       | 525/1940 [04:39<11:31,  2.05it/s]"
     ]
    },
    {
     "name": "stdout",
     "output_type": "stream",
     "text": [
      "AFTER ENCODER PREP:  0.9571298360824585\n",
      "AFTER ENCODER:  0.7792898416519165\n"
     ]
    },
    {
     "name": "stderr",
     "output_type": "stream",
     "text": [
      "Epoch 1 - Training:  27%|██▋       | 526/1940 [04:39<11:35,  2.03it/s]"
     ]
    },
    {
     "name": "stdout",
     "output_type": "stream",
     "text": [
      "AFTER ENCODER PREP:  0.9483743906021118\n",
      "AFTER ENCODER:  0.7791123390197754\n"
     ]
    },
    {
     "name": "stderr",
     "output_type": "stream",
     "text": [
      "Epoch 1 - Training:  27%|██▋       | 527/1940 [04:40<11:38,  2.02it/s]"
     ]
    },
    {
     "name": "stdout",
     "output_type": "stream",
     "text": [
      "AFTER ENCODER PREP:  0.9387691617012024\n",
      "AFTER ENCODER:  0.8084514141082764\n"
     ]
    },
    {
     "name": "stderr",
     "output_type": "stream",
     "text": [
      "Epoch 1 - Training:  27%|██▋       | 528/1940 [04:40<11:18,  2.08it/s]"
     ]
    },
    {
     "name": "stdout",
     "output_type": "stream",
     "text": [
      "AFTER ENCODER PREP:  0.9405710697174072\n",
      "AFTER ENCODER:  0.7835582494735718\n"
     ]
    },
    {
     "name": "stderr",
     "output_type": "stream",
     "text": [
      "Epoch 1 - Training:  27%|██▋       | 529/1940 [04:41<11:24,  2.06it/s]"
     ]
    },
    {
     "name": "stdout",
     "output_type": "stream",
     "text": [
      "AFTER ENCODER PREP:  0.9350112676620483\n",
      "AFTER ENCODER:  0.715639591217041\n"
     ]
    },
    {
     "name": "stderr",
     "output_type": "stream",
     "text": [
      "Epoch 1 - Training:  27%|██▋       | 530/1940 [04:41<11:12,  2.10it/s]"
     ]
    },
    {
     "name": "stdout",
     "output_type": "stream",
     "text": [
      "AFTER ENCODER PREP:  0.9425091743469238\n",
      "AFTER ENCODER:  0.6991802453994751\n"
     ]
    },
    {
     "name": "stderr",
     "output_type": "stream",
     "text": [
      "Epoch 1 - Training:  27%|██▋       | 531/1940 [04:42<10:56,  2.15it/s]"
     ]
    },
    {
     "name": "stdout",
     "output_type": "stream",
     "text": [
      "AFTER ENCODER PREP:  0.9494157433509827\n",
      "AFTER ENCODER:  0.801673173904419\n"
     ]
    },
    {
     "name": "stderr",
     "output_type": "stream",
     "text": [
      "Epoch 1 - Training:  27%|██▋       | 532/1940 [04:42<11:02,  2.12it/s]"
     ]
    },
    {
     "name": "stdout",
     "output_type": "stream",
     "text": [
      "AFTER ENCODER PREP:  0.9384263753890991\n",
      "AFTER ENCODER:  0.6506274938583374\n"
     ]
    },
    {
     "name": "stderr",
     "output_type": "stream",
     "text": [
      "Epoch 1 - Training:  27%|██▋       | 533/1940 [04:43<11:04,  2.12it/s]"
     ]
    },
    {
     "name": "stdout",
     "output_type": "stream",
     "text": [
      "AFTER ENCODER PREP:  0.9407283067703247\n",
      "AFTER ENCODER:  0.7314739227294922\n"
     ]
    },
    {
     "name": "stderr",
     "output_type": "stream",
     "text": [
      "Epoch 1 - Training:  28%|██▊       | 534/1940 [04:43<11:18,  2.07it/s]"
     ]
    },
    {
     "name": "stdout",
     "output_type": "stream",
     "text": [
      "AFTER ENCODER PREP:  0.9451987743377686\n",
      "AFTER ENCODER:  0.7319105863571167\n"
     ]
    },
    {
     "name": "stderr",
     "output_type": "stream",
     "text": [
      "Epoch 1 - Training:  28%|██▊       | 535/1940 [04:44<11:24,  2.05it/s]"
     ]
    },
    {
     "name": "stdout",
     "output_type": "stream",
     "text": [
      "AFTER ENCODER PREP:  0.9464743137359619\n",
      "AFTER ENCODER:  0.784458577632904\n"
     ]
    },
    {
     "name": "stderr",
     "output_type": "stream",
     "text": [
      "Epoch 1 - Training:  28%|██▊       | 536/1940 [04:44<12:03,  1.94it/s]"
     ]
    },
    {
     "name": "stdout",
     "output_type": "stream",
     "text": [
      "AFTER ENCODER PREP:  0.9518775939941406\n",
      "AFTER ENCODER:  0.7702356576919556\n"
     ]
    },
    {
     "name": "stderr",
     "output_type": "stream",
     "text": [
      "Epoch 1 - Training:  28%|██▊       | 537/1940 [04:45<11:42,  2.00it/s]"
     ]
    },
    {
     "name": "stdout",
     "output_type": "stream",
     "text": [
      "AFTER ENCODER PREP:  0.9533616304397583\n",
      "AFTER ENCODER:  0.767539381980896\n"
     ]
    },
    {
     "name": "stderr",
     "output_type": "stream",
     "text": [
      "Epoch 1 - Training:  28%|██▊       | 538/1940 [04:45<11:41,  2.00it/s]"
     ]
    },
    {
     "name": "stdout",
     "output_type": "stream",
     "text": [
      "AFTER ENCODER PREP:  0.9480139017105103\n",
      "AFTER ENCODER:  0.6999891400337219\n"
     ]
    },
    {
     "name": "stderr",
     "output_type": "stream",
     "text": [
      "Epoch 1 - Training:  28%|██▊       | 539/1940 [04:46<11:23,  2.05it/s]"
     ]
    },
    {
     "name": "stdout",
     "output_type": "stream",
     "text": [
      "AFTER ENCODER PREP:  0.9336490035057068\n",
      "AFTER ENCODER:  0.6725812554359436\n"
     ]
    },
    {
     "name": "stderr",
     "output_type": "stream",
     "text": [
      "Epoch 1 - Training:  28%|██▊       | 540/1940 [04:46<11:10,  2.09it/s]"
     ]
    },
    {
     "name": "stdout",
     "output_type": "stream",
     "text": [
      "AFTER ENCODER PREP:  0.9412147998809814\n",
      "AFTER ENCODER:  0.6502575874328613\n"
     ]
    },
    {
     "name": "stderr",
     "output_type": "stream",
     "text": [
      "Epoch 1 - Training:  28%|██▊       | 541/1940 [04:46<11:04,  2.10it/s]"
     ]
    },
    {
     "name": "stdout",
     "output_type": "stream",
     "text": [
      "AFTER ENCODER PREP:  0.9334350228309631\n",
      "AFTER ENCODER:  0.6019979119300842\n"
     ]
    },
    {
     "name": "stderr",
     "output_type": "stream",
     "text": [
      "Epoch 1 - Training:  28%|██▊       | 542/1940 [04:47<11:01,  2.11it/s]"
     ]
    },
    {
     "name": "stdout",
     "output_type": "stream",
     "text": [
      "AFTER ENCODER PREP:  0.9502846598625183\n",
      "AFTER ENCODER:  0.6641359329223633\n"
     ]
    },
    {
     "name": "stderr",
     "output_type": "stream",
     "text": [
      "Epoch 1 - Training:  28%|██▊       | 543/1940 [04:48<11:56,  1.95it/s]"
     ]
    },
    {
     "name": "stdout",
     "output_type": "stream",
     "text": [
      "AFTER ENCODER PREP:  0.9471670985221863\n",
      "AFTER ENCODER:  0.6629178524017334\n"
     ]
    },
    {
     "name": "stderr",
     "output_type": "stream",
     "text": [
      "Epoch 1 - Training:  28%|██▊       | 544/1940 [04:48<12:45,  1.82it/s]"
     ]
    },
    {
     "name": "stdout",
     "output_type": "stream",
     "text": [
      "AFTER ENCODER PREP:  0.9416305422782898\n",
      "AFTER ENCODER:  0.7140411734580994\n"
     ]
    },
    {
     "name": "stderr",
     "output_type": "stream",
     "text": [
      "Epoch 1 - Training:  28%|██▊       | 545/1940 [04:49<13:59,  1.66it/s]"
     ]
    },
    {
     "name": "stdout",
     "output_type": "stream",
     "text": [
      "AFTER ENCODER PREP:  0.9440433382987976\n",
      "AFTER ENCODER:  0.7222111225128174\n"
     ]
    },
    {
     "name": "stderr",
     "output_type": "stream",
     "text": [
      "Epoch 1 - Training:  28%|██▊       | 546/1940 [04:49<13:27,  1.73it/s]"
     ]
    },
    {
     "name": "stdout",
     "output_type": "stream",
     "text": [
      "AFTER ENCODER PREP:  0.939475417137146\n",
      "AFTER ENCODER:  0.6544545292854309\n"
     ]
    },
    {
     "name": "stderr",
     "output_type": "stream",
     "text": [
      "Epoch 1 - Training:  28%|██▊       | 547/1940 [04:50<12:38,  1.84it/s]"
     ]
    },
    {
     "name": "stdout",
     "output_type": "stream",
     "text": [
      "AFTER ENCODER PREP:  0.9500904679298401\n",
      "AFTER ENCODER:  0.8362537622451782\n"
     ]
    },
    {
     "name": "stderr",
     "output_type": "stream",
     "text": [
      "Epoch 1 - Training:  28%|██▊       | 548/1940 [04:51<13:06,  1.77it/s]"
     ]
    },
    {
     "name": "stdout",
     "output_type": "stream",
     "text": [
      "AFTER ENCODER PREP:  0.9250432252883911\n",
      "AFTER ENCODER:  0.5442798733711243\n"
     ]
    },
    {
     "name": "stderr",
     "output_type": "stream",
     "text": [
      "Epoch 1 - Training:  28%|██▊       | 549/1940 [04:51<13:25,  1.73it/s]"
     ]
    },
    {
     "name": "stdout",
     "output_type": "stream",
     "text": [
      "AFTER ENCODER PREP:  0.9296265840530396\n",
      "AFTER ENCODER:  0.5658611059188843\n"
     ]
    },
    {
     "name": "stderr",
     "output_type": "stream",
     "text": [
      "Epoch 1 - Training:  28%|██▊       | 550/1940 [04:52<14:00,  1.65it/s]"
     ]
    },
    {
     "name": "stdout",
     "output_type": "stream",
     "text": [
      "AFTER ENCODER PREP:  0.9569037556648254\n",
      "AFTER ENCODER:  0.7311102747917175\n"
     ]
    },
    {
     "name": "stderr",
     "output_type": "stream",
     "text": [
      "Epoch 1 - Training:  28%|██▊       | 551/1940 [04:52<13:43,  1.69it/s]"
     ]
    },
    {
     "name": "stdout",
     "output_type": "stream",
     "text": [
      "AFTER ENCODER PREP:  0.9421824216842651\n",
      "AFTER ENCODER:  0.5684623718261719\n"
     ]
    },
    {
     "name": "stderr",
     "output_type": "stream",
     "text": [
      "Epoch 1 - Training:  28%|██▊       | 552/1940 [04:53<13:21,  1.73it/s]"
     ]
    },
    {
     "name": "stdout",
     "output_type": "stream",
     "text": [
      "AFTER ENCODER PREP:  0.9532643556594849\n",
      "AFTER ENCODER:  0.8179211020469666\n"
     ]
    },
    {
     "name": "stderr",
     "output_type": "stream",
     "text": [
      "Epoch 1 - Training:  29%|██▊       | 553/1940 [04:53<13:08,  1.76it/s]"
     ]
    },
    {
     "name": "stdout",
     "output_type": "stream",
     "text": [
      "AFTER ENCODER PREP:  0.9540817141532898\n",
      "AFTER ENCODER:  0.790425717830658\n"
     ]
    },
    {
     "name": "stderr",
     "output_type": "stream",
     "text": [
      "Epoch 1 - Training:  29%|██▊       | 554/1940 [04:54<12:55,  1.79it/s]"
     ]
    },
    {
     "name": "stdout",
     "output_type": "stream",
     "text": [
      "AFTER ENCODER PREP:  0.9481320381164551\n",
      "AFTER ENCODER:  0.704226016998291\n"
     ]
    },
    {
     "name": "stderr",
     "output_type": "stream",
     "text": [
      "Epoch 1 - Training:  29%|██▊       | 555/1940 [04:55<12:46,  1.81it/s]"
     ]
    },
    {
     "name": "stdout",
     "output_type": "stream",
     "text": [
      "AFTER ENCODER PREP:  0.9476181864738464\n",
      "AFTER ENCODER:  0.7908811569213867\n"
     ]
    },
    {
     "name": "stderr",
     "output_type": "stream",
     "text": [
      "Epoch 1 - Training:  29%|██▊       | 556/1940 [04:55<12:48,  1.80it/s]"
     ]
    },
    {
     "name": "stdout",
     "output_type": "stream",
     "text": [
      "AFTER ENCODER PREP:  0.9554804563522339\n",
      "AFTER ENCODER:  0.7761016488075256\n"
     ]
    },
    {
     "name": "stderr",
     "output_type": "stream",
     "text": [
      "Epoch 1 - Training:  29%|██▊       | 557/1940 [04:56<13:08,  1.75it/s]"
     ]
    },
    {
     "name": "stdout",
     "output_type": "stream",
     "text": [
      "AFTER ENCODER PREP:  0.9299025535583496\n",
      "AFTER ENCODER:  0.6680654883384705\n"
     ]
    },
    {
     "name": "stderr",
     "output_type": "stream",
     "text": [
      "Epoch 1 - Training:  29%|██▉       | 558/1940 [04:56<13:03,  1.76it/s]"
     ]
    },
    {
     "name": "stdout",
     "output_type": "stream",
     "text": [
      "AFTER ENCODER PREP:  0.9429096579551697\n",
      "AFTER ENCODER:  0.7279225587844849\n"
     ]
    },
    {
     "name": "stderr",
     "output_type": "stream",
     "text": [
      "Epoch 1 - Training:  29%|██▉       | 559/1940 [04:57<12:44,  1.81it/s]"
     ]
    },
    {
     "name": "stdout",
     "output_type": "stream",
     "text": [
      "AFTER ENCODER PREP:  0.9402720332145691\n",
      "AFTER ENCODER:  0.6051085591316223\n"
     ]
    },
    {
     "name": "stderr",
     "output_type": "stream",
     "text": [
      "Epoch 1 - Training:  29%|██▉       | 560/1940 [04:57<12:20,  1.86it/s]"
     ]
    },
    {
     "name": "stdout",
     "output_type": "stream",
     "text": [
      "AFTER ENCODER PREP:  0.9320502281188965\n",
      "AFTER ENCODER:  0.6950733065605164\n"
     ]
    },
    {
     "name": "stderr",
     "output_type": "stream",
     "text": [
      "Epoch 1 - Training:  29%|██▉       | 561/1940 [04:58<12:44,  1.80it/s]"
     ]
    },
    {
     "name": "stdout",
     "output_type": "stream",
     "text": [
      "AFTER ENCODER PREP:  0.9344643950462341\n",
      "AFTER ENCODER:  0.7070308327674866\n"
     ]
    },
    {
     "name": "stderr",
     "output_type": "stream",
     "text": [
      "Epoch 1 - Training:  29%|██▉       | 562/1940 [04:58<12:33,  1.83it/s]"
     ]
    },
    {
     "name": "stdout",
     "output_type": "stream",
     "text": [
      "AFTER ENCODER PREP:  0.9380180835723877\n",
      "AFTER ENCODER:  0.6601792573928833\n"
     ]
    },
    {
     "name": "stderr",
     "output_type": "stream",
     "text": [
      "Epoch 1 - Training:  29%|██▉       | 563/1940 [04:59<12:22,  1.85it/s]"
     ]
    },
    {
     "name": "stdout",
     "output_type": "stream",
     "text": [
      "AFTER ENCODER PREP:  0.9564676880836487\n",
      "AFTER ENCODER:  0.8497483134269714\n"
     ]
    },
    {
     "name": "stderr",
     "output_type": "stream",
     "text": [
      "Epoch 1 - Training:  29%|██▉       | 564/1940 [04:59<12:32,  1.83it/s]"
     ]
    },
    {
     "name": "stdout",
     "output_type": "stream",
     "text": [
      "AFTER ENCODER PREP:  0.9516382813453674\n",
      "AFTER ENCODER:  0.6828233003616333\n"
     ]
    },
    {
     "name": "stderr",
     "output_type": "stream",
     "text": [
      "Epoch 1 - Training:  29%|██▉       | 565/1940 [05:00<12:14,  1.87it/s]"
     ]
    },
    {
     "name": "stdout",
     "output_type": "stream",
     "text": [
      "AFTER ENCODER PREP:  0.9327123761177063\n",
      "AFTER ENCODER:  0.6513668894767761\n"
     ]
    },
    {
     "name": "stderr",
     "output_type": "stream",
     "text": [
      "Epoch 1 - Training:  29%|██▉       | 566/1940 [05:00<12:02,  1.90it/s]"
     ]
    },
    {
     "name": "stdout",
     "output_type": "stream",
     "text": [
      "AFTER ENCODER PREP:  0.9368773698806763\n",
      "AFTER ENCODER:  0.6638942360877991\n"
     ]
    },
    {
     "name": "stderr",
     "output_type": "stream",
     "text": [
      "Epoch 1 - Training:  29%|██▉       | 567/1940 [05:01<11:50,  1.93it/s]"
     ]
    },
    {
     "name": "stdout",
     "output_type": "stream",
     "text": [
      "AFTER ENCODER PREP:  0.9403671622276306\n",
      "AFTER ENCODER:  0.7098848819732666\n"
     ]
    },
    {
     "name": "stderr",
     "output_type": "stream",
     "text": [
      "Epoch 1 - Training:  29%|██▉       | 568/1940 [05:01<11:41,  1.96it/s]"
     ]
    },
    {
     "name": "stdout",
     "output_type": "stream",
     "text": [
      "AFTER ENCODER PREP:  0.9448351860046387\n",
      "AFTER ENCODER:  0.7261650562286377\n"
     ]
    },
    {
     "name": "stderr",
     "output_type": "stream",
     "text": [
      "Epoch 1 - Training:  29%|██▉       | 569/1940 [05:02<11:19,  2.02it/s]"
     ]
    },
    {
     "name": "stdout",
     "output_type": "stream",
     "text": [
      "AFTER ENCODER PREP:  0.9339084029197693\n",
      "AFTER ENCODER:  0.6653257608413696\n"
     ]
    },
    {
     "name": "stderr",
     "output_type": "stream",
     "text": [
      "Epoch 1 - Training:  29%|██▉       | 570/1940 [05:02<11:11,  2.04it/s]"
     ]
    },
    {
     "name": "stdout",
     "output_type": "stream",
     "text": [
      "AFTER ENCODER PREP:  0.9529839158058167\n",
      "AFTER ENCODER:  0.8171408176422119\n"
     ]
    },
    {
     "name": "stderr",
     "output_type": "stream",
     "text": [
      "Epoch 1 - Training:  29%|██▉       | 571/1940 [05:03<11:15,  2.03it/s]"
     ]
    },
    {
     "name": "stdout",
     "output_type": "stream",
     "text": [
      "AFTER ENCODER PREP:  0.9469062089920044\n",
      "AFTER ENCODER:  0.7301061153411865\n"
     ]
    },
    {
     "name": "stderr",
     "output_type": "stream",
     "text": [
      "Epoch 1 - Training:  29%|██▉       | 572/1940 [05:03<11:04,  2.06it/s]"
     ]
    },
    {
     "name": "stdout",
     "output_type": "stream",
     "text": [
      "AFTER ENCODER PREP:  0.9551606774330139\n",
      "AFTER ENCODER:  0.7875759601593018\n"
     ]
    },
    {
     "name": "stderr",
     "output_type": "stream",
     "text": [
      "Epoch 1 - Training:  30%|██▉       | 573/1940 [05:04<11:22,  2.00it/s]"
     ]
    },
    {
     "name": "stdout",
     "output_type": "stream",
     "text": [
      "AFTER ENCODER PREP:  0.9384188055992126\n",
      "AFTER ENCODER:  0.6530575752258301\n"
     ]
    },
    {
     "name": "stderr",
     "output_type": "stream",
     "text": [
      "Epoch 1 - Training:  30%|██▉       | 574/1940 [05:04<11:53,  1.92it/s]"
     ]
    },
    {
     "name": "stdout",
     "output_type": "stream",
     "text": [
      "AFTER ENCODER PREP:  0.9401498436927795\n",
      "AFTER ENCODER:  0.673368513584137\n"
     ]
    },
    {
     "name": "stderr",
     "output_type": "stream",
     "text": [
      "Epoch 1 - Training:  30%|██▉       | 575/1940 [05:05<11:34,  1.97it/s]"
     ]
    },
    {
     "name": "stdout",
     "output_type": "stream",
     "text": [
      "AFTER ENCODER PREP:  0.9475914835929871\n",
      "AFTER ENCODER:  0.7031705975532532\n"
     ]
    },
    {
     "name": "stderr",
     "output_type": "stream",
     "text": [
      "Epoch 1 - Training:  30%|██▉       | 576/1940 [05:05<11:27,  1.99it/s]"
     ]
    },
    {
     "name": "stdout",
     "output_type": "stream",
     "text": [
      "AFTER ENCODER PREP:  0.9355039596557617\n",
      "AFTER ENCODER:  0.7010844945907593\n"
     ]
    },
    {
     "name": "stderr",
     "output_type": "stream",
     "text": [
      "Epoch 1 - Training:  30%|██▉       | 577/1940 [05:06<10:59,  2.07it/s]"
     ]
    },
    {
     "name": "stdout",
     "output_type": "stream",
     "text": [
      "AFTER ENCODER PREP:  0.9342795014381409\n",
      "AFTER ENCODER:  0.6909764409065247\n"
     ]
    },
    {
     "name": "stderr",
     "output_type": "stream",
     "text": [
      "Epoch 1 - Training:  30%|██▉       | 578/1940 [05:06<10:59,  2.06it/s]"
     ]
    },
    {
     "name": "stdout",
     "output_type": "stream",
     "text": [
      "AFTER ENCODER PREP:  0.9194244742393494\n",
      "AFTER ENCODER:  0.5297251343727112\n"
     ]
    },
    {
     "name": "stderr",
     "output_type": "stream",
     "text": [
      "Epoch 1 - Training:  30%|██▉       | 579/1940 [05:07<11:03,  2.05it/s]"
     ]
    },
    {
     "name": "stdout",
     "output_type": "stream",
     "text": [
      "AFTER ENCODER PREP:  0.9594874382019043\n",
      "AFTER ENCODER:  0.7581472396850586\n"
     ]
    },
    {
     "name": "stderr",
     "output_type": "stream",
     "text": [
      "Epoch 1 - Training:  30%|██▉       | 580/1940 [05:07<10:54,  2.08it/s]"
     ]
    },
    {
     "name": "stdout",
     "output_type": "stream",
     "text": [
      "AFTER ENCODER PREP:  0.9401633143424988\n",
      "AFTER ENCODER:  0.7232481837272644\n"
     ]
    },
    {
     "name": "stderr",
     "output_type": "stream",
     "text": [
      "Epoch 1 - Training:  30%|██▉       | 581/1940 [05:08<11:08,  2.03it/s]"
     ]
    },
    {
     "name": "stdout",
     "output_type": "stream",
     "text": [
      "AFTER ENCODER PREP:  0.9607628583908081\n",
      "AFTER ENCODER:  0.8202780485153198\n"
     ]
    },
    {
     "name": "stderr",
     "output_type": "stream",
     "text": [
      "Epoch 1 - Training:  30%|███       | 582/1940 [05:08<11:04,  2.04it/s]"
     ]
    },
    {
     "name": "stdout",
     "output_type": "stream",
     "text": [
      "AFTER ENCODER PREP:  0.943817675113678\n",
      "AFTER ENCODER:  0.5754600167274475\n"
     ]
    },
    {
     "name": "stderr",
     "output_type": "stream",
     "text": [
      "Epoch 1 - Training:  30%|███       | 583/1940 [05:09<11:04,  2.04it/s]"
     ]
    },
    {
     "name": "stdout",
     "output_type": "stream",
     "text": [
      "AFTER ENCODER PREP:  0.9393153190612793\n",
      "AFTER ENCODER:  0.6014751195907593\n"
     ]
    },
    {
     "name": "stderr",
     "output_type": "stream",
     "text": [
      "Epoch 1 - Training:  30%|███       | 584/1940 [05:09<11:01,  2.05it/s]"
     ]
    },
    {
     "name": "stdout",
     "output_type": "stream",
     "text": [
      "AFTER ENCODER PREP:  0.9531470537185669\n",
      "AFTER ENCODER:  0.7980971336364746\n"
     ]
    },
    {
     "name": "stderr",
     "output_type": "stream",
     "text": [
      "Epoch 1 - Training:  30%|███       | 585/1940 [05:10<11:03,  2.04it/s]"
     ]
    },
    {
     "name": "stdout",
     "output_type": "stream",
     "text": [
      "AFTER ENCODER PREP:  0.9488561153411865\n",
      "AFTER ENCODER:  0.7197031378746033\n"
     ]
    },
    {
     "name": "stderr",
     "output_type": "stream",
     "text": [
      "Epoch 1 - Training:  30%|███       | 586/1940 [05:10<11:39,  1.93it/s]"
     ]
    },
    {
     "name": "stdout",
     "output_type": "stream",
     "text": [
      "AFTER ENCODER PREP:  0.9214730858802795\n",
      "AFTER ENCODER:  0.6122622489929199\n"
     ]
    },
    {
     "name": "stderr",
     "output_type": "stream",
     "text": [
      "Epoch 1 - Training:  30%|███       | 587/1940 [05:11<11:36,  1.94it/s]"
     ]
    },
    {
     "name": "stdout",
     "output_type": "stream",
     "text": [
      "AFTER ENCODER PREP:  0.9242556095123291\n",
      "AFTER ENCODER:  0.637185275554657\n"
     ]
    },
    {
     "name": "stderr",
     "output_type": "stream",
     "text": [
      "Epoch 1 - Training:  30%|███       | 588/1940 [05:11<11:28,  1.96it/s]"
     ]
    },
    {
     "name": "stdout",
     "output_type": "stream",
     "text": [
      "AFTER ENCODER PREP:  0.9305194020271301\n",
      "AFTER ENCODER:  0.6253215074539185\n"
     ]
    },
    {
     "name": "stderr",
     "output_type": "stream",
     "text": [
      "Epoch 1 - Training:  30%|███       | 589/1940 [05:12<11:23,  1.98it/s]"
     ]
    },
    {
     "name": "stdout",
     "output_type": "stream",
     "text": [
      "AFTER ENCODER PREP:  0.9368698000907898\n",
      "AFTER ENCODER:  0.7237960696220398\n"
     ]
    },
    {
     "name": "stderr",
     "output_type": "stream",
     "text": [
      "Epoch 1 - Training:  30%|███       | 590/1940 [05:12<11:13,  2.00it/s]"
     ]
    },
    {
     "name": "stdout",
     "output_type": "stream",
     "text": [
      "AFTER ENCODER PREP:  0.9344402551651001\n",
      "AFTER ENCODER:  0.6730259656906128\n"
     ]
    },
    {
     "name": "stderr",
     "output_type": "stream",
     "text": [
      "Epoch 1 - Training:  30%|███       | 591/1940 [05:13<11:00,  2.04it/s]"
     ]
    },
    {
     "name": "stdout",
     "output_type": "stream",
     "text": [
      "AFTER ENCODER PREP:  0.939488410949707\n",
      "AFTER ENCODER:  0.7477800846099854\n"
     ]
    },
    {
     "name": "stderr",
     "output_type": "stream",
     "text": [
      "Epoch 1 - Training:  31%|███       | 592/1940 [05:13<10:55,  2.05it/s]"
     ]
    },
    {
     "name": "stdout",
     "output_type": "stream",
     "text": [
      "AFTER ENCODER PREP:  0.9386529326438904\n",
      "AFTER ENCODER:  0.7133549451828003\n"
     ]
    },
    {
     "name": "stderr",
     "output_type": "stream",
     "text": [
      "Epoch 1 - Training:  31%|███       | 593/1940 [05:14<10:50,  2.07it/s]"
     ]
    },
    {
     "name": "stdout",
     "output_type": "stream",
     "text": [
      "AFTER ENCODER PREP:  0.9505462646484375\n",
      "AFTER ENCODER:  0.7917355298995972\n"
     ]
    },
    {
     "name": "stderr",
     "output_type": "stream",
     "text": [
      "Epoch 1 - Training:  31%|███       | 594/1940 [05:14<10:41,  2.10it/s]"
     ]
    },
    {
     "name": "stdout",
     "output_type": "stream",
     "text": [
      "AFTER ENCODER PREP:  0.9506414532661438\n",
      "AFTER ENCODER:  0.7169049382209778\n"
     ]
    },
    {
     "name": "stderr",
     "output_type": "stream",
     "text": [
      "Epoch 1 - Training:  31%|███       | 595/1940 [05:15<10:44,  2.09it/s]"
     ]
    },
    {
     "name": "stdout",
     "output_type": "stream",
     "text": [
      "AFTER ENCODER PREP:  0.9393470287322998\n",
      "AFTER ENCODER:  0.7671756744384766\n"
     ]
    },
    {
     "name": "stderr",
     "output_type": "stream",
     "text": [
      "Epoch 1 - Training:  31%|███       | 596/1940 [05:15<10:49,  2.07it/s]"
     ]
    },
    {
     "name": "stdout",
     "output_type": "stream",
     "text": [
      "AFTER ENCODER PREP:  0.949055016040802\n",
      "AFTER ENCODER:  0.6560602188110352\n"
     ]
    },
    {
     "name": "stderr",
     "output_type": "stream",
     "text": [
      "Epoch 1 - Training:  31%|███       | 597/1940 [05:16<10:58,  2.04it/s]"
     ]
    },
    {
     "name": "stdout",
     "output_type": "stream",
     "text": [
      "AFTER ENCODER PREP:  0.9425163865089417\n",
      "AFTER ENCODER:  0.773030161857605\n"
     ]
    },
    {
     "name": "stderr",
     "output_type": "stream",
     "text": [
      "Epoch 1 - Training:  31%|███       | 598/1940 [05:16<11:50,  1.89it/s]"
     ]
    },
    {
     "name": "stdout",
     "output_type": "stream",
     "text": [
      "AFTER ENCODER PREP:  0.9427632093429565\n",
      "AFTER ENCODER:  0.6722745299339294\n"
     ]
    },
    {
     "name": "stderr",
     "output_type": "stream",
     "text": [
      "Epoch 1 - Training:  31%|███       | 599/1940 [05:17<11:29,  1.94it/s]"
     ]
    },
    {
     "name": "stdout",
     "output_type": "stream",
     "text": [
      "AFTER ENCODER PREP:  0.9365752339363098\n",
      "AFTER ENCODER:  0.7255853414535522\n"
     ]
    },
    {
     "name": "stderr",
     "output_type": "stream",
     "text": [
      "Epoch 1 - Training:  31%|███       | 600/1940 [05:17<11:30,  1.94it/s]"
     ]
    },
    {
     "name": "stdout",
     "output_type": "stream",
     "text": [
      "AFTER ENCODER PREP:  0.9378209710121155\n",
      "AFTER ENCODER:  0.7460256218910217\n"
     ]
    },
    {
     "name": "stderr",
     "output_type": "stream",
     "text": [
      "Epoch 1 - Training:  31%|███       | 601/1940 [05:18<11:03,  2.02it/s]"
     ]
    },
    {
     "name": "stdout",
     "output_type": "stream",
     "text": [
      "AFTER ENCODER PREP:  0.9422832727432251\n",
      "AFTER ENCODER:  0.8125751614570618\n"
     ]
    },
    {
     "name": "stderr",
     "output_type": "stream",
     "text": [
      "Epoch 1 - Training:  31%|███       | 602/1940 [05:18<10:58,  2.03it/s]"
     ]
    },
    {
     "name": "stdout",
     "output_type": "stream",
     "text": [
      "AFTER ENCODER PREP:  0.9253756403923035\n",
      "AFTER ENCODER:  0.6098530292510986\n"
     ]
    },
    {
     "name": "stderr",
     "output_type": "stream",
     "text": [
      "Epoch 1 - Training:  31%|███       | 603/1940 [05:19<11:01,  2.02it/s]"
     ]
    },
    {
     "name": "stdout",
     "output_type": "stream",
     "text": [
      "AFTER ENCODER PREP:  0.9563883543014526\n",
      "AFTER ENCODER:  0.7938210964202881\n"
     ]
    },
    {
     "name": "stderr",
     "output_type": "stream",
     "text": [
      "Epoch 1 - Training:  31%|███       | 604/1940 [05:19<10:55,  2.04it/s]"
     ]
    },
    {
     "name": "stdout",
     "output_type": "stream",
     "text": [
      "AFTER ENCODER PREP:  0.9395749568939209\n",
      "AFTER ENCODER:  0.7890142798423767\n"
     ]
    },
    {
     "name": "stderr",
     "output_type": "stream",
     "text": [
      "Epoch 1 - Training:  31%|███       | 605/1940 [05:20<10:42,  2.08it/s]"
     ]
    },
    {
     "name": "stdout",
     "output_type": "stream",
     "text": [
      "AFTER ENCODER PREP:  0.9440882205963135\n",
      "AFTER ENCODER:  0.7538940906524658\n"
     ]
    },
    {
     "name": "stderr",
     "output_type": "stream",
     "text": [
      "Epoch 1 - Training:  31%|███       | 606/1940 [05:20<10:50,  2.05it/s]"
     ]
    },
    {
     "name": "stdout",
     "output_type": "stream",
     "text": [
      "AFTER ENCODER PREP:  0.9316540360450745\n",
      "AFTER ENCODER:  0.613834798336029\n"
     ]
    },
    {
     "name": "stderr",
     "output_type": "stream",
     "text": [
      "Epoch 1 - Training:  31%|███▏      | 607/1940 [05:21<10:51,  2.05it/s]"
     ]
    },
    {
     "name": "stdout",
     "output_type": "stream",
     "text": [
      "AFTER ENCODER PREP:  0.9552738666534424\n",
      "AFTER ENCODER:  0.7022125720977783\n"
     ]
    },
    {
     "name": "stderr",
     "output_type": "stream",
     "text": [
      "Epoch 1 - Training:  31%|███▏      | 608/1940 [05:21<10:56,  2.03it/s]"
     ]
    },
    {
     "name": "stdout",
     "output_type": "stream",
     "text": [
      "AFTER ENCODER PREP:  0.9310662150382996\n",
      "AFTER ENCODER:  0.5816202759742737\n"
     ]
    },
    {
     "name": "stderr",
     "output_type": "stream",
     "text": [
      "Epoch 1 - Training:  31%|███▏      | 609/1940 [05:22<10:50,  2.05it/s]"
     ]
    },
    {
     "name": "stdout",
     "output_type": "stream",
     "text": [
      "AFTER ENCODER PREP:  0.9362542033195496\n",
      "AFTER ENCODER:  0.6282879114151001\n"
     ]
    },
    {
     "name": "stderr",
     "output_type": "stream",
     "text": [
      "Epoch 1 - Training:  31%|███▏      | 610/1940 [05:22<11:23,  1.95it/s]"
     ]
    },
    {
     "name": "stdout",
     "output_type": "stream",
     "text": [
      "AFTER ENCODER PREP:  0.9465424418449402\n",
      "AFTER ENCODER:  0.776225209236145\n"
     ]
    },
    {
     "name": "stderr",
     "output_type": "stream",
     "text": [
      "Epoch 1 - Training:  31%|███▏      | 611/1940 [05:23<11:08,  1.99it/s]"
     ]
    },
    {
     "name": "stdout",
     "output_type": "stream",
     "text": [
      "AFTER ENCODER PREP:  0.961464524269104\n",
      "AFTER ENCODER:  0.8555763959884644\n"
     ]
    },
    {
     "name": "stderr",
     "output_type": "stream",
     "text": [
      "Epoch 1 - Training:  32%|███▏      | 612/1940 [05:23<11:13,  1.97it/s]"
     ]
    },
    {
     "name": "stdout",
     "output_type": "stream",
     "text": [
      "AFTER ENCODER PREP:  0.9329450726509094\n",
      "AFTER ENCODER:  0.740803599357605\n"
     ]
    },
    {
     "name": "stderr",
     "output_type": "stream",
     "text": [
      "Epoch 1 - Training:  32%|███▏      | 613/1940 [05:24<11:23,  1.94it/s]"
     ]
    },
    {
     "name": "stdout",
     "output_type": "stream",
     "text": [
      "AFTER ENCODER PREP:  0.9403659105300903\n",
      "AFTER ENCODER:  0.7616255879402161\n"
     ]
    },
    {
     "name": "stderr",
     "output_type": "stream",
     "text": [
      "Epoch 1 - Training:  32%|███▏      | 614/1940 [05:24<11:10,  1.98it/s]"
     ]
    },
    {
     "name": "stdout",
     "output_type": "stream",
     "text": [
      "AFTER ENCODER PREP:  0.9426863789558411\n",
      "AFTER ENCODER:  0.7370994091033936\n"
     ]
    },
    {
     "name": "stderr",
     "output_type": "stream",
     "text": [
      "Epoch 1 - Training:  32%|███▏      | 615/1940 [05:25<10:54,  2.02it/s]"
     ]
    },
    {
     "name": "stdout",
     "output_type": "stream",
     "text": [
      "AFTER ENCODER PREP:  0.9510349035263062\n",
      "AFTER ENCODER:  0.7314849495887756\n"
     ]
    },
    {
     "name": "stderr",
     "output_type": "stream",
     "text": [
      "Epoch 1 - Training:  32%|███▏      | 616/1940 [05:25<10:56,  2.02it/s]"
     ]
    },
    {
     "name": "stdout",
     "output_type": "stream",
     "text": [
      "AFTER ENCODER PREP:  0.957385778427124\n",
      "AFTER ENCODER:  0.7741612792015076\n"
     ]
    },
    {
     "name": "stderr",
     "output_type": "stream",
     "text": [
      "Epoch 1 - Training:  32%|███▏      | 617/1940 [05:26<10:53,  2.02it/s]"
     ]
    },
    {
     "name": "stdout",
     "output_type": "stream",
     "text": [
      "AFTER ENCODER PREP:  0.9121718406677246\n",
      "AFTER ENCODER:  0.6945352554321289\n"
     ]
    },
    {
     "name": "stderr",
     "output_type": "stream",
     "text": [
      "Epoch 1 - Training:  32%|███▏      | 618/1940 [05:26<10:38,  2.07it/s]"
     ]
    },
    {
     "name": "stdout",
     "output_type": "stream",
     "text": [
      "AFTER ENCODER PREP:  0.9410761594772339\n",
      "AFTER ENCODER:  0.7049173712730408\n"
     ]
    },
    {
     "name": "stderr",
     "output_type": "stream",
     "text": [
      "Epoch 1 - Training:  32%|███▏      | 619/1940 [05:27<10:39,  2.07it/s]"
     ]
    },
    {
     "name": "stdout",
     "output_type": "stream",
     "text": [
      "AFTER ENCODER PREP:  0.947533369064331\n",
      "AFTER ENCODER:  0.7391434907913208\n"
     ]
    },
    {
     "name": "stderr",
     "output_type": "stream",
     "text": [
      "Epoch 1 - Training:  32%|███▏      | 620/1940 [05:27<10:47,  2.04it/s]"
     ]
    },
    {
     "name": "stdout",
     "output_type": "stream",
     "text": [
      "AFTER ENCODER PREP:  0.9407763481140137\n",
      "AFTER ENCODER:  0.627746045589447\n"
     ]
    },
    {
     "name": "stderr",
     "output_type": "stream",
     "text": [
      "Epoch 1 - Training:  32%|███▏      | 621/1940 [05:28<10:49,  2.03it/s]"
     ]
    },
    {
     "name": "stdout",
     "output_type": "stream",
     "text": [
      "AFTER ENCODER PREP:  0.9517446756362915\n",
      "AFTER ENCODER:  0.7514111399650574\n"
     ]
    },
    {
     "name": "stderr",
     "output_type": "stream",
     "text": [
      "Epoch 1 - Training:  32%|███▏      | 622/1940 [05:28<11:53,  1.85it/s]"
     ]
    },
    {
     "name": "stdout",
     "output_type": "stream",
     "text": [
      "AFTER ENCODER PREP:  0.9449121952056885\n",
      "AFTER ENCODER:  0.7352648377418518\n"
     ]
    },
    {
     "name": "stderr",
     "output_type": "stream",
     "text": [
      "Epoch 1 - Training:  32%|███▏      | 623/1940 [05:29<11:38,  1.88it/s]"
     ]
    },
    {
     "name": "stdout",
     "output_type": "stream",
     "text": [
      "AFTER ENCODER PREP:  0.9309484362602234\n",
      "AFTER ENCODER:  0.749178946018219\n"
     ]
    },
    {
     "name": "stderr",
     "output_type": "stream",
     "text": [
      "Epoch 1 - Training:  32%|███▏      | 624/1940 [05:29<11:27,  1.91it/s]"
     ]
    },
    {
     "name": "stdout",
     "output_type": "stream",
     "text": [
      "AFTER ENCODER PREP:  0.943570613861084\n",
      "AFTER ENCODER:  0.7592801451683044\n"
     ]
    },
    {
     "name": "stderr",
     "output_type": "stream",
     "text": [
      "Epoch 1 - Training:  32%|███▏      | 625/1940 [05:30<11:06,  1.97it/s]"
     ]
    },
    {
     "name": "stdout",
     "output_type": "stream",
     "text": [
      "AFTER ENCODER PREP:  0.9435195326805115\n",
      "AFTER ENCODER:  0.7445249557495117\n"
     ]
    },
    {
     "name": "stderr",
     "output_type": "stream",
     "text": [
      "Epoch 1 - Training:  32%|███▏      | 626/1940 [05:30<10:42,  2.04it/s]"
     ]
    },
    {
     "name": "stdout",
     "output_type": "stream",
     "text": [
      "AFTER ENCODER PREP:  0.9338013529777527\n",
      "AFTER ENCODER:  0.6111669540405273\n"
     ]
    },
    {
     "name": "stderr",
     "output_type": "stream",
     "text": [
      "Epoch 1 - Training:  32%|███▏      | 627/1940 [05:31<10:39,  2.05it/s]"
     ]
    },
    {
     "name": "stdout",
     "output_type": "stream",
     "text": [
      "AFTER ENCODER PREP:  0.9291495680809021\n",
      "AFTER ENCODER:  0.5475755333900452\n"
     ]
    },
    {
     "name": "stderr",
     "output_type": "stream",
     "text": [
      "Epoch 1 - Training:  32%|███▏      | 628/1940 [05:31<10:37,  2.06it/s]"
     ]
    },
    {
     "name": "stdout",
     "output_type": "stream",
     "text": [
      "AFTER ENCODER PREP:  0.9550421833992004\n",
      "AFTER ENCODER:  0.7645930051803589\n"
     ]
    },
    {
     "name": "stderr",
     "output_type": "stream",
     "text": [
      "Epoch 1 - Training:  32%|███▏      | 629/1940 [05:32<10:23,  2.10it/s]"
     ]
    },
    {
     "name": "stdout",
     "output_type": "stream",
     "text": [
      "AFTER ENCODER PREP:  0.9365348815917969\n",
      "AFTER ENCODER:  0.645253598690033\n"
     ]
    },
    {
     "name": "stderr",
     "output_type": "stream",
     "text": [
      "Epoch 1 - Training:  32%|███▏      | 630/1940 [05:32<11:57,  1.83it/s]"
     ]
    },
    {
     "name": "stdout",
     "output_type": "stream",
     "text": [
      "AFTER ENCODER PREP:  0.9418052434921265\n",
      "AFTER ENCODER:  0.6776318550109863\n"
     ]
    },
    {
     "name": "stderr",
     "output_type": "stream",
     "text": [
      "Epoch 1 - Training:  33%|███▎      | 631/1940 [05:33<11:51,  1.84it/s]"
     ]
    },
    {
     "name": "stdout",
     "output_type": "stream",
     "text": [
      "AFTER ENCODER PREP:  0.9227902293205261\n",
      "AFTER ENCODER:  0.4969927966594696\n"
     ]
    },
    {
     "name": "stderr",
     "output_type": "stream",
     "text": [
      "Epoch 1 - Training:  33%|███▎      | 632/1940 [05:33<11:34,  1.88it/s]"
     ]
    },
    {
     "name": "stdout",
     "output_type": "stream",
     "text": [
      "AFTER ENCODER PREP:  0.9235728979110718\n",
      "AFTER ENCODER:  0.6088820695877075\n"
     ]
    },
    {
     "name": "stderr",
     "output_type": "stream",
     "text": [
      "Epoch 1 - Training:  33%|███▎      | 633/1940 [05:34<11:29,  1.90it/s]"
     ]
    },
    {
     "name": "stdout",
     "output_type": "stream",
     "text": [
      "AFTER ENCODER PREP:  0.9259476661682129\n",
      "AFTER ENCODER:  0.5969861149787903\n"
     ]
    },
    {
     "name": "stderr",
     "output_type": "stream",
     "text": [
      "Epoch 1 - Training:  33%|███▎      | 634/1940 [05:34<11:25,  1.91it/s]"
     ]
    },
    {
     "name": "stdout",
     "output_type": "stream",
     "text": [
      "AFTER ENCODER PREP:  0.9390332102775574\n",
      "AFTER ENCODER:  0.6629737019538879\n"
     ]
    },
    {
     "name": "stderr",
     "output_type": "stream",
     "text": [
      "Epoch 1 - Training:  33%|███▎      | 635/1940 [05:35<12:18,  1.77it/s]"
     ]
    },
    {
     "name": "stdout",
     "output_type": "stream",
     "text": [
      "AFTER ENCODER PREP:  0.9289457201957703\n",
      "AFTER ENCODER:  0.5315297842025757\n"
     ]
    },
    {
     "name": "stderr",
     "output_type": "stream",
     "text": [
      "Epoch 1 - Training:  33%|███▎      | 636/1940 [05:36<11:52,  1.83it/s]"
     ]
    },
    {
     "name": "stdout",
     "output_type": "stream",
     "text": [
      "AFTER ENCODER PREP:  0.9525476098060608\n",
      "AFTER ENCODER:  0.6715749502182007\n"
     ]
    },
    {
     "name": "stderr",
     "output_type": "stream",
     "text": [
      "Epoch 1 - Training:  33%|███▎      | 637/1940 [05:36<11:33,  1.88it/s]"
     ]
    },
    {
     "name": "stdout",
     "output_type": "stream",
     "text": [
      "AFTER ENCODER PREP:  0.9543158411979675\n",
      "AFTER ENCODER:  0.8678194880485535\n"
     ]
    },
    {
     "name": "stderr",
     "output_type": "stream",
     "text": [
      "Epoch 1 - Training:  33%|███▎      | 638/1940 [05:37<11:28,  1.89it/s]"
     ]
    },
    {
     "name": "stdout",
     "output_type": "stream",
     "text": [
      "AFTER ENCODER PREP:  0.9230494499206543\n",
      "AFTER ENCODER:  0.5821549892425537\n"
     ]
    },
    {
     "name": "stderr",
     "output_type": "stream",
     "text": [
      "Epoch 1 - Training:  33%|███▎      | 639/1940 [05:37<11:06,  1.95it/s]"
     ]
    },
    {
     "name": "stdout",
     "output_type": "stream",
     "text": [
      "AFTER ENCODER PREP:  0.9420797824859619\n",
      "AFTER ENCODER:  0.5414098501205444\n"
     ]
    },
    {
     "name": "stderr",
     "output_type": "stream",
     "text": [
      "Epoch 1 - Training:  33%|███▎      | 640/1940 [05:38<10:56,  1.98it/s]"
     ]
    },
    {
     "name": "stdout",
     "output_type": "stream",
     "text": [
      "AFTER ENCODER PREP:  0.925192654132843\n",
      "AFTER ENCODER:  0.4779475927352905\n"
     ]
    },
    {
     "name": "stderr",
     "output_type": "stream",
     "text": [
      "Epoch 1 - Training:  33%|███▎      | 641/1940 [05:38<10:47,  2.01it/s]"
     ]
    },
    {
     "name": "stdout",
     "output_type": "stream",
     "text": [
      "AFTER ENCODER PREP:  0.9300985932350159\n",
      "AFTER ENCODER:  0.6568175554275513\n"
     ]
    },
    {
     "name": "stderr",
     "output_type": "stream",
     "text": [
      "Epoch 1 - Training:  33%|███▎      | 642/1940 [05:39<10:35,  2.04it/s]"
     ]
    },
    {
     "name": "stdout",
     "output_type": "stream",
     "text": [
      "AFTER ENCODER PREP:  0.9316924214363098\n",
      "AFTER ENCODER:  0.7350191473960876\n"
     ]
    },
    {
     "name": "stderr",
     "output_type": "stream",
     "text": [
      "Epoch 1 - Training:  33%|███▎      | 643/1940 [05:39<10:37,  2.03it/s]"
     ]
    },
    {
     "name": "stdout",
     "output_type": "stream",
     "text": [
      "AFTER ENCODER PREP:  0.9271194934844971\n",
      "AFTER ENCODER:  0.6257104277610779\n"
     ]
    },
    {
     "name": "stderr",
     "output_type": "stream",
     "text": [
      "Epoch 1 - Training:  33%|███▎      | 644/1940 [05:40<10:35,  2.04it/s]"
     ]
    },
    {
     "name": "stdout",
     "output_type": "stream",
     "text": [
      "AFTER ENCODER PREP:  0.9505979418754578\n",
      "AFTER ENCODER:  0.6649094223976135\n"
     ]
    },
    {
     "name": "stderr",
     "output_type": "stream",
     "text": [
      "Epoch 1 - Training:  33%|███▎      | 645/1940 [05:40<10:48,  2.00it/s]"
     ]
    },
    {
     "name": "stdout",
     "output_type": "stream",
     "text": [
      "AFTER ENCODER PREP:  0.9544968008995056\n",
      "AFTER ENCODER:  0.8381227254867554\n"
     ]
    },
    {
     "name": "stderr",
     "output_type": "stream",
     "text": [
      "Epoch 1 - Training:  33%|███▎      | 646/1940 [05:41<11:22,  1.90it/s]"
     ]
    },
    {
     "name": "stdout",
     "output_type": "stream",
     "text": [
      "AFTER ENCODER PREP:  0.952524721622467\n",
      "AFTER ENCODER:  0.6735579967498779\n"
     ]
    },
    {
     "name": "stderr",
     "output_type": "stream",
     "text": [
      "Epoch 1 - Training:  33%|███▎      | 647/1940 [05:41<11:09,  1.93it/s]"
     ]
    },
    {
     "name": "stdout",
     "output_type": "stream",
     "text": [
      "AFTER ENCODER PREP:  0.9347890615463257\n",
      "AFTER ENCODER:  0.5179566144943237\n"
     ]
    },
    {
     "name": "stderr",
     "output_type": "stream",
     "text": [
      "Epoch 1 - Training:  33%|███▎      | 648/1940 [05:42<10:51,  1.98it/s]"
     ]
    },
    {
     "name": "stdout",
     "output_type": "stream",
     "text": [
      "AFTER ENCODER PREP:  0.949960470199585\n",
      "AFTER ENCODER:  0.7589358687400818\n"
     ]
    },
    {
     "name": "stderr",
     "output_type": "stream",
     "text": [
      "Epoch 1 - Training:  33%|███▎      | 649/1940 [05:42<10:47,  1.99it/s]"
     ]
    },
    {
     "name": "stdout",
     "output_type": "stream",
     "text": [
      "AFTER ENCODER PREP:  0.9346680045127869\n",
      "AFTER ENCODER:  0.5762682557106018\n"
     ]
    },
    {
     "name": "stderr",
     "output_type": "stream",
     "text": [
      "Epoch 1 - Training:  34%|███▎      | 650/1940 [05:43<10:35,  2.03it/s]"
     ]
    },
    {
     "name": "stdout",
     "output_type": "stream",
     "text": [
      "AFTER ENCODER PREP:  0.937483549118042\n",
      "AFTER ENCODER:  0.5673463940620422\n"
     ]
    },
    {
     "name": "stderr",
     "output_type": "stream",
     "text": [
      "Epoch 1 - Training:  34%|███▎      | 651/1940 [05:43<10:33,  2.03it/s]"
     ]
    },
    {
     "name": "stdout",
     "output_type": "stream",
     "text": [
      "AFTER ENCODER PREP:  0.9155759215354919\n",
      "AFTER ENCODER:  0.5238924622535706\n"
     ]
    },
    {
     "name": "stderr",
     "output_type": "stream",
     "text": [
      "Epoch 1 - Training:  34%|███▎      | 652/1940 [05:44<10:33,  2.03it/s]"
     ]
    },
    {
     "name": "stdout",
     "output_type": "stream",
     "text": [
      "AFTER ENCODER PREP:  0.9490639567375183\n",
      "AFTER ENCODER:  0.6170499324798584\n"
     ]
    },
    {
     "name": "stderr",
     "output_type": "stream",
     "text": [
      "Epoch 1 - Training:  34%|███▎      | 653/1940 [05:44<10:43,  2.00it/s]"
     ]
    },
    {
     "name": "stdout",
     "output_type": "stream",
     "text": [
      "AFTER ENCODER PREP:  0.9452047348022461\n",
      "AFTER ENCODER:  0.6823581457138062\n"
     ]
    },
    {
     "name": "stderr",
     "output_type": "stream",
     "text": [
      "Epoch 1 - Training:  34%|███▎      | 654/1940 [05:45<10:46,  1.99it/s]"
     ]
    },
    {
     "name": "stdout",
     "output_type": "stream",
     "text": [
      "AFTER ENCODER PREP:  0.940795361995697\n",
      "AFTER ENCODER:  0.6103642582893372\n"
     ]
    },
    {
     "name": "stderr",
     "output_type": "stream",
     "text": [
      "Epoch 1 - Training:  34%|███▍      | 655/1940 [05:45<10:34,  2.02it/s]"
     ]
    },
    {
     "name": "stdout",
     "output_type": "stream",
     "text": [
      "AFTER ENCODER PREP:  0.9342294335365295\n",
      "AFTER ENCODER:  0.5679171085357666\n"
     ]
    },
    {
     "name": "stderr",
     "output_type": "stream",
     "text": [
      "Epoch 1 - Training:  34%|███▍      | 656/1940 [05:46<10:30,  2.04it/s]"
     ]
    },
    {
     "name": "stdout",
     "output_type": "stream",
     "text": [
      "AFTER ENCODER PREP:  0.9442141056060791\n",
      "AFTER ENCODER:  0.6354215741157532\n"
     ]
    },
    {
     "name": "stderr",
     "output_type": "stream",
     "text": [
      "Epoch 1 - Training:  34%|███▍      | 657/1940 [05:46<10:21,  2.06it/s]"
     ]
    },
    {
     "name": "stdout",
     "output_type": "stream",
     "text": [
      "AFTER ENCODER PREP:  0.9311448335647583\n",
      "AFTER ENCODER:  0.6620049476623535\n"
     ]
    },
    {
     "name": "stderr",
     "output_type": "stream",
     "text": [
      "Epoch 1 - Training:  34%|███▍      | 658/1940 [05:47<11:05,  1.93it/s]"
     ]
    },
    {
     "name": "stdout",
     "output_type": "stream",
     "text": [
      "AFTER ENCODER PREP:  0.9548131823539734\n",
      "AFTER ENCODER:  0.735312819480896\n"
     ]
    },
    {
     "name": "stderr",
     "output_type": "stream",
     "text": [
      "Epoch 1 - Training:  34%|███▍      | 659/1940 [05:47<11:01,  1.94it/s]"
     ]
    },
    {
     "name": "stdout",
     "output_type": "stream",
     "text": [
      "AFTER ENCODER PREP:  0.9512896537780762\n",
      "AFTER ENCODER:  0.68276047706604\n"
     ]
    },
    {
     "name": "stderr",
     "output_type": "stream",
     "text": [
      "Epoch 1 - Training:  34%|███▍      | 660/1940 [05:48<10:42,  1.99it/s]"
     ]
    },
    {
     "name": "stdout",
     "output_type": "stream",
     "text": [
      "AFTER ENCODER PREP:  0.9350975751876831\n",
      "AFTER ENCODER:  0.653475821018219\n"
     ]
    },
    {
     "name": "stderr",
     "output_type": "stream",
     "text": [
      "Epoch 1 - Training:  34%|███▍      | 661/1940 [05:48<10:49,  1.97it/s]"
     ]
    },
    {
     "name": "stdout",
     "output_type": "stream",
     "text": [
      "AFTER ENCODER PREP:  0.9384955763816833\n",
      "AFTER ENCODER:  0.6559005379676819\n"
     ]
    },
    {
     "name": "stderr",
     "output_type": "stream",
     "text": [
      "Epoch 1 - Training:  34%|███▍      | 662/1940 [05:49<10:51,  1.96it/s]"
     ]
    },
    {
     "name": "stdout",
     "output_type": "stream",
     "text": [
      "AFTER ENCODER PREP:  0.9376741647720337\n",
      "AFTER ENCODER:  0.6646965146064758\n"
     ]
    },
    {
     "name": "stderr",
     "output_type": "stream",
     "text": [
      "Epoch 1 - Training:  34%|███▍      | 663/1940 [05:49<10:47,  1.97it/s]"
     ]
    },
    {
     "name": "stdout",
     "output_type": "stream",
     "text": [
      "AFTER ENCODER PREP:  0.9215472936630249\n",
      "AFTER ENCODER:  0.617216944694519\n"
     ]
    },
    {
     "name": "stderr",
     "output_type": "stream",
     "text": [
      "Epoch 1 - Training:  34%|███▍      | 664/1940 [05:50<10:43,  1.98it/s]"
     ]
    },
    {
     "name": "stdout",
     "output_type": "stream",
     "text": [
      "AFTER ENCODER PREP:  0.9470917582511902\n",
      "AFTER ENCODER:  0.7675338983535767\n"
     ]
    },
    {
     "name": "stderr",
     "output_type": "stream",
     "text": [
      "Epoch 1 - Training:  34%|███▍      | 665/1940 [05:50<10:22,  2.05it/s]"
     ]
    },
    {
     "name": "stdout",
     "output_type": "stream",
     "text": [
      "AFTER ENCODER PREP:  0.9482975006103516\n",
      "AFTER ENCODER:  0.6203553080558777\n"
     ]
    },
    {
     "name": "stderr",
     "output_type": "stream",
     "text": [
      "Epoch 1 - Training:  34%|███▍      | 666/1940 [05:51<10:17,  2.06it/s]"
     ]
    },
    {
     "name": "stdout",
     "output_type": "stream",
     "text": [
      "AFTER ENCODER PREP:  0.9441582560539246\n",
      "AFTER ENCODER:  0.6325907111167908\n"
     ]
    },
    {
     "name": "stderr",
     "output_type": "stream",
     "text": [
      "Epoch 1 - Training:  34%|███▍      | 667/1940 [05:51<10:06,  2.10it/s]"
     ]
    },
    {
     "name": "stdout",
     "output_type": "stream",
     "text": [
      "AFTER ENCODER PREP:  0.959387481212616\n",
      "AFTER ENCODER:  0.7561525106430054\n"
     ]
    },
    {
     "name": "stderr",
     "output_type": "stream",
     "text": [
      "Epoch 1 - Training:  34%|███▍      | 668/1940 [05:52<10:47,  1.97it/s]"
     ]
    },
    {
     "name": "stdout",
     "output_type": "stream",
     "text": [
      "AFTER ENCODER PREP:  0.9306861758232117\n",
      "AFTER ENCODER:  0.6781695485115051\n"
     ]
    },
    {
     "name": "stderr",
     "output_type": "stream",
     "text": [
      "Epoch 1 - Training:  34%|███▍      | 669/1940 [05:52<10:43,  1.98it/s]"
     ]
    },
    {
     "name": "stdout",
     "output_type": "stream",
     "text": [
      "AFTER ENCODER PREP:  0.9192243218421936\n",
      "AFTER ENCODER:  0.6634020805358887\n"
     ]
    },
    {
     "name": "stderr",
     "output_type": "stream",
     "text": [
      "Epoch 1 - Training:  35%|███▍      | 670/1940 [05:53<10:42,  1.98it/s]"
     ]
    },
    {
     "name": "stdout",
     "output_type": "stream",
     "text": [
      "AFTER ENCODER PREP:  0.9252398610115051\n",
      "AFTER ENCODER:  0.6877785325050354\n"
     ]
    },
    {
     "name": "stderr",
     "output_type": "stream",
     "text": [
      "Epoch 1 - Training:  35%|███▍      | 671/1940 [05:53<10:33,  2.00it/s]"
     ]
    },
    {
     "name": "stdout",
     "output_type": "stream",
     "text": [
      "AFTER ENCODER PREP:  0.9357746243476868\n",
      "AFTER ENCODER:  0.7560337781906128\n"
     ]
    },
    {
     "name": "stderr",
     "output_type": "stream",
     "text": [
      "Epoch 1 - Training:  35%|███▍      | 672/1940 [05:54<10:30,  2.01it/s]"
     ]
    },
    {
     "name": "stdout",
     "output_type": "stream",
     "text": [
      "AFTER ENCODER PREP:  0.9401580095291138\n",
      "AFTER ENCODER:  0.7217654585838318\n"
     ]
    },
    {
     "name": "stderr",
     "output_type": "stream",
     "text": [
      "Epoch 1 - Training:  35%|███▍      | 673/1940 [05:54<10:21,  2.04it/s]"
     ]
    },
    {
     "name": "stdout",
     "output_type": "stream",
     "text": [
      "AFTER ENCODER PREP:  0.9249594807624817\n",
      "AFTER ENCODER:  0.6308736801147461\n"
     ]
    },
    {
     "name": "stderr",
     "output_type": "stream",
     "text": [
      "Epoch 1 - Training:  35%|███▍      | 674/1940 [05:55<10:16,  2.05it/s]"
     ]
    },
    {
     "name": "stdout",
     "output_type": "stream",
     "text": [
      "AFTER ENCODER PREP:  0.9446963667869568\n",
      "AFTER ENCODER:  0.8488753437995911\n"
     ]
    },
    {
     "name": "stderr",
     "output_type": "stream",
     "text": [
      "Epoch 1 - Training:  35%|███▍      | 675/1940 [05:55<10:13,  2.06it/s]"
     ]
    },
    {
     "name": "stdout",
     "output_type": "stream",
     "text": [
      "AFTER ENCODER PREP:  0.9601163268089294\n",
      "AFTER ENCODER:  0.8400283455848694\n"
     ]
    },
    {
     "name": "stderr",
     "output_type": "stream",
     "text": [
      "Epoch 1 - Training:  35%|███▍      | 676/1940 [05:56<10:12,  2.06it/s]"
     ]
    },
    {
     "name": "stdout",
     "output_type": "stream",
     "text": [
      "AFTER ENCODER PREP:  0.949919581413269\n",
      "AFTER ENCODER:  0.8210896849632263\n"
     ]
    },
    {
     "name": "stderr",
     "output_type": "stream",
     "text": [
      "Epoch 1 - Training:  35%|███▍      | 677/1940 [05:56<10:18,  2.04it/s]"
     ]
    },
    {
     "name": "stdout",
     "output_type": "stream",
     "text": [
      "AFTER ENCODER PREP:  0.9397253394126892\n",
      "AFTER ENCODER:  0.73843914270401\n"
     ]
    },
    {
     "name": "stderr",
     "output_type": "stream",
     "text": [
      "Epoch 1 - Training:  35%|███▍      | 678/1940 [05:57<10:25,  2.02it/s]"
     ]
    },
    {
     "name": "stdout",
     "output_type": "stream",
     "text": [
      "AFTER ENCODER PREP:  0.9365233182907104\n",
      "AFTER ENCODER:  0.7112542390823364\n"
     ]
    },
    {
     "name": "stderr",
     "output_type": "stream",
     "text": [
      "Epoch 1 - Training:  35%|███▌      | 679/1940 [05:57<11:01,  1.91it/s]"
     ]
    },
    {
     "name": "stdout",
     "output_type": "stream",
     "text": [
      "AFTER ENCODER PREP:  0.9401757717132568\n",
      "AFTER ENCODER:  0.5597467422485352\n"
     ]
    },
    {
     "name": "stderr",
     "output_type": "stream",
     "text": [
      "Epoch 1 - Training:  35%|███▌      | 680/1940 [05:58<10:51,  1.93it/s]"
     ]
    },
    {
     "name": "stdout",
     "output_type": "stream",
     "text": [
      "AFTER ENCODER PREP:  0.9459389448165894\n",
      "AFTER ENCODER:  0.6202605366706848\n"
     ]
    },
    {
     "name": "stderr",
     "output_type": "stream",
     "text": [
      "Epoch 1 - Training:  35%|███▌      | 681/1940 [05:58<10:50,  1.93it/s]"
     ]
    },
    {
     "name": "stdout",
     "output_type": "stream",
     "text": [
      "AFTER ENCODER PREP:  0.9431734681129456\n",
      "AFTER ENCODER:  0.7445451021194458\n"
     ]
    },
    {
     "name": "stderr",
     "output_type": "stream",
     "text": [
      "Epoch 1 - Training:  35%|███▌      | 682/1940 [05:59<10:31,  1.99it/s]"
     ]
    },
    {
     "name": "stdout",
     "output_type": "stream",
     "text": [
      "AFTER ENCODER PREP:  0.9449509382247925\n",
      "AFTER ENCODER:  0.6470730900764465\n"
     ]
    },
    {
     "name": "stderr",
     "output_type": "stream",
     "text": [
      "Epoch 1 - Training:  35%|███▌      | 683/1940 [05:59<10:44,  1.95it/s]"
     ]
    },
    {
     "name": "stdout",
     "output_type": "stream",
     "text": [
      "AFTER ENCODER PREP:  0.9439053535461426\n",
      "AFTER ENCODER:  0.7246418595314026\n"
     ]
    },
    {
     "name": "stderr",
     "output_type": "stream",
     "text": [
      "Epoch 1 - Training:  35%|███▌      | 684/1940 [06:00<10:37,  1.97it/s]"
     ]
    },
    {
     "name": "stdout",
     "output_type": "stream",
     "text": [
      "AFTER ENCODER PREP:  0.9370208382606506\n",
      "AFTER ENCODER:  0.7600027918815613\n"
     ]
    },
    {
     "name": "stderr",
     "output_type": "stream",
     "text": [
      "Epoch 1 - Training:  35%|███▌      | 685/1940 [06:00<10:52,  1.92it/s]"
     ]
    },
    {
     "name": "stdout",
     "output_type": "stream",
     "text": [
      "AFTER ENCODER PREP:  0.9605987668037415\n",
      "AFTER ENCODER:  0.8540328145027161\n"
     ]
    },
    {
     "name": "stderr",
     "output_type": "stream",
     "text": [
      "Epoch 1 - Training:  35%|███▌      | 686/1940 [06:01<10:44,  1.95it/s]"
     ]
    },
    {
     "name": "stdout",
     "output_type": "stream",
     "text": [
      "AFTER ENCODER PREP:  0.9466332197189331\n",
      "AFTER ENCODER:  0.6966663599014282\n"
     ]
    },
    {
     "name": "stderr",
     "output_type": "stream",
     "text": [
      "Epoch 1 - Training:  35%|███▌      | 687/1940 [06:01<10:38,  1.96it/s]"
     ]
    },
    {
     "name": "stdout",
     "output_type": "stream",
     "text": [
      "AFTER ENCODER PREP:  0.9539545774459839\n",
      "AFTER ENCODER:  0.6894071102142334\n"
     ]
    },
    {
     "name": "stderr",
     "output_type": "stream",
     "text": [
      "Epoch 1 - Training:  35%|███▌      | 688/1940 [06:02<10:22,  2.01it/s]"
     ]
    },
    {
     "name": "stdout",
     "output_type": "stream",
     "text": [
      "AFTER ENCODER PREP:  0.9414030909538269\n",
      "AFTER ENCODER:  0.7080550193786621\n"
     ]
    },
    {
     "name": "stderr",
     "output_type": "stream",
     "text": [
      "Epoch 1 - Training:  36%|███▌      | 689/1940 [06:02<10:13,  2.04it/s]"
     ]
    },
    {
     "name": "stdout",
     "output_type": "stream",
     "text": [
      "AFTER ENCODER PREP:  0.9597095251083374\n",
      "AFTER ENCODER:  0.8311026692390442\n"
     ]
    },
    {
     "name": "stderr",
     "output_type": "stream",
     "text": [
      "Epoch 1 - Training:  36%|███▌      | 690/1940 [06:03<10:38,  1.96it/s]"
     ]
    },
    {
     "name": "stdout",
     "output_type": "stream",
     "text": [
      "AFTER ENCODER PREP:  0.9418795704841614\n",
      "AFTER ENCODER:  0.8020060062408447\n"
     ]
    },
    {
     "name": "stderr",
     "output_type": "stream",
     "text": [
      "Epoch 1 - Training:  36%|███▌      | 691/1940 [06:03<10:29,  1.98it/s]"
     ]
    },
    {
     "name": "stdout",
     "output_type": "stream",
     "text": [
      "AFTER ENCODER PREP:  0.9425983428955078\n",
      "AFTER ENCODER:  0.750382125377655\n"
     ]
    },
    {
     "name": "stderr",
     "output_type": "stream",
     "text": [
      "Epoch 1 - Training:  36%|███▌      | 692/1940 [06:04<10:19,  2.01it/s]"
     ]
    },
    {
     "name": "stdout",
     "output_type": "stream",
     "text": [
      "AFTER ENCODER PREP:  0.9278531074523926\n",
      "AFTER ENCODER:  0.6975811123847961\n"
     ]
    },
    {
     "name": "stderr",
     "output_type": "stream",
     "text": [
      "Epoch 1 - Training:  36%|███▌      | 693/1940 [06:04<10:41,  1.94it/s]"
     ]
    },
    {
     "name": "stdout",
     "output_type": "stream",
     "text": [
      "AFTER ENCODER PREP:  0.9387572407722473\n",
      "AFTER ENCODER:  0.7411778569221497\n"
     ]
    },
    {
     "name": "stderr",
     "output_type": "stream",
     "text": [
      "Epoch 1 - Training:  36%|███▌      | 694/1940 [06:05<10:33,  1.97it/s]"
     ]
    },
    {
     "name": "stdout",
     "output_type": "stream",
     "text": [
      "AFTER ENCODER PREP:  0.9466990828514099\n",
      "AFTER ENCODER:  0.749150276184082\n"
     ]
    },
    {
     "name": "stderr",
     "output_type": "stream",
     "text": [
      "Epoch 1 - Training:  36%|███▌      | 695/1940 [06:05<10:24,  1.99it/s]"
     ]
    },
    {
     "name": "stdout",
     "output_type": "stream",
     "text": [
      "AFTER ENCODER PREP:  0.9216756820678711\n",
      "AFTER ENCODER:  0.6070453524589539\n"
     ]
    },
    {
     "name": "stderr",
     "output_type": "stream",
     "text": [
      "Epoch 1 - Training:  36%|███▌      | 696/1940 [06:06<10:09,  2.04it/s]"
     ]
    },
    {
     "name": "stdout",
     "output_type": "stream",
     "text": [
      "AFTER ENCODER PREP:  0.949743926525116\n",
      "AFTER ENCODER:  0.7093400955200195\n"
     ]
    },
    {
     "name": "stderr",
     "output_type": "stream",
     "text": [
      "Epoch 1 - Training:  36%|███▌      | 697/1940 [06:06<10:02,  2.06it/s]"
     ]
    },
    {
     "name": "stdout",
     "output_type": "stream",
     "text": [
      "AFTER ENCODER PREP:  0.9159219861030579\n",
      "AFTER ENCODER:  0.6682119369506836\n"
     ]
    },
    {
     "name": "stderr",
     "output_type": "stream",
     "text": [
      "Epoch 1 - Training:  36%|███▌      | 698/1940 [06:07<09:53,  2.09it/s]"
     ]
    },
    {
     "name": "stdout",
     "output_type": "stream",
     "text": [
      "AFTER ENCODER PREP:  0.946850061416626\n",
      "AFTER ENCODER:  0.8220553994178772\n"
     ]
    },
    {
     "name": "stderr",
     "output_type": "stream",
     "text": [
      "Epoch 1 - Training:  36%|███▌      | 699/1940 [06:07<09:55,  2.09it/s]"
     ]
    },
    {
     "name": "stdout",
     "output_type": "stream",
     "text": [
      "AFTER ENCODER PREP:  0.9461222887039185\n",
      "AFTER ENCODER:  0.6679173111915588\n"
     ]
    },
    {
     "name": "stderr",
     "output_type": "stream",
     "text": [
      "Epoch 1 - Training:  36%|███▌      | 700/1940 [06:08<09:56,  2.08it/s]"
     ]
    },
    {
     "name": "stdout",
     "output_type": "stream",
     "text": [
      "AFTER ENCODER PREP:  0.9355610609054565\n",
      "AFTER ENCODER:  0.6726102232933044\n"
     ]
    },
    {
     "name": "stderr",
     "output_type": "stream",
     "text": [
      "Epoch 1 - Training:  36%|███▌      | 701/1940 [06:08<09:50,  2.10it/s]"
     ]
    },
    {
     "name": "stdout",
     "output_type": "stream",
     "text": [
      "AFTER ENCODER PREP:  0.9467363357543945\n",
      "AFTER ENCODER:  0.8457955718040466\n"
     ]
    },
    {
     "name": "stderr",
     "output_type": "stream",
     "text": [
      "Epoch 1 - Training:  36%|███▌      | 702/1940 [06:09<10:54,  1.89it/s]"
     ]
    },
    {
     "name": "stdout",
     "output_type": "stream",
     "text": [
      "AFTER ENCODER PREP:  0.9535730481147766\n",
      "AFTER ENCODER:  0.826434314250946\n"
     ]
    },
    {
     "name": "stderr",
     "output_type": "stream",
     "text": [
      "Epoch 1 - Training:  36%|███▌      | 703/1940 [06:09<10:33,  1.95it/s]"
     ]
    },
    {
     "name": "stdout",
     "output_type": "stream",
     "text": [
      "AFTER ENCODER PREP:  0.9448169469833374\n",
      "AFTER ENCODER:  0.8299601078033447\n"
     ]
    },
    {
     "name": "stderr",
     "output_type": "stream",
     "text": [
      "Epoch 1 - Training:  36%|███▋      | 704/1940 [06:10<10:26,  1.97it/s]"
     ]
    },
    {
     "name": "stdout",
     "output_type": "stream",
     "text": [
      "AFTER ENCODER PREP:  0.9439272880554199\n",
      "AFTER ENCODER:  0.7490561604499817\n"
     ]
    },
    {
     "name": "stderr",
     "output_type": "stream",
     "text": [
      "Epoch 1 - Training:  36%|███▋      | 705/1940 [06:10<10:18,  2.00it/s]"
     ]
    },
    {
     "name": "stdout",
     "output_type": "stream",
     "text": [
      "AFTER ENCODER PREP:  0.9430578351020813\n",
      "AFTER ENCODER:  0.7123929262161255\n"
     ]
    },
    {
     "name": "stderr",
     "output_type": "stream",
     "text": [
      "Epoch 1 - Training:  36%|███▋      | 706/1940 [06:11<10:03,  2.04it/s]"
     ]
    },
    {
     "name": "stdout",
     "output_type": "stream",
     "text": [
      "AFTER ENCODER PREP:  0.944846510887146\n",
      "AFTER ENCODER:  0.7280691862106323\n"
     ]
    },
    {
     "name": "stderr",
     "output_type": "stream",
     "text": [
      "Epoch 1 - Training:  36%|███▋      | 707/1940 [06:11<10:01,  2.05it/s]"
     ]
    },
    {
     "name": "stdout",
     "output_type": "stream",
     "text": [
      "AFTER ENCODER PREP:  0.9468954205513\n",
      "AFTER ENCODER:  0.6186704635620117\n"
     ]
    },
    {
     "name": "stderr",
     "output_type": "stream",
     "text": [
      "Epoch 1 - Training:  36%|███▋      | 708/1940 [06:12<09:59,  2.06it/s]"
     ]
    },
    {
     "name": "stdout",
     "output_type": "stream",
     "text": [
      "AFTER ENCODER PREP:  0.9343332648277283\n",
      "AFTER ENCODER:  0.7398209571838379\n"
     ]
    },
    {
     "name": "stderr",
     "output_type": "stream",
     "text": [
      "Epoch 1 - Training:  37%|███▋      | 709/1940 [06:12<10:09,  2.02it/s]"
     ]
    },
    {
     "name": "stdout",
     "output_type": "stream",
     "text": [
      "AFTER ENCODER PREP:  0.948246955871582\n",
      "AFTER ENCODER:  0.840313732624054\n"
     ]
    },
    {
     "name": "stderr",
     "output_type": "stream",
     "text": [
      "Epoch 1 - Training:  37%|███▋      | 710/1940 [06:13<10:11,  2.01it/s]"
     ]
    },
    {
     "name": "stdout",
     "output_type": "stream",
     "text": [
      "AFTER ENCODER PREP:  0.9275230169296265\n",
      "AFTER ENCODER:  0.7007375955581665\n"
     ]
    },
    {
     "name": "stderr",
     "output_type": "stream",
     "text": [
      "Epoch 1 - Training:  37%|███▋      | 711/1940 [06:13<10:04,  2.03it/s]"
     ]
    },
    {
     "name": "stdout",
     "output_type": "stream",
     "text": [
      "AFTER ENCODER PREP:  0.9322580695152283\n",
      "AFTER ENCODER:  0.6481041312217712\n"
     ]
    },
    {
     "name": "stderr",
     "output_type": "stream",
     "text": [
      "Epoch 1 - Training:  37%|███▋      | 712/1940 [06:14<09:58,  2.05it/s]"
     ]
    },
    {
     "name": "stdout",
     "output_type": "stream",
     "text": [
      "AFTER ENCODER PREP:  0.9498129487037659\n",
      "AFTER ENCODER:  0.829609215259552\n"
     ]
    },
    {
     "name": "stderr",
     "output_type": "stream",
     "text": [
      "Epoch 1 - Training:  37%|███▋      | 713/1940 [06:14<10:24,  1.96it/s]"
     ]
    },
    {
     "name": "stdout",
     "output_type": "stream",
     "text": [
      "AFTER ENCODER PREP:  0.9331968426704407\n",
      "AFTER ENCODER:  0.6697859764099121\n"
     ]
    },
    {
     "name": "stderr",
     "output_type": "stream",
     "text": [
      "Epoch 1 - Training:  37%|███▋      | 714/1940 [06:15<10:14,  1.99it/s]"
     ]
    },
    {
     "name": "stdout",
     "output_type": "stream",
     "text": [
      "AFTER ENCODER PREP:  0.9484816789627075\n",
      "AFTER ENCODER:  0.6690853834152222\n"
     ]
    },
    {
     "name": "stderr",
     "output_type": "stream",
     "text": [
      "Epoch 1 - Training:  37%|███▋      | 715/1940 [06:15<10:14,  1.99it/s]"
     ]
    },
    {
     "name": "stdout",
     "output_type": "stream",
     "text": [
      "AFTER ENCODER PREP:  0.9454795718193054\n",
      "AFTER ENCODER:  0.6623079776763916\n"
     ]
    },
    {
     "name": "stderr",
     "output_type": "stream",
     "text": [
      "Epoch 1 - Training:  37%|███▋      | 716/1940 [06:16<10:12,  2.00it/s]"
     ]
    },
    {
     "name": "stdout",
     "output_type": "stream",
     "text": [
      "AFTER ENCODER PREP:  0.958695650100708\n",
      "AFTER ENCODER:  0.7614735960960388\n"
     ]
    },
    {
     "name": "stderr",
     "output_type": "stream",
     "text": [
      "Epoch 1 - Training:  37%|███▋      | 717/1940 [06:16<10:02,  2.03it/s]"
     ]
    },
    {
     "name": "stdout",
     "output_type": "stream",
     "text": [
      "AFTER ENCODER PREP:  0.9405517578125\n",
      "AFTER ENCODER:  0.6485860347747803\n"
     ]
    },
    {
     "name": "stderr",
     "output_type": "stream",
     "text": [
      "Epoch 1 - Training:  37%|███▋      | 718/1940 [06:17<10:15,  1.98it/s]"
     ]
    },
    {
     "name": "stdout",
     "output_type": "stream",
     "text": [
      "AFTER ENCODER PREP:  0.9075009226799011\n",
      "AFTER ENCODER:  0.6398608684539795\n"
     ]
    },
    {
     "name": "stderr",
     "output_type": "stream",
     "text": [
      "Epoch 1 - Training:  37%|███▋      | 719/1940 [06:17<10:09,  2.00it/s]"
     ]
    },
    {
     "name": "stdout",
     "output_type": "stream",
     "text": [
      "AFTER ENCODER PREP:  0.9388624429702759\n",
      "AFTER ENCODER:  0.7136967778205872\n"
     ]
    },
    {
     "name": "stderr",
     "output_type": "stream",
     "text": [
      "Epoch 1 - Training:  37%|███▋      | 720/1940 [06:18<10:00,  2.03it/s]"
     ]
    },
    {
     "name": "stdout",
     "output_type": "stream",
     "text": [
      "AFTER ENCODER PREP:  0.9371742606163025\n",
      "AFTER ENCODER:  0.7178378105163574\n"
     ]
    },
    {
     "name": "stderr",
     "output_type": "stream",
     "text": [
      "Epoch 1 - Training:  37%|███▋      | 721/1940 [06:18<09:46,  2.08it/s]"
     ]
    },
    {
     "name": "stdout",
     "output_type": "stream",
     "text": [
      "AFTER ENCODER PREP:  0.9586906433105469\n",
      "AFTER ENCODER:  0.7552539706230164\n"
     ]
    },
    {
     "name": "stderr",
     "output_type": "stream",
     "text": [
      "Epoch 1 - Training:  37%|███▋      | 722/1940 [06:19<09:44,  2.08it/s]"
     ]
    },
    {
     "name": "stdout",
     "output_type": "stream",
     "text": [
      "AFTER ENCODER PREP:  0.9576089382171631\n",
      "AFTER ENCODER:  0.813696026802063\n"
     ]
    },
    {
     "name": "stderr",
     "output_type": "stream",
     "text": [
      "Epoch 1 - Training:  37%|███▋      | 723/1940 [06:19<09:39,  2.10it/s]"
     ]
    },
    {
     "name": "stdout",
     "output_type": "stream",
     "text": [
      "AFTER ENCODER PREP:  0.9316379427909851\n",
      "AFTER ENCODER:  0.7788689732551575\n"
     ]
    },
    {
     "name": "stderr",
     "output_type": "stream",
     "text": [
      "Epoch 1 - Training:  37%|███▋      | 724/1940 [06:20<10:18,  1.97it/s]"
     ]
    },
    {
     "name": "stdout",
     "output_type": "stream",
     "text": [
      "AFTER ENCODER PREP:  0.9539135098457336\n",
      "AFTER ENCODER:  0.7894365787506104\n"
     ]
    },
    {
     "name": "stderr",
     "output_type": "stream",
     "text": [
      "Epoch 1 - Training:  37%|███▋      | 725/1940 [06:20<10:12,  1.98it/s]"
     ]
    },
    {
     "name": "stdout",
     "output_type": "stream",
     "text": [
      "AFTER ENCODER PREP:  0.9313073754310608\n",
      "AFTER ENCODER:  0.6593663096427917\n"
     ]
    },
    {
     "name": "stderr",
     "output_type": "stream",
     "text": [
      "Epoch 1 - Training:  37%|███▋      | 726/1940 [06:21<10:17,  1.97it/s]"
     ]
    },
    {
     "name": "stdout",
     "output_type": "stream",
     "text": [
      "AFTER ENCODER PREP:  0.9409517645835876\n",
      "AFTER ENCODER:  0.7619104385375977\n"
     ]
    },
    {
     "name": "stderr",
     "output_type": "stream",
     "text": [
      "Epoch 1 - Training:  37%|███▋      | 727/1940 [06:21<10:11,  1.98it/s]"
     ]
    },
    {
     "name": "stdout",
     "output_type": "stream",
     "text": [
      "AFTER ENCODER PREP:  0.9505738019943237\n",
      "AFTER ENCODER:  0.737676203250885\n"
     ]
    },
    {
     "name": "stderr",
     "output_type": "stream",
     "text": [
      "Epoch 1 - Training:  38%|███▊      | 728/1940 [06:22<10:07,  2.00it/s]"
     ]
    },
    {
     "name": "stdout",
     "output_type": "stream",
     "text": [
      "AFTER ENCODER PREP:  0.9395056366920471\n",
      "AFTER ENCODER:  0.7609426975250244\n"
     ]
    },
    {
     "name": "stderr",
     "output_type": "stream",
     "text": [
      "Epoch 1 - Training:  38%|███▊      | 729/1940 [06:22<10:06,  2.00it/s]"
     ]
    },
    {
     "name": "stdout",
     "output_type": "stream",
     "text": [
      "AFTER ENCODER PREP:  0.9355100393295288\n",
      "AFTER ENCODER:  0.6536776423454285\n"
     ]
    },
    {
     "name": "stderr",
     "output_type": "stream",
     "text": [
      "Epoch 1 - Training:  38%|███▊      | 730/1940 [06:22<09:43,  2.07it/s]"
     ]
    },
    {
     "name": "stdout",
     "output_type": "stream",
     "text": [
      "AFTER ENCODER PREP:  0.9433368444442749\n",
      "AFTER ENCODER:  0.7285771369934082\n"
     ]
    },
    {
     "name": "stderr",
     "output_type": "stream",
     "text": [
      "Epoch 1 - Training:  38%|███▊      | 731/1940 [06:23<09:35,  2.10it/s]"
     ]
    },
    {
     "name": "stdout",
     "output_type": "stream",
     "text": [
      "AFTER ENCODER PREP:  0.9507962465286255\n",
      "AFTER ENCODER:  0.7919155359268188\n"
     ]
    },
    {
     "name": "stderr",
     "output_type": "stream",
     "text": [
      "Epoch 1 - Training:  38%|███▊      | 732/1940 [06:23<09:48,  2.05it/s]"
     ]
    },
    {
     "name": "stdout",
     "output_type": "stream",
     "text": [
      "AFTER ENCODER PREP:  0.9341761469841003\n",
      "AFTER ENCODER:  0.6945295333862305\n"
     ]
    },
    {
     "name": "stderr",
     "output_type": "stream",
     "text": [
      "Epoch 1 - Training:  38%|███▊      | 733/1940 [06:24<09:51,  2.04it/s]"
     ]
    },
    {
     "name": "stdout",
     "output_type": "stream",
     "text": [
      "AFTER ENCODER PREP:  0.9370008111000061\n",
      "AFTER ENCODER:  0.676323652267456\n"
     ]
    },
    {
     "name": "stderr",
     "output_type": "stream",
     "text": [
      "Epoch 1 - Training:  38%|███▊      | 734/1940 [06:25<10:40,  1.88it/s]"
     ]
    },
    {
     "name": "stdout",
     "output_type": "stream",
     "text": [
      "AFTER ENCODER PREP:  0.9577250480651855\n",
      "AFTER ENCODER:  0.7670220136642456\n"
     ]
    },
    {
     "name": "stderr",
     "output_type": "stream",
     "text": [
      "Epoch 1 - Training:  38%|███▊      | 735/1940 [06:25<10:21,  1.94it/s]"
     ]
    },
    {
     "name": "stdout",
     "output_type": "stream",
     "text": [
      "AFTER ENCODER PREP:  0.939241886138916\n",
      "AFTER ENCODER:  0.6453264951705933\n"
     ]
    },
    {
     "name": "stderr",
     "output_type": "stream",
     "text": [
      "Epoch 1 - Training:  38%|███▊      | 736/1940 [06:26<10:15,  1.96it/s]"
     ]
    },
    {
     "name": "stdout",
     "output_type": "stream",
     "text": [
      "AFTER ENCODER PREP:  0.9494943618774414\n",
      "AFTER ENCODER:  0.7760130167007446\n"
     ]
    },
    {
     "name": "stderr",
     "output_type": "stream",
     "text": [
      "Epoch 1 - Training:  38%|███▊      | 737/1940 [06:26<10:04,  1.99it/s]"
     ]
    },
    {
     "name": "stdout",
     "output_type": "stream",
     "text": [
      "AFTER ENCODER PREP:  0.9357595443725586\n",
      "AFTER ENCODER:  0.5617598295211792\n"
     ]
    },
    {
     "name": "stderr",
     "output_type": "stream",
     "text": [
      "Epoch 1 - Training:  38%|███▊      | 738/1940 [06:27<09:58,  2.01it/s]"
     ]
    },
    {
     "name": "stdout",
     "output_type": "stream",
     "text": [
      "AFTER ENCODER PREP:  0.9461632966995239\n",
      "AFTER ENCODER:  0.672529399394989\n"
     ]
    },
    {
     "name": "stderr",
     "output_type": "stream",
     "text": [
      "Epoch 1 - Training:  38%|███▊      | 739/1940 [06:27<09:50,  2.04it/s]"
     ]
    },
    {
     "name": "stdout",
     "output_type": "stream",
     "text": [
      "AFTER ENCODER PREP:  0.9427258968353271\n",
      "AFTER ENCODER:  0.7415289282798767\n"
     ]
    },
    {
     "name": "stderr",
     "output_type": "stream",
     "text": [
      "Epoch 1 - Training:  38%|███▊      | 740/1940 [06:28<09:44,  2.05it/s]"
     ]
    },
    {
     "name": "stdout",
     "output_type": "stream",
     "text": [
      "AFTER ENCODER PREP:  0.9222082495689392\n",
      "AFTER ENCODER:  0.6227506995201111\n"
     ]
    },
    {
     "name": "stderr",
     "output_type": "stream",
     "text": [
      "Epoch 1 - Training:  38%|███▊      | 741/1940 [06:28<09:40,  2.07it/s]"
     ]
    },
    {
     "name": "stdout",
     "output_type": "stream",
     "text": [
      "AFTER ENCODER PREP:  0.9351304769515991\n",
      "AFTER ENCODER:  0.6778649091720581\n"
     ]
    },
    {
     "name": "stderr",
     "output_type": "stream",
     "text": [
      "Epoch 1 - Training:  38%|███▊      | 742/1940 [06:28<09:51,  2.02it/s]"
     ]
    },
    {
     "name": "stdout",
     "output_type": "stream",
     "text": [
      "AFTER ENCODER PREP:  0.9255989789962769\n",
      "AFTER ENCODER:  0.6125950217247009\n"
     ]
    },
    {
     "name": "stderr",
     "output_type": "stream",
     "text": [
      "Epoch 1 - Training:  38%|███▊      | 743/1940 [06:29<10:29,  1.90it/s]"
     ]
    },
    {
     "name": "stdout",
     "output_type": "stream",
     "text": [
      "AFTER ENCODER PREP:  0.9525903463363647\n",
      "AFTER ENCODER:  0.816231906414032\n"
     ]
    },
    {
     "name": "stderr",
     "output_type": "stream",
     "text": [
      "Epoch 1 - Training:  38%|███▊      | 744/1940 [06:30<10:08,  1.97it/s]"
     ]
    },
    {
     "name": "stdout",
     "output_type": "stream",
     "text": [
      "AFTER ENCODER PREP:  0.9548618793487549\n",
      "AFTER ENCODER:  0.7947352528572083\n"
     ]
    },
    {
     "name": "stderr",
     "output_type": "stream",
     "text": [
      "Epoch 1 - Training:  38%|███▊      | 745/1940 [06:30<10:06,  1.97it/s]"
     ]
    },
    {
     "name": "stdout",
     "output_type": "stream",
     "text": [
      "AFTER ENCODER PREP:  0.9297449588775635\n",
      "AFTER ENCODER:  0.6375380754470825\n"
     ]
    },
    {
     "name": "stderr",
     "output_type": "stream",
     "text": [
      "Epoch 1 - Training:  38%|███▊      | 746/1940 [06:31<09:55,  2.01it/s]"
     ]
    },
    {
     "name": "stdout",
     "output_type": "stream",
     "text": [
      "AFTER ENCODER PREP:  0.9429140686988831\n",
      "AFTER ENCODER:  0.6460038423538208\n"
     ]
    },
    {
     "name": "stderr",
     "output_type": "stream",
     "text": [
      "Epoch 1 - Training:  39%|███▊      | 747/1940 [06:31<09:46,  2.03it/s]"
     ]
    },
    {
     "name": "stdout",
     "output_type": "stream",
     "text": [
      "AFTER ENCODER PREP:  0.9376989006996155\n",
      "AFTER ENCODER:  0.6644363403320312\n"
     ]
    },
    {
     "name": "stderr",
     "output_type": "stream",
     "text": [
      "Epoch 1 - Training:  39%|███▊      | 748/1940 [06:32<09:49,  2.02it/s]"
     ]
    },
    {
     "name": "stdout",
     "output_type": "stream",
     "text": [
      "AFTER ENCODER PREP:  0.9333623051643372\n",
      "AFTER ENCODER:  0.7216683626174927\n"
     ]
    },
    {
     "name": "stderr",
     "output_type": "stream",
     "text": [
      "Epoch 1 - Training:  39%|███▊      | 749/1940 [06:32<10:16,  1.93it/s]"
     ]
    },
    {
     "name": "stdout",
     "output_type": "stream",
     "text": [
      "AFTER ENCODER PREP:  0.9287961721420288\n",
      "AFTER ENCODER:  0.6938524842262268\n"
     ]
    },
    {
     "name": "stderr",
     "output_type": "stream",
     "text": [
      "Epoch 1 - Training:  39%|███▊      | 750/1940 [06:33<10:10,  1.95it/s]"
     ]
    },
    {
     "name": "stdout",
     "output_type": "stream",
     "text": [
      "AFTER ENCODER PREP:  0.9468563795089722\n",
      "AFTER ENCODER:  0.7994247078895569\n"
     ]
    },
    {
     "name": "stderr",
     "output_type": "stream",
     "text": [
      "Epoch 1 - Training:  39%|███▊      | 751/1940 [06:33<09:59,  1.98it/s]"
     ]
    },
    {
     "name": "stdout",
     "output_type": "stream",
     "text": [
      "AFTER ENCODER PREP:  0.9555325508117676\n",
      "AFTER ENCODER:  0.8096309304237366\n"
     ]
    },
    {
     "name": "stderr",
     "output_type": "stream",
     "text": [
      "Epoch 1 - Training:  39%|███▉      | 752/1940 [06:34<10:26,  1.90it/s]"
     ]
    },
    {
     "name": "stdout",
     "output_type": "stream",
     "text": [
      "AFTER ENCODER PREP:  0.9351639151573181\n",
      "AFTER ENCODER:  0.6418206095695496\n"
     ]
    },
    {
     "name": "stderr",
     "output_type": "stream",
     "text": [
      "Epoch 1 - Training:  39%|███▉      | 753/1940 [06:34<10:10,  1.94it/s]"
     ]
    },
    {
     "name": "stdout",
     "output_type": "stream",
     "text": [
      "AFTER ENCODER PREP:  0.9469040632247925\n",
      "AFTER ENCODER:  0.7735345363616943\n"
     ]
    },
    {
     "name": "stderr",
     "output_type": "stream",
     "text": [
      "Epoch 1 - Training:  39%|███▉      | 754/1940 [06:35<10:10,  1.94it/s]"
     ]
    },
    {
     "name": "stdout",
     "output_type": "stream",
     "text": [
      "AFTER ENCODER PREP:  0.9383984208106995\n",
      "AFTER ENCODER:  0.800961971282959\n"
     ]
    },
    {
     "name": "stderr",
     "output_type": "stream",
     "text": [
      "Epoch 1 - Training:  39%|███▉      | 755/1940 [06:35<09:41,  2.04it/s]"
     ]
    },
    {
     "name": "stdout",
     "output_type": "stream",
     "text": [
      "AFTER ENCODER PREP:  0.9383242130279541\n",
      "AFTER ENCODER:  0.6206405162811279\n"
     ]
    },
    {
     "name": "stderr",
     "output_type": "stream",
     "text": [
      "Epoch 1 - Training:  39%|███▉      | 756/1940 [06:36<09:50,  2.01it/s]"
     ]
    },
    {
     "name": "stdout",
     "output_type": "stream",
     "text": [
      "AFTER ENCODER PREP:  0.9544619917869568\n",
      "AFTER ENCODER:  0.7551872134208679\n"
     ]
    },
    {
     "name": "stderr",
     "output_type": "stream",
     "text": [
      "Epoch 1 - Training:  39%|███▉      | 757/1940 [06:36<09:56,  1.98it/s]"
     ]
    },
    {
     "name": "stdout",
     "output_type": "stream",
     "text": [
      "AFTER ENCODER PREP:  0.9372239112854004\n",
      "AFTER ENCODER:  0.6939544081687927\n"
     ]
    },
    {
     "name": "stderr",
     "output_type": "stream",
     "text": [
      "Epoch 1 - Training:  39%|███▉      | 758/1940 [06:37<09:42,  2.03it/s]"
     ]
    },
    {
     "name": "stdout",
     "output_type": "stream",
     "text": [
      "AFTER ENCODER PREP:  0.9542160630226135\n",
      "AFTER ENCODER:  0.7458368539810181\n"
     ]
    },
    {
     "name": "stderr",
     "output_type": "stream",
     "text": [
      "Epoch 1 - Training:  39%|███▉      | 759/1940 [06:37<09:52,  1.99it/s]"
     ]
    },
    {
     "name": "stdout",
     "output_type": "stream",
     "text": [
      "AFTER ENCODER PREP:  0.9458768367767334\n",
      "AFTER ENCODER:  0.6356065273284912\n"
     ]
    },
    {
     "name": "stderr",
     "output_type": "stream",
     "text": [
      "Epoch 1 - Training:  39%|███▉      | 760/1940 [06:38<09:40,  2.03it/s]"
     ]
    },
    {
     "name": "stdout",
     "output_type": "stream",
     "text": [
      "AFTER ENCODER PREP:  0.9560931921005249\n",
      "AFTER ENCODER:  0.8183894157409668\n"
     ]
    },
    {
     "name": "stderr",
     "output_type": "stream",
     "text": [
      "Epoch 1 - Training:  39%|███▉      | 761/1940 [06:38<10:19,  1.90it/s]"
     ]
    },
    {
     "name": "stdout",
     "output_type": "stream",
     "text": [
      "AFTER ENCODER PREP:  0.9189608693122864\n",
      "AFTER ENCODER:  0.667970597743988\n"
     ]
    },
    {
     "name": "stderr",
     "output_type": "stream",
     "text": [
      "Epoch 1 - Training:  39%|███▉      | 762/1940 [06:39<10:26,  1.88it/s]"
     ]
    },
    {
     "name": "stdout",
     "output_type": "stream",
     "text": [
      "AFTER ENCODER PREP:  0.9562872648239136\n",
      "AFTER ENCODER:  0.8070555925369263\n"
     ]
    },
    {
     "name": "stderr",
     "output_type": "stream",
     "text": [
      "Epoch 1 - Training:  39%|███▉      | 763/1940 [06:39<10:33,  1.86it/s]"
     ]
    },
    {
     "name": "stdout",
     "output_type": "stream",
     "text": [
      "AFTER ENCODER PREP:  0.9521336555480957\n",
      "AFTER ENCODER:  0.6306260824203491\n"
     ]
    },
    {
     "name": "stderr",
     "output_type": "stream",
     "text": [
      "Epoch 1 - Training:  39%|███▉      | 764/1940 [06:40<10:27,  1.87it/s]"
     ]
    },
    {
     "name": "stdout",
     "output_type": "stream",
     "text": [
      "AFTER ENCODER PREP:  0.9483291506767273\n",
      "AFTER ENCODER:  0.5099809765815735\n"
     ]
    },
    {
     "name": "stderr",
     "output_type": "stream",
     "text": [
      "Epoch 1 - Training:  39%|███▉      | 765/1940 [06:40<10:14,  1.91it/s]"
     ]
    },
    {
     "name": "stdout",
     "output_type": "stream",
     "text": [
      "AFTER ENCODER PREP:  0.9360886812210083\n",
      "AFTER ENCODER:  0.6903281211853027\n"
     ]
    },
    {
     "name": "stderr",
     "output_type": "stream",
     "text": [
      "Epoch 1 - Training:  39%|███▉      | 766/1940 [06:41<10:12,  1.92it/s]"
     ]
    },
    {
     "name": "stdout",
     "output_type": "stream",
     "text": [
      "AFTER ENCODER PREP:  0.9507007598876953\n",
      "AFTER ENCODER:  0.6691725850105286\n"
     ]
    },
    {
     "name": "stderr",
     "output_type": "stream",
     "text": [
      "Epoch 1 - Training:  40%|███▉      | 767/1940 [06:41<09:58,  1.96it/s]"
     ]
    },
    {
     "name": "stdout",
     "output_type": "stream",
     "text": [
      "AFTER ENCODER PREP:  0.939226508140564\n",
      "AFTER ENCODER:  0.6950385570526123\n"
     ]
    },
    {
     "name": "stderr",
     "output_type": "stream",
     "text": [
      "Epoch 1 - Training:  40%|███▉      | 768/1940 [06:42<09:48,  1.99it/s]"
     ]
    },
    {
     "name": "stdout",
     "output_type": "stream",
     "text": [
      "AFTER ENCODER PREP:  0.9343780875205994\n",
      "AFTER ENCODER:  0.7337150573730469\n"
     ]
    },
    {
     "name": "stderr",
     "output_type": "stream",
     "text": [
      "Epoch 1 - Training:  40%|███▉      | 769/1940 [06:42<09:35,  2.03it/s]"
     ]
    },
    {
     "name": "stdout",
     "output_type": "stream",
     "text": [
      "AFTER ENCODER PREP:  0.9295756220817566\n",
      "AFTER ENCODER:  0.5681717395782471\n"
     ]
    },
    {
     "name": "stderr",
     "output_type": "stream",
     "text": [
      "Epoch 1 - Training:  40%|███▉      | 770/1940 [06:43<10:18,  1.89it/s]"
     ]
    },
    {
     "name": "stdout",
     "output_type": "stream",
     "text": [
      "AFTER ENCODER PREP:  0.9232305884361267\n",
      "AFTER ENCODER:  0.5262505412101746\n"
     ]
    },
    {
     "name": "stderr",
     "output_type": "stream",
     "text": [
      "Epoch 1 - Training:  40%|███▉      | 771/1940 [06:43<10:14,  1.90it/s]"
     ]
    },
    {
     "name": "stdout",
     "output_type": "stream",
     "text": [
      "AFTER ENCODER PREP:  0.9429099559783936\n",
      "AFTER ENCODER:  0.7479058504104614\n"
     ]
    },
    {
     "name": "stderr",
     "output_type": "stream",
     "text": [
      "Epoch 1 - Training:  40%|███▉      | 772/1940 [06:44<10:38,  1.83it/s]"
     ]
    },
    {
     "name": "stdout",
     "output_type": "stream",
     "text": [
      "AFTER ENCODER PREP:  0.9182806015014648\n",
      "AFTER ENCODER:  0.5712184309959412\n"
     ]
    },
    {
     "name": "stderr",
     "output_type": "stream",
     "text": [
      "Epoch 1 - Training:  40%|███▉      | 773/1940 [06:45<10:34,  1.84it/s]"
     ]
    },
    {
     "name": "stdout",
     "output_type": "stream",
     "text": [
      "AFTER ENCODER PREP:  0.9274663329124451\n",
      "AFTER ENCODER:  0.6285454034805298\n"
     ]
    },
    {
     "name": "stderr",
     "output_type": "stream",
     "text": [
      "Epoch 1 - Training:  40%|███▉      | 774/1940 [06:45<10:24,  1.87it/s]"
     ]
    },
    {
     "name": "stdout",
     "output_type": "stream",
     "text": [
      "AFTER ENCODER PREP:  0.9287481307983398\n",
      "AFTER ENCODER:  0.5788125395774841\n"
     ]
    },
    {
     "name": "stderr",
     "output_type": "stream",
     "text": [
      "Epoch 1 - Training:  40%|███▉      | 775/1940 [06:46<10:19,  1.88it/s]"
     ]
    },
    {
     "name": "stdout",
     "output_type": "stream",
     "text": [
      "AFTER ENCODER PREP:  0.9378311634063721\n",
      "AFTER ENCODER:  0.631706714630127\n"
     ]
    },
    {
     "name": "stderr",
     "output_type": "stream",
     "text": [
      "Epoch 1 - Training:  40%|████      | 776/1940 [06:46<10:06,  1.92it/s]"
     ]
    },
    {
     "name": "stdout",
     "output_type": "stream",
     "text": [
      "AFTER ENCODER PREP:  0.9485147595405579\n",
      "AFTER ENCODER:  0.805492103099823\n"
     ]
    },
    {
     "name": "stderr",
     "output_type": "stream",
     "text": [
      "Epoch 1 - Training:  40%|████      | 777/1940 [06:47<10:13,  1.89it/s]"
     ]
    },
    {
     "name": "stdout",
     "output_type": "stream",
     "text": [
      "AFTER ENCODER PREP:  0.9244953989982605\n",
      "AFTER ENCODER:  0.6569924354553223\n"
     ]
    },
    {
     "name": "stderr",
     "output_type": "stream",
     "text": [
      "Epoch 1 - Training:  40%|████      | 778/1940 [06:47<10:17,  1.88it/s]"
     ]
    },
    {
     "name": "stdout",
     "output_type": "stream",
     "text": [
      "AFTER ENCODER PREP:  0.9336527585983276\n",
      "AFTER ENCODER:  0.7204493880271912\n"
     ]
    },
    {
     "name": "stderr",
     "output_type": "stream",
     "text": [
      "Epoch 1 - Training:  40%|████      | 779/1940 [06:48<11:15,  1.72it/s]"
     ]
    },
    {
     "name": "stdout",
     "output_type": "stream",
     "text": [
      "AFTER ENCODER PREP:  0.926213800907135\n",
      "AFTER ENCODER:  0.6826504468917847\n"
     ]
    },
    {
     "name": "stderr",
     "output_type": "stream",
     "text": [
      "Epoch 1 - Training:  40%|████      | 780/1940 [06:48<11:02,  1.75it/s]"
     ]
    },
    {
     "name": "stdout",
     "output_type": "stream",
     "text": [
      "AFTER ENCODER PREP:  0.9262020587921143\n",
      "AFTER ENCODER:  0.5513553023338318\n"
     ]
    },
    {
     "name": "stderr",
     "output_type": "stream",
     "text": [
      "Epoch 1 - Training:  40%|████      | 781/1940 [06:49<10:44,  1.80it/s]"
     ]
    },
    {
     "name": "stdout",
     "output_type": "stream",
     "text": [
      "AFTER ENCODER PREP:  0.919291615486145\n",
      "AFTER ENCODER:  0.6635642647743225\n"
     ]
    },
    {
     "name": "stderr",
     "output_type": "stream",
     "text": [
      "Epoch 1 - Training:  40%|████      | 782/1940 [06:49<10:35,  1.82it/s]"
     ]
    },
    {
     "name": "stdout",
     "output_type": "stream",
     "text": [
      "AFTER ENCODER PREP:  0.9327040314674377\n",
      "AFTER ENCODER:  0.6199285387992859\n"
     ]
    },
    {
     "name": "stderr",
     "output_type": "stream",
     "text": [
      "Epoch 1 - Training:  40%|████      | 783/1940 [06:50<10:24,  1.85it/s]"
     ]
    },
    {
     "name": "stdout",
     "output_type": "stream",
     "text": [
      "AFTER ENCODER PREP:  0.9405983090400696\n",
      "AFTER ENCODER:  0.7068144083023071\n"
     ]
    },
    {
     "name": "stderr",
     "output_type": "stream",
     "text": [
      "Epoch 1 - Training:  40%|████      | 784/1940 [06:50<10:16,  1.88it/s]"
     ]
    },
    {
     "name": "stdout",
     "output_type": "stream",
     "text": [
      "AFTER ENCODER PREP:  0.9315927624702454\n",
      "AFTER ENCODER:  0.6924673914909363\n"
     ]
    },
    {
     "name": "stderr",
     "output_type": "stream",
     "text": [
      "Epoch 1 - Training:  40%|████      | 785/1940 [06:51<10:12,  1.89it/s]"
     ]
    },
    {
     "name": "stdout",
     "output_type": "stream",
     "text": [
      "AFTER ENCODER PREP:  0.9372705221176147\n",
      "AFTER ENCODER:  0.6729297041893005\n"
     ]
    },
    {
     "name": "stderr",
     "output_type": "stream",
     "text": [
      "Epoch 1 - Training:  41%|████      | 786/1940 [06:52<10:31,  1.83it/s]"
     ]
    },
    {
     "name": "stdout",
     "output_type": "stream",
     "text": [
      "AFTER ENCODER PREP:  0.923925518989563\n",
      "AFTER ENCODER:  0.6653253436088562\n"
     ]
    },
    {
     "name": "stderr",
     "output_type": "stream",
     "text": [
      "Epoch 1 - Training:  41%|████      | 787/1940 [06:52<10:27,  1.84it/s]"
     ]
    },
    {
     "name": "stdout",
     "output_type": "stream",
     "text": [
      "AFTER ENCODER PREP:  0.9570501446723938\n",
      "AFTER ENCODER:  0.8270086646080017\n"
     ]
    },
    {
     "name": "stderr",
     "output_type": "stream",
     "text": [
      "Epoch 1 - Training:  41%|████      | 788/1940 [06:53<10:56,  1.75it/s]"
     ]
    },
    {
     "name": "stdout",
     "output_type": "stream",
     "text": [
      "AFTER ENCODER PREP:  0.9412327408790588\n",
      "AFTER ENCODER:  0.8081322312355042\n"
     ]
    },
    {
     "name": "stderr",
     "output_type": "stream",
     "text": [
      "Epoch 1 - Training:  41%|████      | 789/1940 [06:53<10:35,  1.81it/s]"
     ]
    },
    {
     "name": "stdout",
     "output_type": "stream",
     "text": [
      "AFTER ENCODER PREP:  0.9355133771896362\n",
      "AFTER ENCODER:  0.7656489014625549\n"
     ]
    },
    {
     "name": "stderr",
     "output_type": "stream",
     "text": [
      "Epoch 1 - Training:  41%|████      | 790/1940 [06:54<10:20,  1.85it/s]"
     ]
    },
    {
     "name": "stdout",
     "output_type": "stream",
     "text": [
      "AFTER ENCODER PREP:  0.9317858219146729\n",
      "AFTER ENCODER:  0.7345549464225769\n"
     ]
    },
    {
     "name": "stderr",
     "output_type": "stream",
     "text": [
      "Epoch 1 - Training:  41%|████      | 791/1940 [06:54<10:11,  1.88it/s]"
     ]
    },
    {
     "name": "stdout",
     "output_type": "stream",
     "text": [
      "AFTER ENCODER PREP:  0.9312783479690552\n",
      "AFTER ENCODER:  0.7124927043914795\n"
     ]
    },
    {
     "name": "stderr",
     "output_type": "stream",
     "text": [
      "Epoch 1 - Training:  41%|████      | 792/1940 [06:55<10:07,  1.89it/s]"
     ]
    },
    {
     "name": "stdout",
     "output_type": "stream",
     "text": [
      "AFTER ENCODER PREP:  0.9341991543769836\n",
      "AFTER ENCODER:  0.7139754295349121\n"
     ]
    },
    {
     "name": "stderr",
     "output_type": "stream",
     "text": [
      "Epoch 1 - Training:  41%|████      | 793/1940 [06:55<10:06,  1.89it/s]"
     ]
    },
    {
     "name": "stdout",
     "output_type": "stream",
     "text": [
      "AFTER ENCODER PREP:  0.9331137537956238\n",
      "AFTER ENCODER:  0.7836853265762329\n"
     ]
    },
    {
     "name": "stderr",
     "output_type": "stream",
     "text": [
      "Epoch 1 - Training:  41%|████      | 794/1940 [06:56<10:12,  1.87it/s]"
     ]
    },
    {
     "name": "stdout",
     "output_type": "stream",
     "text": [
      "AFTER ENCODER PREP:  0.9334729909896851\n",
      "AFTER ENCODER:  0.666222333908081\n"
     ]
    },
    {
     "name": "stderr",
     "output_type": "stream",
     "text": [
      "Epoch 1 - Training:  41%|████      | 795/1940 [06:56<10:13,  1.87it/s]"
     ]
    },
    {
     "name": "stdout",
     "output_type": "stream",
     "text": [
      "AFTER ENCODER PREP:  0.9280967712402344\n",
      "AFTER ENCODER:  0.6307260394096375\n"
     ]
    },
    {
     "name": "stderr",
     "output_type": "stream",
     "text": [
      "Epoch 1 - Training:  41%|████      | 796/1940 [06:57<10:54,  1.75it/s]"
     ]
    },
    {
     "name": "stdout",
     "output_type": "stream",
     "text": [
      "AFTER ENCODER PREP:  0.93521648645401\n",
      "AFTER ENCODER:  0.6701096892356873\n"
     ]
    },
    {
     "name": "stderr",
     "output_type": "stream",
     "text": [
      "Epoch 1 - Training:  41%|████      | 797/1940 [06:58<10:38,  1.79it/s]"
     ]
    },
    {
     "name": "stdout",
     "output_type": "stream",
     "text": [
      "AFTER ENCODER PREP:  0.9338999390602112\n",
      "AFTER ENCODER:  0.7600177526473999\n"
     ]
    },
    {
     "name": "stderr",
     "output_type": "stream",
     "text": [
      "Epoch 1 - Training:  41%|████      | 798/1940 [06:58<10:15,  1.85it/s]"
     ]
    },
    {
     "name": "stdout",
     "output_type": "stream",
     "text": [
      "AFTER ENCODER PREP:  0.9411700367927551\n",
      "AFTER ENCODER:  0.6235899329185486\n"
     ]
    },
    {
     "name": "stderr",
     "output_type": "stream",
     "text": [
      "Epoch 1 - Training:  41%|████      | 799/1940 [06:59<10:19,  1.84it/s]"
     ]
    },
    {
     "name": "stdout",
     "output_type": "stream",
     "text": [
      "AFTER ENCODER PREP:  0.9385477304458618\n",
      "AFTER ENCODER:  0.7311329245567322\n"
     ]
    },
    {
     "name": "stderr",
     "output_type": "stream",
     "text": [
      "Epoch 1 - Training:  41%|████      | 800/1940 [06:59<10:35,  1.79it/s]"
     ]
    },
    {
     "name": "stdout",
     "output_type": "stream",
     "text": [
      "AFTER ENCODER PREP:  0.9285717010498047\n",
      "AFTER ENCODER:  0.6018465161323547\n"
     ]
    },
    {
     "name": "stderr",
     "output_type": "stream",
     "text": [
      "Epoch 1 - Training:  41%|████▏     | 801/1940 [07:00<11:51,  1.60it/s]"
     ]
    },
    {
     "name": "stdout",
     "output_type": "stream",
     "text": [
      "AFTER ENCODER PREP:  0.9426904320716858\n",
      "AFTER ENCODER:  0.7104712128639221\n"
     ]
    },
    {
     "name": "stderr",
     "output_type": "stream",
     "text": [
      "Epoch 1 - Training:  41%|████▏     | 802/1940 [07:01<12:10,  1.56it/s]"
     ]
    },
    {
     "name": "stdout",
     "output_type": "stream",
     "text": [
      "AFTER ENCODER PREP:  0.926932692527771\n",
      "AFTER ENCODER:  0.6954587697982788\n"
     ]
    },
    {
     "name": "stderr",
     "output_type": "stream",
     "text": [
      "Epoch 1 - Training:  41%|████▏     | 803/1940 [07:01<11:55,  1.59it/s]"
     ]
    },
    {
     "name": "stdout",
     "output_type": "stream",
     "text": [
      "AFTER ENCODER PREP:  0.9296835064888\n",
      "AFTER ENCODER:  0.6843457818031311\n"
     ]
    },
    {
     "name": "stderr",
     "output_type": "stream",
     "text": [
      "Epoch 1 - Training:  41%|████▏     | 804/1940 [07:02<11:52,  1.59it/s]"
     ]
    },
    {
     "name": "stdout",
     "output_type": "stream",
     "text": [
      "AFTER ENCODER PREP:  0.9264933466911316\n",
      "AFTER ENCODER:  0.7642723321914673\n"
     ]
    },
    {
     "name": "stderr",
     "output_type": "stream",
     "text": [
      "Epoch 1 - Training:  41%|████▏     | 805/1940 [07:02<11:08,  1.70it/s]"
     ]
    },
    {
     "name": "stdout",
     "output_type": "stream",
     "text": [
      "AFTER ENCODER PREP:  0.9443367123603821\n",
      "AFTER ENCODER:  0.741741418838501\n"
     ]
    },
    {
     "name": "stderr",
     "output_type": "stream",
     "text": [
      "Epoch 1 - Training:  42%|████▏     | 806/1940 [07:03<10:50,  1.74it/s]"
     ]
    },
    {
     "name": "stdout",
     "output_type": "stream",
     "text": [
      "AFTER ENCODER PREP:  0.9339296221733093\n",
      "AFTER ENCODER:  0.7527456283569336\n"
     ]
    },
    {
     "name": "stderr",
     "output_type": "stream",
     "text": [
      "Epoch 1 - Training:  42%|████▏     | 807/1940 [07:03<10:29,  1.80it/s]"
     ]
    },
    {
     "name": "stdout",
     "output_type": "stream",
     "text": [
      "AFTER ENCODER PREP:  0.9429186582565308\n",
      "AFTER ENCODER:  0.7371651530265808\n"
     ]
    },
    {
     "name": "stderr",
     "output_type": "stream",
     "text": [
      "Epoch 1 - Training:  42%|████▏     | 808/1940 [07:04<10:31,  1.79it/s]"
     ]
    },
    {
     "name": "stdout",
     "output_type": "stream",
     "text": [
      "AFTER ENCODER PREP:  0.9274547696113586\n",
      "AFTER ENCODER:  0.6604360342025757\n"
     ]
    },
    {
     "name": "stderr",
     "output_type": "stream",
     "text": [
      "Epoch 1 - Training:  42%|████▏     | 809/1940 [07:05<10:21,  1.82it/s]"
     ]
    },
    {
     "name": "stdout",
     "output_type": "stream",
     "text": [
      "AFTER ENCODER PREP:  0.9480520486831665\n",
      "AFTER ENCODER:  0.7955201864242554\n"
     ]
    },
    {
     "name": "stderr",
     "output_type": "stream",
     "text": [
      "Epoch 1 - Training:  42%|████▏     | 810/1940 [07:05<10:11,  1.85it/s]"
     ]
    },
    {
     "name": "stdout",
     "output_type": "stream",
     "text": [
      "AFTER ENCODER PREP:  0.949501097202301\n",
      "AFTER ENCODER:  0.7340067028999329\n"
     ]
    },
    {
     "name": "stderr",
     "output_type": "stream",
     "text": [
      "Epoch 1 - Training:  42%|████▏     | 811/1940 [07:06<10:07,  1.86it/s]"
     ]
    },
    {
     "name": "stdout",
     "output_type": "stream",
     "text": [
      "AFTER ENCODER PREP:  0.9381716251373291\n",
      "AFTER ENCODER:  0.6690247058868408\n"
     ]
    },
    {
     "name": "stderr",
     "output_type": "stream",
     "text": [
      "Epoch 1 - Training:  42%|████▏     | 812/1940 [07:06<10:23,  1.81it/s]"
     ]
    },
    {
     "name": "stdout",
     "output_type": "stream",
     "text": [
      "AFTER ENCODER PREP:  0.9291146993637085\n",
      "AFTER ENCODER:  0.7018190026283264\n"
     ]
    },
    {
     "name": "stderr",
     "output_type": "stream",
     "text": [
      "Epoch 1 - Training:  42%|████▏     | 813/1940 [07:07<10:10,  1.85it/s]"
     ]
    },
    {
     "name": "stdout",
     "output_type": "stream",
     "text": [
      "AFTER ENCODER PREP:  0.933182954788208\n",
      "AFTER ENCODER:  0.7324051260948181\n"
     ]
    },
    {
     "name": "stderr",
     "output_type": "stream",
     "text": [
      "Epoch 1 - Training:  42%|████▏     | 814/1940 [07:07<10:12,  1.84it/s]"
     ]
    },
    {
     "name": "stdout",
     "output_type": "stream",
     "text": [
      "AFTER ENCODER PREP:  0.9291444420814514\n",
      "AFTER ENCODER:  0.6222037076950073\n"
     ]
    },
    {
     "name": "stderr",
     "output_type": "stream",
     "text": [
      "Epoch 1 - Training:  42%|████▏     | 815/1940 [07:08<10:25,  1.80it/s]"
     ]
    },
    {
     "name": "stdout",
     "output_type": "stream",
     "text": [
      "AFTER ENCODER PREP:  0.9538971781730652\n",
      "AFTER ENCODER:  0.7001531720161438\n"
     ]
    },
    {
     "name": "stderr",
     "output_type": "stream",
     "text": [
      "Epoch 1 - Training:  42%|████▏     | 816/1940 [07:08<10:12,  1.84it/s]"
     ]
    },
    {
     "name": "stdout",
     "output_type": "stream",
     "text": [
      "AFTER ENCODER PREP:  0.9440479874610901\n",
      "AFTER ENCODER:  0.7193138599395752\n"
     ]
    },
    {
     "name": "stderr",
     "output_type": "stream",
     "text": [
      "Epoch 1 - Training:  42%|████▏     | 817/1940 [07:09<10:12,  1.83it/s]"
     ]
    },
    {
     "name": "stdout",
     "output_type": "stream",
     "text": [
      "AFTER ENCODER PREP:  0.9354872703552246\n",
      "AFTER ENCODER:  0.579352080821991\n"
     ]
    },
    {
     "name": "stderr",
     "output_type": "stream",
     "text": [
      "Epoch 1 - Training:  42%|████▏     | 818/1940 [07:09<10:05,  1.85it/s]"
     ]
    },
    {
     "name": "stdout",
     "output_type": "stream",
     "text": [
      "AFTER ENCODER PREP:  0.9263927340507507\n",
      "AFTER ENCODER:  0.6130590438842773\n"
     ]
    },
    {
     "name": "stderr",
     "output_type": "stream",
     "text": [
      "Epoch 1 - Training:  42%|████▏     | 819/1940 [07:10<09:50,  1.90it/s]"
     ]
    },
    {
     "name": "stdout",
     "output_type": "stream",
     "text": [
      "AFTER ENCODER PREP:  0.9361147284507751\n",
      "AFTER ENCODER:  0.6387605667114258\n"
     ]
    },
    {
     "name": "stderr",
     "output_type": "stream",
     "text": [
      "Epoch 1 - Training:  42%|████▏     | 820/1940 [07:10<09:50,  1.90it/s]"
     ]
    },
    {
     "name": "stdout",
     "output_type": "stream",
     "text": [
      "AFTER ENCODER PREP:  0.9302396774291992\n",
      "AFTER ENCODER:  0.7443797588348389\n"
     ]
    },
    {
     "name": "stderr",
     "output_type": "stream",
     "text": [
      "Epoch 1 - Training:  42%|████▏     | 821/1940 [07:11<10:21,  1.80it/s]"
     ]
    },
    {
     "name": "stdout",
     "output_type": "stream",
     "text": [
      "AFTER ENCODER PREP:  0.9321203231811523\n",
      "AFTER ENCODER:  0.722176730632782\n"
     ]
    },
    {
     "name": "stderr",
     "output_type": "stream",
     "text": [
      "Epoch 1 - Training:  42%|████▏     | 822/1940 [07:12<10:25,  1.79it/s]"
     ]
    },
    {
     "name": "stdout",
     "output_type": "stream",
     "text": [
      "AFTER ENCODER PREP:  0.9522836208343506\n",
      "AFTER ENCODER:  0.8471670150756836\n"
     ]
    },
    {
     "name": "stderr",
     "output_type": "stream",
     "text": [
      "Epoch 1 - Training:  42%|████▏     | 823/1940 [07:12<10:27,  1.78it/s]"
     ]
    },
    {
     "name": "stdout",
     "output_type": "stream",
     "text": [
      "AFTER ENCODER PREP:  0.940912127494812\n",
      "AFTER ENCODER:  0.7437858581542969\n"
     ]
    },
    {
     "name": "stderr",
     "output_type": "stream",
     "text": [
      "Epoch 1 - Training:  42%|████▏     | 824/1940 [07:13<10:15,  1.81it/s]"
     ]
    },
    {
     "name": "stdout",
     "output_type": "stream",
     "text": [
      "AFTER ENCODER PREP:  0.930698812007904\n",
      "AFTER ENCODER:  0.7195529341697693\n"
     ]
    },
    {
     "name": "stderr",
     "output_type": "stream",
     "text": [
      "Epoch 1 - Training:  43%|████▎     | 825/1940 [07:13<10:11,  1.82it/s]"
     ]
    },
    {
     "name": "stdout",
     "output_type": "stream",
     "text": [
      "AFTER ENCODER PREP:  0.9544708728790283\n",
      "AFTER ENCODER:  0.7768592238426208\n"
     ]
    },
    {
     "name": "stderr",
     "output_type": "stream",
     "text": [
      "Epoch 1 - Training:  43%|████▎     | 826/1940 [07:14<09:57,  1.86it/s]"
     ]
    },
    {
     "name": "stdout",
     "output_type": "stream",
     "text": [
      "AFTER ENCODER PREP:  0.9345961213111877\n",
      "AFTER ENCODER:  0.7493076324462891\n"
     ]
    },
    {
     "name": "stderr",
     "output_type": "stream",
     "text": [
      "Epoch 1 - Training:  43%|████▎     | 827/1940 [07:14<09:44,  1.91it/s]"
     ]
    },
    {
     "name": "stdout",
     "output_type": "stream",
     "text": [
      "AFTER ENCODER PREP:  0.9368604421615601\n",
      "AFTER ENCODER:  0.7338109612464905\n"
     ]
    },
    {
     "name": "stderr",
     "output_type": "stream",
     "text": [
      "Epoch 1 - Training:  43%|████▎     | 828/1940 [07:15<09:45,  1.90it/s]"
     ]
    },
    {
     "name": "stdout",
     "output_type": "stream",
     "text": [
      "AFTER ENCODER PREP:  0.9364848732948303\n",
      "AFTER ENCODER:  0.7347553968429565\n"
     ]
    },
    {
     "name": "stderr",
     "output_type": "stream",
     "text": [
      "Epoch 1 - Training:  43%|████▎     | 829/1940 [07:15<09:43,  1.90it/s]"
     ]
    },
    {
     "name": "stdout",
     "output_type": "stream",
     "text": [
      "AFTER ENCODER PREP:  0.9400679469108582\n",
      "AFTER ENCODER:  0.6721173524856567\n"
     ]
    },
    {
     "name": "stderr",
     "output_type": "stream",
     "text": [
      "Epoch 1 - Training:  43%|████▎     | 830/1940 [07:16<10:39,  1.74it/s]"
     ]
    },
    {
     "name": "stdout",
     "output_type": "stream",
     "text": [
      "AFTER ENCODER PREP:  0.9385390877723694\n",
      "AFTER ENCODER:  0.7202496528625488\n"
     ]
    },
    {
     "name": "stderr",
     "output_type": "stream",
     "text": [
      "Epoch 1 - Training:  43%|████▎     | 831/1940 [07:17<10:23,  1.78it/s]"
     ]
    },
    {
     "name": "stdout",
     "output_type": "stream",
     "text": [
      "AFTER ENCODER PREP:  0.9299694895744324\n",
      "AFTER ENCODER:  0.7150894999504089\n"
     ]
    },
    {
     "name": "stderr",
     "output_type": "stream",
     "text": [
      "Epoch 1 - Training:  43%|████▎     | 832/1940 [07:17<10:16,  1.80it/s]"
     ]
    },
    {
     "name": "stdout",
     "output_type": "stream",
     "text": [
      "AFTER ENCODER PREP:  0.9430359601974487\n",
      "AFTER ENCODER:  0.7056408524513245\n"
     ]
    },
    {
     "name": "stderr",
     "output_type": "stream",
     "text": [
      "Epoch 1 - Training:  43%|████▎     | 833/1940 [07:18<10:04,  1.83it/s]"
     ]
    },
    {
     "name": "stdout",
     "output_type": "stream",
     "text": [
      "AFTER ENCODER PREP:  0.9133611917495728\n",
      "AFTER ENCODER:  0.6167969107627869\n"
     ]
    },
    {
     "name": "stderr",
     "output_type": "stream",
     "text": [
      "Epoch 1 - Training:  43%|████▎     | 834/1940 [07:18<09:51,  1.87it/s]"
     ]
    },
    {
     "name": "stdout",
     "output_type": "stream",
     "text": [
      "AFTER ENCODER PREP:  0.9209674000740051\n",
      "AFTER ENCODER:  0.7525932192802429\n"
     ]
    },
    {
     "name": "stderr",
     "output_type": "stream",
     "text": [
      "Epoch 1 - Training:  43%|████▎     | 835/1940 [07:19<10:00,  1.84it/s]"
     ]
    },
    {
     "name": "stdout",
     "output_type": "stream",
     "text": [
      "AFTER ENCODER PREP:  0.9317784905433655\n",
      "AFTER ENCODER:  0.6892483234405518\n"
     ]
    },
    {
     "name": "stderr",
     "output_type": "stream",
     "text": [
      "Epoch 1 - Training:  43%|████▎     | 836/1940 [07:19<09:47,  1.88it/s]"
     ]
    },
    {
     "name": "stdout",
     "output_type": "stream",
     "text": [
      "AFTER ENCODER PREP:  0.9381718039512634\n",
      "AFTER ENCODER:  0.8134458661079407\n"
     ]
    },
    {
     "name": "stderr",
     "output_type": "stream",
     "text": [
      "Epoch 1 - Training:  43%|████▎     | 837/1940 [07:20<09:55,  1.85it/s]"
     ]
    },
    {
     "name": "stdout",
     "output_type": "stream",
     "text": [
      "AFTER ENCODER PREP:  0.9366989731788635\n",
      "AFTER ENCODER:  0.7280087471008301\n"
     ]
    },
    {
     "name": "stderr",
     "output_type": "stream",
     "text": [
      "Epoch 1 - Training:  43%|████▎     | 838/1940 [07:20<10:38,  1.73it/s]"
     ]
    },
    {
     "name": "stdout",
     "output_type": "stream",
     "text": [
      "AFTER ENCODER PREP:  0.9448304772377014\n",
      "AFTER ENCODER:  0.7714382410049438\n"
     ]
    },
    {
     "name": "stderr",
     "output_type": "stream",
     "text": [
      "Epoch 1 - Training:  43%|████▎     | 839/1940 [07:21<10:17,  1.78it/s]"
     ]
    },
    {
     "name": "stdout",
     "output_type": "stream",
     "text": [
      "AFTER ENCODER PREP:  0.9191731214523315\n",
      "AFTER ENCODER:  0.6351491808891296\n"
     ]
    },
    {
     "name": "stderr",
     "output_type": "stream",
     "text": [
      "Epoch 1 - Training:  43%|████▎     | 840/1940 [07:22<10:05,  1.82it/s]"
     ]
    },
    {
     "name": "stdout",
     "output_type": "stream",
     "text": [
      "AFTER ENCODER PREP:  0.9442133903503418\n",
      "AFTER ENCODER:  0.7741327881813049\n"
     ]
    },
    {
     "name": "stderr",
     "output_type": "stream",
     "text": [
      "Epoch 1 - Training:  43%|████▎     | 841/1940 [07:22<09:49,  1.86it/s]"
     ]
    },
    {
     "name": "stdout",
     "output_type": "stream",
     "text": [
      "AFTER ENCODER PREP:  0.9179181456565857\n",
      "AFTER ENCODER:  0.6282545924186707\n"
     ]
    },
    {
     "name": "stderr",
     "output_type": "stream",
     "text": [
      "Epoch 1 - Training:  43%|████▎     | 842/1940 [07:23<09:44,  1.88it/s]"
     ]
    },
    {
     "name": "stdout",
     "output_type": "stream",
     "text": [
      "AFTER ENCODER PREP:  0.9302273988723755\n",
      "AFTER ENCODER:  0.6772260069847107\n"
     ]
    },
    {
     "name": "stderr",
     "output_type": "stream",
     "text": [
      "Epoch 1 - Training:  43%|████▎     | 843/1940 [07:23<09:38,  1.90it/s]"
     ]
    },
    {
     "name": "stdout",
     "output_type": "stream",
     "text": [
      "AFTER ENCODER PREP:  0.932345986366272\n",
      "AFTER ENCODER:  0.7705374956130981\n"
     ]
    },
    {
     "name": "stderr",
     "output_type": "stream",
     "text": [
      "Epoch 1 - Training:  44%|████▎     | 844/1940 [07:24<09:44,  1.87it/s]"
     ]
    },
    {
     "name": "stdout",
     "output_type": "stream",
     "text": [
      "AFTER ENCODER PREP:  0.9509562849998474\n",
      "AFTER ENCODER:  0.7640780806541443\n"
     ]
    },
    {
     "name": "stderr",
     "output_type": "stream",
     "text": [
      "Epoch 1 - Training:  44%|████▎     | 845/1940 [07:24<09:57,  1.83it/s]"
     ]
    },
    {
     "name": "stdout",
     "output_type": "stream",
     "text": [
      "AFTER ENCODER PREP:  0.9415521621704102\n",
      "AFTER ENCODER:  0.7330188155174255\n"
     ]
    },
    {
     "name": "stderr",
     "output_type": "stream",
     "text": [
      "Epoch 1 - Training:  44%|████▎     | 846/1940 [07:25<09:51,  1.85it/s]"
     ]
    },
    {
     "name": "stdout",
     "output_type": "stream",
     "text": [
      "AFTER ENCODER PREP:  0.9426212310791016\n",
      "AFTER ENCODER:  0.6716951727867126\n"
     ]
    },
    {
     "name": "stderr",
     "output_type": "stream",
     "text": [
      "Epoch 1 - Training:  44%|████▎     | 847/1940 [07:25<10:25,  1.75it/s]"
     ]
    },
    {
     "name": "stdout",
     "output_type": "stream",
     "text": [
      "AFTER ENCODER PREP:  0.9310130476951599\n",
      "AFTER ENCODER:  0.7314716577529907\n"
     ]
    },
    {
     "name": "stderr",
     "output_type": "stream",
     "text": [
      "Epoch 1 - Training:  44%|████▎     | 848/1940 [07:26<10:02,  1.81it/s]"
     ]
    },
    {
     "name": "stdout",
     "output_type": "stream",
     "text": [
      "AFTER ENCODER PREP:  0.9332405924797058\n",
      "AFTER ENCODER:  0.7402395606040955\n"
     ]
    },
    {
     "name": "stderr",
     "output_type": "stream",
     "text": [
      "Epoch 1 - Training:  44%|████▍     | 849/1940 [07:26<09:45,  1.86it/s]"
     ]
    },
    {
     "name": "stdout",
     "output_type": "stream",
     "text": [
      "AFTER ENCODER PREP:  0.9305365681648254\n",
      "AFTER ENCODER:  0.6866083145141602\n"
     ]
    },
    {
     "name": "stderr",
     "output_type": "stream",
     "text": [
      "Epoch 1 - Training:  44%|████▍     | 850/1940 [07:27<09:47,  1.86it/s]"
     ]
    },
    {
     "name": "stdout",
     "output_type": "stream",
     "text": [
      "AFTER ENCODER PREP:  0.9328905940055847\n",
      "AFTER ENCODER:  0.69801926612854\n"
     ]
    },
    {
     "name": "stderr",
     "output_type": "stream",
     "text": [
      "Epoch 1 - Training:  44%|████▍     | 851/1940 [07:27<09:41,  1.87it/s]"
     ]
    },
    {
     "name": "stdout",
     "output_type": "stream",
     "text": [
      "AFTER ENCODER PREP:  0.9345553517341614\n",
      "AFTER ENCODER:  0.7152572274208069\n"
     ]
    },
    {
     "name": "stderr",
     "output_type": "stream",
     "text": [
      "Epoch 1 - Training:  44%|████▍     | 852/1940 [07:28<09:58,  1.82it/s]"
     ]
    },
    {
     "name": "stdout",
     "output_type": "stream",
     "text": [
      "AFTER ENCODER PREP:  0.9292803406715393\n",
      "AFTER ENCODER:  0.6890677213668823\n"
     ]
    },
    {
     "name": "stderr",
     "output_type": "stream",
     "text": [
      "Epoch 1 - Training:  44%|████▍     | 853/1940 [07:29<09:56,  1.82it/s]"
     ]
    },
    {
     "name": "stdout",
     "output_type": "stream",
     "text": [
      "AFTER ENCODER PREP:  0.9363431930541992\n",
      "AFTER ENCODER:  0.6023017168045044\n"
     ]
    },
    {
     "name": "stderr",
     "output_type": "stream",
     "text": [
      "Epoch 1 - Training:  44%|████▍     | 854/1940 [07:29<10:09,  1.78it/s]"
     ]
    },
    {
     "name": "stdout",
     "output_type": "stream",
     "text": [
      "AFTER ENCODER PREP:  0.9150862693786621\n",
      "AFTER ENCODER:  0.6757810711860657\n"
     ]
    },
    {
     "name": "stderr",
     "output_type": "stream",
     "text": [
      "Epoch 1 - Training:  44%|████▍     | 855/1940 [07:30<10:09,  1.78it/s]"
     ]
    },
    {
     "name": "stdout",
     "output_type": "stream",
     "text": [
      "AFTER ENCODER PREP:  0.930402934551239\n",
      "AFTER ENCODER:  0.7652063369750977\n"
     ]
    },
    {
     "name": "stderr",
     "output_type": "stream",
     "text": [
      "Epoch 1 - Training:  44%|████▍     | 856/1940 [07:30<10:27,  1.73it/s]"
     ]
    },
    {
     "name": "stdout",
     "output_type": "stream",
     "text": [
      "AFTER ENCODER PREP:  0.9117055535316467\n",
      "AFTER ENCODER:  0.645811915397644\n"
     ]
    },
    {
     "name": "stderr",
     "output_type": "stream",
     "text": [
      "Epoch 1 - Training:  44%|████▍     | 857/1940 [07:31<10:17,  1.75it/s]"
     ]
    },
    {
     "name": "stdout",
     "output_type": "stream",
     "text": [
      "AFTER ENCODER PREP:  0.9324214458465576\n",
      "AFTER ENCODER:  0.5863950252532959\n"
     ]
    },
    {
     "name": "stderr",
     "output_type": "stream",
     "text": [
      "Epoch 1 - Training:  44%|████▍     | 858/1940 [07:31<10:05,  1.79it/s]"
     ]
    },
    {
     "name": "stdout",
     "output_type": "stream",
     "text": [
      "AFTER ENCODER PREP:  0.9197189807891846\n",
      "AFTER ENCODER:  0.6789172291755676\n"
     ]
    },
    {
     "name": "stderr",
     "output_type": "stream",
     "text": [
      "Epoch 1 - Training:  44%|████▍     | 859/1940 [07:32<10:15,  1.76it/s]"
     ]
    },
    {
     "name": "stdout",
     "output_type": "stream",
     "text": [
      "AFTER ENCODER PREP:  0.924724817276001\n",
      "AFTER ENCODER:  0.6331149935722351\n"
     ]
    },
    {
     "name": "stderr",
     "output_type": "stream",
     "text": [
      "Epoch 1 - Training:  44%|████▍     | 860/1940 [07:33<10:13,  1.76it/s]"
     ]
    },
    {
     "name": "stdout",
     "output_type": "stream",
     "text": [
      "AFTER ENCODER PREP:  0.9300470352172852\n",
      "AFTER ENCODER:  0.6444990634918213\n"
     ]
    },
    {
     "name": "stderr",
     "output_type": "stream",
     "text": [
      "Epoch 1 - Training:  44%|████▍     | 861/1940 [07:33<10:05,  1.78it/s]"
     ]
    },
    {
     "name": "stdout",
     "output_type": "stream",
     "text": [
      "AFTER ENCODER PREP:  0.9435411095619202\n",
      "AFTER ENCODER:  0.7253871560096741\n"
     ]
    },
    {
     "name": "stderr",
     "output_type": "stream",
     "text": [
      "Epoch 1 - Training:  44%|████▍     | 862/1940 [07:34<09:53,  1.82it/s]"
     ]
    },
    {
     "name": "stdout",
     "output_type": "stream",
     "text": [
      "AFTER ENCODER PREP:  0.9230902791023254\n",
      "AFTER ENCODER:  0.5967196226119995\n"
     ]
    },
    {
     "name": "stderr",
     "output_type": "stream",
     "text": [
      "Epoch 1 - Training:  44%|████▍     | 863/1940 [07:34<09:48,  1.83it/s]"
     ]
    },
    {
     "name": "stdout",
     "output_type": "stream",
     "text": [
      "AFTER ENCODER PREP:  0.9384145736694336\n",
      "AFTER ENCODER:  0.7566943764686584\n"
     ]
    },
    {
     "name": "stderr",
     "output_type": "stream",
     "text": [
      "Epoch 1 - Training:  45%|████▍     | 864/1940 [07:35<10:21,  1.73it/s]"
     ]
    },
    {
     "name": "stdout",
     "output_type": "stream",
     "text": [
      "AFTER ENCODER PREP:  0.9156697988510132\n",
      "AFTER ENCODER:  0.6576108932495117\n"
     ]
    },
    {
     "name": "stderr",
     "output_type": "stream",
     "text": [
      "Epoch 1 - Training:  45%|████▍     | 865/1940 [07:35<10:11,  1.76it/s]"
     ]
    },
    {
     "name": "stdout",
     "output_type": "stream",
     "text": [
      "AFTER ENCODER PREP:  0.9314537048339844\n",
      "AFTER ENCODER:  0.5766432285308838\n"
     ]
    },
    {
     "name": "stderr",
     "output_type": "stream",
     "text": [
      "Epoch 1 - Training:  45%|████▍     | 866/1940 [07:36<10:05,  1.77it/s]"
     ]
    },
    {
     "name": "stdout",
     "output_type": "stream",
     "text": [
      "AFTER ENCODER PREP:  0.9416942596435547\n",
      "AFTER ENCODER:  0.7435775399208069\n"
     ]
    },
    {
     "name": "stderr",
     "output_type": "stream",
     "text": [
      "Epoch 1 - Training:  45%|████▍     | 867/1940 [07:37<10:21,  1.73it/s]"
     ]
    },
    {
     "name": "stdout",
     "output_type": "stream",
     "text": [
      "AFTER ENCODER PREP:  0.9453116655349731\n",
      "AFTER ENCODER:  0.760924220085144\n"
     ]
    },
    {
     "name": "stderr",
     "output_type": "stream",
     "text": [
      "Epoch 1 - Training:  45%|████▍     | 868/1940 [07:37<10:11,  1.75it/s]"
     ]
    },
    {
     "name": "stdout",
     "output_type": "stream",
     "text": [
      "AFTER ENCODER PREP:  0.9305568933486938\n",
      "AFTER ENCODER:  0.5728280544281006\n"
     ]
    },
    {
     "name": "stderr",
     "output_type": "stream",
     "text": [
      "Epoch 1 - Training:  45%|████▍     | 869/1940 [07:38<10:27,  1.71it/s]"
     ]
    },
    {
     "name": "stdout",
     "output_type": "stream",
     "text": [
      "AFTER ENCODER PREP:  0.936265766620636\n",
      "AFTER ENCODER:  0.6916410326957703\n"
     ]
    },
    {
     "name": "stderr",
     "output_type": "stream",
     "text": [
      "Epoch 1 - Training:  45%|████▍     | 870/1940 [07:38<10:18,  1.73it/s]"
     ]
    },
    {
     "name": "stdout",
     "output_type": "stream",
     "text": [
      "AFTER ENCODER PREP:  0.9316602945327759\n",
      "AFTER ENCODER:  0.7216731309890747\n"
     ]
    },
    {
     "name": "stderr",
     "output_type": "stream",
     "text": [
      "Epoch 1 - Training:  45%|████▍     | 871/1940 [07:39<10:00,  1.78it/s]"
     ]
    },
    {
     "name": "stdout",
     "output_type": "stream",
     "text": [
      "AFTER ENCODER PREP:  0.9326021671295166\n",
      "AFTER ENCODER:  0.6596929430961609\n"
     ]
    },
    {
     "name": "stderr",
     "output_type": "stream",
     "text": [
      "Epoch 1 - Training:  45%|████▍     | 872/1940 [07:39<09:55,  1.79it/s]"
     ]
    },
    {
     "name": "stdout",
     "output_type": "stream",
     "text": [
      "AFTER ENCODER PREP:  0.9413889646530151\n",
      "AFTER ENCODER:  0.701062023639679\n"
     ]
    },
    {
     "name": "stderr",
     "output_type": "stream",
     "text": [
      "Epoch 1 - Training:  45%|████▌     | 873/1940 [07:40<10:19,  1.72it/s]"
     ]
    },
    {
     "name": "stdout",
     "output_type": "stream",
     "text": [
      "AFTER ENCODER PREP:  0.9482807517051697\n",
      "AFTER ENCODER:  0.7624863386154175\n"
     ]
    },
    {
     "name": "stderr",
     "output_type": "stream",
     "text": [
      "Epoch 1 - Training:  45%|████▌     | 874/1940 [07:41<10:13,  1.74it/s]"
     ]
    },
    {
     "name": "stdout",
     "output_type": "stream",
     "text": [
      "AFTER ENCODER PREP:  0.9195112586021423\n",
      "AFTER ENCODER:  0.594681978225708\n"
     ]
    },
    {
     "name": "stderr",
     "output_type": "stream",
     "text": [
      "Epoch 1 - Training:  45%|████▌     | 875/1940 [07:41<10:02,  1.77it/s]"
     ]
    },
    {
     "name": "stdout",
     "output_type": "stream",
     "text": [
      "AFTER ENCODER PREP:  0.9489750266075134\n",
      "AFTER ENCODER:  0.7502338886260986\n"
     ]
    },
    {
     "name": "stderr",
     "output_type": "stream",
     "text": [
      "Epoch 1 - Training:  45%|████▌     | 876/1940 [07:42<09:57,  1.78it/s]"
     ]
    },
    {
     "name": "stdout",
     "output_type": "stream",
     "text": [
      "AFTER ENCODER PREP:  0.933397114276886\n",
      "AFTER ENCODER:  0.6794438362121582\n"
     ]
    },
    {
     "name": "stderr",
     "output_type": "stream",
     "text": [
      "Epoch 1 - Training:  45%|████▌     | 877/1940 [07:42<09:46,  1.81it/s]"
     ]
    },
    {
     "name": "stdout",
     "output_type": "stream",
     "text": [
      "AFTER ENCODER PREP:  0.9557899832725525\n",
      "AFTER ENCODER:  0.8071846961975098\n"
     ]
    },
    {
     "name": "stderr",
     "output_type": "stream",
     "text": [
      "Epoch 1 - Training:  45%|████▌     | 878/1940 [07:43<09:35,  1.84it/s]"
     ]
    },
    {
     "name": "stdout",
     "output_type": "stream",
     "text": [
      "AFTER ENCODER PREP:  0.9139600396156311\n",
      "AFTER ENCODER:  0.5300727486610413\n"
     ]
    },
    {
     "name": "stderr",
     "output_type": "stream",
     "text": [
      "Epoch 1 - Training:  45%|████▌     | 879/1940 [07:43<09:35,  1.84it/s]"
     ]
    },
    {
     "name": "stdout",
     "output_type": "stream",
     "text": [
      "AFTER ENCODER PREP:  0.9254621267318726\n",
      "AFTER ENCODER:  0.6103885173797607\n"
     ]
    },
    {
     "name": "stderr",
     "output_type": "stream",
     "text": [
      "Epoch 1 - Training:  45%|████▌     | 880/1940 [07:44<09:29,  1.86it/s]"
     ]
    },
    {
     "name": "stdout",
     "output_type": "stream",
     "text": [
      "AFTER ENCODER PREP:  0.9361411333084106\n",
      "AFTER ENCODER:  0.7550725936889648\n"
     ]
    },
    {
     "name": "stderr",
     "output_type": "stream",
     "text": [
      "Epoch 1 - Training:  45%|████▌     | 881/1940 [07:44<10:11,  1.73it/s]"
     ]
    },
    {
     "name": "stdout",
     "output_type": "stream",
     "text": [
      "AFTER ENCODER PREP:  0.9346945285797119\n",
      "AFTER ENCODER:  0.7493538856506348\n"
     ]
    },
    {
     "name": "stderr",
     "output_type": "stream",
     "text": [
      "Epoch 1 - Training:  45%|████▌     | 882/1940 [07:45<09:53,  1.78it/s]"
     ]
    },
    {
     "name": "stdout",
     "output_type": "stream",
     "text": [
      "AFTER ENCODER PREP:  0.9402056932449341\n",
      "AFTER ENCODER:  0.7888475060462952\n"
     ]
    },
    {
     "name": "stderr",
     "output_type": "stream",
     "text": [
      "Epoch 1 - Training:  46%|████▌     | 883/1940 [07:45<09:44,  1.81it/s]"
     ]
    },
    {
     "name": "stdout",
     "output_type": "stream",
     "text": [
      "AFTER ENCODER PREP:  0.9225155711174011\n",
      "AFTER ENCODER:  0.7488173842430115\n"
     ]
    },
    {
     "name": "stderr",
     "output_type": "stream",
     "text": [
      "Epoch 1 - Training:  46%|████▌     | 884/1940 [07:46<09:35,  1.84it/s]"
     ]
    },
    {
     "name": "stdout",
     "output_type": "stream",
     "text": [
      "AFTER ENCODER PREP:  0.9344591498374939\n",
      "AFTER ENCODER:  0.6853434443473816\n"
     ]
    },
    {
     "name": "stderr",
     "output_type": "stream",
     "text": [
      "Epoch 1 - Training:  46%|████▌     | 885/1940 [07:47<09:31,  1.85it/s]"
     ]
    },
    {
     "name": "stdout",
     "output_type": "stream",
     "text": [
      "AFTER ENCODER PREP:  0.9256467819213867\n",
      "AFTER ENCODER:  0.6047383546829224\n"
     ]
    },
    {
     "name": "stderr",
     "output_type": "stream",
     "text": [
      "Epoch 1 - Training:  46%|████▌     | 886/1940 [07:47<09:35,  1.83it/s]"
     ]
    },
    {
     "name": "stdout",
     "output_type": "stream",
     "text": [
      "AFTER ENCODER PREP:  0.9094632863998413\n",
      "AFTER ENCODER:  0.5673772692680359\n"
     ]
    },
    {
     "name": "stderr",
     "output_type": "stream",
     "text": [
      "Epoch 1 - Training:  46%|████▌     | 887/1940 [07:48<09:38,  1.82it/s]"
     ]
    },
    {
     "name": "stdout",
     "output_type": "stream",
     "text": [
      "AFTER ENCODER PREP:  0.9159272909164429\n",
      "AFTER ENCODER:  0.6234604716300964\n"
     ]
    },
    {
     "name": "stderr",
     "output_type": "stream",
     "text": [
      "Epoch 1 - Training:  46%|████▌     | 888/1940 [07:48<09:33,  1.83it/s]"
     ]
    },
    {
     "name": "stdout",
     "output_type": "stream",
     "text": [
      "AFTER ENCODER PREP:  0.9352615475654602\n",
      "AFTER ENCODER:  0.730463981628418\n"
     ]
    },
    {
     "name": "stderr",
     "output_type": "stream",
     "text": [
      "Epoch 1 - Training:  46%|████▌     | 889/1940 [07:49<09:37,  1.82it/s]"
     ]
    },
    {
     "name": "stdout",
     "output_type": "stream",
     "text": [
      "AFTER ENCODER PREP:  0.9068160653114319\n",
      "AFTER ENCODER:  0.6231637001037598\n"
     ]
    },
    {
     "name": "stderr",
     "output_type": "stream",
     "text": [
      "Epoch 1 - Training:  46%|████▌     | 890/1940 [07:49<10:01,  1.75it/s]"
     ]
    },
    {
     "name": "stdout",
     "output_type": "stream",
     "text": [
      "AFTER ENCODER PREP:  0.9263880252838135\n",
      "AFTER ENCODER:  0.6597158312797546\n"
     ]
    },
    {
     "name": "stderr",
     "output_type": "stream",
     "text": [
      "Epoch 1 - Training:  46%|████▌     | 891/1940 [07:50<09:48,  1.78it/s]"
     ]
    },
    {
     "name": "stdout",
     "output_type": "stream",
     "text": [
      "AFTER ENCODER PREP:  0.9316582083702087\n",
      "AFTER ENCODER:  0.6980090737342834\n"
     ]
    },
    {
     "name": "stderr",
     "output_type": "stream",
     "text": [
      "Epoch 1 - Training:  46%|████▌     | 892/1940 [07:50<09:28,  1.84it/s]"
     ]
    },
    {
     "name": "stdout",
     "output_type": "stream",
     "text": [
      "AFTER ENCODER PREP:  0.9193007349967957\n",
      "AFTER ENCODER:  0.607659637928009\n"
     ]
    },
    {
     "name": "stderr",
     "output_type": "stream",
     "text": [
      "Epoch 1 - Training:  46%|████▌     | 893/1940 [07:51<09:20,  1.87it/s]"
     ]
    },
    {
     "name": "stdout",
     "output_type": "stream",
     "text": [
      "AFTER ENCODER PREP:  0.9534615874290466\n",
      "AFTER ENCODER:  0.8073785305023193\n"
     ]
    },
    {
     "name": "stderr",
     "output_type": "stream",
     "text": [
      "Epoch 1 - Training:  46%|████▌     | 894/1940 [07:51<09:15,  1.88it/s]"
     ]
    },
    {
     "name": "stdout",
     "output_type": "stream",
     "text": [
      "AFTER ENCODER PREP:  0.9176768660545349\n",
      "AFTER ENCODER:  0.6108816862106323\n"
     ]
    },
    {
     "name": "stderr",
     "output_type": "stream",
     "text": [
      "Epoch 1 - Training:  46%|████▌     | 895/1940 [07:52<09:52,  1.76it/s]"
     ]
    },
    {
     "name": "stdout",
     "output_type": "stream",
     "text": [
      "AFTER ENCODER PREP:  0.9323276281356812\n",
      "AFTER ENCODER:  0.6916852593421936\n"
     ]
    },
    {
     "name": "stderr",
     "output_type": "stream",
     "text": [
      "Epoch 1 - Training:  46%|████▌     | 896/1940 [07:53<09:46,  1.78it/s]"
     ]
    },
    {
     "name": "stdout",
     "output_type": "stream",
     "text": [
      "AFTER ENCODER PREP:  0.9390169382095337\n",
      "AFTER ENCODER:  0.6513309478759766\n"
     ]
    },
    {
     "name": "stderr",
     "output_type": "stream",
     "text": [
      "Epoch 1 - Training:  46%|████▌     | 897/1940 [07:53<09:34,  1.82it/s]"
     ]
    },
    {
     "name": "stdout",
     "output_type": "stream",
     "text": [
      "AFTER ENCODER PREP:  0.9347174763679504\n",
      "AFTER ENCODER:  0.6073177456855774\n"
     ]
    },
    {
     "name": "stderr",
     "output_type": "stream",
     "text": [
      "Epoch 1 - Training:  46%|████▋     | 898/1940 [07:54<09:30,  1.83it/s]"
     ]
    },
    {
     "name": "stdout",
     "output_type": "stream",
     "text": [
      "AFTER ENCODER PREP:  0.9386373162269592\n",
      "AFTER ENCODER:  0.6519725918769836\n"
     ]
    },
    {
     "name": "stderr",
     "output_type": "stream",
     "text": [
      "Epoch 1 - Training:  46%|████▋     | 899/1940 [07:54<09:19,  1.86it/s]"
     ]
    },
    {
     "name": "stdout",
     "output_type": "stream",
     "text": [
      "AFTER ENCODER PREP:  0.9122137427330017\n",
      "AFTER ENCODER:  0.466816782951355\n"
     ]
    },
    {
     "name": "stderr",
     "output_type": "stream",
     "text": [
      "Epoch 1 - Training:  46%|████▋     | 900/1940 [07:55<09:07,  1.90it/s]"
     ]
    },
    {
     "name": "stdout",
     "output_type": "stream",
     "text": [
      "AFTER ENCODER PREP:  0.9365548491477966\n",
      "AFTER ENCODER:  0.6595671772956848\n"
     ]
    },
    {
     "name": "stderr",
     "output_type": "stream",
     "text": [
      "Epoch 1 - Training:  46%|████▋     | 901/1940 [07:55<09:43,  1.78it/s]"
     ]
    },
    {
     "name": "stdout",
     "output_type": "stream",
     "text": [
      "AFTER ENCODER PREP:  0.9507610201835632\n",
      "AFTER ENCODER:  0.742752730846405\n"
     ]
    },
    {
     "name": "stderr",
     "output_type": "stream",
     "text": [
      "Epoch 1 - Training:  46%|████▋     | 902/1940 [07:56<09:27,  1.83it/s]"
     ]
    },
    {
     "name": "stdout",
     "output_type": "stream",
     "text": [
      "AFTER ENCODER PREP:  0.928301215171814\n",
      "AFTER ENCODER:  0.7291305065155029\n"
     ]
    },
    {
     "name": "stderr",
     "output_type": "stream",
     "text": [
      "Epoch 1 - Training:  47%|████▋     | 903/1940 [07:56<09:32,  1.81it/s]"
     ]
    },
    {
     "name": "stdout",
     "output_type": "stream",
     "text": [
      "AFTER ENCODER PREP:  0.9320234656333923\n",
      "AFTER ENCODER:  0.6332919597625732\n"
     ]
    },
    {
     "name": "stderr",
     "output_type": "stream",
     "text": [
      "Epoch 1 - Training:  47%|████▋     | 904/1940 [07:57<09:30,  1.82it/s]"
     ]
    },
    {
     "name": "stdout",
     "output_type": "stream",
     "text": [
      "AFTER ENCODER PREP:  0.9358826875686646\n",
      "AFTER ENCODER:  0.6934977769851685\n"
     ]
    },
    {
     "name": "stderr",
     "output_type": "stream",
     "text": [
      "Epoch 1 - Training:  47%|████▋     | 905/1940 [07:58<09:22,  1.84it/s]"
     ]
    },
    {
     "name": "stdout",
     "output_type": "stream",
     "text": [
      "AFTER ENCODER PREP:  0.9330064058303833\n",
      "AFTER ENCODER:  0.6842948794364929\n"
     ]
    },
    {
     "name": "stderr",
     "output_type": "stream",
     "text": [
      "Epoch 1 - Training:  47%|████▋     | 906/1940 [07:58<09:20,  1.84it/s]"
     ]
    },
    {
     "name": "stdout",
     "output_type": "stream",
     "text": [
      "AFTER ENCODER PREP:  0.9345746636390686\n",
      "AFTER ENCODER:  0.7102997303009033\n"
     ]
    },
    {
     "name": "stderr",
     "output_type": "stream",
     "text": [
      "Epoch 1 - Training:  47%|████▋     | 907/1940 [07:59<09:43,  1.77it/s]"
     ]
    },
    {
     "name": "stdout",
     "output_type": "stream",
     "text": [
      "AFTER ENCODER PREP:  0.938728392124176\n",
      "AFTER ENCODER:  0.7078718543052673\n"
     ]
    },
    {
     "name": "stderr",
     "output_type": "stream",
     "text": [
      "Epoch 1 - Training:  47%|████▋     | 908/1940 [07:59<09:33,  1.80it/s]"
     ]
    },
    {
     "name": "stdout",
     "output_type": "stream",
     "text": [
      "AFTER ENCODER PREP:  0.9280903339385986\n",
      "AFTER ENCODER:  0.6167007088661194\n"
     ]
    },
    {
     "name": "stderr",
     "output_type": "stream",
     "text": [
      "Epoch 1 - Training:  47%|████▋     | 909/1940 [08:00<09:25,  1.82it/s]"
     ]
    },
    {
     "name": "stdout",
     "output_type": "stream",
     "text": [
      "AFTER ENCODER PREP:  0.9392876029014587\n",
      "AFTER ENCODER:  0.6874549388885498\n"
     ]
    },
    {
     "name": "stderr",
     "output_type": "stream",
     "text": [
      "Epoch 1 - Training:  47%|████▋     | 910/1940 [08:00<09:31,  1.80it/s]"
     ]
    },
    {
     "name": "stdout",
     "output_type": "stream",
     "text": [
      "AFTER ENCODER PREP:  0.9376644492149353\n",
      "AFTER ENCODER:  0.6741750240325928\n"
     ]
    },
    {
     "name": "stderr",
     "output_type": "stream",
     "text": [
      "Epoch 1 - Training:  47%|████▋     | 911/1940 [08:01<09:33,  1.79it/s]"
     ]
    },
    {
     "name": "stdout",
     "output_type": "stream",
     "text": [
      "AFTER ENCODER PREP:  0.9472494125366211\n",
      "AFTER ENCODER:  0.7091779708862305\n"
     ]
    },
    {
     "name": "stderr",
     "output_type": "stream",
     "text": [
      "Epoch 1 - Training:  47%|████▋     | 912/1940 [08:02<09:51,  1.74it/s]"
     ]
    },
    {
     "name": "stdout",
     "output_type": "stream",
     "text": [
      "AFTER ENCODER PREP:  0.9541493058204651\n",
      "AFTER ENCODER:  0.6776361465454102\n"
     ]
    },
    {
     "name": "stderr",
     "output_type": "stream",
     "text": [
      "Epoch 1 - Training:  47%|████▋     | 913/1940 [08:02<09:43,  1.76it/s]"
     ]
    },
    {
     "name": "stdout",
     "output_type": "stream",
     "text": [
      "AFTER ENCODER PREP:  0.9564587473869324\n",
      "AFTER ENCODER:  0.7267411351203918\n"
     ]
    },
    {
     "name": "stderr",
     "output_type": "stream",
     "text": [
      "Epoch 1 - Training:  47%|████▋     | 914/1940 [08:03<09:23,  1.82it/s]"
     ]
    },
    {
     "name": "stdout",
     "output_type": "stream",
     "text": [
      "AFTER ENCODER PREP:  0.9405794143676758\n",
      "AFTER ENCODER:  0.8072974681854248\n"
     ]
    },
    {
     "name": "stderr",
     "output_type": "stream",
     "text": [
      "Epoch 1 - Training:  47%|████▋     | 915/1940 [08:03<09:16,  1.84it/s]"
     ]
    },
    {
     "name": "stdout",
     "output_type": "stream",
     "text": [
      "AFTER ENCODER PREP:  0.9194738268852234\n",
      "AFTER ENCODER:  0.6736297607421875\n"
     ]
    },
    {
     "name": "stderr",
     "output_type": "stream",
     "text": [
      "Epoch 1 - Training:  47%|████▋     | 916/1940 [08:04<09:10,  1.86it/s]"
     ]
    },
    {
     "name": "stdout",
     "output_type": "stream",
     "text": [
      "AFTER ENCODER PREP:  0.9287645220756531\n",
      "AFTER ENCODER:  0.6255691051483154\n"
     ]
    },
    {
     "name": "stderr",
     "output_type": "stream",
     "text": [
      "Epoch 1 - Training:  47%|████▋     | 917/1940 [08:04<09:08,  1.86it/s]"
     ]
    },
    {
     "name": "stdout",
     "output_type": "stream",
     "text": [
      "AFTER ENCODER PREP:  0.9556688666343689\n",
      "AFTER ENCODER:  0.7763469815254211\n"
     ]
    },
    {
     "name": "stderr",
     "output_type": "stream",
     "text": [
      "Epoch 1 - Training:  47%|████▋     | 918/1940 [08:05<10:01,  1.70it/s]"
     ]
    },
    {
     "name": "stdout",
     "output_type": "stream",
     "text": [
      "AFTER ENCODER PREP:  0.9433513879776001\n",
      "AFTER ENCODER:  0.7084560394287109\n"
     ]
    },
    {
     "name": "stderr",
     "output_type": "stream",
     "text": [
      "Epoch 1 - Training:  47%|████▋     | 919/1940 [08:05<09:48,  1.73it/s]"
     ]
    },
    {
     "name": "stdout",
     "output_type": "stream",
     "text": [
      "AFTER ENCODER PREP:  0.9407867789268494\n",
      "AFTER ENCODER:  0.7147040963172913\n"
     ]
    },
    {
     "name": "stderr",
     "output_type": "stream",
     "text": [
      "Epoch 1 - Training:  47%|████▋     | 920/1940 [08:06<09:25,  1.80it/s]"
     ]
    },
    {
     "name": "stdout",
     "output_type": "stream",
     "text": [
      "AFTER ENCODER PREP:  0.9437153935432434\n",
      "AFTER ENCODER:  0.8021870255470276\n"
     ]
    },
    {
     "name": "stderr",
     "output_type": "stream",
     "text": [
      "Epoch 1 - Training:  47%|████▋     | 921/1940 [08:06<09:22,  1.81it/s]"
     ]
    },
    {
     "name": "stdout",
     "output_type": "stream",
     "text": [
      "AFTER ENCODER PREP:  0.9350589513778687\n",
      "AFTER ENCODER:  0.663408100605011\n"
     ]
    },
    {
     "name": "stderr",
     "output_type": "stream",
     "text": [
      "Epoch 1 - Training:  48%|████▊     | 922/1940 [08:07<09:23,  1.81it/s]"
     ]
    },
    {
     "name": "stdout",
     "output_type": "stream",
     "text": [
      "AFTER ENCODER PREP:  0.9344928860664368\n",
      "AFTER ENCODER:  0.7345914840698242\n"
     ]
    },
    {
     "name": "stderr",
     "output_type": "stream",
     "text": [
      "Epoch 1 - Training:  48%|████▊     | 923/1940 [08:08<09:18,  1.82it/s]"
     ]
    },
    {
     "name": "stdout",
     "output_type": "stream",
     "text": [
      "AFTER ENCODER PREP:  0.9454656839370728\n",
      "AFTER ENCODER:  0.6714071035385132\n"
     ]
    },
    {
     "name": "stderr",
     "output_type": "stream",
     "text": [
      "Epoch 1 - Training:  48%|████▊     | 924/1940 [08:08<09:51,  1.72it/s]"
     ]
    },
    {
     "name": "stdout",
     "output_type": "stream",
     "text": [
      "AFTER ENCODER PREP:  0.9285950660705566\n",
      "AFTER ENCODER:  0.6735531091690063\n"
     ]
    },
    {
     "name": "stderr",
     "output_type": "stream",
     "text": [
      "Epoch 1 - Training:  48%|████▊     | 925/1940 [08:09<09:50,  1.72it/s]"
     ]
    },
    {
     "name": "stdout",
     "output_type": "stream",
     "text": [
      "AFTER ENCODER PREP:  0.9425939917564392\n",
      "AFTER ENCODER:  0.7837568521499634\n"
     ]
    },
    {
     "name": "stderr",
     "output_type": "stream",
     "text": [
      "Epoch 1 - Training:  48%|████▊     | 926/1940 [08:09<09:37,  1.76it/s]"
     ]
    },
    {
     "name": "stdout",
     "output_type": "stream",
     "text": [
      "AFTER ENCODER PREP:  0.9591543078422546\n",
      "AFTER ENCODER:  0.7675634622573853\n"
     ]
    },
    {
     "name": "stderr",
     "output_type": "stream",
     "text": [
      "Epoch 1 - Training:  48%|████▊     | 927/1940 [08:10<09:22,  1.80it/s]"
     ]
    },
    {
     "name": "stdout",
     "output_type": "stream",
     "text": [
      "AFTER ENCODER PREP:  0.9362085461616516\n",
      "AFTER ENCODER:  0.7567381262779236\n"
     ]
    },
    {
     "name": "stderr",
     "output_type": "stream",
     "text": [
      "Epoch 1 - Training:  48%|████▊     | 928/1940 [08:10<09:17,  1.81it/s]"
     ]
    },
    {
     "name": "stdout",
     "output_type": "stream",
     "text": [
      "AFTER ENCODER PREP:  0.9383839964866638\n",
      "AFTER ENCODER:  0.7221509218215942\n"
     ]
    },
    {
     "name": "stderr",
     "output_type": "stream",
     "text": [
      "Epoch 1 - Training:  48%|████▊     | 929/1940 [08:11<09:06,  1.85it/s]"
     ]
    },
    {
     "name": "stdout",
     "output_type": "stream",
     "text": [
      "AFTER ENCODER PREP:  0.9285790324211121\n",
      "AFTER ENCODER:  0.6848228573799133\n"
     ]
    },
    {
     "name": "stderr",
     "output_type": "stream",
     "text": [
      "Epoch 1 - Training:  48%|████▊     | 930/1940 [08:12<09:35,  1.76it/s]"
     ]
    },
    {
     "name": "stdout",
     "output_type": "stream",
     "text": [
      "AFTER ENCODER PREP:  0.9165475368499756\n",
      "AFTER ENCODER:  0.5174139738082886\n"
     ]
    },
    {
     "name": "stderr",
     "output_type": "stream",
     "text": [
      "Epoch 1 - Training:  48%|████▊     | 931/1940 [08:12<09:21,  1.80it/s]"
     ]
    },
    {
     "name": "stdout",
     "output_type": "stream",
     "text": [
      "AFTER ENCODER PREP:  0.9353998899459839\n",
      "AFTER ENCODER:  0.6445310711860657\n"
     ]
    },
    {
     "name": "stderr",
     "output_type": "stream",
     "text": [
      "Epoch 1 - Training:  48%|████▊     | 932/1940 [08:13<09:27,  1.78it/s]"
     ]
    },
    {
     "name": "stdout",
     "output_type": "stream",
     "text": [
      "AFTER ENCODER PREP:  0.9456808567047119\n",
      "AFTER ENCODER:  0.6457158923149109\n"
     ]
    },
    {
     "name": "stderr",
     "output_type": "stream",
     "text": [
      "Epoch 1 - Training:  48%|████▊     | 933/1940 [08:13<09:15,  1.81it/s]"
     ]
    },
    {
     "name": "stdout",
     "output_type": "stream",
     "text": [
      "AFTER ENCODER PREP:  0.927753210067749\n",
      "AFTER ENCODER:  0.6767264604568481\n"
     ]
    },
    {
     "name": "stderr",
     "output_type": "stream",
     "text": [
      "Epoch 1 - Training:  48%|████▊     | 934/1940 [08:14<09:08,  1.84it/s]"
     ]
    },
    {
     "name": "stdout",
     "output_type": "stream",
     "text": [
      "AFTER ENCODER PREP:  0.9455599784851074\n",
      "AFTER ENCODER:  0.7465940713882446\n"
     ]
    },
    {
     "name": "stderr",
     "output_type": "stream",
     "text": [
      "Epoch 1 - Training:  48%|████▊     | 935/1940 [08:14<09:36,  1.74it/s]"
     ]
    },
    {
     "name": "stdout",
     "output_type": "stream",
     "text": [
      "AFTER ENCODER PREP:  0.9367555379867554\n",
      "AFTER ENCODER:  0.6064237356185913\n"
     ]
    },
    {
     "name": "stderr",
     "output_type": "stream",
     "text": [
      "Epoch 1 - Training:  48%|████▊     | 936/1940 [08:15<09:17,  1.80it/s]"
     ]
    },
    {
     "name": "stdout",
     "output_type": "stream",
     "text": [
      "AFTER ENCODER PREP:  0.9232147336006165\n",
      "AFTER ENCODER:  0.6250417232513428\n"
     ]
    },
    {
     "name": "stderr",
     "output_type": "stream",
     "text": [
      "Epoch 1 - Training:  48%|████▊     | 937/1940 [08:15<09:06,  1.84it/s]"
     ]
    },
    {
     "name": "stdout",
     "output_type": "stream",
     "text": [
      "AFTER ENCODER PREP:  0.9306285977363586\n",
      "AFTER ENCODER:  0.6896033883094788\n"
     ]
    },
    {
     "name": "stderr",
     "output_type": "stream",
     "text": [
      "Epoch 1 - Training:  48%|████▊     | 938/1940 [08:16<09:11,  1.82it/s]"
     ]
    },
    {
     "name": "stdout",
     "output_type": "stream",
     "text": [
      "AFTER ENCODER PREP:  0.943091869354248\n",
      "AFTER ENCODER:  0.7005711793899536\n"
     ]
    },
    {
     "name": "stderr",
     "output_type": "stream",
     "text": [
      "Epoch 1 - Training:  48%|████▊     | 939/1940 [08:17<09:21,  1.78it/s]"
     ]
    },
    {
     "name": "stdout",
     "output_type": "stream",
     "text": [
      "AFTER ENCODER PREP:  0.9598125219345093\n",
      "AFTER ENCODER:  0.8852279782295227\n"
     ]
    },
    {
     "name": "stderr",
     "output_type": "stream",
     "text": [
      "Epoch 1 - Training:  48%|████▊     | 940/1940 [08:17<09:08,  1.82it/s]"
     ]
    },
    {
     "name": "stdout",
     "output_type": "stream",
     "text": [
      "AFTER ENCODER PREP:  0.9439444541931152\n",
      "AFTER ENCODER:  0.6992365717887878\n"
     ]
    },
    {
     "name": "stderr",
     "output_type": "stream",
     "text": [
      "Epoch 1 - Training:  49%|████▊     | 941/1940 [08:18<09:35,  1.74it/s]"
     ]
    },
    {
     "name": "stdout",
     "output_type": "stream",
     "text": [
      "AFTER ENCODER PREP:  0.9402905702590942\n",
      "AFTER ENCODER:  0.7255088686943054\n"
     ]
    },
    {
     "name": "stderr",
     "output_type": "stream",
     "text": [
      "Epoch 1 - Training:  49%|████▊     | 942/1940 [08:18<09:12,  1.81it/s]"
     ]
    },
    {
     "name": "stdout",
     "output_type": "stream",
     "text": [
      "AFTER ENCODER PREP:  0.9338299036026001\n",
      "AFTER ENCODER:  0.713218629360199\n"
     ]
    },
    {
     "name": "stderr",
     "output_type": "stream",
     "text": [
      "Epoch 1 - Training:  49%|████▊     | 943/1940 [08:19<09:00,  1.85it/s]"
     ]
    },
    {
     "name": "stdout",
     "output_type": "stream",
     "text": [
      "AFTER ENCODER PREP:  0.9216179847717285\n",
      "AFTER ENCODER:  0.5953688621520996\n"
     ]
    },
    {
     "name": "stderr",
     "output_type": "stream",
     "text": [
      "Epoch 1 - Training:  49%|████▊     | 944/1940 [08:19<08:58,  1.85it/s]"
     ]
    },
    {
     "name": "stdout",
     "output_type": "stream",
     "text": [
      "AFTER ENCODER PREP:  0.9406025409698486\n",
      "AFTER ENCODER:  0.7895098924636841\n"
     ]
    },
    {
     "name": "stderr",
     "output_type": "stream",
     "text": [
      "Epoch 1 - Training:  49%|████▊     | 945/1940 [08:20<08:58,  1.85it/s]"
     ]
    },
    {
     "name": "stdout",
     "output_type": "stream",
     "text": [
      "AFTER ENCODER PREP:  0.9223074913024902\n",
      "AFTER ENCODER:  0.6406545639038086\n"
     ]
    },
    {
     "name": "stderr",
     "output_type": "stream",
     "text": [
      "Epoch 1 - Training:  49%|████▉     | 946/1940 [08:21<09:56,  1.67it/s]"
     ]
    },
    {
     "name": "stdout",
     "output_type": "stream",
     "text": [
      "AFTER ENCODER PREP:  0.9419029951095581\n",
      "AFTER ENCODER:  0.7102198004722595\n"
     ]
    },
    {
     "name": "stderr",
     "output_type": "stream",
     "text": [
      "Epoch 1 - Training:  49%|████▉     | 947/1940 [08:21<10:16,  1.61it/s]"
     ]
    },
    {
     "name": "stdout",
     "output_type": "stream",
     "text": [
      "AFTER ENCODER PREP:  0.9415227174758911\n",
      "AFTER ENCODER:  0.7318747639656067\n"
     ]
    },
    {
     "name": "stderr",
     "output_type": "stream",
     "text": [
      "Epoch 1 - Training:  49%|████▉     | 948/1940 [08:22<10:52,  1.52it/s]"
     ]
    },
    {
     "name": "stdout",
     "output_type": "stream",
     "text": [
      "AFTER ENCODER PREP:  0.9328603744506836\n",
      "AFTER ENCODER:  0.7103272080421448\n"
     ]
    },
    {
     "name": "stderr",
     "output_type": "stream",
     "text": [
      "Epoch 1 - Training:  49%|████▉     | 949/1940 [08:23<11:00,  1.50it/s]"
     ]
    },
    {
     "name": "stdout",
     "output_type": "stream",
     "text": [
      "AFTER ENCODER PREP:  0.9294186234474182\n",
      "AFTER ENCODER:  0.6436273455619812\n"
     ]
    },
    {
     "name": "stderr",
     "output_type": "stream",
     "text": [
      "Epoch 1 - Training:  49%|████▉     | 950/1940 [08:23<10:31,  1.57it/s]"
     ]
    },
    {
     "name": "stdout",
     "output_type": "stream",
     "text": [
      "AFTER ENCODER PREP:  0.9308264255523682\n",
      "AFTER ENCODER:  0.6378450393676758\n"
     ]
    },
    {
     "name": "stderr",
     "output_type": "stream",
     "text": [
      "Epoch 1 - Training:  49%|████▉     | 951/1940 [08:24<10:07,  1.63it/s]"
     ]
    },
    {
     "name": "stdout",
     "output_type": "stream",
     "text": [
      "AFTER ENCODER PREP:  0.941232442855835\n",
      "AFTER ENCODER:  0.6726767420768738\n"
     ]
    },
    {
     "name": "stderr",
     "output_type": "stream",
     "text": [
      "Epoch 1 - Training:  49%|████▉     | 952/1940 [08:24<10:22,  1.59it/s]"
     ]
    },
    {
     "name": "stdout",
     "output_type": "stream",
     "text": [
      "AFTER ENCODER PREP:  0.9285749793052673\n",
      "AFTER ENCODER:  0.6085327863693237\n"
     ]
    },
    {
     "name": "stderr",
     "output_type": "stream",
     "text": [
      "Epoch 1 - Training:  49%|████▉     | 953/1940 [08:25<10:02,  1.64it/s]"
     ]
    },
    {
     "name": "stdout",
     "output_type": "stream",
     "text": [
      "AFTER ENCODER PREP:  0.934537410736084\n",
      "AFTER ENCODER:  0.7057179808616638\n"
     ]
    },
    {
     "name": "stderr",
     "output_type": "stream",
     "text": [
      "Epoch 1 - Training:  49%|████▉     | 954/1940 [08:26<09:38,  1.71it/s]"
     ]
    },
    {
     "name": "stdout",
     "output_type": "stream",
     "text": [
      "AFTER ENCODER PREP:  0.9240010976791382\n",
      "AFTER ENCODER:  0.6961022019386292\n"
     ]
    },
    {
     "name": "stderr",
     "output_type": "stream",
     "text": [
      "Epoch 1 - Training:  49%|████▉     | 955/1940 [08:26<09:21,  1.76it/s]"
     ]
    },
    {
     "name": "stdout",
     "output_type": "stream",
     "text": [
      "AFTER ENCODER PREP:  0.9316644668579102\n",
      "AFTER ENCODER:  0.6909900307655334\n"
     ]
    },
    {
     "name": "stderr",
     "output_type": "stream",
     "text": [
      "Epoch 1 - Training:  49%|████▉     | 956/1940 [08:27<09:02,  1.81it/s]"
     ]
    },
    {
     "name": "stdout",
     "output_type": "stream",
     "text": [
      "AFTER ENCODER PREP:  0.9169927835464478\n",
      "AFTER ENCODER:  0.6513807773590088\n"
     ]
    },
    {
     "name": "stderr",
     "output_type": "stream",
     "text": [
      "Epoch 1 - Training:  49%|████▉     | 957/1940 [08:27<09:40,  1.69it/s]"
     ]
    },
    {
     "name": "stdout",
     "output_type": "stream",
     "text": [
      "AFTER ENCODER PREP:  0.9417319893836975\n",
      "AFTER ENCODER:  0.7336469292640686\n"
     ]
    },
    {
     "name": "stderr",
     "output_type": "stream",
     "text": [
      "Epoch 1 - Training:  49%|████▉     | 958/1940 [08:28<09:18,  1.76it/s]"
     ]
    },
    {
     "name": "stdout",
     "output_type": "stream",
     "text": [
      "AFTER ENCODER PREP:  0.9210644364356995\n",
      "AFTER ENCODER:  0.7366205453872681\n"
     ]
    },
    {
     "name": "stderr",
     "output_type": "stream",
     "text": [
      "Epoch 1 - Training:  49%|████▉     | 959/1940 [08:28<09:15,  1.77it/s]"
     ]
    },
    {
     "name": "stdout",
     "output_type": "stream",
     "text": [
      "AFTER ENCODER PREP:  0.9475393891334534\n",
      "AFTER ENCODER:  0.7221048474311829\n"
     ]
    },
    {
     "name": "stderr",
     "output_type": "stream",
     "text": [
      "Epoch 1 - Training:  49%|████▉     | 960/1940 [08:29<09:08,  1.79it/s]"
     ]
    },
    {
     "name": "stdout",
     "output_type": "stream",
     "text": [
      "AFTER ENCODER PREP:  0.914104700088501\n",
      "AFTER ENCODER:  0.6098622679710388\n"
     ]
    },
    {
     "name": "stderr",
     "output_type": "stream",
     "text": [
      "Epoch 1 - Training:  50%|████▉     | 961/1940 [08:29<08:55,  1.83it/s]"
     ]
    },
    {
     "name": "stdout",
     "output_type": "stream",
     "text": [
      "AFTER ENCODER PREP:  0.9446405172348022\n",
      "AFTER ENCODER:  0.724582850933075\n"
     ]
    },
    {
     "name": "stderr",
     "output_type": "stream",
     "text": [
      "Epoch 1 - Training:  50%|████▉     | 962/1940 [08:30<08:51,  1.84it/s]"
     ]
    },
    {
     "name": "stdout",
     "output_type": "stream",
     "text": [
      "AFTER ENCODER PREP:  0.9102197885513306\n",
      "AFTER ENCODER:  0.6091378927230835\n"
     ]
    },
    {
     "name": "stderr",
     "output_type": "stream",
     "text": [
      "Epoch 1 - Training:  50%|████▉     | 963/1940 [08:31<09:12,  1.77it/s]"
     ]
    },
    {
     "name": "stdout",
     "output_type": "stream",
     "text": [
      "AFTER ENCODER PREP:  0.9369768500328064\n",
      "AFTER ENCODER:  0.6310569643974304\n"
     ]
    },
    {
     "name": "stderr",
     "output_type": "stream",
     "text": [
      "Epoch 1 - Training:  50%|████▉     | 964/1940 [08:31<09:01,  1.80it/s]"
     ]
    },
    {
     "name": "stdout",
     "output_type": "stream",
     "text": [
      "AFTER ENCODER PREP:  0.9321795105934143\n",
      "AFTER ENCODER:  0.7700271606445312\n"
     ]
    },
    {
     "name": "stderr",
     "output_type": "stream",
     "text": [
      "Epoch 1 - Training:  50%|████▉     | 965/1940 [08:32<08:53,  1.83it/s]"
     ]
    },
    {
     "name": "stdout",
     "output_type": "stream",
     "text": [
      "AFTER ENCODER PREP:  0.9294490218162537\n",
      "AFTER ENCODER:  0.6081886291503906\n"
     ]
    },
    {
     "name": "stderr",
     "output_type": "stream",
     "text": [
      "Epoch 1 - Training:  50%|████▉     | 966/1940 [08:32<08:48,  1.84it/s]"
     ]
    },
    {
     "name": "stdout",
     "output_type": "stream",
     "text": [
      "AFTER ENCODER PREP:  0.9357191324234009\n",
      "AFTER ENCODER:  0.6680697202682495\n"
     ]
    },
    {
     "name": "stderr",
     "output_type": "stream",
     "text": [
      "Epoch 1 - Training:  50%|████▉     | 967/1940 [08:33<08:50,  1.84it/s]"
     ]
    },
    {
     "name": "stdout",
     "output_type": "stream",
     "text": [
      "AFTER ENCODER PREP:  0.915498673915863\n",
      "AFTER ENCODER:  0.49973535537719727\n"
     ]
    },
    {
     "name": "stderr",
     "output_type": "stream",
     "text": [
      "Epoch 1 - Training:  50%|████▉     | 968/1940 [08:33<08:42,  1.86it/s]"
     ]
    },
    {
     "name": "stdout",
     "output_type": "stream",
     "text": [
      "AFTER ENCODER PREP:  0.9346639513969421\n",
      "AFTER ENCODER:  0.709746778011322\n"
     ]
    },
    {
     "name": "stderr",
     "output_type": "stream",
     "text": [
      "Epoch 1 - Training:  50%|████▉     | 969/1940 [08:34<09:01,  1.79it/s]"
     ]
    },
    {
     "name": "stdout",
     "output_type": "stream",
     "text": [
      "AFTER ENCODER PREP:  0.9325191378593445\n",
      "AFTER ENCODER:  0.6616944670677185\n"
     ]
    },
    {
     "name": "stderr",
     "output_type": "stream",
     "text": [
      "Epoch 1 - Training:  50%|█████     | 970/1940 [08:34<09:03,  1.78it/s]"
     ]
    },
    {
     "name": "stdout",
     "output_type": "stream",
     "text": [
      "AFTER ENCODER PREP:  0.9239785075187683\n",
      "AFTER ENCODER:  0.656423032283783\n"
     ]
    },
    {
     "name": "stderr",
     "output_type": "stream",
     "text": [
      "Epoch 1 - Training:  50%|█████     | 971/1940 [08:35<08:47,  1.84it/s]"
     ]
    },
    {
     "name": "stdout",
     "output_type": "stream",
     "text": [
      "AFTER ENCODER PREP:  0.9468981027603149\n",
      "AFTER ENCODER:  0.6908626556396484\n"
     ]
    },
    {
     "name": "stderr",
     "output_type": "stream",
     "text": [
      "Epoch 1 - Training:  50%|█████     | 972/1940 [08:35<08:41,  1.85it/s]"
     ]
    },
    {
     "name": "stdout",
     "output_type": "stream",
     "text": [
      "AFTER ENCODER PREP:  0.9286201000213623\n",
      "AFTER ENCODER:  0.6434680223464966\n"
     ]
    },
    {
     "name": "stderr",
     "output_type": "stream",
     "text": [
      "Epoch 1 - Training:  50%|█████     | 973/1940 [08:36<08:35,  1.88it/s]"
     ]
    },
    {
     "name": "stdout",
     "output_type": "stream",
     "text": [
      "AFTER ENCODER PREP:  0.9133871793746948\n",
      "AFTER ENCODER:  0.626838207244873\n"
     ]
    },
    {
     "name": "stderr",
     "output_type": "stream",
     "text": [
      "Epoch 1 - Training:  50%|█████     | 974/1940 [08:36<08:40,  1.85it/s]"
     ]
    },
    {
     "name": "stdout",
     "output_type": "stream",
     "text": [
      "AFTER ENCODER PREP:  0.9263395667076111\n",
      "AFTER ENCODER:  0.6216537356376648\n"
     ]
    },
    {
     "name": "stderr",
     "output_type": "stream",
     "text": [
      "Epoch 1 - Training:  50%|█████     | 975/1940 [08:37<09:29,  1.69it/s]"
     ]
    },
    {
     "name": "stdout",
     "output_type": "stream",
     "text": [
      "AFTER ENCODER PREP:  0.9278733134269714\n",
      "AFTER ENCODER:  0.6040310263633728\n"
     ]
    },
    {
     "name": "stderr",
     "output_type": "stream",
     "text": [
      "Epoch 1 - Training:  50%|█████     | 976/1940 [08:38<09:13,  1.74it/s]"
     ]
    },
    {
     "name": "stdout",
     "output_type": "stream",
     "text": [
      "AFTER ENCODER PREP:  0.9415745735168457\n",
      "AFTER ENCODER:  0.7241809368133545\n"
     ]
    },
    {
     "name": "stderr",
     "output_type": "stream",
     "text": [
      "Epoch 1 - Training:  50%|█████     | 977/1940 [08:38<08:55,  1.80it/s]"
     ]
    },
    {
     "name": "stdout",
     "output_type": "stream",
     "text": [
      "AFTER ENCODER PREP:  0.9416354298591614\n",
      "AFTER ENCODER:  0.6801068186759949\n"
     ]
    },
    {
     "name": "stderr",
     "output_type": "stream",
     "text": [
      "Epoch 1 - Training:  50%|█████     | 978/1940 [08:39<08:30,  1.89it/s]"
     ]
    },
    {
     "name": "stdout",
     "output_type": "stream",
     "text": [
      "AFTER ENCODER PREP:  0.9459587335586548\n",
      "AFTER ENCODER:  0.8324316740036011\n"
     ]
    },
    {
     "name": "stderr",
     "output_type": "stream",
     "text": [
      "Epoch 1 - Training:  50%|█████     | 979/1940 [08:39<08:40,  1.85it/s]"
     ]
    },
    {
     "name": "stdout",
     "output_type": "stream",
     "text": [
      "AFTER ENCODER PREP:  0.927682638168335\n",
      "AFTER ENCODER:  0.6702728867530823\n"
     ]
    },
    {
     "name": "stderr",
     "output_type": "stream",
     "text": [
      "Epoch 1 - Training:  51%|█████     | 980/1940 [08:40<09:06,  1.76it/s]"
     ]
    },
    {
     "name": "stdout",
     "output_type": "stream",
     "text": [
      "AFTER ENCODER PREP:  0.9173018932342529\n",
      "AFTER ENCODER:  0.6198146343231201\n"
     ]
    },
    {
     "name": "stderr",
     "output_type": "stream",
     "text": [
      "Epoch 1 - Training:  51%|█████     | 981/1940 [08:40<09:07,  1.75it/s]"
     ]
    },
    {
     "name": "stdout",
     "output_type": "stream",
     "text": [
      "AFTER ENCODER PREP:  0.9208541512489319\n",
      "AFTER ENCODER:  0.599653959274292\n"
     ]
    },
    {
     "name": "stderr",
     "output_type": "stream",
     "text": [
      "Epoch 1 - Training:  51%|█████     | 982/1940 [08:41<08:57,  1.78it/s]"
     ]
    },
    {
     "name": "stdout",
     "output_type": "stream",
     "text": [
      "AFTER ENCODER PREP:  0.9227527976036072\n",
      "AFTER ENCODER:  0.7027338147163391\n"
     ]
    },
    {
     "name": "stderr",
     "output_type": "stream",
     "text": [
      "Epoch 1 - Training:  51%|█████     | 983/1940 [08:42<08:49,  1.81it/s]"
     ]
    },
    {
     "name": "stdout",
     "output_type": "stream",
     "text": [
      "AFTER ENCODER PREP:  0.9339015483856201\n",
      "AFTER ENCODER:  0.7347429990768433\n"
     ]
    },
    {
     "name": "stderr",
     "output_type": "stream",
     "text": [
      "Epoch 1 - Training:  51%|█████     | 984/1940 [08:42<08:42,  1.83it/s]"
     ]
    },
    {
     "name": "stdout",
     "output_type": "stream",
     "text": [
      "AFTER ENCODER PREP:  0.9296388626098633\n",
      "AFTER ENCODER:  0.604005753993988\n"
     ]
    },
    {
     "name": "stderr",
     "output_type": "stream",
     "text": [
      "Epoch 1 - Training:  51%|█████     | 985/1940 [08:43<08:28,  1.88it/s]"
     ]
    },
    {
     "name": "stdout",
     "output_type": "stream",
     "text": [
      "AFTER ENCODER PREP:  0.903160810470581\n",
      "AFTER ENCODER:  0.5450899600982666\n"
     ]
    },
    {
     "name": "stderr",
     "output_type": "stream",
     "text": [
      "Epoch 1 - Training:  51%|█████     | 986/1940 [08:43<08:39,  1.84it/s]"
     ]
    },
    {
     "name": "stdout",
     "output_type": "stream",
     "text": [
      "AFTER ENCODER PREP:  0.9395034909248352\n",
      "AFTER ENCODER:  0.6653081774711609\n"
     ]
    },
    {
     "name": "stderr",
     "output_type": "stream",
     "text": [
      "Epoch 1 - Training:  51%|█████     | 987/1940 [08:44<08:37,  1.84it/s]"
     ]
    },
    {
     "name": "stdout",
     "output_type": "stream",
     "text": [
      "AFTER ENCODER PREP:  0.9296248555183411\n",
      "AFTER ENCODER:  0.6922611594200134\n"
     ]
    },
    {
     "name": "stderr",
     "output_type": "stream",
     "text": [
      "Epoch 1 - Training:  51%|█████     | 988/1940 [08:44<08:42,  1.82it/s]"
     ]
    },
    {
     "name": "stdout",
     "output_type": "stream",
     "text": [
      "AFTER ENCODER PREP:  0.9324144124984741\n",
      "AFTER ENCODER:  0.633674144744873\n"
     ]
    },
    {
     "name": "stderr",
     "output_type": "stream",
     "text": [
      "Epoch 1 - Training:  51%|█████     | 989/1940 [08:45<08:50,  1.79it/s]"
     ]
    },
    {
     "name": "stdout",
     "output_type": "stream",
     "text": [
      "AFTER ENCODER PREP:  0.9200009703636169\n",
      "AFTER ENCODER:  0.5771071910858154\n"
     ]
    },
    {
     "name": "stderr",
     "output_type": "stream",
     "text": [
      "Epoch 1 - Training:  51%|█████     | 990/1940 [08:45<08:44,  1.81it/s]"
     ]
    },
    {
     "name": "stdout",
     "output_type": "stream",
     "text": [
      "AFTER ENCODER PREP:  0.931113600730896\n",
      "AFTER ENCODER:  0.7552813291549683\n"
     ]
    },
    {
     "name": "stderr",
     "output_type": "stream",
     "text": [
      "Epoch 1 - Training:  51%|█████     | 991/1940 [08:46<09:14,  1.71it/s]"
     ]
    },
    {
     "name": "stdout",
     "output_type": "stream",
     "text": [
      "AFTER ENCODER PREP:  0.9389223456382751\n",
      "AFTER ENCODER:  0.7655560970306396\n"
     ]
    },
    {
     "name": "stderr",
     "output_type": "stream",
     "text": [
      "Epoch 1 - Training:  51%|█████     | 992/1940 [08:47<09:01,  1.75it/s]"
     ]
    },
    {
     "name": "stdout",
     "output_type": "stream",
     "text": [
      "AFTER ENCODER PREP:  0.9188377261161804\n",
      "AFTER ENCODER:  0.5627935528755188\n"
     ]
    },
    {
     "name": "stderr",
     "output_type": "stream",
     "text": [
      "Epoch 1 - Training:  51%|█████     | 993/1940 [08:47<09:07,  1.73it/s]"
     ]
    },
    {
     "name": "stdout",
     "output_type": "stream",
     "text": [
      "AFTER ENCODER PREP:  0.939058244228363\n",
      "AFTER ENCODER:  0.8188148140907288\n"
     ]
    },
    {
     "name": "stderr",
     "output_type": "stream",
     "text": [
      "Epoch 1 - Training:  51%|█████     | 994/1940 [08:48<08:56,  1.76it/s]"
     ]
    },
    {
     "name": "stdout",
     "output_type": "stream",
     "text": [
      "AFTER ENCODER PREP:  0.9506574273109436\n",
      "AFTER ENCODER:  0.8259392380714417\n"
     ]
    },
    {
     "name": "stderr",
     "output_type": "stream",
     "text": [
      "Epoch 1 - Training:  51%|█████▏    | 995/1940 [08:48<09:05,  1.73it/s]"
     ]
    },
    {
     "name": "stdout",
     "output_type": "stream",
     "text": [
      "AFTER ENCODER PREP:  0.9364139437675476\n",
      "AFTER ENCODER:  0.797005832195282\n"
     ]
    },
    {
     "name": "stderr",
     "output_type": "stream",
     "text": [
      "Epoch 1 - Training:  51%|█████▏    | 996/1940 [08:49<09:52,  1.59it/s]"
     ]
    },
    {
     "name": "stdout",
     "output_type": "stream",
     "text": [
      "AFTER ENCODER PREP:  0.9350035190582275\n",
      "AFTER ENCODER:  0.7389500141143799\n"
     ]
    },
    {
     "name": "stderr",
     "output_type": "stream",
     "text": [
      "Epoch 1 - Training:  51%|█████▏    | 997/1940 [08:50<09:35,  1.64it/s]"
     ]
    },
    {
     "name": "stdout",
     "output_type": "stream",
     "text": [
      "AFTER ENCODER PREP:  0.9223603010177612\n",
      "AFTER ENCODER:  0.7988100051879883\n"
     ]
    },
    {
     "name": "stderr",
     "output_type": "stream",
     "text": [
      "Epoch 1 - Training:  51%|█████▏    | 998/1940 [08:50<09:19,  1.68it/s]"
     ]
    },
    {
     "name": "stdout",
     "output_type": "stream",
     "text": [
      "AFTER ENCODER PREP:  0.9434646964073181\n",
      "AFTER ENCODER:  0.6593496203422546\n"
     ]
    },
    {
     "name": "stderr",
     "output_type": "stream",
     "text": [
      "Epoch 1 - Training:  51%|█████▏    | 999/1940 [08:51<09:09,  1.71it/s]"
     ]
    },
    {
     "name": "stdout",
     "output_type": "stream",
     "text": [
      "AFTER ENCODER PREP:  0.9220631718635559\n",
      "AFTER ENCODER:  0.6265988945960999\n"
     ]
    },
    {
     "name": "stderr",
     "output_type": "stream",
     "text": [
      "Epoch 1 - Training:  52%|█████▏    | 1000/1940 [08:51<08:54,  1.76it/s]"
     ]
    },
    {
     "name": "stdout",
     "output_type": "stream",
     "text": [
      "AFTER ENCODER PREP:  0.9509736895561218\n",
      "AFTER ENCODER:  0.7633532285690308\n"
     ]
    },
    {
     "name": "stderr",
     "output_type": "stream",
     "text": [
      "Epoch 1 - Training:  52%|█████▏    | 1001/1940 [08:52<08:50,  1.77it/s]"
     ]
    },
    {
     "name": "stdout",
     "output_type": "stream",
     "text": [
      "AFTER ENCODER PREP:  0.9362632036209106\n",
      "AFTER ENCODER:  0.7650690674781799\n"
     ]
    },
    {
     "name": "stderr",
     "output_type": "stream",
     "text": [
      "Epoch 1 - Training:  52%|█████▏    | 1002/1940 [08:53<09:21,  1.67it/s]"
     ]
    },
    {
     "name": "stdout",
     "output_type": "stream",
     "text": [
      "AFTER ENCODER PREP:  0.9091740250587463\n",
      "AFTER ENCODER:  0.5945200324058533\n"
     ]
    },
    {
     "name": "stderr",
     "output_type": "stream",
     "text": [
      "Epoch 1 - Training:  52%|█████▏    | 1003/1940 [08:53<09:11,  1.70it/s]"
     ]
    },
    {
     "name": "stdout",
     "output_type": "stream",
     "text": [
      "AFTER ENCODER PREP:  0.9109163284301758\n",
      "AFTER ENCODER:  0.6834362149238586\n"
     ]
    },
    {
     "name": "stderr",
     "output_type": "stream",
     "text": [
      "Epoch 1 - Training:  52%|█████▏    | 1004/1940 [08:54<09:06,  1.71it/s]"
     ]
    },
    {
     "name": "stdout",
     "output_type": "stream",
     "text": [
      "AFTER ENCODER PREP:  0.9237055778503418\n",
      "AFTER ENCODER:  0.74710613489151\n"
     ]
    },
    {
     "name": "stderr",
     "output_type": "stream",
     "text": [
      "Epoch 1 - Training:  52%|█████▏    | 1005/1940 [08:54<08:55,  1.75it/s]"
     ]
    },
    {
     "name": "stdout",
     "output_type": "stream",
     "text": [
      "AFTER ENCODER PREP:  0.9122676253318787\n",
      "AFTER ENCODER:  0.592440128326416\n"
     ]
    },
    {
     "name": "stderr",
     "output_type": "stream",
     "text": [
      "Epoch 1 - Training:  52%|█████▏    | 1006/1940 [08:55<08:43,  1.78it/s]"
     ]
    },
    {
     "name": "stdout",
     "output_type": "stream",
     "text": [
      "AFTER ENCODER PREP:  0.9281519651412964\n",
      "AFTER ENCODER:  0.7199737429618835\n"
     ]
    },
    {
     "name": "stderr",
     "output_type": "stream",
     "text": [
      "Epoch 1 - Training:  52%|█████▏    | 1007/1940 [08:55<09:03,  1.72it/s]"
     ]
    },
    {
     "name": "stdout",
     "output_type": "stream",
     "text": [
      "AFTER ENCODER PREP:  0.9079303741455078\n",
      "AFTER ENCODER:  0.6391966938972473\n"
     ]
    },
    {
     "name": "stderr",
     "output_type": "stream",
     "text": [
      "Epoch 1 - Training:  52%|█████▏    | 1008/1940 [08:56<09:03,  1.72it/s]"
     ]
    },
    {
     "name": "stdout",
     "output_type": "stream",
     "text": [
      "AFTER ENCODER PREP:  0.9276233315467834\n",
      "AFTER ENCODER:  0.6475615501403809\n"
     ]
    },
    {
     "name": "stderr",
     "output_type": "stream",
     "text": [
      "Epoch 1 - Training:  52%|█████▏    | 1009/1940 [08:56<08:47,  1.76it/s]"
     ]
    },
    {
     "name": "stdout",
     "output_type": "stream",
     "text": [
      "AFTER ENCODER PREP:  0.9317755699157715\n",
      "AFTER ENCODER:  0.6796867847442627\n"
     ]
    },
    {
     "name": "stderr",
     "output_type": "stream",
     "text": [
      "Epoch 1 - Training:  52%|█████▏    | 1010/1940 [08:57<08:46,  1.77it/s]"
     ]
    },
    {
     "name": "stdout",
     "output_type": "stream",
     "text": [
      "AFTER ENCODER PREP:  0.9283291697502136\n",
      "AFTER ENCODER:  0.7241513133049011\n"
     ]
    },
    {
     "name": "stderr",
     "output_type": "stream",
     "text": [
      "Epoch 1 - Training:  52%|█████▏    | 1011/1940 [08:58<08:40,  1.78it/s]"
     ]
    },
    {
     "name": "stdout",
     "output_type": "stream",
     "text": [
      "AFTER ENCODER PREP:  0.9193479418754578\n",
      "AFTER ENCODER:  0.6044526100158691\n"
     ]
    },
    {
     "name": "stderr",
     "output_type": "stream",
     "text": [
      "Epoch 1 - Training:  52%|█████▏    | 1012/1940 [08:58<08:59,  1.72it/s]"
     ]
    },
    {
     "name": "stdout",
     "output_type": "stream",
     "text": [
      "AFTER ENCODER PREP:  0.9231316447257996\n",
      "AFTER ENCODER:  0.7394704818725586\n"
     ]
    },
    {
     "name": "stderr",
     "output_type": "stream",
     "text": [
      "Epoch 1 - Training:  52%|█████▏    | 1013/1940 [08:59<08:44,  1.77it/s]"
     ]
    },
    {
     "name": "stdout",
     "output_type": "stream",
     "text": [
      "AFTER ENCODER PREP:  0.9271946549415588\n",
      "AFTER ENCODER:  0.6876283884048462\n"
     ]
    },
    {
     "name": "stderr",
     "output_type": "stream",
     "text": [
      "Epoch 1 - Training:  52%|█████▏    | 1014/1940 [08:59<08:30,  1.82it/s]"
     ]
    },
    {
     "name": "stdout",
     "output_type": "stream",
     "text": [
      "AFTER ENCODER PREP:  0.9395418167114258\n",
      "AFTER ENCODER:  0.6271165609359741\n"
     ]
    },
    {
     "name": "stderr",
     "output_type": "stream",
     "text": [
      "Epoch 1 - Training:  52%|█████▏    | 1015/1940 [09:00<08:22,  1.84it/s]"
     ]
    },
    {
     "name": "stdout",
     "output_type": "stream",
     "text": [
      "AFTER ENCODER PREP:  0.9380046725273132\n",
      "AFTER ENCODER:  0.7964438199996948\n"
     ]
    },
    {
     "name": "stderr",
     "output_type": "stream",
     "text": [
      "Epoch 1 - Training:  52%|█████▏    | 1016/1940 [09:00<08:26,  1.82it/s]"
     ]
    },
    {
     "name": "stdout",
     "output_type": "stream",
     "text": [
      "AFTER ENCODER PREP:  0.9346404671669006\n",
      "AFTER ENCODER:  0.773612380027771\n"
     ]
    },
    {
     "name": "stderr",
     "output_type": "stream",
     "text": [
      "Epoch 1 - Training:  52%|█████▏    | 1017/1940 [09:01<09:12,  1.67it/s]"
     ]
    },
    {
     "name": "stdout",
     "output_type": "stream",
     "text": [
      "AFTER ENCODER PREP:  0.9280034899711609\n",
      "AFTER ENCODER:  0.7151079773902893\n"
     ]
    },
    {
     "name": "stderr",
     "output_type": "stream",
     "text": [
      "Epoch 1 - Training:  52%|█████▏    | 1018/1940 [09:02<08:53,  1.73it/s]"
     ]
    },
    {
     "name": "stdout",
     "output_type": "stream",
     "text": [
      "AFTER ENCODER PREP:  0.9081687331199646\n",
      "AFTER ENCODER:  0.6700059771537781\n"
     ]
    },
    {
     "name": "stderr",
     "output_type": "stream",
     "text": [
      "Epoch 1 - Training:  53%|█████▎    | 1019/1940 [09:02<08:40,  1.77it/s]"
     ]
    },
    {
     "name": "stdout",
     "output_type": "stream",
     "text": [
      "AFTER ENCODER PREP:  0.9275531768798828\n",
      "AFTER ENCODER:  0.6442320942878723\n"
     ]
    },
    {
     "name": "stderr",
     "output_type": "stream",
     "text": [
      "Epoch 1 - Training:  53%|█████▎    | 1020/1940 [09:03<08:31,  1.80it/s]"
     ]
    },
    {
     "name": "stdout",
     "output_type": "stream",
     "text": [
      "AFTER ENCODER PREP:  0.9034563302993774\n",
      "AFTER ENCODER:  0.6722588539123535\n"
     ]
    },
    {
     "name": "stderr",
     "output_type": "stream",
     "text": [
      "Epoch 1 - Training:  53%|█████▎    | 1021/1940 [09:03<08:20,  1.84it/s]"
     ]
    },
    {
     "name": "stdout",
     "output_type": "stream",
     "text": [
      "AFTER ENCODER PREP:  0.9223294854164124\n",
      "AFTER ENCODER:  0.7587450742721558\n"
     ]
    },
    {
     "name": "stderr",
     "output_type": "stream",
     "text": [
      "Epoch 1 - Training:  53%|█████▎    | 1022/1940 [09:04<08:45,  1.75it/s]"
     ]
    },
    {
     "name": "stdout",
     "output_type": "stream",
     "text": [
      "AFTER ENCODER PREP:  0.9336134195327759\n",
      "AFTER ENCODER:  0.6746746301651001\n"
     ]
    },
    {
     "name": "stderr",
     "output_type": "stream",
     "text": [
      "Epoch 1 - Training:  53%|█████▎    | 1023/1940 [09:04<08:29,  1.80it/s]"
     ]
    },
    {
     "name": "stdout",
     "output_type": "stream",
     "text": [
      "AFTER ENCODER PREP:  0.9273025989532471\n",
      "AFTER ENCODER:  0.6183491945266724\n"
     ]
    },
    {
     "name": "stderr",
     "output_type": "stream",
     "text": [
      "Epoch 1 - Training:  53%|█████▎    | 1024/1940 [09:05<08:28,  1.80it/s]"
     ]
    },
    {
     "name": "stdout",
     "output_type": "stream",
     "text": [
      "AFTER ENCODER PREP:  0.9301102161407471\n",
      "AFTER ENCODER:  0.7565537095069885\n"
     ]
    },
    {
     "name": "stderr",
     "output_type": "stream",
     "text": [
      "Epoch 1 - Training:  53%|█████▎    | 1025/1940 [09:05<08:24,  1.82it/s]"
     ]
    },
    {
     "name": "stdout",
     "output_type": "stream",
     "text": [
      "AFTER ENCODER PREP:  0.9228863716125488\n",
      "AFTER ENCODER:  0.6227100491523743\n"
     ]
    },
    {
     "name": "stderr",
     "output_type": "stream",
     "text": [
      "Epoch 1 - Training:  53%|█████▎    | 1026/1940 [09:06<08:27,  1.80it/s]"
     ]
    },
    {
     "name": "stdout",
     "output_type": "stream",
     "text": [
      "AFTER ENCODER PREP:  0.9304887056350708\n",
      "AFTER ENCODER:  0.6720753312110901\n"
     ]
    },
    {
     "name": "stderr",
     "output_type": "stream",
     "text": [
      "Epoch 1 - Training:  53%|█████▎    | 1027/1940 [09:07<08:44,  1.74it/s]"
     ]
    },
    {
     "name": "stdout",
     "output_type": "stream",
     "text": [
      "AFTER ENCODER PREP:  0.9109909534454346\n",
      "AFTER ENCODER:  0.7405158281326294\n"
     ]
    },
    {
     "name": "stderr",
     "output_type": "stream",
     "text": [
      "Epoch 1 - Training:  53%|█████▎    | 1028/1940 [09:07<08:37,  1.76it/s]"
     ]
    },
    {
     "name": "stdout",
     "output_type": "stream",
     "text": [
      "AFTER ENCODER PREP:  0.9391423463821411\n",
      "AFTER ENCODER:  0.7366349697113037\n"
     ]
    },
    {
     "name": "stderr",
     "output_type": "stream",
     "text": [
      "Epoch 1 - Training:  53%|█████▎    | 1029/1940 [09:08<08:27,  1.80it/s]"
     ]
    },
    {
     "name": "stdout",
     "output_type": "stream",
     "text": [
      "AFTER ENCODER PREP:  0.9105561971664429\n",
      "AFTER ENCODER:  0.6501505374908447\n"
     ]
    },
    {
     "name": "stderr",
     "output_type": "stream",
     "text": [
      "Epoch 1 - Training:  53%|█████▎    | 1030/1940 [09:08<08:25,  1.80it/s]"
     ]
    },
    {
     "name": "stdout",
     "output_type": "stream",
     "text": [
      "AFTER ENCODER PREP:  0.9357941746711731\n",
      "AFTER ENCODER:  0.8098447322845459\n"
     ]
    },
    {
     "name": "stderr",
     "output_type": "stream",
     "text": [
      "Epoch 1 - Training:  53%|█████▎    | 1031/1940 [09:09<08:27,  1.79it/s]"
     ]
    },
    {
     "name": "stdout",
     "output_type": "stream",
     "text": [
      "AFTER ENCODER PREP:  0.9407256245613098\n",
      "AFTER ENCODER:  0.7013496160507202\n"
     ]
    },
    {
     "name": "stderr",
     "output_type": "stream",
     "text": [
      "Epoch 1 - Training:  53%|█████▎    | 1032/1940 [09:09<08:58,  1.69it/s]"
     ]
    },
    {
     "name": "stdout",
     "output_type": "stream",
     "text": [
      "AFTER ENCODER PREP:  0.9244140386581421\n",
      "AFTER ENCODER:  0.7621215581893921\n"
     ]
    },
    {
     "name": "stderr",
     "output_type": "stream",
     "text": [
      "Epoch 1 - Training:  53%|█████▎    | 1033/1940 [09:10<08:43,  1.73it/s]"
     ]
    },
    {
     "name": "stdout",
     "output_type": "stream",
     "text": [
      "AFTER ENCODER PREP:  0.9469335079193115\n",
      "AFTER ENCODER:  0.804812490940094\n"
     ]
    },
    {
     "name": "stderr",
     "output_type": "stream",
     "text": [
      "Epoch 1 - Training:  53%|█████▎    | 1034/1940 [09:11<08:22,  1.80it/s]"
     ]
    },
    {
     "name": "stdout",
     "output_type": "stream",
     "text": [
      "AFTER ENCODER PREP:  0.9459018707275391\n",
      "AFTER ENCODER:  0.6698783040046692\n"
     ]
    },
    {
     "name": "stderr",
     "output_type": "stream",
     "text": [
      "Epoch 1 - Training:  53%|█████▎    | 1035/1940 [09:11<08:07,  1.86it/s]"
     ]
    },
    {
     "name": "stdout",
     "output_type": "stream",
     "text": [
      "AFTER ENCODER PREP:  0.9327789545059204\n",
      "AFTER ENCODER:  0.7179586887359619\n"
     ]
    },
    {
     "name": "stderr",
     "output_type": "stream",
     "text": [
      "Epoch 1 - Training:  53%|█████▎    | 1036/1940 [09:12<08:02,  1.87it/s]"
     ]
    },
    {
     "name": "stdout",
     "output_type": "stream",
     "text": [
      "AFTER ENCODER PREP:  0.931126594543457\n",
      "AFTER ENCODER:  0.677525520324707\n"
     ]
    },
    {
     "name": "stderr",
     "output_type": "stream",
     "text": [
      "Epoch 1 - Training:  53%|█████▎    | 1037/1940 [09:12<08:38,  1.74it/s]"
     ]
    },
    {
     "name": "stdout",
     "output_type": "stream",
     "text": [
      "AFTER ENCODER PREP:  0.9199413061141968\n",
      "AFTER ENCODER:  0.6877022981643677\n"
     ]
    },
    {
     "name": "stderr",
     "output_type": "stream",
     "text": [
      "Epoch 1 - Training:  54%|█████▎    | 1038/1940 [09:13<08:44,  1.72it/s]"
     ]
    },
    {
     "name": "stdout",
     "output_type": "stream",
     "text": [
      "AFTER ENCODER PREP:  0.9297814965248108\n",
      "AFTER ENCODER:  0.7525039911270142\n"
     ]
    },
    {
     "name": "stderr",
     "output_type": "stream",
     "text": [
      "Epoch 1 - Training:  54%|█████▎    | 1039/1940 [09:14<09:15,  1.62it/s]"
     ]
    },
    {
     "name": "stdout",
     "output_type": "stream",
     "text": [
      "AFTER ENCODER PREP:  0.9236498475074768\n",
      "AFTER ENCODER:  0.7588187456130981\n"
     ]
    },
    {
     "name": "stderr",
     "output_type": "stream",
     "text": [
      "Epoch 1 - Training:  54%|█████▎    | 1040/1940 [09:14<09:19,  1.61it/s]"
     ]
    },
    {
     "name": "stdout",
     "output_type": "stream",
     "text": [
      "AFTER ENCODER PREP:  0.9462268948554993\n",
      "AFTER ENCODER:  0.8608148694038391\n"
     ]
    },
    {
     "name": "stderr",
     "output_type": "stream",
     "text": [
      "Epoch 1 - Training:  54%|█████▎    | 1041/1940 [09:15<09:19,  1.61it/s]"
     ]
    },
    {
     "name": "stdout",
     "output_type": "stream",
     "text": [
      "AFTER ENCODER PREP:  0.9279875159263611\n",
      "AFTER ENCODER:  0.6588827967643738\n"
     ]
    },
    {
     "name": "stderr",
     "output_type": "stream",
     "text": [
      "Epoch 1 - Training:  54%|█████▎    | 1042/1940 [09:15<09:34,  1.56it/s]"
     ]
    },
    {
     "name": "stdout",
     "output_type": "stream",
     "text": [
      "AFTER ENCODER PREP:  0.9352679252624512\n",
      "AFTER ENCODER:  0.843554675579071\n"
     ]
    },
    {
     "name": "stderr",
     "output_type": "stream",
     "text": [
      "Epoch 1 - Training:  54%|█████▍    | 1043/1940 [09:16<09:07,  1.64it/s]"
     ]
    },
    {
     "name": "stdout",
     "output_type": "stream",
     "text": [
      "AFTER ENCODER PREP:  0.919787585735321\n",
      "AFTER ENCODER:  0.5502572655677795\n"
     ]
    },
    {
     "name": "stderr",
     "output_type": "stream",
     "text": [
      "Epoch 1 - Training:  54%|█████▍    | 1044/1940 [09:16<08:37,  1.73it/s]"
     ]
    },
    {
     "name": "stdout",
     "output_type": "stream",
     "text": [
      "AFTER ENCODER PREP:  0.9146166443824768\n",
      "AFTER ENCODER:  0.6755973100662231\n"
     ]
    },
    {
     "name": "stderr",
     "output_type": "stream",
     "text": [
      "Epoch 1 - Training:  54%|█████▍    | 1045/1940 [09:17<08:41,  1.72it/s]"
     ]
    },
    {
     "name": "stdout",
     "output_type": "stream",
     "text": [
      "AFTER ENCODER PREP:  0.9373117685317993\n",
      "AFTER ENCODER:  0.6969636678695679\n"
     ]
    },
    {
     "name": "stderr",
     "output_type": "stream",
     "text": [
      "Epoch 1 - Training:  54%|█████▍    | 1046/1940 [09:18<08:46,  1.70it/s]"
     ]
    },
    {
     "name": "stdout",
     "output_type": "stream",
     "text": [
      "AFTER ENCODER PREP:  0.9203252196311951\n",
      "AFTER ENCODER:  0.686305582523346\n"
     ]
    },
    {
     "name": "stderr",
     "output_type": "stream",
     "text": [
      "Epoch 1 - Training:  54%|█████▍    | 1047/1940 [09:18<09:07,  1.63it/s]"
     ]
    },
    {
     "name": "stdout",
     "output_type": "stream",
     "text": [
      "AFTER ENCODER PREP:  0.9274682998657227\n",
      "AFTER ENCODER:  0.6241648197174072\n"
     ]
    },
    {
     "name": "stderr",
     "output_type": "stream",
     "text": [
      "Epoch 1 - Training:  54%|█████▍    | 1048/1940 [09:19<08:45,  1.70it/s]"
     ]
    },
    {
     "name": "stdout",
     "output_type": "stream",
     "text": [
      "AFTER ENCODER PREP:  0.9059239029884338\n",
      "AFTER ENCODER:  0.637931227684021\n"
     ]
    },
    {
     "name": "stderr",
     "output_type": "stream",
     "text": [
      "Epoch 1 - Training:  54%|█████▍    | 1049/1940 [09:19<08:25,  1.76it/s]"
     ]
    },
    {
     "name": "stdout",
     "output_type": "stream",
     "text": [
      "AFTER ENCODER PREP:  0.9279329776763916\n",
      "AFTER ENCODER:  0.7082719802856445\n"
     ]
    },
    {
     "name": "stderr",
     "output_type": "stream",
     "text": [
      "Epoch 1 - Training:  54%|█████▍    | 1050/1940 [09:20<08:22,  1.77it/s]"
     ]
    },
    {
     "name": "stdout",
     "output_type": "stream",
     "text": [
      "AFTER ENCODER PREP:  0.9066781997680664\n",
      "AFTER ENCODER:  0.6021036505699158\n"
     ]
    },
    {
     "name": "stderr",
     "output_type": "stream",
     "text": [
      "Epoch 1 - Training:  54%|█████▍    | 1051/1940 [09:20<08:11,  1.81it/s]"
     ]
    },
    {
     "name": "stdout",
     "output_type": "stream",
     "text": [
      "AFTER ENCODER PREP:  0.9035457968711853\n",
      "AFTER ENCODER:  0.6160104274749756\n"
     ]
    },
    {
     "name": "stderr",
     "output_type": "stream",
     "text": [
      "Epoch 1 - Training:  54%|█████▍    | 1052/1940 [09:21<09:23,  1.57it/s]"
     ]
    },
    {
     "name": "stdout",
     "output_type": "stream",
     "text": [
      "AFTER ENCODER PREP:  0.9019101858139038\n",
      "AFTER ENCODER:  0.6869782209396362\n"
     ]
    },
    {
     "name": "stderr",
     "output_type": "stream",
     "text": [
      "Epoch 1 - Training:  54%|█████▍    | 1053/1940 [09:22<09:20,  1.58it/s]"
     ]
    },
    {
     "name": "stdout",
     "output_type": "stream",
     "text": [
      "AFTER ENCODER PREP:  0.9240622520446777\n",
      "AFTER ENCODER:  0.6651363372802734\n"
     ]
    },
    {
     "name": "stderr",
     "output_type": "stream",
     "text": [
      "Epoch 1 - Training:  54%|█████▍    | 1054/1940 [09:22<08:57,  1.65it/s]"
     ]
    },
    {
     "name": "stdout",
     "output_type": "stream",
     "text": [
      "AFTER ENCODER PREP:  0.9437386989593506\n",
      "AFTER ENCODER:  0.7967826724052429\n"
     ]
    },
    {
     "name": "stderr",
     "output_type": "stream",
     "text": [
      "Epoch 1 - Training:  54%|█████▍    | 1055/1940 [09:23<08:52,  1.66it/s]"
     ]
    },
    {
     "name": "stdout",
     "output_type": "stream",
     "text": [
      "AFTER ENCODER PREP:  0.9200953841209412\n",
      "AFTER ENCODER:  0.689940333366394\n"
     ]
    },
    {
     "name": "stderr",
     "output_type": "stream",
     "text": [
      "Epoch 1 - Training:  54%|█████▍    | 1056/1940 [09:24<09:14,  1.59it/s]"
     ]
    },
    {
     "name": "stdout",
     "output_type": "stream",
     "text": [
      "AFTER ENCODER PREP:  0.9246397018432617\n",
      "AFTER ENCODER:  0.6975534558296204\n"
     ]
    },
    {
     "name": "stderr",
     "output_type": "stream",
     "text": [
      "Epoch 1 - Training:  54%|█████▍    | 1057/1940 [09:24<09:37,  1.53it/s]"
     ]
    },
    {
     "name": "stdout",
     "output_type": "stream",
     "text": [
      "AFTER ENCODER PREP:  0.918254554271698\n",
      "AFTER ENCODER:  0.7217380404472351\n"
     ]
    },
    {
     "name": "stderr",
     "output_type": "stream",
     "text": [
      "Epoch 1 - Training:  55%|█████▍    | 1058/1940 [09:25<09:57,  1.48it/s]"
     ]
    },
    {
     "name": "stdout",
     "output_type": "stream",
     "text": [
      "AFTER ENCODER PREP:  0.9151903986930847\n",
      "AFTER ENCODER:  0.750882089138031\n"
     ]
    },
    {
     "name": "stderr",
     "output_type": "stream",
     "text": [
      "Epoch 1 - Training:  55%|█████▍    | 1059/1940 [09:26<10:13,  1.44it/s]"
     ]
    },
    {
     "name": "stdout",
     "output_type": "stream",
     "text": [
      "AFTER ENCODER PREP:  0.9411464333534241\n",
      "AFTER ENCODER:  0.8489360213279724\n"
     ]
    },
    {
     "name": "stderr",
     "output_type": "stream",
     "text": [
      "Epoch 1 - Training:  55%|█████▍    | 1060/1940 [09:27<09:49,  1.49it/s]"
     ]
    },
    {
     "name": "stdout",
     "output_type": "stream",
     "text": [
      "AFTER ENCODER PREP:  0.9210985898971558\n",
      "AFTER ENCODER:  0.7418987154960632\n"
     ]
    },
    {
     "name": "stderr",
     "output_type": "stream",
     "text": [
      "Epoch 1 - Training:  55%|█████▍    | 1061/1940 [09:27<09:31,  1.54it/s]"
     ]
    },
    {
     "name": "stdout",
     "output_type": "stream",
     "text": [
      "AFTER ENCODER PREP:  0.9455001354217529\n",
      "AFTER ENCODER:  0.8099526762962341\n"
     ]
    },
    {
     "name": "stderr",
     "output_type": "stream",
     "text": [
      "Epoch 1 - Training:  55%|█████▍    | 1062/1940 [09:28<12:29,  1.17it/s]"
     ]
    },
    {
     "name": "stdout",
     "output_type": "stream",
     "text": [
      "AFTER ENCODER PREP:  0.8964964747428894\n",
      "AFTER ENCODER:  0.5810537934303284\n"
     ]
    },
    {
     "name": "stderr",
     "output_type": "stream",
     "text": [
      "Epoch 1 - Training:  55%|█████▍    | 1063/1940 [09:29<13:00,  1.12it/s]"
     ]
    },
    {
     "name": "stdout",
     "output_type": "stream",
     "text": [
      "AFTER ENCODER PREP:  0.9002183675765991\n",
      "AFTER ENCODER:  0.6639962792396545\n"
     ]
    },
    {
     "name": "stderr",
     "output_type": "stream",
     "text": [
      "Epoch 1 - Training:  55%|█████▍    | 1064/1940 [09:30<12:23,  1.18it/s]"
     ]
    },
    {
     "name": "stdout",
     "output_type": "stream",
     "text": [
      "AFTER ENCODER PREP:  0.8907448053359985\n",
      "AFTER ENCODER:  0.6612874269485474\n"
     ]
    },
    {
     "name": "stderr",
     "output_type": "stream",
     "text": [
      "Epoch 1 - Training:  55%|█████▍    | 1065/1940 [09:31<13:44,  1.06it/s]"
     ]
    },
    {
     "name": "stdout",
     "output_type": "stream",
     "text": [
      "AFTER ENCODER PREP:  0.9167092442512512\n",
      "AFTER ENCODER:  0.5872728228569031\n"
     ]
    },
    {
     "name": "stderr",
     "output_type": "stream",
     "text": [
      "Epoch 1 - Training:  55%|█████▍    | 1066/1940 [09:32<14:26,  1.01it/s]"
     ]
    },
    {
     "name": "stdout",
     "output_type": "stream",
     "text": [
      "AFTER ENCODER PREP:  0.9317783117294312\n",
      "AFTER ENCODER:  0.7469483017921448\n"
     ]
    },
    {
     "name": "stderr",
     "output_type": "stream",
     "text": [
      "Epoch 1 - Training:  55%|█████▌    | 1067/1940 [09:33<14:25,  1.01it/s]"
     ]
    },
    {
     "name": "stdout",
     "output_type": "stream",
     "text": [
      "AFTER ENCODER PREP:  0.9210348129272461\n",
      "AFTER ENCODER:  0.6916995048522949\n"
     ]
    },
    {
     "name": "stderr",
     "output_type": "stream",
     "text": [
      "Epoch 1 - Training:  55%|█████▌    | 1068/1940 [09:34<13:08,  1.11it/s]"
     ]
    },
    {
     "name": "stdout",
     "output_type": "stream",
     "text": [
      "AFTER ENCODER PREP:  0.8938152194023132\n",
      "AFTER ENCODER:  0.5658199191093445\n"
     ]
    },
    {
     "name": "stderr",
     "output_type": "stream",
     "text": [
      "Epoch 1 - Training:  55%|█████▌    | 1069/1940 [09:35<12:03,  1.20it/s]"
     ]
    },
    {
     "name": "stdout",
     "output_type": "stream",
     "text": [
      "AFTER ENCODER PREP:  0.9116544127464294\n",
      "AFTER ENCODER:  0.7100639939308167\n"
     ]
    },
    {
     "name": "stderr",
     "output_type": "stream",
     "text": [
      "Epoch 1 - Training:  55%|█████▌    | 1070/1940 [09:36<11:31,  1.26it/s]"
     ]
    },
    {
     "name": "stdout",
     "output_type": "stream",
     "text": [
      "AFTER ENCODER PREP:  0.9212919473648071\n",
      "AFTER ENCODER:  0.7041358947753906\n"
     ]
    },
    {
     "name": "stderr",
     "output_type": "stream",
     "text": [
      "Epoch 1 - Training:  55%|█████▌    | 1071/1940 [09:36<11:50,  1.22it/s]"
     ]
    },
    {
     "name": "stdout",
     "output_type": "stream",
     "text": [
      "AFTER ENCODER PREP:  0.914790153503418\n",
      "AFTER ENCODER:  0.5740669369697571\n"
     ]
    },
    {
     "name": "stderr",
     "output_type": "stream",
     "text": [
      "Epoch 1 - Training:  55%|█████▌    | 1072/1940 [09:37<11:49,  1.22it/s]"
     ]
    },
    {
     "name": "stdout",
     "output_type": "stream",
     "text": [
      "AFTER ENCODER PREP:  0.9236572980880737\n",
      "AFTER ENCODER:  0.7441037893295288\n"
     ]
    },
    {
     "name": "stderr",
     "output_type": "stream",
     "text": [
      "Epoch 1 - Training:  55%|█████▌    | 1073/1940 [09:38<12:26,  1.16it/s]"
     ]
    },
    {
     "name": "stdout",
     "output_type": "stream",
     "text": [
      "AFTER ENCODER PREP:  0.913822591304779\n",
      "AFTER ENCODER:  0.7092889547348022\n"
     ]
    },
    {
     "name": "stderr",
     "output_type": "stream",
     "text": [
      "Epoch 1 - Training:  55%|█████▌    | 1074/1940 [09:39<13:05,  1.10it/s]"
     ]
    },
    {
     "name": "stdout",
     "output_type": "stream",
     "text": [
      "AFTER ENCODER PREP:  0.9409790635108948\n",
      "AFTER ENCODER:  0.7722335457801819\n"
     ]
    },
    {
     "name": "stderr",
     "output_type": "stream",
     "text": [
      "Epoch 1 - Training:  55%|█████▌    | 1075/1940 [09:40<12:47,  1.13it/s]"
     ]
    },
    {
     "name": "stdout",
     "output_type": "stream",
     "text": [
      "AFTER ENCODER PREP:  0.9118012189865112\n",
      "AFTER ENCODER:  0.6709921956062317\n"
     ]
    },
    {
     "name": "stderr",
     "output_type": "stream",
     "text": [
      "                                                                       \r"
     ]
    },
    {
     "ename": "KeyboardInterrupt",
     "evalue": "",
     "output_type": "error",
     "traceback": [
      "\u001b[1;31m---------------------------------------------------------------------------\u001b[0m",
      "\u001b[1;31mKeyboardInterrupt\u001b[0m                         Traceback (most recent call last)",
      "Cell \u001b[1;32mIn[16], line 14\u001b[0m\n\u001b[0;32m      5\u001b[0m \u001b[38;5;28;01mimport\u001b[39;00m \u001b[38;5;21;01mos\u001b[39;00m\n\u001b[0;32m      7\u001b[0m trainer \u001b[38;5;241m=\u001b[39m Trainer(\n\u001b[0;32m      8\u001b[0m         img_size\u001b[38;5;241m=\u001b[39m\u001b[38;5;241m32\u001b[39m, patch_size\u001b[38;5;241m=\u001b[39m\u001b[38;5;241m8\u001b[39m, batch_size\u001b[38;5;241m=\u001b[39m\u001b[38;5;241m16\u001b[39m, in_channels\u001b[38;5;241m=\u001b[39m\u001b[38;5;241m3\u001b[39m,\n\u001b[0;32m      9\u001b[0m         encoder_embed_dim\u001b[38;5;241m=\u001b[39m\u001b[38;5;241m384\u001b[39m, encoder_num_heads\u001b[38;5;241m=\u001b[39m\u001b[38;5;241m8\u001b[39m,\n\u001b[0;32m     10\u001b[0m         decoder_embed_dim\u001b[38;5;241m=\u001b[39m\u001b[38;5;241m256\u001b[39m, decoder_num_heads\u001b[38;5;241m=\u001b[39m\u001b[38;5;241m4\u001b[39m,\n\u001b[0;32m     11\u001b[0m         base_dataset_dir\u001b[38;5;241m=\u001b[39mos\u001b[38;5;241m.\u001b[39mpath\u001b[38;5;241m.\u001b[39mjoin(os\u001b[38;5;241m.\u001b[39mgetcwd(), \u001b[38;5;124m'\u001b[39m\u001b[38;5;124mdataset\u001b[39m\u001b[38;5;124m'\u001b[39m)\n\u001b[0;32m     12\u001b[0m     )\n\u001b[1;32m---> 14\u001b[0m \u001b[43mtrainer\u001b[49m\u001b[38;5;241;43m.\u001b[39;49m\u001b[43mtrain\u001b[49m\u001b[43m(\u001b[49m\u001b[43mnum_epochs\u001b[49m\u001b[38;5;241;43m=\u001b[39;49m\u001b[38;5;241;43m50\u001b[39;49m\u001b[43m,\u001b[49m\u001b[43m \u001b[49m\u001b[43mlr\u001b[49m\u001b[38;5;241;43m=\u001b[39;49m\u001b[38;5;241;43m0.0006\u001b[39;49m\u001b[43m)\u001b[49m\n",
      "File \u001b[1;32mc:\\Daniel\\High School\\Research\\MV_MAE_Implementation\\train_setup.py:55\u001b[0m, in \u001b[0;36mTrainer.train\u001b[1;34m(self, num_epochs, lr)\u001b[0m\n\u001b[0;32m     53\u001b[0m out \u001b[38;5;241m=\u001b[39m \u001b[38;5;28mself\u001b[39m\u001b[38;5;241m.\u001b[39mmodel(x1, x2)\n\u001b[0;32m     54\u001b[0m loss: torch\u001b[38;5;241m.\u001b[39mTensor \u001b[38;5;241m=\u001b[39m \u001b[38;5;28mself\u001b[39m\u001b[38;5;241m.\u001b[39mmodel\u001b[38;5;241m.\u001b[39mget_loss(out)\n\u001b[1;32m---> 55\u001b[0m \u001b[43mloss\u001b[49m\u001b[38;5;241;43m.\u001b[39;49m\u001b[43mbackward\u001b[49m\u001b[43m(\u001b[49m\u001b[43m)\u001b[49m\n\u001b[0;32m     56\u001b[0m optimizer\u001b[38;5;241m.\u001b[39mstep()\n\u001b[0;32m     58\u001b[0m total_loss \u001b[38;5;241m+\u001b[39m\u001b[38;5;241m=\u001b[39m loss\u001b[38;5;241m.\u001b[39mitem()\n",
      "File \u001b[1;32mc:\\Users\\danie_gfshjqx\\AppData\\Local\\Programs\\Python\\Python312\\Lib\\site-packages\\torch\\_tensor.py:521\u001b[0m, in \u001b[0;36mTensor.backward\u001b[1;34m(self, gradient, retain_graph, create_graph, inputs)\u001b[0m\n\u001b[0;32m    511\u001b[0m \u001b[38;5;28;01mif\u001b[39;00m has_torch_function_unary(\u001b[38;5;28mself\u001b[39m):\n\u001b[0;32m    512\u001b[0m     \u001b[38;5;28;01mreturn\u001b[39;00m handle_torch_function(\n\u001b[0;32m    513\u001b[0m         Tensor\u001b[38;5;241m.\u001b[39mbackward,\n\u001b[0;32m    514\u001b[0m         (\u001b[38;5;28mself\u001b[39m,),\n\u001b[1;32m   (...)\u001b[0m\n\u001b[0;32m    519\u001b[0m         inputs\u001b[38;5;241m=\u001b[39minputs,\n\u001b[0;32m    520\u001b[0m     )\n\u001b[1;32m--> 521\u001b[0m \u001b[43mtorch\u001b[49m\u001b[38;5;241;43m.\u001b[39;49m\u001b[43mautograd\u001b[49m\u001b[38;5;241;43m.\u001b[39;49m\u001b[43mbackward\u001b[49m\u001b[43m(\u001b[49m\n\u001b[0;32m    522\u001b[0m \u001b[43m    \u001b[49m\u001b[38;5;28;43mself\u001b[39;49m\u001b[43m,\u001b[49m\u001b[43m \u001b[49m\u001b[43mgradient\u001b[49m\u001b[43m,\u001b[49m\u001b[43m \u001b[49m\u001b[43mretain_graph\u001b[49m\u001b[43m,\u001b[49m\u001b[43m \u001b[49m\u001b[43mcreate_graph\u001b[49m\u001b[43m,\u001b[49m\u001b[43m \u001b[49m\u001b[43minputs\u001b[49m\u001b[38;5;241;43m=\u001b[39;49m\u001b[43minputs\u001b[49m\n\u001b[0;32m    523\u001b[0m \u001b[43m\u001b[49m\u001b[43m)\u001b[49m\n",
      "File \u001b[1;32mc:\\Users\\danie_gfshjqx\\AppData\\Local\\Programs\\Python\\Python312\\Lib\\site-packages\\torch\\autograd\\__init__.py:289\u001b[0m, in \u001b[0;36mbackward\u001b[1;34m(tensors, grad_tensors, retain_graph, create_graph, grad_variables, inputs)\u001b[0m\n\u001b[0;32m    284\u001b[0m     retain_graph \u001b[38;5;241m=\u001b[39m create_graph\n\u001b[0;32m    286\u001b[0m \u001b[38;5;66;03m# The reason we repeat the same comment below is that\u001b[39;00m\n\u001b[0;32m    287\u001b[0m \u001b[38;5;66;03m# some Python versions print out the first line of a multi-line function\u001b[39;00m\n\u001b[0;32m    288\u001b[0m \u001b[38;5;66;03m# calls in the traceback and some print out the last line\u001b[39;00m\n\u001b[1;32m--> 289\u001b[0m \u001b[43m_engine_run_backward\u001b[49m\u001b[43m(\u001b[49m\n\u001b[0;32m    290\u001b[0m \u001b[43m    \u001b[49m\u001b[43mtensors\u001b[49m\u001b[43m,\u001b[49m\n\u001b[0;32m    291\u001b[0m \u001b[43m    \u001b[49m\u001b[43mgrad_tensors_\u001b[49m\u001b[43m,\u001b[49m\n\u001b[0;32m    292\u001b[0m \u001b[43m    \u001b[49m\u001b[43mretain_graph\u001b[49m\u001b[43m,\u001b[49m\n\u001b[0;32m    293\u001b[0m \u001b[43m    \u001b[49m\u001b[43mcreate_graph\u001b[49m\u001b[43m,\u001b[49m\n\u001b[0;32m    294\u001b[0m \u001b[43m    \u001b[49m\u001b[43minputs\u001b[49m\u001b[43m,\u001b[49m\n\u001b[0;32m    295\u001b[0m \u001b[43m    \u001b[49m\u001b[43mallow_unreachable\u001b[49m\u001b[38;5;241;43m=\u001b[39;49m\u001b[38;5;28;43;01mTrue\u001b[39;49;00m\u001b[43m,\u001b[49m\n\u001b[0;32m    296\u001b[0m \u001b[43m    \u001b[49m\u001b[43maccumulate_grad\u001b[49m\u001b[38;5;241;43m=\u001b[39;49m\u001b[38;5;28;43;01mTrue\u001b[39;49;00m\u001b[43m,\u001b[49m\n\u001b[0;32m    297\u001b[0m \u001b[43m\u001b[49m\u001b[43m)\u001b[49m\n",
      "File \u001b[1;32mc:\\Users\\danie_gfshjqx\\AppData\\Local\\Programs\\Python\\Python312\\Lib\\site-packages\\torch\\autograd\\graph.py:769\u001b[0m, in \u001b[0;36m_engine_run_backward\u001b[1;34m(t_outputs, *args, **kwargs)\u001b[0m\n\u001b[0;32m    767\u001b[0m     unregister_hooks \u001b[38;5;241m=\u001b[39m _register_logging_hooks_on_whole_graph(t_outputs)\n\u001b[0;32m    768\u001b[0m \u001b[38;5;28;01mtry\u001b[39;00m:\n\u001b[1;32m--> 769\u001b[0m     \u001b[38;5;28;01mreturn\u001b[39;00m \u001b[43mVariable\u001b[49m\u001b[38;5;241;43m.\u001b[39;49m\u001b[43m_execution_engine\u001b[49m\u001b[38;5;241;43m.\u001b[39;49m\u001b[43mrun_backward\u001b[49m\u001b[43m(\u001b[49m\u001b[43m  \u001b[49m\u001b[38;5;66;43;03m# Calls into the C++ engine to run the backward pass\u001b[39;49;00m\n\u001b[0;32m    770\u001b[0m \u001b[43m        \u001b[49m\u001b[43mt_outputs\u001b[49m\u001b[43m,\u001b[49m\u001b[43m \u001b[49m\u001b[38;5;241;43m*\u001b[39;49m\u001b[43margs\u001b[49m\u001b[43m,\u001b[49m\u001b[43m \u001b[49m\u001b[38;5;241;43m*\u001b[39;49m\u001b[38;5;241;43m*\u001b[39;49m\u001b[43mkwargs\u001b[49m\n\u001b[0;32m    771\u001b[0m \u001b[43m    \u001b[49m\u001b[43m)\u001b[49m  \u001b[38;5;66;03m# Calls into the C++ engine to run the backward pass\u001b[39;00m\n\u001b[0;32m    772\u001b[0m \u001b[38;5;28;01mfinally\u001b[39;00m:\n\u001b[0;32m    773\u001b[0m     \u001b[38;5;28;01mif\u001b[39;00m attach_logging_hooks:\n",
      "\u001b[1;31mKeyboardInterrupt\u001b[0m: "
     ]
    }
   ],
   "source": [
    "%load_ext autoreload\n",
    "%autoreload 2\n",
    "\n",
    "from train_setup import Trainer\n",
    "import os\n",
    "\n",
    "trainer = Trainer(\n",
    "        img_size=32, patch_size=8, batch_size=16, in_channels=3,\n",
    "        encoder_embed_dim=384, encoder_num_heads=8,\n",
    "        decoder_embed_dim=256, decoder_num_heads=4,\n",
    "        base_dataset_dir=os.path.join(os.getcwd(), 'dataset')\n",
    "    )\n",
    "\n",
    "trainer.train(num_epochs=50, lr=0.0006)"
   ]
  },
  {
   "cell_type": "markdown",
   "id": "3ffa35b1",
   "metadata": {},
   "source": []
  },
  {
   "cell_type": "code",
   "execution_count": null,
   "id": "81f3d05d",
   "metadata": {},
   "outputs": [],
   "source": []
  }
 ],
 "metadata": {
  "kernelspec": {
   "display_name": "Python 3",
   "language": "python",
   "name": "python3"
  },
  "language_info": {
   "codemirror_mode": {
    "name": "ipython",
    "version": 3
   },
   "file_extension": ".py",
   "mimetype": "text/x-python",
   "name": "python",
   "nbconvert_exporter": "python",
   "pygments_lexer": "ipython3",
   "version": "3.12.5"
  }
 },
 "nbformat": 4,
 "nbformat_minor": 5
}
