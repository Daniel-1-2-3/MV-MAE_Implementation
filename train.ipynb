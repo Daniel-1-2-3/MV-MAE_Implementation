{
 "cells": [
  {
   "cell_type": "code",
   "execution_count": null,
   "id": "cde2433d",
   "metadata": {},
   "outputs": [
    {
     "name": "stdout",
     "output_type": "stream",
     "text": [
      "Loading dataset...\n",
      "Running on cpu\n"
     ]
    },
    {
     "name": "stderr",
     "output_type": "stream",
     "text": [
      "Epoch 1 - Training:   0%|          | 0/971 [00:00<?, ?it/s]"
     ]
    }
   ],
   "source": [
    "%load_ext autoreload\n",
    "%autoreload 2\n",
    "\n",
    "from train_setup import Train\n",
    "trainer = Train(\n",
    "        img_size=128,\n",
    "        patch_size=8,\n",
    "        batch_size=32,\n",
    "        in_channels=3,\n",
    "        encoder_embed_dim=384,\n",
    "        encoder_num_heads=6,\n",
    "        decoder_embed_dim=256,\n",
    "        decoder_num_heads=4,\n",
    "        loss_weighting=(0.5, 1.5),\n",
    "    )\n",
    "\n",
    "trainer.train(num_epochs=100, lr=0.00035, cont=False, checkpoint_path=\"/kaggle/working/Results/checkpoint.pth\")\n",
    "# trainer.train(num_epochs=50, lr=0.0002, cont=True, checkpoint_path=\"/kaggle/working/Results/checkpoint.pth\")"
   ]
  },
  {
   "cell_type": "markdown",
   "id": "3ffa35b1",
   "metadata": {},
   "source": []
  },
  {
   "cell_type": "code",
   "execution_count": null,
   "id": "81f3d05d",
   "metadata": {},
   "outputs": [],
   "source": []
  }
 ],
 "metadata": {
  "kernelspec": {
   "display_name": "Python 3",
   "language": "python",
   "name": "python3"
  },
  "language_info": {
   "codemirror_mode": {
    "name": "ipython",
    "version": 3
   },
   "file_extension": ".py",
   "mimetype": "text/x-python",
   "name": "python",
   "nbconvert_exporter": "python",
   "pygments_lexer": "ipython3",
   "version": "3.12.5"
  }
 },
 "nbformat": 4,
 "nbformat_minor": 5
}
