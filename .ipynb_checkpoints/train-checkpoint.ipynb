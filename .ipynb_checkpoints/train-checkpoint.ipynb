{
 "cells": [
  {
   "cell_type": "code",
   "execution_count": null,
   "id": "cde2433d",
   "metadata": {},
   "outputs": [],
   "source": [
    "from train_setup import Train\n",
    "trainer = Train(\n",
    "        img_size=256,\n",
    "        patch_size=8,\n",
    "        batch_size=32,\n",
    "        in_channels=3,\n",
    "        encoder_embed_dim=768,\n",
    "        encoder_num_heads=12,\n",
    "        decoder_embed_dim=512,\n",
    "        decoder_num_heads=8,\n",
    "    )\n",
    "    \n",
    "trainer.train(num_epochs=200, lr=0.0004)\n"
   ]
  }
 ],
 "metadata": {
  "language_info": {
   "name": "python"
  }
 },
 "nbformat": 4,
 "nbformat_minor": 5
}
